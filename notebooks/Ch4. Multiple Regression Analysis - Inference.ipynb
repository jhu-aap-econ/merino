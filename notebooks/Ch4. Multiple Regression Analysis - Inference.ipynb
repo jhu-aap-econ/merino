{
 "cells": [
  {
   "cell_type": "markdown",
   "metadata": {},
   "source": [
    "# 4. Multiple Regression Analysis: Inference"
   ]
  },
  {
   "cell_type": "code",
   "execution_count": 1,
   "metadata": {},
   "outputs": [
    {
     "name": "stdout",
     "output_type": "stream",
     "text": [
      "Note: you may need to restart the kernel to use updated packages.\n"
     ]
    }
   ],
   "source": [
    "%pip install numpy statsmodels wooldridge scipy -q"
   ]
  },
  {
   "cell_type": "code",
   "execution_count": 2,
   "metadata": {},
   "outputs": [],
   "source": [
    "import numpy as np\n",
    "import statsmodels.formula.api as smf\n",
    "import wooldridge as wool\n",
    "from scipy import stats"
   ]
  },
  {
   "cell_type": "markdown",
   "metadata": {},
   "source": [
    "## 4.1 The $t$ Test"
   ]
  },
  {
   "cell_type": "markdown",
   "metadata": {},
   "source": [
    "### 4.1.1 General Setup"
   ]
  },
  {
   "cell_type": "markdown",
   "metadata": {},
   "source": [
    "$$H_0: \\beta_j = a_j$$\n",
    "\n",
    "$$H_1: \\beta_j \\neq a_j \\quad \\text{or} \\quad H_1:\\beta_j > a_j \\quad \\text{or} \\quad H_1:\\beta_j < a_j$$\n",
    "\n",
    "$$t = \\frac{\\hat{\\beta}_j - a_j}{se(\\hat{\\beta}_j)}$$\n",
    "\n"
   ]
  },
  {
   "cell_type": "markdown",
   "metadata": {},
   "source": [
    "### 4.1.2 Standard Case"
   ]
  },
  {
   "cell_type": "markdown",
   "metadata": {},
   "source": [
    "$$H_0: \\beta_j = 0, \\qquad H_1: \\beta_j \\neq 0$$\n",
    "\n",
    "$$t_{\\hat{\\beta}_j} = \\frac{\\hat{\\beta}_j}{se(\\hat{\\beta}_j)}$$\n",
    "\n",
    "$$\\text{reject } H_0 \\text{ if } |t_{\\hat{\\beta}_j}| > c$$\n",
    "\n",
    "$$p_{\\hat{\\beta}_j} = 2 \\cdot F_{t_{n-k-1}}(-|t_{\\hat{\\beta}_j}|)$$\n",
    "\n",
    "$$\\text{reject } H_0 \\text{ if } p_{\\hat{\\beta}_j} < \\alpha$$"
   ]
  },
  {
   "cell_type": "markdown",
   "metadata": {},
   "source": [
    "### Example 4.3: Determinants of College GPA"
   ]
  },
  {
   "cell_type": "markdown",
   "metadata": {},
   "source": [
    "$$\\text{colGPA} = \\beta_0 + \\beta_1 \\text{hsGPA} + \\beta_2 \\text{ACT} + \\beta_3 \\text{skipped} + u$$"
   ]
  },
  {
   "cell_type": "code",
   "execution_count": 3,
   "metadata": {},
   "outputs": [
    {
     "name": "stdout",
     "output_type": "stream",
     "text": [
      "cv_t: [1.97743121 2.61219198]\n",
      "\n"
     ]
    }
   ],
   "source": [
    "# CV for alpha=5% and 1% using the t distribution with 137 d.f.:\n",
    "alpha = np.array([0.05, 0.01])\n",
    "cv_t = stats.t.ppf(1 - alpha / 2, 137)\n",
    "print(f\"cv_t: {cv_t}\\n\")"
   ]
  },
  {
   "cell_type": "code",
   "execution_count": 4,
   "metadata": {},
   "outputs": [
    {
     "name": "stdout",
     "output_type": "stream",
     "text": [
      "cv_n: [1.95996398 2.5758293 ]\n",
      "\n"
     ]
    }
   ],
   "source": [
    "# CV for alpha=5% and 1% using the normal approximation:\n",
    "cv_n = stats.norm.ppf(1 - alpha / 2)\n",
    "print(f\"cv_n: {cv_n}\\n\")"
   ]
  },
  {
   "cell_type": "code",
   "execution_count": 5,
   "metadata": {},
   "outputs": [
    {
     "name": "stdout",
     "output_type": "stream",
     "text": [
      "results.summary(): \n",
      "                            OLS Regression Results                            \n",
      "==============================================================================\n",
      "Dep. Variable:                 colGPA   R-squared:                       0.234\n",
      "Model:                            OLS   Adj. R-squared:                  0.217\n",
      "Method:                 Least Squares   F-statistic:                     13.92\n",
      "Date:                Tue, 24 Sep 2024   Prob (F-statistic):           5.65e-08\n",
      "Time:                        14:59:27   Log-Likelihood:                -41.501\n",
      "No. Observations:                 141   AIC:                             91.00\n",
      "Df Residuals:                     137   BIC:                             102.8\n",
      "Df Model:                           3                                         \n",
      "Covariance Type:            nonrobust                                         \n",
      "==============================================================================\n",
      "                 coef    std err          t      P>|t|      [0.025      0.975]\n",
      "------------------------------------------------------------------------------\n",
      "Intercept      1.3896      0.332      4.191      0.000       0.734       2.045\n",
      "hsGPA          0.4118      0.094      4.396      0.000       0.227       0.597\n",
      "ACT            0.0147      0.011      1.393      0.166      -0.006       0.036\n",
      "skipped       -0.0831      0.026     -3.197      0.002      -0.135      -0.032\n",
      "==============================================================================\n",
      "Omnibus:                        1.917   Durbin-Watson:                   1.881\n",
      "Prob(Omnibus):                  0.383   Jarque-Bera (JB):                1.636\n",
      "Skew:                           0.125   Prob(JB):                        0.441\n",
      "Kurtosis:                       2.535   Cond. No.                         300.\n",
      "==============================================================================\n",
      "\n",
      "Notes:\n",
      "[1] Standard Errors assume that the covariance matrix of the errors is correctly specified.\n",
      "\n"
     ]
    }
   ],
   "source": [
    "gpa1 = wool.data(\"gpa1\")\n",
    "\n",
    "# store and display results:\n",
    "reg = smf.ols(formula=\"colGPA ~ hsGPA + ACT + skipped\", data=gpa1)\n",
    "results = reg.fit()\n",
    "print(f\"results.summary(): \\n{results.summary()}\\n\")"
   ]
  },
  {
   "cell_type": "code",
   "execution_count": 6,
   "metadata": {},
   "outputs": [
    {
     "name": "stdout",
     "output_type": "stream",
     "text": [
      "tstat: \n",
      "Intercept    4.191039\n",
      "hsGPA        4.396260\n",
      "ACT          1.393319\n",
      "skipped     -3.196840\n",
      "dtype: float64\n",
      "\n",
      "pval: \n",
      "[4.95026897e-05 2.19205015e-05 1.65779902e-01 1.72543113e-03]\n",
      "\n"
     ]
    }
   ],
   "source": [
    "# manually confirm the formulas, i.e. extract coefficients and SE:\n",
    "b = results.params\n",
    "se = results.bse\n",
    "\n",
    "# reproduce t statistic:\n",
    "tstat = b / se\n",
    "print(f\"tstat: \\n{tstat}\\n\")\n",
    "\n",
    "# reproduce p value:\n",
    "pval = 2 * stats.t.cdf(-abs(tstat), 137)\n",
    "print(f\"pval: \\n{pval}\\n\")"
   ]
  },
  {
   "cell_type": "markdown",
   "metadata": {},
   "source": [
    "### 4.1.3 Other Hypotheses"
   ]
  },
  {
   "cell_type": "markdown",
   "metadata": {},
   "source": [
    "### Example 4.1: Hourly Wage Equation"
   ]
  },
  {
   "cell_type": "markdown",
   "metadata": {},
   "source": [
    "$$\\log(\\text{wage}) = \\beta_0 + \\beta_1 \\text{educ} + \\beta_2 \\text{exper} + \\beta_3 \\text{tenure} + u$$"
   ]
  },
  {
   "cell_type": "code",
   "execution_count": 7,
   "metadata": {},
   "outputs": [
    {
     "name": "stdout",
     "output_type": "stream",
     "text": [
      "cv_t: [1.64777794 2.33351273]\n",
      "\n"
     ]
    }
   ],
   "source": [
    "# CV for alpha=5% and 1% using the t distribution with 522 d.f.:\n",
    "alpha = np.array([0.05, 0.01])\n",
    "cv_t = stats.t.ppf(1 - alpha, 522)\n",
    "print(f\"cv_t: {cv_t}\\n\")"
   ]
  },
  {
   "cell_type": "code",
   "execution_count": 8,
   "metadata": {},
   "outputs": [
    {
     "name": "stdout",
     "output_type": "stream",
     "text": [
      "cv_n: [1.64485363 2.32634787]\n",
      "\n"
     ]
    }
   ],
   "source": [
    "# CV for alpha=5% and 1% using the normal approximation:\n",
    "cv_n = stats.norm.ppf(1 - alpha)\n",
    "print(f\"cv_n: {cv_n}\\n\")"
   ]
  },
  {
   "cell_type": "code",
   "execution_count": 9,
   "metadata": {},
   "outputs": [
    {
     "name": "stdout",
     "output_type": "stream",
     "text": [
      "results.summary(): \n",
      "                            OLS Regression Results                            \n",
      "==============================================================================\n",
      "Dep. Variable:           np.log(wage)   R-squared:                       0.316\n",
      "Model:                            OLS   Adj. R-squared:                  0.312\n",
      "Method:                 Least Squares   F-statistic:                     80.39\n",
      "Date:                Tue, 24 Sep 2024   Prob (F-statistic):           9.13e-43\n",
      "Time:                        14:59:28   Log-Likelihood:                -313.55\n",
      "No. Observations:                 526   AIC:                             635.1\n",
      "Df Residuals:                     522   BIC:                             652.2\n",
      "Df Model:                           3                                         \n",
      "Covariance Type:            nonrobust                                         \n",
      "==============================================================================\n",
      "                 coef    std err          t      P>|t|      [0.025      0.975]\n",
      "------------------------------------------------------------------------------\n",
      "Intercept      0.2844      0.104      2.729      0.007       0.080       0.489\n",
      "educ           0.0920      0.007     12.555      0.000       0.078       0.106\n",
      "exper          0.0041      0.002      2.391      0.017       0.001       0.008\n",
      "tenure         0.0221      0.003      7.133      0.000       0.016       0.028\n",
      "==============================================================================\n",
      "Omnibus:                       11.534   Durbin-Watson:                   1.769\n",
      "Prob(Omnibus):                  0.003   Jarque-Bera (JB):               20.941\n",
      "Skew:                           0.021   Prob(JB):                     2.84e-05\n",
      "Kurtosis:                       3.977   Cond. No.                         135.\n",
      "==============================================================================\n",
      "\n",
      "Notes:\n",
      "[1] Standard Errors assume that the covariance matrix of the errors is correctly specified.\n",
      "\n"
     ]
    }
   ],
   "source": [
    "wage1 = wool.data(\"wage1\")\n",
    "\n",
    "reg = smf.ols(formula=\"np.log(wage) ~ educ + exper + tenure\", data=wage1)\n",
    "results = reg.fit()\n",
    "print(f\"results.summary(): \\n{results.summary()}\\n\")"
   ]
  },
  {
   "cell_type": "markdown",
   "metadata": {},
   "source": [
    "## 4.2 Confidence Intervals"
   ]
  },
  {
   "cell_type": "markdown",
   "metadata": {},
   "source": [
    "$$\\hat{\\beta}_j \\pm c \\cdot se(\\hat{\\beta}_j)$$"
   ]
  },
  {
   "cell_type": "markdown",
   "metadata": {},
   "source": [
    "### Example 4.8: Model of R&D Expenditures"
   ]
  },
  {
   "cell_type": "markdown",
   "metadata": {},
   "source": [
    "$$\\log(\\text{rd}) = \\beta_0 + \\beta_1 \\log(\\text{sales}) + \\beta_2 \\text{profmarg} + u$$"
   ]
  },
  {
   "cell_type": "code",
   "execution_count": 10,
   "metadata": {},
   "outputs": [
    {
     "name": "stdout",
     "output_type": "stream",
     "text": [
      "results.summary(): \n",
      "                            OLS Regression Results                            \n",
      "==============================================================================\n",
      "Dep. Variable:             np.log(rd)   R-squared:                       0.918\n",
      "Model:                            OLS   Adj. R-squared:                  0.912\n",
      "Method:                 Least Squares   F-statistic:                     162.2\n",
      "Date:                Tue, 24 Sep 2024   Prob (F-statistic):           1.79e-16\n",
      "Time:                        14:59:28   Log-Likelihood:                -22.511\n",
      "No. Observations:                  32   AIC:                             51.02\n",
      "Df Residuals:                      29   BIC:                             55.42\n",
      "Df Model:                           2                                         \n",
      "Covariance Type:            nonrobust                                         \n",
      "=================================================================================\n",
      "                    coef    std err          t      P>|t|      [0.025      0.975]\n",
      "---------------------------------------------------------------------------------\n",
      "Intercept        -4.3783      0.468     -9.355      0.000      -5.335      -3.421\n",
      "np.log(sales)     1.0842      0.060     18.012      0.000       0.961       1.207\n",
      "profmarg          0.0217      0.013      1.694      0.101      -0.004       0.048\n",
      "==============================================================================\n",
      "Omnibus:                        0.670   Durbin-Watson:                   1.859\n",
      "Prob(Omnibus):                  0.715   Jarque-Bera (JB):                0.671\n",
      "Skew:                           0.308   Prob(JB):                        0.715\n",
      "Kurtosis:                       2.649   Cond. No.                         70.6\n",
      "==============================================================================\n",
      "\n",
      "Notes:\n",
      "[1] Standard Errors assume that the covariance matrix of the errors is correctly specified.\n",
      "\n"
     ]
    }
   ],
   "source": [
    "rdchem = wool.data(\"rdchem\")\n",
    "\n",
    "# OLS regression:\n",
    "reg = smf.ols(formula=\"np.log(rd) ~ np.log(sales) + profmarg\", data=rdchem)\n",
    "results = reg.fit()\n",
    "print(f\"results.summary(): \\n{results.summary()}\\n\")"
   ]
  },
  {
   "cell_type": "code",
   "execution_count": 11,
   "metadata": {},
   "outputs": [
    {
     "name": "stdout",
     "output_type": "stream",
     "text": [
      "CI95: \n",
      "                      0         1\n",
      "Intercept     -5.335478 -3.421068\n",
      "np.log(sales)  0.961107  1.207332\n",
      "profmarg      -0.004488  0.047799\n",
      "\n"
     ]
    }
   ],
   "source": [
    "# 95% CI:\n",
    "CI95 = results.conf_int(0.05)\n",
    "print(f\"CI95: \\n{CI95}\\n\")"
   ]
  },
  {
   "cell_type": "code",
   "execution_count": 12,
   "metadata": {},
   "outputs": [
    {
     "name": "stdout",
     "output_type": "stream",
     "text": [
      "CI99: \n",
      "                      0         1\n",
      "Intercept     -5.668313 -3.088234\n",
      "np.log(sales)  0.918299  1.250141\n",
      "profmarg      -0.013578  0.056890\n",
      "\n"
     ]
    }
   ],
   "source": [
    "# 99% CI:\n",
    "CI99 = results.conf_int(0.01)\n",
    "print(f\"CI99: \\n{CI99}\\n\")"
   ]
  },
  {
   "cell_type": "markdown",
   "metadata": {},
   "source": [
    "## 4.3 Linear Restrictions: $F$ Tests"
   ]
  },
  {
   "cell_type": "markdown",
   "metadata": {},
   "source": [
    "$$\\log(\\text{salary}) = \\beta_0 + \\beta_1 \\text{years} + \\beta_2 \\text{gamesyr} + \\beta_3 \\text{bavg} + \\beta_4 \\text{hrunsyr} + \\beta_5 \\text{rbisyr} + u$$\n",
    "\n",
    "$$F = \\frac{SSR_r - SSR_{ur}}{SSR_{ur}} \\cdot \\frac{n - k - 1}{q} = \\frac{R^2_{ur} - R^2_r}{1 - R^2_{ur}} \\cdot \\frac{n - k - 1}{q}$$"
   ]
  },
  {
   "cell_type": "code",
   "execution_count": 13,
   "metadata": {},
   "outputs": [
    {
     "name": "stdout",
     "output_type": "stream",
     "text": [
      "r2_ur: 0.6278028485187442\n",
      "\n"
     ]
    }
   ],
   "source": [
    "mlb1 = wool.data(\"mlb1\")\n",
    "n = mlb1.shape[0]\n",
    "\n",
    "# unrestricted OLS regression:\n",
    "reg_ur = smf.ols(\n",
    "    formula=\"np.log(salary) ~ years + gamesyr + bavg + hrunsyr + rbisyr\",\n",
    "    data=mlb1,\n",
    ")\n",
    "fit_ur = reg_ur.fit()\n",
    "r2_ur = fit_ur.rsquared\n",
    "print(f\"r2_ur: {r2_ur}\\n\")"
   ]
  },
  {
   "cell_type": "code",
   "execution_count": 14,
   "metadata": {},
   "outputs": [
    {
     "name": "stdout",
     "output_type": "stream",
     "text": [
      "r2_r: 0.5970716339066895\n",
      "\n"
     ]
    }
   ],
   "source": [
    "# restricted OLS regression:\n",
    "reg_r = smf.ols(formula=\"np.log(salary) ~ years + gamesyr\", data=mlb1)\n",
    "fit_r = reg_r.fit()\n",
    "r2_r = fit_r.rsquared\n",
    "print(f\"r2_r: {r2_r}\\n\")"
   ]
  },
  {
   "cell_type": "code",
   "execution_count": 15,
   "metadata": {},
   "outputs": [
    {
     "name": "stdout",
     "output_type": "stream",
     "text": [
      "fstat: 9.550253521951914\n",
      "\n"
     ]
    }
   ],
   "source": [
    "# F statistic:\n",
    "fstat = (r2_ur - r2_r) / (1 - r2_ur) * (n - 6) / 3\n",
    "print(f\"fstat: {fstat}\\n\")"
   ]
  },
  {
   "cell_type": "code",
   "execution_count": 16,
   "metadata": {},
   "outputs": [
    {
     "name": "stdout",
     "output_type": "stream",
     "text": [
      "cv: 3.838520048496057\n",
      "\n"
     ]
    }
   ],
   "source": [
    "# CV for alpha=1% using the F distribution with 3 and 347 d.f.:\n",
    "cv = stats.f.ppf(1 - 0.01, 3, 347)\n",
    "print(f\"cv: {cv}\\n\")"
   ]
  },
  {
   "cell_type": "code",
   "execution_count": 17,
   "metadata": {},
   "outputs": [
    {
     "name": "stdout",
     "output_type": "stream",
     "text": [
      "fpval: 4.473708139829391e-06\n",
      "\n"
     ]
    }
   ],
   "source": [
    "# p value = 1-cdf of the appropriate F distribution:\n",
    "fpval = 1 - stats.f.cdf(fstat, 3, 347)\n",
    "print(f\"fpval: {fpval}\\n\")"
   ]
  },
  {
   "cell_type": "code",
   "execution_count": 18,
   "metadata": {},
   "outputs": [
    {
     "name": "stdout",
     "output_type": "stream",
     "text": [
      "fstat: 9.550253521951873\n",
      "\n",
      "fpval: 4.4737081398389455e-06\n",
      "\n"
     ]
    }
   ],
   "source": [
    "mlb1 = wool.data(\"mlb1\")\n",
    "\n",
    "# OLS regression:\n",
    "reg = smf.ols(\n",
    "    formula=\"np.log(salary) ~ years + gamesyr + bavg + hrunsyr + rbisyr\",\n",
    "    data=mlb1,\n",
    ")\n",
    "results = reg.fit()\n",
    "\n",
    "# automated F test:\n",
    "hypotheses = [\"bavg = 0\", \"hrunsyr = 0\", \"rbisyr = 0\"]\n",
    "ftest = results.f_test(hypotheses)\n",
    "fstat = ftest.statistic\n",
    "fpval = ftest.pvalue\n",
    "\n",
    "print(f\"fstat: {fstat}\\n\")\n",
    "print(f\"fpval: {fpval}\\n\")"
   ]
  },
  {
   "cell_type": "code",
   "execution_count": 19,
   "metadata": {},
   "outputs": [
    {
     "name": "stdout",
     "output_type": "stream",
     "text": [
      "fstat: 0.5117822576247315\n",
      "\n",
      "fpval: 0.5998780329146685\n",
      "\n"
     ]
    }
   ],
   "source": [
    "mlb1 = wool.data(\"mlb1\")\n",
    "\n",
    "# OLS regression:\n",
    "reg = smf.ols(\n",
    "    formula=\"np.log(salary) ~ years + gamesyr + bavg + hrunsyr + rbisyr\",\n",
    "    data=mlb1,\n",
    ")\n",
    "results = reg.fit()\n",
    "\n",
    "# automated F test:\n",
    "hypotheses = [\"bavg = 0\", \"hrunsyr = 2*rbisyr\"]\n",
    "ftest = results.f_test(hypotheses)\n",
    "fstat = ftest.statistic\n",
    "fpval = ftest.pvalue\n",
    "\n",
    "print(f\"fstat: {fstat}\\n\")\n",
    "print(f\"fpval: {fpval}\\n\")"
   ]
  },
  {
   "cell_type": "code",
   "execution_count": null,
   "metadata": {},
   "outputs": [],
   "source": []
  }
 ],
 "metadata": {
  "kernelspec": {
   "display_name": "merino",
   "language": "python",
   "name": "python3"
  },
  "language_info": {
   "codemirror_mode": {
    "name": "ipython",
    "version": 3
   },
   "file_extension": ".py",
   "mimetype": "text/x-python",
   "name": "python",
   "nbconvert_exporter": "python",
   "pygments_lexer": "ipython3",
   "version": "3.12.5"
  }
 },
 "nbformat": 4,
 "nbformat_minor": 2
}
