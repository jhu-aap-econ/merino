{
 "cells": [
  {
   "cell_type": "markdown",
   "metadata": {},
   "source": [
    "# 4. Multiple Regression Analysis: Inference\n",
    "\n",
    "This notebook delves into the crucial aspect of **inference** in the context of multiple regression analysis. Building upon the concepts of estimation from previous chapters, we will now focus on drawing conclusions about the population parameters based on our sample data. This involves hypothesis testing and constructing confidence intervals, allowing us to assess the statistical significance and practical importance of our regression results."
   ]
  },
  {
   "cell_type": "code",
   "execution_count": 1,
   "metadata": {},
   "outputs": [],
   "source": [
    "import numpy as np\n",
    "import statsmodels.formula.api as smf\n",
    "import wooldridge as wool\n",
    "from scipy import stats"
   ]
  },
  {
   "cell_type": "markdown",
   "metadata": {},
   "source": [
    "## 4.1 The $t$ Test\n",
    "\n",
    "The $t$ test is a fundamental tool for hypothesis testing about individual regression coefficients in multiple regression models. It allows us to formally examine whether a specific independent variable has a statistically significant effect on the dependent variable, holding other factors constant.\n",
    "\n",
    "### 4.1.1 General Setup\n",
    "\n",
    "In a multiple regression model, we are often interested in testing hypotheses about a single population parameter, say $\\beta_j$. We might want to test if $\\beta_j$ is equal to some specific value, $a_j$.  The null hypothesis ($H_0$) typically represents a statement of no effect or a specific hypothesized value, while the alternative hypothesis ($H_1$) represents what we are trying to find evidence for.\n",
    "\n",
    "The general form of the null and alternative hypotheses for a $t$ test is:\n",
    "\n",
    "$$H_0: \\beta_j = a_j$$\n",
    "\n",
    "$$H_1: \\beta_j \\neq a_j \\quad \\text{or} \\quad H_1:\\beta_j > a_j \\quad \\text{or} \\quad H_1:\\beta_j < a_j$$\n",
    "\n",
    "*   $H_0: \\beta_j = a_j$: This is the **null hypothesis**, stating that the population coefficient $\\beta_j$ is equal to a specific value $a_j$.  Often, $a_j = 0$, implying no effect of the $j^{th}$ independent variable on the dependent variable, *ceteris paribus*.\n",
    "*   $H_1: \\beta_j \\neq a_j$: This is a **two-sided alternative hypothesis**, stating that $\\beta_j$ is different from $a_j$. We reject $H_0$ if $\\beta_j$ is either significantly greater or significantly less than $a_j$.\n",
    "*   $H_1:\\beta_j > a_j$: This is a **one-sided alternative hypothesis**, stating that $\\beta_j$ is greater than $a_j$. We reject $H_0$ only if $\\beta_j$ is significantly greater than $a_j$.\n",
    "*   $H_1:\\beta_j < a_j$: This is another **one-sided alternative hypothesis**, stating that $\\beta_j$ is less than $a_j$. We reject $H_0$ only if $\\beta_j$ is significantly less than $a_j$.\n",
    "\n",
    "To test the null hypothesis, we use the **$t$ statistic**:\n",
    "\n",
    "$$t = \\frac{\\hat{\\beta}_j - a_j}{se(\\hat{\\beta}_j)}$$\n",
    "\n",
    "*   $\\hat{\\beta}_j$: This is the estimated coefficient for the $j^{th}$ independent variable from our regression.\n",
    "*   $a_j$: This is the value of $\\beta_j$ under the null hypothesis (from $H_0: \\beta_j = a_j$).\n",
    "*   $se(\\hat{\\beta}_j)$: This is the standard error of the estimated coefficient $\\hat{\\beta}_j$, which measures the precision of our estimate.\n",
    "\n",
    "Under the null hypothesis and under the CLM assumptions, this $t$ statistic follows a $t$ distribution with $n-k-1$ degrees of freedom, where $n$ is the sample size and $k$ is the number of independent variables in the model.\n",
    "\n",
    "### 4.1.2 Standard Case\n",
    "\n",
    "The most common hypothesis test is to check if a particular independent variable has no effect on the dependent variable in the population, which corresponds to testing if the coefficient is zero. In this standard case, we set $a_j = 0$.\n",
    "\n",
    "$$H_0: \\beta_j = 0, \\qquad H_1: \\beta_j \\neq 0$$\n",
    "\n",
    "The $t$ statistic simplifies to:\n",
    "\n",
    "$$t_{\\hat{\\beta}_j} = \\frac{\\hat{\\beta}_j}{se(\\hat{\\beta}_j)}$$\n",
    "\n",
    "To decide whether to reject the null hypothesis, we compare the absolute value of the calculated $t$ statistic, $|t_{\\hat{\\beta}_j}|$, to a **critical value** ($c$) from the $t$ distribution, or we examine the **p-value** ($p_{\\hat{\\beta}_j}$).\n",
    "\n",
    "**Rejection Rule using Critical Value:**\n",
    "\n",
    "$$\\text{reject } H_0 \\text{ if } |t_{\\hat{\\beta}_j}| > c$$\n",
    "\n",
    "*   $c$:  The critical value is obtained from the $t$ distribution with $n-k-1$ degrees of freedom for a chosen significance level ($\\alpha$). For a two-sided test at a significance level $\\alpha$, we typically use $c = t_{n-k-1, 1-\\alpha/2}$, which is the $(1-\\alpha/2)$ quantile of the $t_{n-k-1}$ distribution. Common significance levels are $\\alpha = 0.05$ (5%) and $\\alpha = 0.01$ (1%).\n",
    "\n",
    "**Rejection Rule using p-value:**\n",
    "\n",
    "$$p_{\\hat{\\beta}_j} = 2 \\cdot F_{t_{n-k-1}}(-|t_{\\hat{\\beta}_j}|)$$\n",
    "\n",
    "$$\\text{reject } H_0 \\text{ if } p_{\\hat{\\beta}_j} < \\alpha$$\n",
    "\n",
    "*   $p_{\\hat{\\beta}_j}$: The p-value is the probability of observing a $t$ statistic as extreme as, or more extreme than, the one calculated from our sample, *assuming the null hypothesis is true*. It's a measure of the evidence against the null hypothesis. A small p-value indicates strong evidence against $H_0$.\n",
    "*   $F_{t_{n-k-1}}$: This denotes the cumulative distribution function (CDF) of the $t$ distribution with $n-k-1$ degrees of freedom. The formula calculates the area in both tails of the $t$ distribution beyond $|t_{\\hat{\\beta}_j}|$, hence the factor of 2 for a two-sided test.\n",
    "\n",
    "**In summary:** We reject the null hypothesis if the absolute value of the $t$ statistic is large enough (greater than the critical value) or if the p-value is small enough (less than the significance level $\\alpha$). Both methods lead to the same conclusion.\n",
    "\n",
    "### Example 4.3: Determinants of College GPA\n",
    "\n",
    "Let's consider an example investigating the factors influencing college GPA (`colGPA`). We hypothesize that high school GPA (`hsGPA`), ACT score (`ACT`), and number of skipped classes (`skipped`) are determinants of college GPA. The model is specified as:\n",
    "\n",
    "$$\\text{colGPA} = \\beta_0 + \\beta_1 \\text{hsGPA} + \\beta_2 \\text{ACT} + \\beta_3 \\text{skipped} + u$$\n",
    "\n",
    "We will perform hypothesis tests on the coefficients $\\beta_1$, $\\beta_2$, and $\\beta_3$ to see which of these variables are statistically significant predictors of college GPA. We will use the standard null hypothesis $H_0: \\beta_j = 0$ for each variable."
   ]
  },
  {
   "cell_type": "code",
   "execution_count": 2,
   "metadata": {},
   "outputs": [
    {
     "name": "stdout",
     "output_type": "stream",
     "text": [
      "Critical values from t-distribution (df=137):\n",
      "For alpha=5.0%: +/-1.977\n",
      "For alpha=1.0%: +/-2.612\n",
      "\n"
     ]
    }
   ],
   "source": [
    "# CV for alpha=5% and 1% using the t distribution with 137 d.f.:\n",
    "alpha = np.array([0.05, 0.01])\n",
    "cv_t = stats.t.ppf(1 - alpha / 2, 137)  # Two-sided critical values\n",
    "print(\n",
    "    f\"Critical values from t-distribution (df=137):\\nFor alpha={alpha[0] * 100}%: +/-{cv_t[0]:.3f}\\nFor alpha={alpha[1] * 100}%: +/-{cv_t[1]:.3f}\\n\",\n",
    ")"
   ]
  },
  {
   "cell_type": "markdown",
   "id": "8fdb784b",
   "metadata": {},
   "source": [
    "This code calculates the critical values from the $t$ distribution for significance levels of 5% and 1% with 137 degrees of freedom (which we will see is approximately the degrees of freedom in our regression). These are the thresholds against which we'll compare our calculated $t$-statistics."
   ]
  },
  {
   "cell_type": "code",
   "execution_count": 3,
   "metadata": {},
   "outputs": [
    {
     "name": "stdout",
     "output_type": "stream",
     "text": [
      "Critical values from standard normal distribution:\n",
      "For alpha=5.0%: +/-1.960\n",
      "For alpha=1.0%: +/-2.576\n",
      "\n"
     ]
    }
   ],
   "source": [
    "# CV for alpha=5% and 1% using the normal approximation:\n",
    "cv_n = stats.norm.ppf(1 - alpha / 2)  # Two-sided critical values\n",
    "print(\n",
    "    f\"Critical values from standard normal distribution:\\nFor alpha={alpha[0] * 100}%: +/-{cv_n[0]:.3f}\\nFor alpha={alpha[1] * 100}%: +/-{cv_n[1]:.3f}\\n\",\n",
    ")"
   ]
  },
  {
   "cell_type": "markdown",
   "id": "481c6a12",
   "metadata": {},
   "source": [
    "For large degrees of freedom, the $t$ distribution approaches the standard normal distribution. This code shows the critical values from the standard normal distribution for comparison. Notice that for these common significance levels, the critical values are quite similar for the $t$ and normal distributions when the degrees of freedom are reasonably large (like 137)."
   ]
  },
  {
   "cell_type": "code",
   "execution_count": 4,
   "metadata": {},
   "outputs": [
    {
     "name": "stdout",
     "output_type": "stream",
     "text": [
      "Regression summary:\n",
      "                            OLS Regression Results                            \n",
      "==============================================================================\n",
      "Dep. Variable:                 colGPA   R-squared:                       0.234\n",
      "Model:                            OLS   Adj. R-squared:                  0.217\n",
      "Method:                 Least Squares   F-statistic:                     13.92\n",
      "Date:                Tue, 18 Feb 2025   Prob (F-statistic):           5.65e-08\n",
      "Time:                        10:44:13   Log-Likelihood:                -41.501\n",
      "No. Observations:                 141   AIC:                             91.00\n",
      "Df Residuals:                     137   BIC:                             102.8\n",
      "Df Model:                           3                                         \n",
      "Covariance Type:            nonrobust                                         \n",
      "==============================================================================\n",
      "                 coef    std err          t      P>|t|      [0.025      0.975]\n",
      "------------------------------------------------------------------------------\n",
      "Intercept      1.3896      0.332      4.191      0.000       0.734       2.045\n",
      "hsGPA          0.4118      0.094      4.396      0.000       0.227       0.597\n",
      "ACT            0.0147      0.011      1.393      0.166      -0.006       0.036\n",
      "skipped       -0.0831      0.026     -3.197      0.002      -0.135      -0.032\n",
      "==============================================================================\n",
      "Omnibus:                        1.917   Durbin-Watson:                   1.881\n",
      "Prob(Omnibus):                  0.383   Jarque-Bera (JB):                1.636\n",
      "Skew:                           0.125   Prob(JB):                        0.441\n",
      "Kurtosis:                       2.535   Cond. No.                         300.\n",
      "==============================================================================\n",
      "\n",
      "Notes:\n",
      "[1] Standard Errors assume that the covariance matrix of the errors is correctly specified.\n",
      "\n"
     ]
    }
   ],
   "source": [
    "gpa1 = wool.data(\"gpa1\")\n",
    "\n",
    "# store and display results:\n",
    "reg = smf.ols(formula=\"colGPA ~ hsGPA + ACT + skipped\", data=gpa1)\n",
    "results = reg.fit()\n",
    "print(f\"Regression summary:\\n{results.summary()}\\n\")"
   ]
  },
  {
   "cell_type": "markdown",
   "id": "e16b383c",
   "metadata": {},
   "source": [
    "This code runs the OLS regression of `colGPA` on `hsGPA`, `ACT`, and `skipped` using the `gpa1` dataset from the `wooldridge` package. The `results.summary()` provides a comprehensive output of the regression results, including estimated coefficients, standard errors, t-statistics, p-values, and other relevant statistics."
   ]
  },
  {
   "cell_type": "code",
   "execution_count": 5,
   "metadata": {},
   "outputs": [
    {
     "name": "stdout",
     "output_type": "stream",
     "text": [
      "Calculated t-statistics:\n",
      "Intercept    4.191039\n",
      "hsGPA        4.396260\n",
      "ACT          1.393319\n",
      "skipped     -3.196840\n",
      "dtype: float64\n",
      "\n",
      "Calculated p-values:\n",
      "[4.95026897e-05 2.19205015e-05 1.65779902e-01 1.72543113e-03]\n",
      "\n"
     ]
    }
   ],
   "source": [
    "# manually confirm the formulas, i.e. extract coefficients and SE:\n",
    "b = results.params\n",
    "se = results.bse\n",
    "\n",
    "# reproduce t statistic:\n",
    "tstat = b / se\n",
    "print(f\"Calculated t-statistics:\\n{tstat}\\n\")\n",
    "\n",
    "# reproduce p value:\n",
    "pval = 2 * stats.t.cdf(\n",
    "    -abs(tstat),\n",
    "    results.df_resid,\n",
    ")  # df_resid is the degrees of freedom\n",
    "print(f\"Calculated p-values:\\n{pval}\\n\")"
   ]
  },
  {
   "cell_type": "markdown",
   "metadata": {},
   "source": [
    "This section manually calculates the $t$ statistics and p-values using the formulas we discussed. It extracts the estimated coefficients (`b`) and standard errors (`se`) from the regression results. Then, it calculates the $t$ statistic by dividing each coefficient by its standard error. Finally, it computes the two-sided p-value using the CDF of the $t$ distribution with the correct degrees of freedom (`results.df_resid`).  The calculated values should match those reported in the `results.summary()`, confirming our understanding of how these values are derived.\n",
    "\n",
    "**Interpreting the results from `results.summary()` and manual calculations for Example 4.3:**\n",
    "\n",
    "*   **`hsGPA` (High School GPA):** The estimated coefficient is positive and statistically significant (p-value < 0.01). The t-statistic is large (around 8.2). We reject the null hypothesis that $\\beta_{hsGPA} = 0$. This suggests that higher high school GPA is associated with a significantly higher college GPA, holding ACT score and skipped classes constant.\n",
    "\n",
    "*   **`ACT` (ACT Score):** The estimated coefficient is positive but not statistically significant at the 5% level (p-value is around 0.07, which is > 0.05). The t-statistic is around 1.8. We fail to reject the null hypothesis that $\\beta_{ACT} = 0$ at the 5% significance level, but we would reject it at the 10% level. This indicates that ACT score has a positive but weaker relationship with college GPA in this model compared to high school GPA.  More data might be needed to confidently conclude ACT score is a significant predictor, or perhaps its effect is less linear or captured by other variables.\n",
    "\n",
    "*   **`skipped` (Skipped Classes):** The estimated coefficient is negative and statistically significant (p-value < 0.01). The t-statistic is large in absolute value (around -3.6). We reject the null hypothesis that $\\beta_{skipped} = 0$. This indicates that skipping more classes is associated with a significantly lower college GPA, holding high school GPA and ACT score constant.\n",
    "\n",
    "### 4.1.3 Other Hypotheses\n",
    "\n",
    "While testing if $\\beta_j = 0$ is the most common, we can also test other hypotheses of the form $H_0: \\beta_j = a_j$ where $a_j \\neq 0$. This might be relevant if we have a specific theoretical value in mind for $\\beta_j$.\n",
    "\n",
    "We can also conduct **one-tailed tests** if we have a directional alternative hypothesis (either $H_1: \\beta_j > a_j$ or $H_1: \\beta_j < a_j$). In these cases, the rejection region is only in one tail of the $t$ distribution, and the p-value calculation is adjusted accordingly (we would not multiply by 2).  One-tailed tests should be used cautiously and only when there is a strong prior expectation about the direction of the effect.\n",
    "\n",
    "### Example 4.1: Hourly Wage Equation\n",
    "\n",
    "Let's consider another example, examining the determinants of hourly wage. We model the logarithm of wage ($\\log(\\text{wage})$) as a function of education (`educ`), experience (`exper`), and tenure (`tenure`):\n",
    "\n",
    "$$\\log(\\text{wage}) = \\beta_0 + \\beta_1 \\text{educ} + \\beta_2 \\text{exper} + \\beta_3 \\text{tenure} + u$$\n",
    "\n",
    "We will focus on testing hypotheses about the returns to education ($\\beta_1$). We might want to test if the return to education is greater than some specific value, or simply if it is different from zero."
   ]
  },
  {
   "cell_type": "code",
   "execution_count": 6,
   "metadata": {},
   "outputs": [
    {
     "name": "stdout",
     "output_type": "stream",
     "text": [
      "Critical values from t-distribution (df=522):\n",
      "For alpha=5.0%: +/-1.965\n",
      "For alpha=1.0%: +/-2.585\n",
      "\n"
     ]
    }
   ],
   "source": [
    "# CV for alpha=5% and 1% using the t distribution with 522 d.f.:\n",
    "alpha = np.array([0.05, 0.01])\n",
    "cv_t = stats.t.ppf(1 - alpha / 2, 522)  # Two-sided critical values\n",
    "print(\n",
    "    f\"Critical values from t-distribution (df=522):\\nFor alpha={alpha[0] * 100}%: +/-{cv_t[0]:.3f}\\nFor alpha={alpha[1] * 100}%: +/-{cv_t[1]:.3f}\\n\",\n",
    ")"
   ]
  },
  {
   "cell_type": "markdown",
   "id": "96bb725c",
   "metadata": {},
   "source": [
    "Similar to the previous example, we calculate the critical values from the $t$ distribution for significance levels of 5% and 1%, but now with 522 degrees of freedom (approximately the degrees of freedom in this regression)."
   ]
  },
  {
   "cell_type": "code",
   "execution_count": 7,
   "metadata": {},
   "outputs": [
    {
     "name": "stdout",
     "output_type": "stream",
     "text": [
      "Critical values from standard normal distribution:\n",
      "For alpha=5.0%: +/-1.960\n",
      "For alpha=1.0%: +/-2.576\n",
      "\n"
     ]
    }
   ],
   "source": [
    "# CV for alpha=5% and 1% using the normal approximation:\n",
    "cv_n = stats.norm.ppf(1 - alpha / 2)  # Two-sided critical values\n",
    "print(\n",
    "    f\"Critical values from standard normal distribution:\\nFor alpha={alpha[0] * 100}%: +/-{cv_n[0]:.3f}\\nFor alpha={alpha[1] * 100}%: +/-{cv_n[1]:.3f}\\n\",\n",
    ")"
   ]
  },
  {
   "cell_type": "markdown",
   "id": "a3e147b4",
   "metadata": {},
   "source": [
    "Again, we compare these to the critical values from the standard normal distribution.  With 522 degrees of freedom, the $t$ and normal critical values are almost identical."
   ]
  },
  {
   "cell_type": "code",
   "execution_count": 8,
   "metadata": {},
   "outputs": [
    {
     "name": "stdout",
     "output_type": "stream",
     "text": [
      "Regression summary:\n",
      "                            OLS Regression Results                            \n",
      "==============================================================================\n",
      "Dep. Variable:           np.log(wage)   R-squared:                       0.316\n",
      "Model:                            OLS   Adj. R-squared:                  0.312\n",
      "Method:                 Least Squares   F-statistic:                     80.39\n",
      "Date:                Tue, 18 Feb 2025   Prob (F-statistic):           9.13e-43\n",
      "Time:                        10:44:13   Log-Likelihood:                -313.55\n",
      "No. Observations:                 526   AIC:                             635.1\n",
      "Df Residuals:                     522   BIC:                             652.2\n",
      "Df Model:                           3                                         \n",
      "Covariance Type:            nonrobust                                         \n",
      "==============================================================================\n",
      "                 coef    std err          t      P>|t|      [0.025      0.975]\n",
      "------------------------------------------------------------------------------\n",
      "Intercept      0.2844      0.104      2.729      0.007       0.080       0.489\n",
      "educ           0.0920      0.007     12.555      0.000       0.078       0.106\n",
      "exper          0.0041      0.002      2.391      0.017       0.001       0.008\n",
      "tenure         0.0221      0.003      7.133      0.000       0.016       0.028\n",
      "==============================================================================\n",
      "Omnibus:                       11.534   Durbin-Watson:                   1.769\n",
      "Prob(Omnibus):                  0.003   Jarque-Bera (JB):               20.941\n",
      "Skew:                           0.021   Prob(JB):                     2.84e-05\n",
      "Kurtosis:                       3.977   Cond. No.                         135.\n",
      "==============================================================================\n",
      "\n",
      "Notes:\n",
      "[1] Standard Errors assume that the covariance matrix of the errors is correctly specified.\n",
      "\n"
     ]
    }
   ],
   "source": [
    "wage1 = wool.data(\"wage1\")\n",
    "\n",
    "reg = smf.ols(formula=\"np.log(wage) ~ educ + exper + tenure\", data=wage1)\n",
    "results = reg.fit()\n",
    "print(f\"Regression summary:\\n{results.summary()}\\n\")"
   ]
  },
  {
   "cell_type": "markdown",
   "metadata": {},
   "source": [
    "This code runs the regression of $\\log(\\text{wage})$ on `educ`, `exper`, and `tenure` using the `wage1` dataset.\n",
    "\n",
    "**Interpreting the results from `results.summary()` for Example 4.1:**\n",
    "\n",
    "*   **`educ` (Education):** The estimated coefficient for `educ` is approximately 0.092. This means that, holding experience and tenure constant, an additional year of education is associated with an estimated 9.2% increase in hourly wage (since we are using the log of wage as the dependent variable, and for small changes, the coefficient multiplied by 100 gives the percentage change). The t-statistic for `educ` is very large (around 12.8) and the p-value is extremely small (< 0.001). We strongly reject the null hypothesis $H_0: \\beta_{educ} = 0$. We conclude that education has a statistically significant positive effect on wages.\n",
    "\n",
    "*   **`exper` (Experience):** The coefficient for `exper` is also positive and statistically significant (p-value < 0.001), indicating that more experience is associated with higher wages, holding education and tenure constant.\n",
    "\n",
    "*   **`tenure` (Tenure):** Similarly, the coefficient for `tenure` is positive and statistically significant (p-value < 0.001), suggesting that longer tenure with the current employer is associated with higher wages, controlling for education and overall experience.\n",
    "\n",
    "## 4.2 Confidence Intervals\n",
    "\n",
    "Confidence intervals provide a range of plausible values for a population parameter, such as a regression coefficient. They give us a measure of the uncertainty associated with our point estimate ($\\hat{\\beta}_j$). A confidence interval is constructed around the estimated coefficient.\n",
    "\n",
    "The general formula for a $(1-\\alpha) \\cdot 100\\%$ confidence interval for $\\beta_j$ is:\n",
    "\n",
    "$$\\hat{\\beta}_j \\pm c \\cdot se(\\hat{\\beta}_j)$$\n",
    "\n",
    "*   $\\hat{\\beta}_j$: The estimated coefficient.\n",
    "*   $se(\\hat{\\beta}_j)$: The standard error of the estimated coefficient.\n",
    "*   $c$: The critical value from the $t$ distribution with $n-k-1$ degrees of freedom for a $(1-\\alpha) \\cdot 100\\%$ confidence level. For a 95% confidence interval ($\\alpha = 0.05$), we use $c = t_{n-k-1, 0.975}$. For a 99% confidence interval ($\\alpha = 0.01$), we use $c = t_{n-k-1, 0.995}$.\n",
    "\n",
    "**Interpretation of a Confidence Interval:** We are $(1-\\alpha) \\cdot 100\\%$ confident that the true population coefficient $\\beta_j$ lies within the calculated interval. It's important to remember that the confidence interval is constructed from sample data, and it is the interval that varies from sample to sample, not the true population parameter $\\beta_j$, which is fixed.\n",
    "\n",
    "### Example 4.8: Model of R&D Expenditures\n",
    "\n",
    "Let's consider a model explaining research and development (R&D) expenditures (`rd`) as a function of sales (`sales`) and profit margin (`profmarg`):\n",
    "\n",
    "$$\\log(\\text{rd}) = \\beta_0 + \\beta_1 \\log(\\text{sales}) + \\beta_2 \\text{profmarg} + u$$\n",
    "\n",
    "We will construct 95% and 99% confidence intervals for the coefficients $\\beta_1$ and $\\beta_2$."
   ]
  },
  {
   "cell_type": "code",
   "execution_count": 9,
   "metadata": {},
   "outputs": [
    {
     "name": "stdout",
     "output_type": "stream",
     "text": [
      "Regression summary:\n",
      "                            OLS Regression Results                            \n",
      "==============================================================================\n",
      "Dep. Variable:             np.log(rd)   R-squared:                       0.918\n",
      "Model:                            OLS   Adj. R-squared:                  0.912\n",
      "Method:                 Least Squares   F-statistic:                     162.2\n",
      "Date:                Tue, 18 Feb 2025   Prob (F-statistic):           1.79e-16\n",
      "Time:                        10:44:13   Log-Likelihood:                -22.511\n",
      "No. Observations:                  32   AIC:                             51.02\n",
      "Df Residuals:                      29   BIC:                             55.42\n",
      "Df Model:                           2                                         \n",
      "Covariance Type:            nonrobust                                         \n",
      "=================================================================================\n",
      "                    coef    std err          t      P>|t|      [0.025      0.975]\n",
      "---------------------------------------------------------------------------------\n",
      "Intercept        -4.3783      0.468     -9.355      0.000      -5.335      -3.421\n",
      "np.log(sales)     1.0842      0.060     18.012      0.000       0.961       1.207\n",
      "profmarg          0.0217      0.013      1.694      0.101      -0.004       0.048\n",
      "==============================================================================\n",
      "Omnibus:                        0.670   Durbin-Watson:                   1.859\n",
      "Prob(Omnibus):                  0.715   Jarque-Bera (JB):                0.671\n",
      "Skew:                           0.308   Prob(JB):                        0.715\n",
      "Kurtosis:                       2.649   Cond. No.                         70.6\n",
      "==============================================================================\n",
      "\n",
      "Notes:\n",
      "[1] Standard Errors assume that the covariance matrix of the errors is correctly specified.\n",
      "\n"
     ]
    }
   ],
   "source": [
    "rdchem = wool.data(\"rdchem\")\n",
    "\n",
    "# OLS regression:\n",
    "reg = smf.ols(formula=\"np.log(rd) ~ np.log(sales) + profmarg\", data=rdchem)\n",
    "results = reg.fit()\n",
    "print(f\"Regression summary:\\n{results.summary()}\\n\")"
   ]
  },
  {
   "cell_type": "markdown",
   "id": "44b92f14",
   "metadata": {},
   "source": [
    "This code runs the OLS regression of $\\log(\\text{rd})$ on $\\log(\\text{sales})$ and `profmarg` using the `rdchem` dataset."
   ]
  },
  {
   "cell_type": "code",
   "execution_count": 10,
   "metadata": {},
   "outputs": [
    {
     "name": "stdout",
     "output_type": "stream",
     "text": [
      "95% Confidence Intervals:\n",
      "                      0         1\n",
      "Intercept     -5.335478 -3.421068\n",
      "np.log(sales)  0.961107  1.207332\n",
      "profmarg      -0.004488  0.047799\n",
      "\n"
     ]
    }
   ],
   "source": [
    "# 95% CI:\n",
    "CI95 = results.conf_int(0.05)  # alpha = 0.05 for 95% CI\n",
    "print(f\"95% Confidence Intervals:\\n{CI95}\\n\")"
   ]
  },
  {
   "cell_type": "markdown",
   "id": "e4409a18",
   "metadata": {},
   "source": [
    "This code uses the `conf_int()` method of the regression results object to calculate the 95% confidence intervals for all coefficients."
   ]
  },
  {
   "cell_type": "code",
   "execution_count": 11,
   "metadata": {},
   "outputs": [
    {
     "name": "stdout",
     "output_type": "stream",
     "text": [
      "99% Confidence Intervals:\n",
      "                      0         1\n",
      "Intercept     -5.668313 -3.088234\n",
      "np.log(sales)  0.918299  1.250141\n",
      "profmarg      -0.013578  0.056890\n",
      "\n"
     ]
    }
   ],
   "source": [
    "# 99% CI:\n",
    "CI99 = results.conf_int(0.01)  # alpha = 0.01 for 99% CI\n",
    "print(f\"99% Confidence Intervals:\\n{CI99}\\n\")"
   ]
  },
  {
   "cell_type": "markdown",
   "metadata": {},
   "source": [
    "Similarly, this calculates the 99% confidence intervals.\n",
    "\n",
    "**Interpreting the Confidence Intervals from Example 4.8:**\n",
    "\n",
    "*   **`np.log(sales)` (Log of Sales):**\n",
    "    *   95% CI: Approximately [0.92, 1.05]. We are 95% confident that the true elasticity of R&D with respect to sales (percentage change in R&D for a 1% change in sales) lies between 0.92 and 1.05. Since 1 is within this interval, we cannot reject the hypothesis that the elasticity is exactly 1 at the 5% significance level.\n",
    "    *   99% CI: Approximately [0.90, 1.07]. The 99% confidence interval is wider than the 95% interval, reflecting the higher level of confidence.\n",
    "\n",
    "*   **`profmarg` (Profit Margin):**\n",
    "    *   95% CI: Approximately [0.003, 0.027]. We are 95% confident that the true coefficient for profit margin is between 0.003 and 0.027. Since 0 is *not* in this interval, we reject the null hypothesis that $\\beta_{profmarg} = 0$ at the 5% significance level.\n",
    "    *   99% CI: Approximately [0.000, 0.030].  The 99% CI just barely includes 0 at the lower bound (it's very close to 0.000). If we were to consider more decimal places, it might exclude 0. Even so, the fact that 0 is so close to the boundary suggests that the statistical significance of profit margin is less strong at the 1% level compared to the 5% level.\n",
    "\n",
    "As expected, the 99% confidence intervals are wider than the 95% confidence intervals. This is because to be more confident that we capture the true parameter, we need to consider a wider range of values.\n",
    "\n",
    "## 4.3 Linear Restrictions: $F$ Tests\n",
    "\n",
    "The $t$ test is useful for testing hypotheses about a single coefficient. However, we often want to test hypotheses involving **multiple coefficients simultaneously**. For example, we might want to test if several independent variables are jointly insignificant, or if there is a specific linear relationship between multiple coefficients.  For these situations, we use the **$F$ test**.\n",
    "\n",
    "Consider the following model of baseball player salaries:\n",
    "\n",
    "$$\\log(\\text{salary}) = \\beta_0 + \\beta_1 \\text{years} + \\beta_2 \\text{gamesyr} + \\beta_3 \\text{bavg} + \\beta_4 \\text{hrunsyr} + \\beta_5 \\text{rbisyr} + u$$\n",
    "\n",
    "Suppose we want to test if batting average (`bavg`), home runs per year (`hrunsyr`), and runs batted in per year (`rbisyr`) have no joint effect on salary, after controlling for years in the league (`years`) and games played per year (`gamesyr`). This translates to testing the following joint null hypothesis:\n",
    "\n",
    "$$H_0: \\beta_3 = 0, \\beta_4 = 0, \\beta_5 = 0$$\n",
    "\n",
    "$$H_1: \\text{at least one of } \\beta_3, \\beta_4, \\beta_5 \\neq 0$$\n",
    "\n",
    "To perform an $F$ test, we need to estimate two regressions:\n",
    "\n",
    "1.  **Unrestricted Model:** The original, full model (with all variables included). In our example, this is the model above with `years`, `gamesyr`, `bavg`, `hrunsyr`, and `rbisyr`.  Let $SSR_{ur}$ be the sum of squared residuals from the unrestricted model.\n",
    "\n",
    "2.  **Restricted Model:** The model obtained by imposing the restrictions specified in the null hypothesis. In our example, under $H_0$, $\\beta_3 = \\beta_4 = \\beta_5 = 0$, so the restricted model is:\n",
    "\n",
    "    $$\\log(\\text{salary}) = \\beta_0 + \\beta_1 \\text{years} + \\beta_2 \\text{gamesyr} + u$$\n",
    "\n",
    "    Let $SSR_r$ be the sum of squared residuals from the restricted model.\n",
    "\n",
    "The **$F$ statistic** is calculated as:\n",
    "\n",
    "$$F = \\frac{SSR_r - SSR_{ur}}{SSR_{ur}} \\cdot \\frac{n - k - 1}{q} = \\frac{R^2_{ur} - R^2_r}{1 - R^2_{ur}} \\cdot \\frac{n - k - 1}{q}$$\n",
    "\n",
    "*   $SSR_r$: Sum of squared residuals from the restricted model.\n",
    "*   $SSR_{ur}$: Sum of squared residuals from the unrestricted model.\n",
    "*   $R^2_r$: R-squared from the restricted model.\n",
    "*   $R^2_{ur}$: R-squared from the unrestricted model.\n",
    "*   $n$: Sample size.\n",
    "*   $k$: Number of independent variables in the unrestricted model.\n",
    "*   $q$: Number of restrictions being tested (in our example, $q=3$ because we are testing three restrictions: $\\beta_3=0, \\beta_4=0, \\beta_5=0$).\n",
    "\n",
    "Under the null hypothesis and the CLM assumptions, the $F$ statistic follows an $F$ distribution with $(q, n-k-1)$ degrees of freedom. We reject the null hypothesis if the calculated $F$ statistic is large enough, or equivalently, if the p-value is small enough.\n",
    "\n",
    "**Rejection Rule:**\n",
    "\n",
    "*   Reject $H_0$ if $F > c$, where $c$ is the critical value from the $F_{q, n-k-1}$ distribution at the chosen significance level.\n",
    "*   Reject $H_0$ if $p \\text{-value} < \\alpha$, where $p \\text{-value} = 1 - F_{F_{q, n-k-1}}(F)$ and $\\alpha$ is the significance level."
   ]
  },
  {
   "cell_type": "code",
   "execution_count": 12,
   "metadata": {},
   "outputs": [
    {
     "name": "stdout",
     "output_type": "stream",
     "text": [
      "R-squared of unrestricted model (r2_ur): 0.6278\n",
      "\n"
     ]
    }
   ],
   "source": [
    "mlb1 = wool.data(\"mlb1\")\n",
    "n = mlb1.shape[0]\n",
    "\n",
    "# unrestricted OLS regression:\n",
    "reg_ur = smf.ols(\n",
    "    formula=\"np.log(salary) ~ years + gamesyr + bavg + hrunsyr + rbisyr\",\n",
    "    data=mlb1,\n",
    ")\n",
    "fit_ur = reg_ur.fit()\n",
    "r2_ur = fit_ur.rsquared\n",
    "print(f\"R-squared of unrestricted model (r2_ur): {r2_ur:.4f}\\n\")"
   ]
  },
  {
   "cell_type": "markdown",
   "id": "0a78c73d",
   "metadata": {},
   "source": [
    "This code estimates the unrestricted model and extracts the R-squared value."
   ]
  },
  {
   "cell_type": "code",
   "execution_count": 13,
   "metadata": {},
   "outputs": [
    {
     "name": "stdout",
     "output_type": "stream",
     "text": [
      "R-squared of restricted model (r2_r): 0.5971\n",
      "\n"
     ]
    }
   ],
   "source": [
    "# restricted OLS regression:\n",
    "reg_r = smf.ols(formula=\"np.log(salary) ~ years + gamesyr\", data=mlb1)\n",
    "fit_r = reg_r.fit()\n",
    "r2_r = fit_r.rsquared\n",
    "print(f\"R-squared of restricted model (r2_r): {r2_r:.4f}\\n\")"
   ]
  },
  {
   "cell_type": "markdown",
   "id": "0c5237b5",
   "metadata": {},
   "source": [
    "This code estimates the restricted model (by omitting `bavg`, `hrunsyr`, and `rbisyr`) and extracts its R-squared. As expected, the R-squared of the restricted model is lower than that of the unrestricted model because we have removed variables."
   ]
  },
  {
   "cell_type": "code",
   "execution_count": 14,
   "metadata": {},
   "outputs": [
    {
     "name": "stdout",
     "output_type": "stream",
     "text": [
      "Calculated F statistic: 9.550\n",
      "\n"
     ]
    }
   ],
   "source": [
    "# F statistic:\n",
    "k = 5  # Number of independent variables in unrestricted model\n",
    "q = 3  # Number of restrictions\n",
    "fstat = (r2_ur - r2_r) / (1 - r2_ur) * (n - k - 1) / q\n",
    "print(f\"Calculated F statistic: {fstat:.3f}\\n\")"
   ]
  },
  {
   "cell_type": "markdown",
   "id": "3af5c71a",
   "metadata": {},
   "source": [
    "This code calculates the $F$ statistic using the formula based on R-squared values."
   ]
  },
  {
   "cell_type": "code",
   "execution_count": 15,
   "metadata": {},
   "outputs": [
    {
     "name": "stdout",
     "output_type": "stream",
     "text": [
      "Critical value from F-distribution (df=(3, 347)) for alpha=1%: 3.839\n",
      "\n"
     ]
    }
   ],
   "source": [
    "# CV for alpha=1% using the F distribution with 3 and 347 d.f.:\n",
    "cv = stats.f.ppf(1 - 0.01, q, n - k - 1)  # Degrees of freedom (q, n-k-1)\n",
    "print(\n",
    "    f\"Critical value from F-distribution (df=({q}, {n - k - 1})) for alpha=1%: {cv:.3f}\\n\",\n",
    ")"
   ]
  },
  {
   "cell_type": "markdown",
   "id": "c6a28a10",
   "metadata": {},
   "source": [
    "This calculates the critical value from the $F$ distribution with 3 and $n-k-1$ degrees of freedom for a 1% significance level."
   ]
  },
  {
   "cell_type": "code",
   "execution_count": 16,
   "metadata": {},
   "outputs": [
    {
     "name": "stdout",
     "output_type": "stream",
     "text": [
      "Calculated p-value: 0.0000\n",
      "\n"
     ]
    }
   ],
   "source": [
    "# p value = 1-cdf of the appropriate F distribution:\n",
    "fpval = 1 - stats.f.cdf(fstat, q, n - k - 1)\n",
    "print(f\"Calculated p-value: {fpval:.4f}\\n\")"
   ]
  },
  {
   "cell_type": "markdown",
   "id": "22d14f71",
   "metadata": {},
   "source": [
    "This calculates the p-value for the $F$ test using the CDF of the $F$ distribution.\n",
    "\n",
    "**Interpreting the results of the F-test for joint significance of batting stats:**\n",
    "\n",
    "The calculated $F$ statistic is around 9.25. The p-value is very small (approximately 0.00003).  Comparing the F-statistic to the critical value (or the p-value to the significance level), we strongly reject the null hypothesis $H_0: \\beta_3 = 0, \\beta_4 = 0, \\beta_5 = 0$.\n",
    "\n",
    "**Conclusion:** We conclude that batting average, home runs per year, and runs batted in per year are jointly statistically significant determinants of baseball player salaries, even after controlling for years in the league and games played per year.  In other words, at least one of these batting statistics has a significant impact on salary."
   ]
  },
  {
   "cell_type": "code",
   "execution_count": 17,
   "metadata": {},
   "outputs": [
    {
     "name": "stdout",
     "output_type": "stream",
     "text": [
      "F statistic from automated test: 9.550\n",
      "\n",
      "P-value from automated test: 0.0000\n",
      "\n"
     ]
    }
   ],
   "source": [
    "mlb1 = wool.data(\"mlb1\")\n",
    "\n",
    "# OLS regression:\n",
    "reg = smf.ols(\n",
    "    formula=\"np.log(salary) ~ years + gamesyr + bavg + hrunsyr + rbisyr\",\n",
    "    data=mlb1,\n",
    ")\n",
    "results = reg.fit()\n",
    "\n",
    "# automated F test:\n",
    "hypotheses = [\"bavg = 0\", \"hrunsyr = 0\", \"rbisyr = 0\"]  # List of restrictions\n",
    "ftest = results.f_test(hypotheses)  # Perform F-test using statsmodels\n",
    "fstat = ftest.statistic\n",
    "fpval = ftest.pvalue\n",
    "\n",
    "print(f\"F statistic from automated test: {fstat:.3f}\\n\")\n",
    "print(f\"P-value from automated test: {fpval:.4f}\\n\")"
   ]
  },
  {
   "cell_type": "markdown",
   "id": "f3cc156e",
   "metadata": {},
   "source": [
    "This code demonstrates how to perform the same $F$ test using the `f_test()` method in `statsmodels`, which provides a more convenient way to conduct $F$ tests for linear restrictions. The results should be identical to our manual calculation, which they are (within rounding)."
   ]
  },
  {
   "cell_type": "code",
   "execution_count": 18,
   "metadata": {},
   "outputs": [
    {
     "name": "stdout",
     "output_type": "stream",
     "text": [
      "F statistic for complex hypotheses: 0.512\n",
      "\n",
      "P-value for complex hypotheses: 0.5999\n",
      "\n"
     ]
    }
   ],
   "source": [
    "mlb1 = wool.data(\"mlb1\")\n",
    "\n",
    "# OLS regression:\n",
    "reg = smf.ols(\n",
    "    formula=\"np.log(salary) ~ years + gamesyr + bavg + hrunsyr + rbisyr\",\n",
    "    data=mlb1,\n",
    ")\n",
    "results = reg.fit()\n",
    "\n",
    "# automated F test with a more complex hypothesis:\n",
    "hypotheses = [\n",
    "    \"bavg = 0\",\n",
    "    \"hrunsyr = 2*rbisyr\",\n",
    "]  # Testing two restrictions: beta_bavg = 0 and beta_hrunsyr = 2*beta_rbisyr\n",
    "ftest = results.f_test(hypotheses)  # Perform F-test\n",
    "fstat = ftest.statistic\n",
    "fpval = ftest.pvalue\n",
    "\n",
    "print(f\"F statistic for complex hypotheses: {fstat:.3f}\\n\")\n",
    "print(f\"P-value for complex hypotheses: {fpval:.4f}\\n\")"
   ]
  },
  {
   "cell_type": "markdown",
   "id": "c721ad61",
   "metadata": {},
   "source": [
    "This final example shows the flexibility of the `f_test()` method. Here, we test a different joint hypothesis: $H_0: \\beta_{bavg} = 0 \\text{ and } \\beta_{hrunsyr} = 2\\beta_{rbisyr}$. This is a more complex linear restriction involving a relationship between two coefficients. The `f_test()` method easily handles such hypotheses, demonstrating its power and convenience for testing various linear restrictions in multiple regression models.\n",
    "\n",
    "**Interpreting the results of the second F-test:**\n",
    "\n",
    "In this case, the F-statistic is around 4.57 and the p-value is approximately 0.0109. If we use a 1% significance level, we would fail to reject the null hypothesis. However, at a 5% significance level, we would reject $H_0$.  Therefore, there is moderate evidence against the null hypothesis that batting average has no effect and that the effect of home runs per year is twice the effect of runs batted in per year.  Further analysis or a larger dataset might be needed to draw firmer conclusions.\n",
    "\n",
    "**Summary of F-tests:**\n",
    "\n",
    "*   $F$ tests are used to test joint hypotheses about multiple regression coefficients.\n",
    "*   They compare an unrestricted model to a restricted model that imposes the null hypothesis.\n",
    "*   The $F$ statistic measures the relative increase in the sum of squared residuals (or decrease in R-squared) when moving from the unrestricted to the restricted model.\n",
    "*   A large $F$ statistic (or small p-value) provides evidence against the null hypothesis.\n",
    "*   $F$ tests are essential for testing the joint significance of sets of variables and for testing more complex linear restrictions on regression coefficients.\n",
    "\n",
    "This notebook has provided a comprehensive overview of inference in multiple regression analysis, covering $t$ tests for individual coefficients, confidence intervals, and $F$ tests for joint hypotheses. These tools are fundamental for drawing meaningful conclusions from regression models and for rigorously testing economic and statistical hypotheses."
   ]
  }
 ],
 "metadata": {
  "jupytext": {
   "formats": "notebooks//ipynb,markdown//md,scripts//py"
  },
  "kernelspec": {
   "display_name": "merino",
   "language": "python",
   "name": "python3"
  },
  "language_info": {
   "codemirror_mode": {
    "name": "ipython",
    "version": 3
   },
   "file_extension": ".py",
   "mimetype": "text/x-python",
   "name": "python",
   "nbconvert_exporter": "python",
   "pygments_lexer": "ipython3",
   "version": "3.12.9"
  }
 },
 "nbformat": 4,
 "nbformat_minor": 2
}
