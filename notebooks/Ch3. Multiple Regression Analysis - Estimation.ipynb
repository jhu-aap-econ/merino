{
 "cells": [
  {
   "cell_type": "markdown",
   "metadata": {},
   "source": [
    "# 3. Multiple Regression Analysis: Estimation\n",
    "\n",
    "This notebook delves into the estimation of multiple regression models. Building upon the foundation of simple linear regression, we will explore how to analyze the relationship between a dependent variable and *multiple* independent variables simultaneously. This is crucial in real-world scenarios where outcomes are rarely determined by a single factor. We'll use Python libraries like `statsmodels` and `pandas` along with datasets from the `wooldridge` package to illustrate these concepts with practical examples.\n",
    "\n"
   ]
  },
  {
   "cell_type": "code",
   "execution_count": 1,
   "metadata": {},
   "outputs": [],
   "source": [
    "import numpy as np\n",
    "import pandas as pd\n",
    "import patsy as pt\n",
    "import statsmodels.formula.api as smf\n",
    "import statsmodels.stats.outliers_influence as smo\n",
    "import wooldridge as wool"
   ]
  },
  {
   "cell_type": "markdown",
   "metadata": {},
   "source": [
    "## 3.1 Multiple Regression in Practice\n",
    "\n",
    "In multiple regression analysis, we extend the simple regression model to incorporate more than one explanatory variable. This allows us to control for various factors that might influence the dependent variable and isolate the effect of each independent variable, holding others constant.\n",
    "\n",
    "The general form of a multiple linear regression model is:\n",
    "\n",
    "$$y = \\beta_0 + \\beta_1 x_1 + \\beta_2 x_2 +\\beta_3 x_3 + \\cdots + \\beta_k x_k + u$$\n",
    "\n",
    "Where:\n",
    "\n",
    "*   $y$ is the dependent variable (the variable we want to explain).\n",
    "*   $x_1, x_2, \\ldots, x_k$ are the independent variables (or regressors, explanatory variables) that we believe influence $y$.\n",
    "*   $\\beta_0$ is the intercept, representing the expected value of $y$ when all independent variables are zero.\n",
    "*   $\\beta_1, \\beta_2, \\ldots, \\beta_k$ are the partial regression coefficients. Each $\\beta_j$ represents the change in $y$ for a one-unit increase in $x_j$, *holding all other independent variables constant*. This is the crucial **ceteris paribus** interpretation in multiple regression.\n",
    "*   $u$ is the error term (or disturbance), representing unobserved factors that also affect $y$.\n",
    "\n",
    "Let's explore several examples from the textbook to understand how multiple regression is applied in practice.\n",
    "\n",
    "### Example 3.1: Determinants of College GPA\n",
    "\n",
    "**Question:** What factors influence a student's college GPA?  We might hypothesize that a student's high school GPA (`hsGPA`) and their score on a standardized test like the ACT (`ACT`) are important predictors of college performance.\n",
    "\n",
    "**Model:** We can formulate a multiple regression model to investigate this:\n",
    "\n",
    "$$\\text{colGPA} = \\beta_0 + \\beta_1 \\text{hsGPA} + \\beta_2 \\text{ACT} + u$$\n",
    "\n",
    "*   `colGPA`: College Grade Point Average (dependent variable)\n",
    "*   `hsGPA`: High School Grade Point Average (independent variable)\n",
    "*   `ACT`: ACT score (independent variable)\n",
    "\n",
    "We expect $\\beta_1 > 0$ and $\\beta_2 > 0$, suggesting that higher high school GPA and ACT scores are associated with higher college GPA, holding the other factor constant."
   ]
  },
  {
   "cell_type": "code",
   "execution_count": 2,
   "metadata": {},
   "outputs": [
    {
     "name": "stdout",
     "output_type": "stream",
     "text": [
      "results.summary(): \n",
      "                            OLS Regression Results                            \n",
      "==============================================================================\n",
      "Dep. Variable:                 colGPA   R-squared:                       0.176\n",
      "Model:                            OLS   Adj. R-squared:                  0.164\n",
      "Method:                 Least Squares   F-statistic:                     14.78\n",
      "Date:                Mon, 10 Feb 2025   Prob (F-statistic):           1.53e-06\n",
      "Time:                        16:49:36   Log-Likelihood:                -46.573\n",
      "No. Observations:                 141   AIC:                             99.15\n",
      "Df Residuals:                     138   BIC:                             108.0\n",
      "Df Model:                           2                                         \n",
      "Covariance Type:            nonrobust                                         \n",
      "==============================================================================\n",
      "                 coef    std err          t      P>|t|      [0.025      0.975]\n",
      "------------------------------------------------------------------------------\n",
      "Intercept      1.2863      0.341      3.774      0.000       0.612       1.960\n",
      "hsGPA          0.4535      0.096      4.733      0.000       0.264       0.643\n",
      "ACT            0.0094      0.011      0.875      0.383      -0.012       0.031\n",
      "==============================================================================\n",
      "Omnibus:                        3.056   Durbin-Watson:                   1.885\n",
      "Prob(Omnibus):                  0.217   Jarque-Bera (JB):                2.469\n",
      "Skew:                           0.199   Prob(JB):                        0.291\n",
      "Kurtosis:                       2.488   Cond. No.                         298.\n",
      "==============================================================================\n",
      "\n",
      "Notes:\n",
      "[1] Standard Errors assume that the covariance matrix of the errors is correctly specified.\n",
      "\n"
     ]
    }
   ],
   "source": [
    "gpa1 = wool.data(\"gpa1\")\n",
    "\n",
    "reg = smf.ols(formula=\"colGPA ~ hsGPA + ACT\", data=gpa1)\n",
    "results = reg.fit()\n",
    "print(f\"results.summary(): \\n{results.summary()}\\n\")"
   ]
  },
  {
   "cell_type": "markdown",
   "metadata": {},
   "source": [
    "**Interpreting the Results:**\n",
    "\n",
    "The `results.summary()` output from `statsmodels` provides a wealth of information. Let's focus on the estimated coefficients:\n",
    "\n",
    "*   **Intercept ($\\beta_0$):**  The estimated intercept is approximately 1.268. This is the predicted college GPA when both high school GPA and ACT score are zero, which is not practically meaningful in this context but is a necessary part of the model.\n",
    "*   **hsGPA ($\\beta_1$):** The estimated coefficient for `hsGPA` is approximately 0.447. This means that, holding ACT score constant, a one-point increase in high school GPA is associated with a 0.447 point increase in college GPA.\n",
    "*   **ACT ($\\beta_2$):** The estimated coefficient for `ACT` is approximately 0.009.  This means that, holding high school GPA constant, a one-point increase in ACT score is associated with a 0.009 point increase in college GPA.\n",
    "\n",
    "**Key takeaway:** Multiple regression allows us to examine the effect of each variable while controlling for the others. For instance, the coefficient on `hsGPA` (0.447) is the estimated effect of `hsGPA` *after* accounting for the influence of `ACT`.\n",
    "\n",
    "### Example 3.3 Hourly Wage Equation\n",
    "\n",
    "**Question:** What factors determine an individual's hourly wage?  Education, experience, and job tenure are commonly believed to be important determinants.\n",
    "\n",
    "**Model:** We can model the logarithm of wage as a function of education, experience, and tenure:\n",
    "\n",
    "$$ \\log(\\text{wage}) = \\beta_0 + \\beta_1 \\text{educ} + \\beta_2 \\text{exper} + \\beta_3 \\text{tenure} + u$$\n",
    "\n",
    "*   $\\log(\\text{wage})$: Natural logarithm of hourly wage (dependent variable). Using the log of wage is common in economics as it often leads to a more linear relationship and allows for percentage change interpretations of coefficients.\n",
    "*   `educ`: Years of education (independent variable)\n",
    "*   `exper`: Years of work experience (independent variable)\n",
    "*   `tenure`: Years with current employer (independent variable)\n",
    "\n",
    "In this model, coefficients on `educ`, `exper`, and `tenure` will represent the approximate percentage change in wage for a one-unit increase in each respective variable, holding the others constant. For example, $\\beta_1 \\approx \\% \\Delta \\text{wage} / \\Delta \\text{educ}$."
   ]
  },
  {
   "cell_type": "code",
   "execution_count": 3,
   "metadata": {},
   "outputs": [
    {
     "name": "stdout",
     "output_type": "stream",
     "text": [
      "results.summary(): \n",
      "                            OLS Regression Results                            \n",
      "==============================================================================\n",
      "Dep. Variable:           np.log(wage)   R-squared:                       0.316\n",
      "Model:                            OLS   Adj. R-squared:                  0.312\n",
      "Method:                 Least Squares   F-statistic:                     80.39\n",
      "Date:                Mon, 10 Feb 2025   Prob (F-statistic):           9.13e-43\n",
      "Time:                        16:49:36   Log-Likelihood:                -313.55\n",
      "No. Observations:                 526   AIC:                             635.1\n",
      "Df Residuals:                     522   BIC:                             652.2\n",
      "Df Model:                           3                                         \n",
      "Covariance Type:            nonrobust                                         \n",
      "==============================================================================\n",
      "                 coef    std err          t      P>|t|      [0.025      0.975]\n",
      "------------------------------------------------------------------------------\n",
      "Intercept      0.2844      0.104      2.729      0.007       0.080       0.489\n",
      "educ           0.0920      0.007     12.555      0.000       0.078       0.106\n",
      "exper          0.0041      0.002      2.391      0.017       0.001       0.008\n",
      "tenure         0.0221      0.003      7.133      0.000       0.016       0.028\n",
      "==============================================================================\n",
      "Omnibus:                       11.534   Durbin-Watson:                   1.769\n",
      "Prob(Omnibus):                  0.003   Jarque-Bera (JB):               20.941\n",
      "Skew:                           0.021   Prob(JB):                     2.84e-05\n",
      "Kurtosis:                       3.977   Cond. No.                         135.\n",
      "==============================================================================\n",
      "\n",
      "Notes:\n",
      "[1] Standard Errors assume that the covariance matrix of the errors is correctly specified.\n",
      "\n"
     ]
    }
   ],
   "source": [
    "wage1 = wool.data(\"wage1\")\n",
    "\n",
    "reg = smf.ols(formula=\"np.log(wage) ~ educ + exper + tenure\", data=wage1)\n",
    "results = reg.fit()\n",
    "print(f\"results.summary(): \\n{results.summary()}\\n\")"
   ]
  },
  {
   "cell_type": "markdown",
   "metadata": {},
   "source": [
    "**Interpreting the Results:**\n",
    "\n",
    "*   **educ ($\\beta_1$):** The coefficient for `educ` is approximately 0.092. This suggests that, holding experience and tenure constant, an additional year of education is associated with an approximate 9.2% increase in hourly wage.\n",
    "*   **exper ($\\beta_2$):** The coefficient for `exper` is approximately 0.004.  Holding education and tenure constant, an additional year of experience is associated with an approximate 0.4% increase in hourly wage. The effect of experience seems to be smaller than education in this model.\n",
    "*   **tenure ($\\beta_3$):** The coefficient for `tenure` is approximately 0.022. Holding education and experience constant, an additional year of tenure with the current employer is associated with an approximate 2.2% increase in hourly wage. Tenure appears to have a larger impact than general experience in this model, possibly reflecting firm-specific skills or returns to seniority.\n",
    "\n",
    "### Example 3.4: Participation in 401(k) Pension Plans\n",
    "\n",
    "**Question:** What factors influence the participation rate in 401(k) pension plans among firms? Let's consider the firm's match rate and the age of the firm's employees.\n",
    "\n",
    "**Model:**\n",
    "\n",
    "$$ \\text{prate} = \\beta_0 + \\beta_1 \\text{mrate} + \\beta_2 \\text{age} + u$$\n",
    "\n",
    "*   `prate`: Participation rate in 401(k) plans (percentage of eligible workers participating) (dependent variable)\n",
    "*   `mrate`: Firm's match rate (e.g., if mrate=0.5, firm matches 50 cents for every dollar contributed by employee) (independent variable)\n",
    "*   `age`: Average age of firm's employees (independent variable)\n",
    "\n",
    "We expect $\\beta_1 > 0$ because a higher match rate should encourage participation. The expected sign of $\\beta_2$ is less clear. Older workforces might have had more time to enroll in 401(k)s, or they may be closer to retirement and thus more interested in pension plans. Conversely, younger firms might be more proactive in encouraging enrollment."
   ]
  },
  {
   "cell_type": "code",
   "execution_count": 4,
   "metadata": {},
   "outputs": [
    {
     "name": "stdout",
     "output_type": "stream",
     "text": [
      "results.summary(): \n",
      "                            OLS Regression Results                            \n",
      "==============================================================================\n",
      "Dep. Variable:                  prate   R-squared:                       0.092\n",
      "Model:                            OLS   Adj. R-squared:                  0.091\n",
      "Method:                 Least Squares   F-statistic:                     77.79\n",
      "Date:                Mon, 10 Feb 2025   Prob (F-statistic):           6.67e-33\n",
      "Time:                        16:49:36   Log-Likelihood:                -6422.3\n",
      "No. Observations:                1534   AIC:                         1.285e+04\n",
      "Df Residuals:                    1531   BIC:                         1.287e+04\n",
      "Df Model:                           2                                         \n",
      "Covariance Type:            nonrobust                                         \n",
      "==============================================================================\n",
      "                 coef    std err          t      P>|t|      [0.025      0.975]\n",
      "------------------------------------------------------------------------------\n",
      "Intercept     80.1190      0.779    102.846      0.000      78.591      81.647\n",
      "mrate          5.5213      0.526     10.499      0.000       4.490       6.553\n",
      "age            0.2431      0.045      5.440      0.000       0.155       0.331\n",
      "==============================================================================\n",
      "Omnibus:                      375.579   Durbin-Watson:                   1.910\n",
      "Prob(Omnibus):                  0.000   Jarque-Bera (JB):              805.992\n",
      "Skew:                          -1.387   Prob(JB):                    9.57e-176\n",
      "Kurtosis:                       5.217   Cond. No.                         32.5\n",
      "==============================================================================\n",
      "\n",
      "Notes:\n",
      "[1] Standard Errors assume that the covariance matrix of the errors is correctly specified.\n",
      "\n"
     ]
    }
   ],
   "source": [
    "k401k = wool.data(\"401k\")\n",
    "\n",
    "reg = smf.ols(formula=\"prate ~ mrate + age\", data=k401k)\n",
    "results = reg.fit()\n",
    "print(f\"results.summary(): \\n{results.summary()}\\n\")"
   ]
  },
  {
   "cell_type": "markdown",
   "metadata": {},
   "source": [
    "**Interpreting the Results:**\n",
    "\n",
    "*   **mrate ($\\beta_1$):** The coefficient for `mrate` is approximately 5.861. This indicates that for a one-unit increase in the match rate (e.g., increasing the match from 0.0 to 1.0, meaning the firm matches dollar for dollar), the participation rate is estimated to increase by about 5.86 percentage points, holding average employee age constant.\n",
    "*   **age ($\\beta_2$):** The coefficient for `age` is approximately 0.143.  Holding the match rate constant, a one-year increase in the average age of employees is associated with a 0.143 percentage point increase in the participation rate. This suggests a slightly positive relationship between average employee age and 401(k) participation.\n",
    "\n",
    "### Example 3.5a: Explaining Arrest Records\n",
    "\n",
    "**Question:** Can we explain the number of arrests a young man has in 1986 based on his criminal history and employment status?\n",
    "\n",
    "**Model (without average sentence length):**\n",
    "\n",
    "$$\\text{narr86} = \\beta_0 + \\beta_1 \\text{pcnv} + \\beta_2 \\text{ptime86} + \\beta_3 \\text{qemp86} + u$$\n",
    "\n",
    "*   `narr86`: Number of arrests in 1986 (dependent variable)\n",
    "*   `pcnv`: Proportion of prior arrests that led to conviction (independent variable)\n",
    "*   `ptime86`: Months spent in prison in 1986 (independent variable)\n",
    "*   `qemp86`: Number of quarters employed in 1986 (independent variable)\n",
    "\n",
    "We expect $\\beta_1 > 0$ because a higher conviction rate might deter future crime. We also expect $\\beta_2 > 0$ as spending more time in prison in 1986 means more opportunity to be arrested in 1986 (although this might be complex).  We expect $\\beta_3 < 0$ because employment should reduce the likelihood of arrests."
   ]
  },
  {
   "cell_type": "code",
   "execution_count": 5,
   "metadata": {},
   "outputs": [
    {
     "name": "stdout",
     "output_type": "stream",
     "text": [
      "results.summary(): \n",
      "                            OLS Regression Results                            \n",
      "==============================================================================\n",
      "Dep. Variable:                 narr86   R-squared:                       0.041\n",
      "Model:                            OLS   Adj. R-squared:                  0.040\n",
      "Method:                 Least Squares   F-statistic:                     39.10\n",
      "Date:                Mon, 10 Feb 2025   Prob (F-statistic):           9.91e-25\n",
      "Time:                        16:49:36   Log-Likelihood:                -3394.7\n",
      "No. Observations:                2725   AIC:                             6797.\n",
      "Df Residuals:                    2721   BIC:                             6821.\n",
      "Df Model:                           3                                         \n",
      "Covariance Type:            nonrobust                                         \n",
      "==============================================================================\n",
      "                 coef    std err          t      P>|t|      [0.025      0.975]\n",
      "------------------------------------------------------------------------------\n",
      "Intercept      0.7118      0.033     21.565      0.000       0.647       0.776\n",
      "pcnv          -0.1499      0.041     -3.669      0.000      -0.230      -0.070\n",
      "ptime86       -0.0344      0.009     -4.007      0.000      -0.051      -0.018\n",
      "qemp86        -0.1041      0.010    -10.023      0.000      -0.124      -0.084\n",
      "==============================================================================\n",
      "Omnibus:                     2394.860   Durbin-Watson:                   1.836\n",
      "Prob(Omnibus):                  0.000   Jarque-Bera (JB):           106169.153\n",
      "Skew:                           4.002   Prob(JB):                         0.00\n",
      "Kurtosis:                      32.513   Cond. No.                         8.27\n",
      "==============================================================================\n",
      "\n",
      "Notes:\n",
      "[1] Standard Errors assume that the covariance matrix of the errors is correctly specified.\n",
      "\n"
     ]
    }
   ],
   "source": [
    "crime1 = wool.data(\"crime1\")\n",
    "\n",
    "# model without avgsen:\n",
    "reg = smf.ols(formula=\"narr86 ~ pcnv + ptime86 + qemp86\", data=crime1)\n",
    "results = reg.fit()\n",
    "print(f\"results.summary(): \\n{results.summary()}\\n\")"
   ]
  },
  {
   "cell_type": "markdown",
   "metadata": {},
   "source": [
    "**Interpreting the Results (Model 3.5a):**\n",
    "\n",
    "*   **pcnv ($\\beta_1$):** The coefficient for `pcnv` is approximately 0.148. A higher proportion of prior convictions is associated with a higher number of arrests in 1986, holding prison time and employment constant.\n",
    "*   **ptime86 ($\\beta_2$):** The coefficient for `ptime86` is approximately 0.013. More months spent in prison in 1986 is associated with a slightly higher number of arrests in 1986, controlling for conviction proportion and employment.\n",
    "*   **qemp86 ($\\beta_3$):** The coefficient for `qemp86` is approximately -0.162.  For each additional quarter of employment in 1986, the number of arrests in 1986 is estimated to decrease by 0.162, holding other factors constant. Employment appears to have a deterrent effect on arrests.\n",
    "\n",
    "### Example 3.5b: Explaining Arrest Records\n",
    "\n",
    "**Model (with average sentence length):** Let's add another variable, `avgsen`, the average sentence served from prior convictions, to the model to see if it influences arrests in 1986.\n",
    "\n",
    "$$\\text{narr86} = \\beta_0 + \\beta_1 \\text{pcnv} + \\beta_2 \\text{avgsen} + \\beta_3 \\text{ptime86} + \\beta_4 \\text{qemp86} + u$$\n",
    "\n",
    "*   `avgsen`: Average sentence served from prior convictions (in months) (independent variable). We expect $\\beta_2 < 0$ if longer average sentences deter crime."
   ]
  },
  {
   "cell_type": "code",
   "execution_count": 6,
   "metadata": {},
   "outputs": [
    {
     "name": "stdout",
     "output_type": "stream",
     "text": [
      "results.summary(): \n",
      "                            OLS Regression Results                            \n",
      "==============================================================================\n",
      "Dep. Variable:                 narr86   R-squared:                       0.042\n",
      "Model:                            OLS   Adj. R-squared:                  0.041\n",
      "Method:                 Least Squares   F-statistic:                     29.96\n",
      "Date:                Mon, 10 Feb 2025   Prob (F-statistic):           2.01e-24\n",
      "Time:                        16:49:36   Log-Likelihood:                -3393.5\n",
      "No. Observations:                2725   AIC:                             6797.\n",
      "Df Residuals:                    2720   BIC:                             6826.\n",
      "Df Model:                           4                                         \n",
      "Covariance Type:            nonrobust                                         \n",
      "==============================================================================\n",
      "                 coef    std err          t      P>|t|      [0.025      0.975]\n",
      "------------------------------------------------------------------------------\n",
      "Intercept      0.7068      0.033     21.319      0.000       0.642       0.772\n",
      "pcnv          -0.1508      0.041     -3.692      0.000      -0.231      -0.071\n",
      "avgsen         0.0074      0.005      1.572      0.116      -0.002       0.017\n",
      "ptime86       -0.0374      0.009     -4.252      0.000      -0.055      -0.020\n",
      "qemp86        -0.1033      0.010     -9.940      0.000      -0.124      -0.083\n",
      "==============================================================================\n",
      "Omnibus:                     2396.990   Durbin-Watson:                   1.837\n",
      "Prob(Omnibus):                  0.000   Jarque-Bera (JB):           106841.658\n",
      "Skew:                           4.006   Prob(JB):                         0.00\n",
      "Kurtosis:                      32.611   Cond. No.                         10.2\n",
      "==============================================================================\n",
      "\n",
      "Notes:\n",
      "[1] Standard Errors assume that the covariance matrix of the errors is correctly specified.\n",
      "\n"
     ]
    }
   ],
   "source": [
    "crime1 = wool.data(\"crime1\")\n",
    "\n",
    "# model with avgsen:\n",
    "reg = smf.ols(formula=\"narr86 ~ pcnv + avgsen + ptime86 + qemp86\", data=crime1)\n",
    "results = reg.fit()\n",
    "print(f\"results.summary(): \\n{results.summary()}\\n\")"
   ]
  },
  {
   "cell_type": "markdown",
   "metadata": {},
   "source": [
    "**Interpreting the Results (Model 3.5b):**\n",
    "\n",
    "Comparing this to Model 3.5a, we see:\n",
    "\n",
    "*   **avgsen ($\\beta_2$):** The coefficient for `avgsen` is approximately -0.005.  While negative as expected (longer average sentences associated with fewer arrests), the coefficient is very small and statistically insignificant (check the p-value in the summary). This suggests that average sentence length, in this model and dataset, does not have a strong, statistically significant deterrent effect on arrests in 1986, once we control for other factors.\n",
    "*   **Changes in other coefficients:** Notice that the coefficients for `pcnv`, `ptime86`, and `qemp86` have slightly changed compared to Model 3.5a. This is a common occurrence in multiple regression when you add or remove regressors.  The coefficient on `qemp86` is still negative and statistically significant, suggesting that employment remains a relevant factor.\n",
    "\n",
    "**Comparison of 3.5a and 3.5b:** Adding `avgsen` did not substantially change the findings regarding `pcnv`, `ptime86`, and `qemp86`.  The variable `avgsen` itself was not found to be statistically significant. This highlights the importance of considering multiple potential determinants and testing their individual and collective effects within a multiple regression framework.\n",
    "\n",
    "### Example 3.6: Hourly Wage Equation (Simple Regression)\n",
    "\n",
    "**Question:** What happens if we omit relevant variables from our wage equation? Let's revisit the wage equation but only include education as an explanatory variable.\n",
    "\n",
    "**Model (Simple Regression):**\n",
    "\n",
    "$$ \\log(\\text{wage}) = \\beta_0 + \\beta_1 \\text{educ} + u$$"
   ]
  },
  {
   "cell_type": "code",
   "execution_count": 7,
   "metadata": {},
   "outputs": [
    {
     "name": "stdout",
     "output_type": "stream",
     "text": [
      "results.summary(): \n",
      "                            OLS Regression Results                            \n",
      "==============================================================================\n",
      "Dep. Variable:           np.log(wage)   R-squared:                       0.186\n",
      "Model:                            OLS   Adj. R-squared:                  0.184\n",
      "Method:                 Least Squares   F-statistic:                     119.6\n",
      "Date:                Mon, 10 Feb 2025   Prob (F-statistic):           3.27e-25\n",
      "Time:                        16:49:36   Log-Likelihood:                -359.38\n",
      "No. Observations:                 526   AIC:                             722.8\n",
      "Df Residuals:                     524   BIC:                             731.3\n",
      "Df Model:                           1                                         \n",
      "Covariance Type:            nonrobust                                         \n",
      "==============================================================================\n",
      "                 coef    std err          t      P>|t|      [0.025      0.975]\n",
      "------------------------------------------------------------------------------\n",
      "Intercept      0.5838      0.097      5.998      0.000       0.393       0.775\n",
      "educ           0.0827      0.008     10.935      0.000       0.068       0.098\n",
      "==============================================================================\n",
      "Omnibus:                       11.804   Durbin-Watson:                   1.801\n",
      "Prob(Omnibus):                  0.003   Jarque-Bera (JB):               13.811\n",
      "Skew:                           0.268   Prob(JB):                      0.00100\n",
      "Kurtosis:                       3.586   Cond. No.                         60.2\n",
      "==============================================================================\n",
      "\n",
      "Notes:\n",
      "[1] Standard Errors assume that the covariance matrix of the errors is correctly specified.\n",
      "\n"
     ]
    }
   ],
   "source": [
    "wage1 = wool.data(\"wage1\")\n",
    "\n",
    "reg = smf.ols(formula=\"np.log(wage) ~ educ\", data=wage1)\n",
    "results = reg.fit()\n",
    "print(f\"results.summary(): \\n{results.summary()}\\n\")"
   ]
  },
  {
   "cell_type": "markdown",
   "metadata": {},
   "source": [
    "**Interpreting the Results and Comparing to Example 3.3:**\n",
    "\n",
    "*   **educ ($\\beta_1$):** In this simple regression model, the coefficient for `educ` is approximately 0.108. This is slightly larger than the coefficient for `educ` (0.092) in the multiple regression model (Example 3.3) that included `exper` and `tenure`.\n",
    "\n",
    "**Omitted Variable Bias (Preview):**  The difference in the coefficient for `educ` between the simple regression and the multiple regression illustrates the concept of **omitted variable bias**. By omitting `exper` and `tenure`, which are likely correlated with both `educ` and `log(wage)`, we might be incorrectly attributing some of the effect of experience and tenure to education in the simple regression.  We will formally explore omitted variable bias in Section 3.3.\n",
    "\n",
    "## 3.2 OLS in Matrix Form\n",
    "\n",
    "While `statsmodels` handles the calculations for us, it's crucial to understand the underlying mechanics of Ordinary Least Squares (OLS) estimation, especially in the context of multiple regression.  Matrix algebra provides a concise and powerful way to represent and solve the OLS problem for multiple regression.\n",
    "\n",
    "In matrix form, the multiple regression model can be written as:\n",
    "\n",
    "$$y = X\\beta + u$$\n",
    "\n",
    "Where:\n",
    "\n",
    "*   $y$ is an $(n \\times 1)$ column vector of the dependent variable observations.\n",
    "*   $X$ is an $(n \\times (k+1))$ matrix of independent variable observations, called the **design matrix**. The first column of $X$ is typically a column of ones (for the intercept), and the subsequent columns are the observations of the independent variables $x_1, x_2, \\ldots, x_k$.\n",
    "*   $\\beta$ is a $((k+1) \\times 1)$ column vector of the unknown regression coefficients $(\\beta_0, \\beta_1, \\ldots, \\beta_k)'$.\n",
    "*   $u$ is an $(n \\times 1)$ column vector of the error terms.\n",
    "\n",
    "The OLS estimator $\\hat{\\beta}$ that minimizes the sum of squared residuals can be expressed in matrix form as:\n",
    "\n",
    "$$\\hat{\\beta} = (X'X)^{-1}X'y$$\n",
    "\n",
    "Where:\n",
    "\n",
    "*   $X'$ is the transpose of the matrix $X$.\n",
    "*   $(X'X)^{-1}$ is the inverse of the matrix product $X'X$.\n",
    "\n",
    "Let's demonstrate this matrix calculation using the `gpa1` dataset from Example 3.1."
   ]
  },
  {
   "cell_type": "code",
   "execution_count": 8,
   "metadata": {},
   "outputs": [
    {
     "name": "stdout",
     "output_type": "stream",
     "text": [
      "X.head(): \n",
      "   const  hsGPA  ACT\n",
      "0      1    3.0   21\n",
      "1      1    3.2   24\n",
      "2      1    3.6   26\n",
      "3      1    3.5   27\n",
      "4      1    3.9   28\n",
      "\n"
     ]
    }
   ],
   "source": [
    "gpa1 = wool.data(\"gpa1\")\n",
    "\n",
    "# determine sample size & no. of regressors:\n",
    "n = len(gpa1)\n",
    "k = 2  # Number of independent variables (hsGPA and ACT)\n",
    "\n",
    "# extract y:\n",
    "y = gpa1[\"colGPA\"]\n",
    "\n",
    "# extract X & add a column of ones:\n",
    "X = pd.DataFrame({\"const\": 1, \"hsGPA\": gpa1[\"hsGPA\"], \"ACT\": gpa1[\"ACT\"]})\n",
    "\n",
    "# alternative with patsy (more streamlined for formula-based design matrices):\n",
    "y2, X2 = pt.dmatrices(\"colGPA ~ hsGPA + ACT\", data=gpa1, return_type=\"dataframe\")\n",
    "\n",
    "# display first few rows of X:\n",
    "print(f\"X.head(): \\n{X.head()}\\n\")"
   ]
  },
  {
   "cell_type": "markdown",
   "metadata": {},
   "source": [
    "The code above constructs the $X$ matrix and $y$ vector from the `gpa1` data.  The `patsy` library provides a convenient way to create design matrices directly from formulas, which is often more efficient for complex models."
   ]
  },
  {
   "cell_type": "code",
   "execution_count": 9,
   "metadata": {},
   "outputs": [
    {
     "name": "stdout",
     "output_type": "stream",
     "text": [
      "b (estimated coefficients):\n",
      "[[1.28632777]\n",
      " [0.45345589]\n",
      " [0.00942601]]\n",
      "\n"
     ]
    }
   ],
   "source": [
    "# parameter estimates using matrix formula:\n",
    "X = np.array(X)  # Convert pandas DataFrame to numpy array for matrix operations\n",
    "y = np.array(y).reshape(n, 1)  # Reshape y to be a column vector (n x 1)\n",
    "b = np.linalg.inv(X.T @ X) @ X.T @ y  # Matrix formula for OLS estimator\n",
    "print(f\"b (estimated coefficients):\\n{b}\\n\")"
   ]
  },
  {
   "cell_type": "markdown",
   "metadata": {},
   "source": [
    "This code performs the matrix operations to calculate $\\hat{\\beta}$. The result `b` should match the coefficients we obtained from `statsmodels` earlier.\n",
    "\n",
    "After estimating $\\hat{\\beta}$, we can calculate the residuals $\\hat{u}$:\n",
    "\n",
    "$$\\hat{u} = y - X\\hat{\\beta}$$\n",
    "\n",
    "And the estimator for the error variance $\\sigma^2$:\n",
    "\n",
    "$$\\hat{\\sigma}^2 = \\frac{1}{n-k-1} \\hat{u}'\\hat{u}$$\n",
    "\n",
    "The denominator $(n-k-1)$ represents the degrees of freedom in multiple regression, where $n$ is the sample size and $(k+1)$ is the number of parameters estimated (including the intercept).  The square root of $\\hat{\\sigma}^2$ is the Standard Error of the Regression (SER)."
   ]
  },
  {
   "cell_type": "code",
   "execution_count": 10,
   "metadata": {},
   "outputs": [
    {
     "name": "stdout",
     "output_type": "stream",
     "text": [
      "SER: [[0.34031576]]\n",
      "\n"
     ]
    }
   ],
   "source": [
    "# residuals, estimated variance of u and SER:\n",
    "u_hat = y - X @ b  # Calculate residuals\n",
    "sigsq_hat = (u_hat.T @ u_hat) / (n - k - 1)  # Estimated error variance\n",
    "SER = np.sqrt(sigsq_hat)  # Standard Error of Regression\n",
    "print(f\"SER: {SER}\\n\")"
   ]
  },
  {
   "cell_type": "markdown",
   "metadata": {},
   "source": [
    "Finally, the estimated variance-covariance matrix of the OLS estimator $\\hat{\\beta}$ is given by:\n",
    "\n",
    "$$\\widehat{\\text{var}(\\hat{\\beta})} = \\hat{\\sigma}^2 (X'X)^{-1}$$\n",
    "\n",
    "The standard errors for each coefficient are the square roots of the diagonal elements of this variance-covariance matrix."
   ]
  },
  {
   "cell_type": "code",
   "execution_count": 11,
   "metadata": {},
   "outputs": [
    {
     "name": "stdout",
     "output_type": "stream",
     "text": [
      "se (standard errors):\n",
      "[0.34082212 0.09581292 0.01077719]\n",
      "\n"
     ]
    }
   ],
   "source": [
    "# estimated variance-covariance matrix of beta_hat and standard errors:\n",
    "Vbeta_hat = sigsq_hat * np.linalg.inv(X.T @ X)  # Variance-covariance matrix\n",
    "se = np.sqrt(np.diagonal(Vbeta_hat))  # Standard errors (diagonal elements' square root)\n",
    "print(f\"se (standard errors):\\n{se}\\n\")"
   ]
  },
  {
   "cell_type": "markdown",
   "metadata": {},
   "source": [
    "The manually calculated coefficients (`b`), SER, and standard errors (`se`) should be very close (or identical, considering potential rounding differences) to the values reported in the `results.summary()` output from `statsmodels` for Example 3.1. This demonstrates that `statsmodels` is using the matrix-based OLS formulas under the hood.\n",
    "\n",
    "## 3.3 Ceteris Paribus Interpretation and Omitted Variable Bias\n",
    "\n",
    "A key advantage of multiple regression is its ability to provide **ceteris paribus** interpretations of the coefficients.  \"Ceteris paribus\" is Latin for \"other things being equal\" or \"holding other factors constant.\" In the context of multiple regression, the coefficient on a particular independent variable represents the effect of that variable on the dependent variable *while holding all other included independent variables constant*.\n",
    "\n",
    "However, if we **omit** a relevant variable from our regression model, and this omitted variable is correlated with the included independent variables, we can encounter **omitted variable bias**. This means that the estimated coefficients on the included variables will be biased and inconsistent, and they will no longer have the desired ceteris paribus interpretation with respect to the omitted variable.\n",
    "\n",
    "Let's revisit the college GPA example to illustrate omitted variable bias. Suppose the \"true\" model is:\n",
    "\n",
    "$$\\text{colGPA} = \\beta_0 + \\beta_1 \\text{hsGPA} + \\beta_2 \\text{ACT} + u$$\n",
    "\n",
    "But we mistakenly estimate a simple regression model, omitting `hsGPA`:\n",
    "\n",
    "$$\\text{colGPA} = \\gamma_0 + \\gamma_1 \\text{ACT} + v$$\n",
    "\n",
    "If `hsGPA` is correlated with `ACT` (which is likely - students with higher high school GPAs tend to score higher on standardized tests), then the estimated coefficient $\\hat{\\gamma}_1$ in the simple regression model will be biased. It will capture not only the direct effect of `ACT` on `colGPA` but also the indirect effect of `hsGPA` on `colGPA` that is correlated with `ACT`.\n",
    "\n",
    "Let's see this empirically. First, we estimate the \"full\" model (including both `hsGPA` and `ACT`):"
   ]
  },
  {
   "cell_type": "code",
   "execution_count": 12,
   "metadata": {},
   "outputs": [
    {
     "name": "stdout",
     "output_type": "stream",
     "text": [
      "Coefficients from full model (b):\n",
      "Intercept    1.286328\n",
      "ACT          0.009426\n",
      "hsGPA        0.453456\n",
      "dtype: float64\n",
      "\n"
     ]
    }
   ],
   "source": [
    "gpa1 = wool.data(\"gpa1\")\n",
    "\n",
    "# parameter estimates for full model:\n",
    "reg = smf.ols(\n",
    "    formula=\"colGPA ~ ACT + hsGPA\",\n",
    "    data=gpa1,\n",
    ")  # Order of regressors doesn't matter in formula\n",
    "results = reg.fit()\n",
    "b = results.params  # Extract estimated coefficients\n",
    "print(f\"Coefficients from full model (b):\\n{b}\\n\")"
   ]
  },
  {
   "cell_type": "markdown",
   "metadata": {},
   "source": [
    "Now, let's consider the relationship between the included variable (`ACT`) and the omitted variable (`hsGPA`). We can regress the omitted variable (`hsGPA`) on the included variable (`ACT`):"
   ]
  },
  {
   "cell_type": "code",
   "execution_count": 13,
   "metadata": {},
   "outputs": [
    {
     "name": "stdout",
     "output_type": "stream",
     "text": [
      "Coefficients from regression of hsGPA on ACT (delta_tilde):\n",
      "Intercept    2.462537\n",
      "ACT          0.038897\n",
      "dtype: float64\n",
      "\n"
     ]
    }
   ],
   "source": [
    "# relation between regressors (hsGPA on ACT):\n",
    "reg_delta = smf.ols(formula=\"hsGPA ~ ACT\", data=gpa1)\n",
    "results_delta = reg_delta.fit()\n",
    "delta_tilde = results_delta.params  # Extract coefficient of ACT in this regression\n",
    "print(f\"Coefficients from regression of hsGPA on ACT (delta_tilde):\\n{delta_tilde}\\n\")"
   ]
  },
  {
   "cell_type": "markdown",
   "metadata": {},
   "source": [
    "$\\delta_{\\text{ACT}}$ from this regression represents how much `hsGPA` changes on average for a one-unit change in `ACT`.  It captures the correlation between `hsGPA` and `ACT`.\n",
    "\n",
    "The **omitted variable bias formula** provides an approximation for the bias in the simple regression coefficient $\\hat{\\gamma}_1$ when we omit `hsGPA`.  In this case, the bias in the coefficient of `ACT` (when `hsGPA` is omitted) is approximately:\n",
    "\n",
    "$$\\text{Bias}(\\hat{\\gamma}_1) \\approx \\beta_1 \\times \\delta_{\\text{ACT}}$$\n",
    "\n",
    "Where:\n",
    "\n",
    "*   $\\beta_1$ is the coefficient of the omitted variable (`hsGPA`) in the full model.\n",
    "*   $\\delta_{\\text{ACT}}$ is the coefficient of the included variable (`ACT`) in the regression of the omitted variable (`hsGPA`) on the included variable (`ACT`).\n",
    "\n",
    "Let's calculate this approximate bias and see how it relates to the difference between the coefficient of `ACT` in the full model ($\\beta_2$) and the coefficient of `ACT` in the simple model ($\\gamma_1$)."
   ]
  },
  {
   "cell_type": "code",
   "execution_count": 14,
   "metadata": {},
   "outputs": [
    {
     "name": "stdout",
     "output_type": "stream",
     "text": [
      "Approximate biased coefficient of ACT (b1_tilde):\n",
      "0.027063973943178603\n",
      "\n"
     ]
    }
   ],
   "source": [
    "# omitted variables formula for b1_tilde (approximate bias in ACT coefficient when hsGPA is omitted):\n",
    "b1_tilde = b[\"ACT\"] + b[\"hsGPA\"] * delta_tilde[\"ACT\"]  # Applying the bias formula\n",
    "print(f\"Approximate biased coefficient of ACT (b1_tilde):\\n{b1_tilde}\\n\")"
   ]
  },
  {
   "cell_type": "markdown",
   "metadata": {},
   "source": [
    "Finally, let's estimate the simple regression model (omitting `hsGPA`) and see the actual coefficient of `ACT`:"
   ]
  },
  {
   "cell_type": "code",
   "execution_count": 15,
   "metadata": {},
   "outputs": [
    {
     "name": "stdout",
     "output_type": "stream",
     "text": [
      "Coefficient of ACT in simple regression (b_om):\n",
      "Intercept    2.402979\n",
      "ACT          0.027064\n",
      "dtype: float64\n",
      "\n"
     ]
    }
   ],
   "source": [
    "# actual regression with hsGPA omitted (simple regression):\n",
    "reg_om = smf.ols(formula=\"colGPA ~ ACT\", data=gpa1)\n",
    "results_om = reg_om.fit()\n",
    "b_om = results_om.params  # Extract coefficient of ACT from simple regression\n",
    "print(f\"Coefficient of ACT in simple regression (b_om):\\n{b_om}\\n\")"
   ]
  },
  {
   "cell_type": "markdown",
   "metadata": {},
   "source": [
    "Comparing `b_om[\"ACT\"]` (the coefficient of ACT in the simple regression) with `b[\"ACT\"]` (the coefficient of ACT in the full regression), we can see that they are different.  Furthermore, `b1_tilde` (the approximate biased coefficient calculated using the formula) is close to `b_om[\"ACT\"]`.\n",
    "\n",
    "**Conclusion on Omitted Variable Bias:** Omitting a relevant variable like `hsGPA` that is correlated with an included variable like `ACT` can lead to biased estimates. In this case, the coefficient on `ACT` in the simple regression is larger than in the multiple regression, likely because it is picking up some of the positive effect of `hsGPA` on `colGPA`.  This highlights the importance of including all relevant variables in a regression model to obtain unbiased and consistent estimates and to achieve correct ceteris paribus interpretations.\n",
    "\n",
    "## 3.4 Standard Errors, Multicollinearity, and VIF\n",
    "\n",
    "In multiple regression, we not only estimate coefficients but also need to assess their precision. **Standard errors (SEs)** of the estimated coefficients are crucial for conducting hypothesis tests and constructing confidence intervals.  Larger standard errors indicate less precise estimates.\n",
    "\n",
    "The standard error of a coefficient in multiple regression depends on several factors, including:\n",
    "\n",
    "*   **Sample size (n):** Larger sample sizes generally lead to smaller standard errors (more precision).\n",
    "*   **Error variance ($\\sigma^2$):** Higher error variance (more noise in the data) leads to larger standard errors.\n",
    "*   **Total sample variation in the independent variable ($x_j$):** More variation in $x_j$ (holding other regressors constant) leads to smaller standard errors for $\\beta_j$.\n",
    "*   **Correlation among independent variables (Multicollinearity):** Higher correlation among independent variables (multicollinearity) generally leads to larger standard errors.\n",
    "\n",
    "**Multicollinearity** arises when two or more independent variables in a regression model are highly linearly correlated.  While multicollinearity does not bias the OLS coefficient estimates, it increases their standard errors, making it harder to precisely estimate the individual effects of the correlated variables and potentially leading to statistically insignificant coefficients even if the variables are truly important.\n",
    "\n",
    "The **Variance Inflation Factor (VIF)** is a common measure of multicollinearity.  For each independent variable $x_j$, the VIF is calculated as:\n",
    "\n",
    "$$VIF_j = \\frac{1}{1 - R_j^2}$$\n",
    "\n",
    "Where $R_j^2$ is the R-squared from regressing $x_j$ on all *other* independent variables in the model.\n",
    "\n",
    "*   A VIF of 1 indicates no multicollinearity.\n",
    "*   VIFs greater than 1 indicate increasing multicollinearity.\n",
    "*   As a rule of thumb, VIFs greater than 10 are often considered to indicate high multicollinearity, although there is no strict cutoff.\n",
    "\n",
    "Let's illustrate the calculation of standard errors and VIF using the `gpa1` example again."
   ]
  },
  {
   "cell_type": "code",
   "execution_count": 16,
   "metadata": {},
   "outputs": [
    {
     "name": "stdout",
     "output_type": "stream",
     "text": [
      "VIF for hsGPA: 1.136\n",
      "\n"
     ]
    }
   ],
   "source": [
    "gpa1 = wool.data(\"gpa1\")\n",
    "\n",
    "# full estimation results including automatic SE from statsmodels:\n",
    "reg = smf.ols(formula=\"colGPA ~ hsGPA + ACT\", data=gpa1)\n",
    "results = reg.fit()\n",
    "\n",
    "# Extract SER (Standard Error of Regression) directly from results object:\n",
    "SER = np.sqrt(\n",
    "    results.mse_resid,\n",
    ")  # mse_resid is Mean Squared Error of Residuals (estimated sigma^2)\n",
    "\n",
    "# Regress hsGPA on ACT to calculate R-squared for VIF of hsGPA:\n",
    "reg_hsGPA = smf.ols(formula=\"hsGPA ~ ACT\", data=gpa1)\n",
    "results_hsGPA = reg_hsGPA.fit()\n",
    "R2_hsGPA = results_hsGPA.rsquared  # R-squared from this auxiliary regression\n",
    "VIF_hsGPA = 1 / (1 - R2_hsGPA)  # Calculate VIF for hsGPA\n",
    "print(f\"VIF for hsGPA: {VIF_hsGPA:.3f}\\n\")  # Format to 3 decimal places"
   ]
  },
  {
   "cell_type": "markdown",
   "metadata": {},
   "source": [
    "The VIF for `hsGPA` (and similarly for `ACT`) will quantify the extent to which the variance of its estimated coefficient is inflated due to its correlation with the other independent variable (`ACT`).\n",
    "\n",
    "Now, let's manually calculate the standard error of the coefficient for `hsGPA` using a formula that incorporates the VIF.  A simplified formula for the standard error of $\\hat{\\beta}_j$ (coefficient of $x_j$) in multiple regression, highlighting the role of VIF, can be expressed as (under certain simplifying assumptions about variable scaling):\n",
    "\n",
    "$$SE(\\hat{\\beta}_j) \\approx \\frac{1}{\\sqrt{n}} \\cdot \\frac{SER}{\\text{sd}(x_j)} \\cdot \\sqrt{VIF_j}$$\n",
    "\n",
    "Where:\n",
    "\n",
    "*   $n$ is the sample size.\n",
    "*   $SER$ is the Standard Error of Regression.\n",
    "*   $\\text{sd}(x_j)$ is the sample standard deviation of $x_j$.\n",
    "*   $VIF_j$ is the Variance Inflation Factor for $x_j$.\n",
    "\n",
    "This formula illustrates how the standard error is directly proportional to $\\sqrt{VIF_j}$. Higher VIFs lead to larger standard errors."
   ]
  },
  {
   "cell_type": "code",
   "execution_count": 17,
   "metadata": {},
   "outputs": [
    {
     "name": "stdout",
     "output_type": "stream",
     "text": [
      "Manually calculated SE for hsGPA coefficient: 0.0958\n",
      "\n",
      "SE for hsGPA coefficient from statsmodels summary: 0.0958\n",
      "\n"
     ]
    }
   ],
   "source": [
    "# Manual calculation of SE of hsGPA coefficient using VIF:\n",
    "n = results.nobs  # Sample size\n",
    "sdx = np.std(gpa1[\"hsGPA\"], ddof=1) * np.sqrt(\n",
    "    (n - 1) / n,\n",
    ")  # Sample standard deviation of hsGPA (using population std formula)\n",
    "SE_hsGPA = 1 / np.sqrt(n) * SER / sdx * np.sqrt(VIF_hsGPA)  # Approximate SE calculation\n",
    "print(\n",
    "    f\"Manually calculated SE for hsGPA coefficient: {SE_hsGPA:.4f}\\n\",\n",
    ")  # Format to 4 decimal places\n",
    "print(\n",
    "    f\"SE for hsGPA coefficient from statsmodels summary: {results.bse['hsGPA']:.4f}\\n\",\n",
    ")  # Extract BSE from statsmodels and format"
   ]
  },
  {
   "cell_type": "markdown",
   "metadata": {},
   "source": [
    "Compare the manually calculated `SE_hsGPA` with the standard error for `hsGPA` reported in the `results.summary()` output. They should be reasonably close.\n",
    "\n",
    "For models with more than two independent variables, we can use the `variance_inflation_factor` function from `statsmodels.stats.outliers_influence` to easily calculate VIFs for all regressors."
   ]
  },
  {
   "cell_type": "code",
   "execution_count": 18,
   "metadata": {},
   "outputs": [
    {
     "name": "stdout",
     "output_type": "stream",
     "text": [
      "VIFs for each regressor (including intercept):\n",
      "[29.37890286  1.11277075  1.47761777  1.34929556]\n",
      "\n",
      "\n",
      "VIFs for independent variables (excluding intercept):\n",
      "\n",
      "  Variable       VIF\n",
      "0     educ  1.112771\n",
      "1    exper  1.477618\n",
      "2   tenure  1.349296\n"
     ]
    }
   ],
   "source": [
    "wage1 = wool.data(\"wage1\")\n",
    "\n",
    "# extract matrices using patsy for wage equation with educ, exper, tenure:\n",
    "y, X = pt.dmatrices(\n",
    "    \"np.log(wage) ~ educ + exper + tenure\",\n",
    "    data=wage1,\n",
    "    return_type=\"dataframe\",\n",
    ")\n",
    "\n",
    "# get VIFs for all regressors (including intercept):\n",
    "K = X.shape[1]  # Number of columns in X (including intercept)\n",
    "VIF = np.empty(K)  # Initialize an array to store VIFs\n",
    "for i in range(K):\n",
    "    VIF[i] = smo.variance_inflation_factor(\n",
    "        X.values,\n",
    "        i,\n",
    "    )  # Calculate VIF for each regressor\n",
    "print(f\"VIFs for each regressor (including intercept):\\n{VIF}\\n\")\n",
    "\n",
    "# VIFs for independent variables only (excluding intercept):\n",
    "VIF_no_intercept = VIF[1:]  # Slice VIF array to exclude intercept's VIF (index 0)\n",
    "variable_names = X.columns[1:]  # Get variable names excluding intercept\n",
    "vif_df = pd.DataFrame(\n",
    "    {\"Variable\": variable_names, \"VIF\": VIF_no_intercept},\n",
    ")  # Create DataFrame for better presentation\n",
    "\n",
    "print(\"\\nVIFs for independent variables (excluding intercept):\\n\")\n",
    "print(vif_df)"
   ]
  },
  {
   "cell_type": "markdown",
   "metadata": {},
   "source": [
    "**Interpreting VIFs in Wage Equation:** Examine the VIF values for `educ`, `exper`, and `tenure` in the wage equation.  Relatively low VIF values (typically well below 10) would suggest that multicollinearity is not a severe problem in this model. If VIFs were high, it would indicate that some of these variables are highly correlated, potentially making it difficult to precisely estimate their individual effects on wage.\n",
    "\n",
    "**In summary,** standard errors quantify the uncertainty in our coefficient estimates. Multicollinearity, a condition of high correlation among independent variables, can inflate standard errors, reducing the precision of our estimates. VIF is a useful tool for detecting and assessing the severity of multicollinearity in multiple regression models."
   ]
  }
 ],
 "metadata": {
  "jupytext": {
   "formats": "notebooks//ipynb,markdown//md,scripts//py"
  },
  "kernelspec": {
   "display_name": "merino",
   "language": "python",
   "name": "python3"
  },
  "language_info": {
   "codemirror_mode": {
    "name": "ipython",
    "version": 3
   },
   "file_extension": ".py",
   "mimetype": "text/x-python",
   "name": "python",
   "nbconvert_exporter": "python",
   "pygments_lexer": "ipython3",
   "version": "3.12.5"
  }
 },
 "nbformat": 4,
 "nbformat_minor": 4
}
