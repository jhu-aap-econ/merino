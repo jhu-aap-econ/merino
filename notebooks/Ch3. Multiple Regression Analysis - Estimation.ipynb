{
 "cells": [
  {
   "cell_type": "markdown",
   "metadata": {},
   "source": [
    "# 3. Multiple Regression Analysis: Estimation"
   ]
  },
  {
   "cell_type": "code",
   "execution_count": 1,
   "metadata": {},
   "outputs": [
    {
     "name": "stdout",
     "output_type": "stream",
     "text": [
      "Note: you may need to restart the kernel to use updated packages.\n"
     ]
    }
   ],
   "source": [
    "%pip install numpy pandas patsy statsmodels wooldridge -q"
   ]
  },
  {
   "cell_type": "code",
   "execution_count": 2,
   "metadata": {},
   "outputs": [],
   "source": [
    "import numpy as np\n",
    "import pandas as pd\n",
    "import patsy as pt\n",
    "import statsmodels.formula.api as smf\n",
    "import statsmodels.stats.outliers_influence as smo\n",
    "import wooldridge as wool"
   ]
  },
  {
   "cell_type": "markdown",
   "metadata": {},
   "source": [
    "## 3.1 Multiple Regression in Practice\n",
    "\n",
    "$$y = \\beta_0 + \\beta_1 x_1 + \\beta_2 x_2 +\\beta_3 x_3 + \\cdots + \\beta_k x_k + u$$\n",
    "\n",
    "### Example 3.1: Determinants of College GPA\n",
    "\n",
    "$$\\text{colGPA} = \\beta_0 + \\beta_1 \\text{hsGPA} + \\beta_2 \\text{ACT} + u$$"
   ]
  },
  {
   "cell_type": "code",
   "execution_count": 3,
   "metadata": {},
   "outputs": [
    {
     "name": "stdout",
     "output_type": "stream",
     "text": [
      "results.summary(): \n",
      "                            OLS Regression Results                            \n",
      "==============================================================================\n",
      "Dep. Variable:                 colGPA   R-squared:                       0.176\n",
      "Model:                            OLS   Adj. R-squared:                  0.164\n",
      "Method:                 Least Squares   F-statistic:                     14.78\n",
      "Date:                Mon, 16 Sep 2024   Prob (F-statistic):           1.53e-06\n",
      "Time:                        16:38:29   Log-Likelihood:                -46.573\n",
      "No. Observations:                 141   AIC:                             99.15\n",
      "Df Residuals:                     138   BIC:                             108.0\n",
      "Df Model:                           2                                         \n",
      "Covariance Type:            nonrobust                                         \n",
      "==============================================================================\n",
      "                 coef    std err          t      P>|t|      [0.025      0.975]\n",
      "------------------------------------------------------------------------------\n",
      "Intercept      1.2863      0.341      3.774      0.000       0.612       1.960\n",
      "hsGPA          0.4535      0.096      4.733      0.000       0.264       0.643\n",
      "ACT            0.0094      0.011      0.875      0.383      -0.012       0.031\n",
      "==============================================================================\n",
      "Omnibus:                        3.056   Durbin-Watson:                   1.885\n",
      "Prob(Omnibus):                  0.217   Jarque-Bera (JB):                2.469\n",
      "Skew:                           0.199   Prob(JB):                        0.291\n",
      "Kurtosis:                       2.488   Cond. No.                         298.\n",
      "==============================================================================\n",
      "\n",
      "Notes:\n",
      "[1] Standard Errors assume that the covariance matrix of the errors is correctly specified.\n",
      "\n"
     ]
    }
   ],
   "source": [
    "gpa1 = wool.data(\"gpa1\")\n",
    "\n",
    "reg = smf.ols(formula=\"colGPA ~ hsGPA + ACT\", data=gpa1)\n",
    "results = reg.fit()\n",
    "print(f\"results.summary(): \\n{results.summary()}\\n\")"
   ]
  },
  {
   "cell_type": "markdown",
   "metadata": {},
   "source": [
    "### Example 3.3 Hourly Wage Equation\n",
    "\n",
    "$$ \\log(\\text{wage}) = \\beta_0 + \\beta_1 \\text{educ} + \\beta_2 \\text{exper} + \\beta_3 \\text{tenure} + u$$"
   ]
  },
  {
   "cell_type": "code",
   "execution_count": 4,
   "metadata": {},
   "outputs": [
    {
     "name": "stdout",
     "output_type": "stream",
     "text": [
      "results.summary(): \n",
      "                            OLS Regression Results                            \n",
      "==============================================================================\n",
      "Dep. Variable:           np.log(wage)   R-squared:                       0.316\n",
      "Model:                            OLS   Adj. R-squared:                  0.312\n",
      "Method:                 Least Squares   F-statistic:                     80.39\n",
      "Date:                Mon, 16 Sep 2024   Prob (F-statistic):           9.13e-43\n",
      "Time:                        16:38:29   Log-Likelihood:                -313.55\n",
      "No. Observations:                 526   AIC:                             635.1\n",
      "Df Residuals:                     522   BIC:                             652.2\n",
      "Df Model:                           3                                         \n",
      "Covariance Type:            nonrobust                                         \n",
      "==============================================================================\n",
      "                 coef    std err          t      P>|t|      [0.025      0.975]\n",
      "------------------------------------------------------------------------------\n",
      "Intercept      0.2844      0.104      2.729      0.007       0.080       0.489\n",
      "educ           0.0920      0.007     12.555      0.000       0.078       0.106\n",
      "exper          0.0041      0.002      2.391      0.017       0.001       0.008\n",
      "tenure         0.0221      0.003      7.133      0.000       0.016       0.028\n",
      "==============================================================================\n",
      "Omnibus:                       11.534   Durbin-Watson:                   1.769\n",
      "Prob(Omnibus):                  0.003   Jarque-Bera (JB):               20.941\n",
      "Skew:                           0.021   Prob(JB):                     2.84e-05\n",
      "Kurtosis:                       3.977   Cond. No.                         135.\n",
      "==============================================================================\n",
      "\n",
      "Notes:\n",
      "[1] Standard Errors assume that the covariance matrix of the errors is correctly specified.\n",
      "\n"
     ]
    }
   ],
   "source": [
    "wage1 = wool.data(\"wage1\")\n",
    "\n",
    "reg = smf.ols(formula=\"np.log(wage) ~ educ + exper + tenure\", data=wage1)\n",
    "results = reg.fit()\n",
    "print(f\"results.summary(): \\n{results.summary()}\\n\")"
   ]
  },
  {
   "cell_type": "markdown",
   "metadata": {},
   "source": [
    "### Example 3.4: Participation in 401(k) Pension Plans\n",
    "\n",
    "$$ \\text{prate} = \\beta_0 + \\beta_1 \\text{mrate} + \\beta_2 \\text{age} + u$$"
   ]
  },
  {
   "cell_type": "code",
   "execution_count": 5,
   "metadata": {},
   "outputs": [
    {
     "name": "stdout",
     "output_type": "stream",
     "text": [
      "results.summary(): \n",
      "                            OLS Regression Results                            \n",
      "==============================================================================\n",
      "Dep. Variable:                  prate   R-squared:                       0.092\n",
      "Model:                            OLS   Adj. R-squared:                  0.091\n",
      "Method:                 Least Squares   F-statistic:                     77.79\n",
      "Date:                Mon, 16 Sep 2024   Prob (F-statistic):           6.67e-33\n",
      "Time:                        16:38:29   Log-Likelihood:                -6422.3\n",
      "No. Observations:                1534   AIC:                         1.285e+04\n",
      "Df Residuals:                    1531   BIC:                         1.287e+04\n",
      "Df Model:                           2                                         \n",
      "Covariance Type:            nonrobust                                         \n",
      "==============================================================================\n",
      "                 coef    std err          t      P>|t|      [0.025      0.975]\n",
      "------------------------------------------------------------------------------\n",
      "Intercept     80.1190      0.779    102.846      0.000      78.591      81.647\n",
      "mrate          5.5213      0.526     10.499      0.000       4.490       6.553\n",
      "age            0.2431      0.045      5.440      0.000       0.155       0.331\n",
      "==============================================================================\n",
      "Omnibus:                      375.579   Durbin-Watson:                   1.910\n",
      "Prob(Omnibus):                  0.000   Jarque-Bera (JB):              805.992\n",
      "Skew:                          -1.387   Prob(JB):                    9.57e-176\n",
      "Kurtosis:                       5.217   Cond. No.                         32.5\n",
      "==============================================================================\n",
      "\n",
      "Notes:\n",
      "[1] Standard Errors assume that the covariance matrix of the errors is correctly specified.\n",
      "\n"
     ]
    }
   ],
   "source": [
    "k401k = wool.data(\"401k\")\n",
    "\n",
    "reg = smf.ols(formula=\"prate ~ mrate + age\", data=k401k)\n",
    "results = reg.fit()\n",
    "print(f\"results.summary(): \\n{results.summary()}\\n\")"
   ]
  },
  {
   "cell_type": "markdown",
   "metadata": {},
   "source": [
    "### Example 3.5a: Explaining Arrest Records\n",
    "\n",
    "$$\\text{narr86} = \\beta_0 + \\beta_1 \\text{pcnv} + \\beta_2 \\text{ptime86} + \\beta_3 \\text{qemp86} + u$$"
   ]
  },
  {
   "cell_type": "code",
   "execution_count": 6,
   "metadata": {},
   "outputs": [
    {
     "name": "stdout",
     "output_type": "stream",
     "text": [
      "results.summary(): \n",
      "                            OLS Regression Results                            \n",
      "==============================================================================\n",
      "Dep. Variable:                 narr86   R-squared:                       0.041\n",
      "Model:                            OLS   Adj. R-squared:                  0.040\n",
      "Method:                 Least Squares   F-statistic:                     39.10\n",
      "Date:                Mon, 16 Sep 2024   Prob (F-statistic):           9.91e-25\n",
      "Time:                        16:38:29   Log-Likelihood:                -3394.7\n",
      "No. Observations:                2725   AIC:                             6797.\n",
      "Df Residuals:                    2721   BIC:                             6821.\n",
      "Df Model:                           3                                         \n",
      "Covariance Type:            nonrobust                                         \n",
      "==============================================================================\n",
      "                 coef    std err          t      P>|t|      [0.025      0.975]\n",
      "------------------------------------------------------------------------------\n",
      "Intercept      0.7118      0.033     21.565      0.000       0.647       0.776\n",
      "pcnv          -0.1499      0.041     -3.669      0.000      -0.230      -0.070\n",
      "ptime86       -0.0344      0.009     -4.007      0.000      -0.051      -0.018\n",
      "qemp86        -0.1041      0.010    -10.023      0.000      -0.124      -0.084\n",
      "==============================================================================\n",
      "Omnibus:                     2394.860   Durbin-Watson:                   1.836\n",
      "Prob(Omnibus):                  0.000   Jarque-Bera (JB):           106169.153\n",
      "Skew:                           4.002   Prob(JB):                         0.00\n",
      "Kurtosis:                      32.513   Cond. No.                         8.27\n",
      "==============================================================================\n",
      "\n",
      "Notes:\n",
      "[1] Standard Errors assume that the covariance matrix of the errors is correctly specified.\n",
      "\n"
     ]
    }
   ],
   "source": [
    "crime1 = wool.data(\"crime1\")\n",
    "\n",
    "# model without avgsen:\n",
    "reg = smf.ols(formula=\"narr86 ~ pcnv + ptime86 + qemp86\", data=crime1)\n",
    "results = reg.fit()\n",
    "print(f\"results.summary(): \\n{results.summary()}\\n\")"
   ]
  },
  {
   "cell_type": "markdown",
   "metadata": {},
   "source": [
    "### Example 3.5b: Explaining Arrest Records\n",
    "\n",
    "$$\\text{narr86} = \\beta_0 + \\beta_1 \\text{pcnv} + \\beta_2 \\text{avgsen} + \\beta_3 \\text{ptime86} + \\beta_4 \\text{qemp86} + u$$"
   ]
  },
  {
   "cell_type": "code",
   "execution_count": 7,
   "metadata": {},
   "outputs": [
    {
     "name": "stdout",
     "output_type": "stream",
     "text": [
      "results.summary(): \n",
      "                            OLS Regression Results                            \n",
      "==============================================================================\n",
      "Dep. Variable:                 narr86   R-squared:                       0.042\n",
      "Model:                            OLS   Adj. R-squared:                  0.041\n",
      "Method:                 Least Squares   F-statistic:                     29.96\n",
      "Date:                Mon, 16 Sep 2024   Prob (F-statistic):           2.01e-24\n",
      "Time:                        16:38:29   Log-Likelihood:                -3393.5\n",
      "No. Observations:                2725   AIC:                             6797.\n",
      "Df Residuals:                    2720   BIC:                             6826.\n",
      "Df Model:                           4                                         \n",
      "Covariance Type:            nonrobust                                         \n",
      "==============================================================================\n",
      "                 coef    std err          t      P>|t|      [0.025      0.975]\n",
      "------------------------------------------------------------------------------\n",
      "Intercept      0.7068      0.033     21.319      0.000       0.642       0.772\n",
      "pcnv          -0.1508      0.041     -3.692      0.000      -0.231      -0.071\n",
      "avgsen         0.0074      0.005      1.572      0.116      -0.002       0.017\n",
      "ptime86       -0.0374      0.009     -4.252      0.000      -0.055      -0.020\n",
      "qemp86        -0.1033      0.010     -9.940      0.000      -0.124      -0.083\n",
      "==============================================================================\n",
      "Omnibus:                     2396.990   Durbin-Watson:                   1.837\n",
      "Prob(Omnibus):                  0.000   Jarque-Bera (JB):           106841.658\n",
      "Skew:                           4.006   Prob(JB):                         0.00\n",
      "Kurtosis:                      32.611   Cond. No.                         10.2\n",
      "==============================================================================\n",
      "\n",
      "Notes:\n",
      "[1] Standard Errors assume that the covariance matrix of the errors is correctly specified.\n",
      "\n"
     ]
    }
   ],
   "source": [
    "crime1 = wool.data(\"crime1\")\n",
    "\n",
    "# model with avgsen:\n",
    "reg = smf.ols(formula=\"narr86 ~ pcnv + avgsen + ptime86 + qemp86\", data=crime1)\n",
    "results = reg.fit()\n",
    "print(f\"results.summary(): \\n{results.summary()}\\n\")"
   ]
  },
  {
   "cell_type": "markdown",
   "metadata": {},
   "source": [
    "### Example 3.6: Hourly Wage Equation\n",
    "\n",
    "$$ \\log(\\text{wage}) = \\beta_0 + \\beta_1 \\text{educ} + u$$"
   ]
  },
  {
   "cell_type": "code",
   "execution_count": 8,
   "metadata": {},
   "outputs": [
    {
     "name": "stdout",
     "output_type": "stream",
     "text": [
      "results.summary(): \n",
      "                            OLS Regression Results                            \n",
      "==============================================================================\n",
      "Dep. Variable:           np.log(wage)   R-squared:                       0.186\n",
      "Model:                            OLS   Adj. R-squared:                  0.184\n",
      "Method:                 Least Squares   F-statistic:                     119.6\n",
      "Date:                Mon, 16 Sep 2024   Prob (F-statistic):           3.27e-25\n",
      "Time:                        16:38:29   Log-Likelihood:                -359.38\n",
      "No. Observations:                 526   AIC:                             722.8\n",
      "Df Residuals:                     524   BIC:                             731.3\n",
      "Df Model:                           1                                         \n",
      "Covariance Type:            nonrobust                                         \n",
      "==============================================================================\n",
      "                 coef    std err          t      P>|t|      [0.025      0.975]\n",
      "------------------------------------------------------------------------------\n",
      "Intercept      0.5838      0.097      5.998      0.000       0.393       0.775\n",
      "educ           0.0827      0.008     10.935      0.000       0.068       0.098\n",
      "==============================================================================\n",
      "Omnibus:                       11.804   Durbin-Watson:                   1.801\n",
      "Prob(Omnibus):                  0.003   Jarque-Bera (JB):               13.811\n",
      "Skew:                           0.268   Prob(JB):                      0.00100\n",
      "Kurtosis:                       3.586   Cond. No.                         60.2\n",
      "==============================================================================\n",
      "\n",
      "Notes:\n",
      "[1] Standard Errors assume that the covariance matrix of the errors is correctly specified.\n",
      "\n"
     ]
    }
   ],
   "source": [
    "wage1 = wool.data(\"wage1\")\n",
    "\n",
    "reg = smf.ols(formula=\"np.log(wage) ~ educ\", data=wage1)\n",
    "results = reg.fit()\n",
    "print(f\"results.summary(): \\n{results.summary()}\\n\")"
   ]
  },
  {
   "cell_type": "markdown",
   "metadata": {},
   "source": [
    "## 3.2 OLS in Matrix Form\n",
    "\n",
    "$$\\hat{\\beta} = (X'X)^{-1}X'y$$"
   ]
  },
  {
   "cell_type": "code",
   "execution_count": 9,
   "metadata": {},
   "outputs": [
    {
     "name": "stdout",
     "output_type": "stream",
     "text": [
      "X.head(): \n",
      "   const  hsGPA  ACT\n",
      "0      1    3.0   21\n",
      "1      1    3.2   24\n",
      "2      1    3.6   26\n",
      "3      1    3.5   27\n",
      "4      1    3.9   28\n",
      "\n"
     ]
    }
   ],
   "source": [
    "gpa1 = wool.data(\"gpa1\")\n",
    "\n",
    "# determine sample size & no. of regressors:\n",
    "n = len(gpa1)\n",
    "k = 2\n",
    "\n",
    "# extract y:\n",
    "y = gpa1[\"colGPA\"]\n",
    "\n",
    "# extract X & add a column of ones:\n",
    "X = pd.DataFrame({\"const\": 1, \"hsGPA\": gpa1[\"hsGPA\"], \"ACT\": gpa1[\"ACT\"]})\n",
    "\n",
    "# alternative with patsy:\n",
    "y2, X2 = pt.dmatrices(\"colGPA ~ hsGPA + ACT\", data=gpa1, return_type=\"dataframe\")\n",
    "\n",
    "# display first rows of X:\n",
    "print(f\"X.head(): \\n{X.head()}\\n\")"
   ]
  },
  {
   "cell_type": "code",
   "execution_count": 10,
   "metadata": {},
   "outputs": [
    {
     "name": "stdout",
     "output_type": "stream",
     "text": [
      "b: \n",
      "[[1.28632777]\n",
      " [0.45345589]\n",
      " [0.00942601]]\n",
      "\n"
     ]
    }
   ],
   "source": [
    "# parameter estimates:\n",
    "X = np.array(X)\n",
    "y = np.array(y).reshape(n, 1)  # creates a row vector\n",
    "b = np.linalg.inv(X.T @ X) @ X.T @ y\n",
    "print(f\"b: \\n{b}\\n\")"
   ]
  },
  {
   "cell_type": "markdown",
   "metadata": {},
   "source": [
    "$$\\hat{u} = y - X\\hat{\\beta}$$\n",
    "\n",
    "$$\\hat{\\sigma}^2 = \\frac{1}{n-k-1} \\hat{u}'\\hat{u}$$"
   ]
  },
  {
   "cell_type": "code",
   "execution_count": 11,
   "metadata": {},
   "outputs": [
    {
     "name": "stdout",
     "output_type": "stream",
     "text": [
      "SER: [[0.34031576]]\n",
      "\n"
     ]
    }
   ],
   "source": [
    "# residuals, estimated variance of u and SER:\n",
    "u_hat = y - X @ b\n",
    "sigsq_hat = (u_hat.T @ u_hat) / (n - k - 1)\n",
    "SER = np.sqrt(sigsq_hat)\n",
    "print(f\"SER: {SER}\\n\")"
   ]
  },
  {
   "cell_type": "markdown",
   "metadata": {},
   "source": [
    "$$\\widehat{\\text{var}(\\hat{\\beta})} = \\hat{\\sigma}^2 (X'X)^{-1}$$"
   ]
  },
  {
   "cell_type": "code",
   "execution_count": 12,
   "metadata": {},
   "outputs": [
    {
     "name": "stdout",
     "output_type": "stream",
     "text": [
      "se: [0.34082212 0.09581292 0.01077719]\n",
      "\n"
     ]
    }
   ],
   "source": [
    "# estimated variance of the parameter estimators and SE:\n",
    "Vbeta_hat = sigsq_hat * np.linalg.inv(X.T @ X)\n",
    "se = np.sqrt(np.diagonal(Vbeta_hat))\n",
    "print(f\"se: {se}\\n\")"
   ]
  },
  {
   "cell_type": "markdown",
   "metadata": {},
   "source": [
    "## 3.3 Ceteris Paribus Interpretation and Omitted Variable Bias"
   ]
  },
  {
   "cell_type": "code",
   "execution_count": 13,
   "metadata": {},
   "outputs": [
    {
     "name": "stdout",
     "output_type": "stream",
     "text": [
      "b: \n",
      "Intercept    1.286328\n",
      "ACT          0.009426\n",
      "hsGPA        0.453456\n",
      "dtype: float64\n",
      "\n"
     ]
    }
   ],
   "source": [
    "gpa1 = wool.data(\"gpa1\")\n",
    "\n",
    "# parameter estimates for full and simple model:\n",
    "reg = smf.ols(formula=\"colGPA ~ ACT + hsGPA\", data=gpa1)\n",
    "results = reg.fit()\n",
    "b = results.params\n",
    "print(f\"b: \\n{b}\\n\")"
   ]
  },
  {
   "cell_type": "code",
   "execution_count": 14,
   "metadata": {},
   "outputs": [
    {
     "name": "stdout",
     "output_type": "stream",
     "text": [
      "delta_tilde: \n",
      "Intercept    2.462537\n",
      "ACT          0.038897\n",
      "dtype: float64\n",
      "\n"
     ]
    }
   ],
   "source": [
    "# relation between regressors:\n",
    "reg_delta = smf.ols(formula=\"hsGPA ~ ACT\", data=gpa1)\n",
    "results_delta = reg_delta.fit()\n",
    "delta_tilde = results_delta.params\n",
    "print(f\"delta_tilde: \\n{delta_tilde}\\n\")"
   ]
  },
  {
   "cell_type": "code",
   "execution_count": 15,
   "metadata": {},
   "outputs": [
    {
     "name": "stdout",
     "output_type": "stream",
     "text": [
      "b1_tilde:  \n",
      "0.027063973943178603\n",
      "\n"
     ]
    }
   ],
   "source": [
    "# omitted variables formula for b1_tilde:\n",
    "b1_tilde = b[\"ACT\"] + b[\"hsGPA\"] * delta_tilde[\"ACT\"]\n",
    "print(f\"b1_tilde:  \\n{b1_tilde}\\n\")"
   ]
  },
  {
   "cell_type": "code",
   "execution_count": 16,
   "metadata": {},
   "outputs": [
    {
     "name": "stdout",
     "output_type": "stream",
     "text": [
      "b_om: \n",
      "Intercept    2.402979\n",
      "ACT          0.027064\n",
      "dtype: float64\n",
      "\n"
     ]
    }
   ],
   "source": [
    "# actual regression with hsGPA omitted:\n",
    "reg_om = smf.ols(formula=\"colGPA ~ ACT\", data=gpa1)\n",
    "results_om = reg_om.fit()\n",
    "b_om = results_om.params\n",
    "print(f\"b_om: \\n{b_om}\\n\")"
   ]
  },
  {
   "cell_type": "markdown",
   "metadata": {},
   "source": [
    "## 3.4 Standard Errors, Multicollinearity, and VIF"
   ]
  },
  {
   "cell_type": "code",
   "execution_count": 17,
   "metadata": {},
   "outputs": [
    {
     "name": "stdout",
     "output_type": "stream",
     "text": [
      "VIF_hsGPA: 1.1358234481972784\n",
      "\n"
     ]
    }
   ],
   "source": [
    "gpa1 = wool.data(\"gpa1\")\n",
    "\n",
    "# full estimation results including automatic SE:\n",
    "reg = smf.ols(formula=\"colGPA ~ hsGPA + ACT\", data=gpa1)\n",
    "results = reg.fit()\n",
    "\n",
    "# extract SER (instead of calculation via residuals):\n",
    "SER = np.sqrt(results.mse_resid)\n",
    "\n",
    "# regressing hsGPA on ACT for calculation of R2 & VIF:\n",
    "reg_hsGPA = smf.ols(formula=\"hsGPA ~ ACT\", data=gpa1)\n",
    "results_hsGPA = reg_hsGPA.fit()\n",
    "R2_hsGPA = results_hsGPA.rsquared\n",
    "VIF_hsGPA = 1 / (1 - R2_hsGPA)\n",
    "print(f\"VIF_hsGPA: {VIF_hsGPA}\\n\")"
   ]
  },
  {
   "cell_type": "code",
   "execution_count": 18,
   "metadata": {},
   "outputs": [
    {
     "name": "stdout",
     "output_type": "stream",
     "text": [
      "SE_hsGPA: 0.09581291608057595\n",
      "\n"
     ]
    }
   ],
   "source": [
    "# manual calculation of SE of hsGPA coefficient:\n",
    "n = results.nobs\n",
    "sdx = np.std(gpa1[\"hsGPA\"], ddof=1) * np.sqrt((n - 1) / n)\n",
    "SE_hsGPA = 1 / np.sqrt(n) * SER / sdx * np.sqrt(VIF_hsGPA)\n",
    "print(f\"SE_hsGPA: {SE_hsGPA}\\n\")"
   ]
  },
  {
   "cell_type": "code",
   "execution_count": 19,
   "metadata": {},
   "outputs": [
    {
     "name": "stdout",
     "output_type": "stream",
     "text": [
      "VIF: \n",
      "[29.37890286  1.11277075  1.47761777  1.34929556]\n",
      "\n"
     ]
    }
   ],
   "source": [
    "wage1 = wool.data(\"wage1\")\n",
    "\n",
    "# extract matrices using patsy:\n",
    "y, X = pt.dmatrices(\n",
    "    \"np.log(wage) ~ educ + exper + tenure\",\n",
    "    data=wage1,\n",
    "    return_type=\"dataframe\",\n",
    ")\n",
    "\n",
    "# get VIF:\n",
    "K = X.shape[1]\n",
    "VIF = np.empty(K)\n",
    "for i in range(K):\n",
    "    VIF[i] = smo.variance_inflation_factor(X.values, i)\n",
    "print(f\"VIF: \\n{VIF}\\n\")"
   ]
  }
 ],
 "metadata": {
  "jupytext": {
   "formats": "notebooks//ipynb,markdown//md,scripts//py"
  },
  "kernelspec": {
   "display_name": "merino",
   "language": "python",
   "name": "python3"
  },
  "language_info": {
   "codemirror_mode": {
    "name": "ipython",
    "version": 3
   },
   "file_extension": ".py",
   "mimetype": "text/x-python",
   "name": "python",
   "nbconvert_exporter": "python",
   "pygments_lexer": "ipython3",
   "version": "3.12.5"
  }
 },
 "nbformat": 4,
 "nbformat_minor": 2
}
