{
 "cells": [
  {
   "cell_type": "markdown",
   "id": "325abb7b",
   "metadata": {},
   "source": [
    "# Chapter 11: Further Issues in Using OLS with Time Series Data\n",
    "\n",
    "Advanced time series regression requires careful attention to asymptotic theory, non-stationarity, and high persistence in economic data. This chapter extends the foundational concepts from Chapter 10, examining conditions under which OLS maintains desirable properties with time series data, characterizing highly persistent processes including random walks, and developing transformation methods such as first differencing to address non-stationarity and avoid spurious regression results.\n",
    "\n",
    "The development proceeds hierarchically through increasingly sophisticated concepts. We establish asymptotic properties of OLS under stationary and weakly dependent time series processes (Section 11.1), examine the implications of trending data and spurious regression problems (Section 11.2), characterize integrated processes of order one I(1) including random walks and their properties (Section 11.3), introduce first differencing as a transformation method to induce stationarity (Section 11.4), and analyze differenced regression models including interpretation of coefficients and dynamic multipliers (Section 11.5). Throughout, we emphasize both theoretical foundations and practical implementation using Python for macroeconomic applications."
   ]
  },
  {
   "cell_type": "code",
   "execution_count": 1,
   "id": "adf113d4",
   "metadata": {
    "execution": {
     "iopub.execute_input": "2025-10-19T23:51:02.110850Z",
     "iopub.status.busy": "2025-10-19T23:51:02.110747Z",
     "iopub.status.idle": "2025-10-19T23:51:02.114429Z",
     "shell.execute_reply": "2025-10-19T23:51:02.114130Z"
    }
   },
   "outputs": [],
   "source": [
    "# %pip install matplotlib numpy pandas statsmodels wooldridge scipy -q"
   ]
  },
  {
   "cell_type": "code",
   "execution_count": 2,
   "id": "d5189009",
   "metadata": {
    "execution": {
     "iopub.execute_input": "2025-10-19T23:51:02.115812Z",
     "iopub.status.busy": "2025-10-19T23:51:02.115722Z",
     "iopub.status.idle": "2025-10-19T23:51:03.375072Z",
     "shell.execute_reply": "2025-10-19T23:51:03.374774Z"
    }
   },
   "outputs": [],
   "source": [
    "import matplotlib.pyplot as plt\n",
    "import numpy as np\n",
    "import pandas as pd\n",
    "import statsmodels.formula.api as smf\n",
    "import wooldridge as wool\n",
    "from scipy import (\n",
    "    stats,  # Used here for generating random numbers from specific distributions\n",
    ")"
   ]
  },
  {
   "cell_type": "markdown",
   "metadata": {},
   "source": [
    "## 11.1 Asymptotics with Time Series\n",
    "\n",
    "The properties of OLS estimators (like consistency and asymptotic normality) rely on certain assumptions about the underlying time series processes. In time series, the assumption of random sampling (MLR.2/SLR.2) is replaced by assumptions about the **stationarity** and **weak dependence** of the series.\n",
    "\n",
    "**Key Time Series Assumptions:**\n",
    "\n",
    "*   **Stationarity (TS.1'):** A time series $\\{x_t\\}$ is (covariance) stationary if:\n",
    "    1. $E(x_t) = \\mu$ for all $t$ (constant mean)\n",
    "    2. $\\text{Var}(x_t) = \\sigma^2$ for all $t$ (constant variance)\n",
    "    3. $\\text{Cov}(x_t, x_{t-h})$ depends only on $h$, not on $t$ (autocovariances depend only on the time gap)\n",
    "    \n",
    "    Stationarity ensures the time series process is \"stable\" over time, with no trends or time-varying volatility. This replaces the cross-sectional random sampling assumption.\n",
    "\n",
    "*   **Weak Dependence (TS.2'):** A time series is weakly dependent if the correlation between observations diminishes sufficiently quickly as the time distance between them increases. Formally, $\\text{Corr}(x_t, x_{t+h}) \\to 0$ as $h \\to \\infty$ at a sufficiently fast rate.\n",
    "    \n",
    "    Weak dependence ensures that observations far apart in time are nearly independent. This is crucial for applying versions of the Law of Large Numbers and Central Limit Theorem to time series data.\n",
    "\n",
    "*   **Zero Conditional Mean (TS.3'):** $E(u_t|x_{t}, x_{t-1}, x_{t-2}, \\ldots) = 0$ for all $t$.\n",
    "    \n",
    "    This is the time series analog of MLR.4. It requires the error to be uncorrelated with current and all past values of regressors, but allows for correlation between $u_t$ and future $x$ values (weaker than strict exogeneity).\n",
    "\n",
    "**Asymptotic Properties:** Under appropriate stationarity, weak dependence, and zero conditional mean conditions (along with homoscedasticity for standard errors), OLS estimators in time series regressions are:\n",
    "- **Consistent:** $\\hat{\\beta}_j \\xrightarrow{p} \\beta_j$ as $T \\to \\infty$\n",
    "- **Asymptotically Normal:** $\\sqrt{T}(\\hat{\\beta}_j - \\beta_j) \\xrightarrow{d} N(0, \\sigma^2_{\\beta_j})$ as $T \\to \\infty$\n",
    "\n",
    "This allows for standard inference (t-tests, F-tests) with dependent time series data, provided the sample size $T$ is large enough. When serial correlation is present, standard errors must be corrected (see Chapter 12).\n",
    "\n",
    "### Example 11.4: Efficient Markets Hypothesis (EMH)\n",
    "\n",
    "The **Efficient Markets Hypothesis (EMH)**, in its weak form, suggests that current asset prices fully reflect all information contained in past price movements. A key implication is that past returns should not predict future returns. We can test this by regressing a stock return series on its own lagged values. If the EMH holds, the coefficients on the lagged returns should be zero.\n",
    "\n",
    "We use the `nyse` dataset containing daily returns for the New York Stock Exchange index."
   ]
  },
  {
   "cell_type": "code",
   "execution_count": 3,
   "metadata": {
    "execution": {
     "iopub.execute_input": "2025-10-19T23:51:03.376625Z",
     "iopub.status.busy": "2025-10-19T23:51:03.376490Z",
     "iopub.status.idle": "2025-10-19T23:51:03.396627Z",
     "shell.execute_reply": "2025-10-19T23:51:03.396356Z"
    }
   },
   "outputs": [
    {
     "data": {
      "text/html": [
       "<div>\n",
       "<style scoped>\n",
       "    .dataframe tbody tr th:only-of-type {\n",
       "        vertical-align: middle;\n",
       "    }\n",
       "\n",
       "    .dataframe tbody tr th {\n",
       "        vertical-align: top;\n",
       "    }\n",
       "\n",
       "    .dataframe thead th {\n",
       "        text-align: right;\n",
       "    }\n",
       "</style>\n",
       "<table border=\"1\" class=\"dataframe\">\n",
       "  <thead>\n",
       "    <tr style=\"text-align: right;\">\n",
       "      <th></th>\n",
       "      <th>b</th>\n",
       "      <th>se</th>\n",
       "      <th>t</th>\n",
       "      <th>pval</th>\n",
       "    </tr>\n",
       "  </thead>\n",
       "  <tbody>\n",
       "    <tr>\n",
       "      <th>Intercept</th>\n",
       "      <td>0.1796</td>\n",
       "      <td>0.0807</td>\n",
       "      <td>2.2248</td>\n",
       "      <td>0.0264</td>\n",
       "    </tr>\n",
       "    <tr>\n",
       "      <th>ret_lag1</th>\n",
       "      <td>0.0589</td>\n",
       "      <td>0.0380</td>\n",
       "      <td>1.5490</td>\n",
       "      <td>0.1218</td>\n",
       "    </tr>\n",
       "  </tbody>\n",
       "</table>\n",
       "</div>"
      ],
      "text/plain": [
       "                b      se       t    pval\n",
       "Intercept  0.1796  0.0807  2.2248  0.0264\n",
       "ret_lag1   0.0589  0.0380  1.5490  0.1218"
      ]
     },
     "execution_count": 3,
     "metadata": {},
     "output_type": "execute_result"
    }
   ],
   "source": [
    "# Load the NYSE daily returns data\n",
    "nyse = wool.data(\"nyse\")\n",
    "# Rename the 'return' column to 'ret' for convenience in formulas\n",
    "# Note: Wooldridge dataset 'nyse' has a column 'return', but 'return' is a python keyword.\n",
    "# Renaming avoids potential issues or needing Q() in formulas.\n",
    "nyse[\"ret\"] = nyse[\"return\"]\n",
    "\n",
    "# Create lagged variables for the return series up to 3 lags\n",
    "# lag 1: ret_{t-1}\n",
    "# lag 2: ret_{t-2}\n",
    "# lag 3: ret_{t-3}\n",
    "nyse[\"ret_lag1\"] = nyse[\"ret\"].shift(1)\n",
    "nyse[\"ret_lag2\"] = nyse[\"ret\"].shift(2)\n",
    "nyse[\"ret_lag3\"] = nyse[\"ret\"].shift(3)\n",
    "\n",
    "# Define and estimate three regression models:\n",
    "# Model 1: Regress ret_t on ret_{t-1}\n",
    "# Model 2: Regress ret_t on ret_{t-1} and ret_{t-2}\n",
    "# Model 3: Regress ret_t on ret_{t-1}, ret_{t-2}, and ret_{t-3}\n",
    "reg1 = smf.ols(formula=\"ret ~ ret_lag1\", data=nyse)\n",
    "reg2 = smf.ols(formula=\"ret ~ ret_lag1 + ret_lag2\", data=nyse)\n",
    "reg3 = smf.ols(formula=\"ret ~ ret_lag1 + ret_lag2 + ret_lag3\", data=nyse)\n",
    "\n",
    "# Fit the models\n",
    "results1 = reg1.fit()\n",
    "results2 = reg2.fit()\n",
    "results3 = reg3.fit()\n",
    "\n",
    "# Display regression results for Model 1\n",
    "table1 = pd.DataFrame(\n",
    "    {\n",
    "        \"b\": round(results1.params, 4),\n",
    "        \"se\": round(results1.bse, 4),\n",
    "        \"t\": round(results1.tvalues, 4),\n",
    "        \"pval\": round(results1.pvalues, 4),\n",
    "    },\n",
    ")\n",
    "# --- Regression 1: ret ~ ret_lag1 ---\n",
    "table1  # Display regression results\n",
    "\n",
    "# Interpretation (Model 1):\n",
    "# The coefficient on the first lag (ret_lag1) is 0.0589. While small, it is not statistically\n",
    "# significant (p-value = 0.122). This provides little evidence against the strict form of the EMH,\n",
    "# suggesting that knowing yesterday's return provides limited predictive power for today's return."
   ]
  },
  {
   "cell_type": "code",
   "execution_count": 4,
   "metadata": {
    "execution": {
     "iopub.execute_input": "2025-10-19T23:51:03.397886Z",
     "iopub.status.busy": "2025-10-19T23:51:03.397794Z",
     "iopub.status.idle": "2025-10-19T23:51:03.402047Z",
     "shell.execute_reply": "2025-10-19T23:51:03.401852Z"
    }
   },
   "outputs": [
    {
     "data": {
      "text/html": [
       "<div>\n",
       "<style scoped>\n",
       "    .dataframe tbody tr th:only-of-type {\n",
       "        vertical-align: middle;\n",
       "    }\n",
       "\n",
       "    .dataframe tbody tr th {\n",
       "        vertical-align: top;\n",
       "    }\n",
       "\n",
       "    .dataframe thead th {\n",
       "        text-align: right;\n",
       "    }\n",
       "</style>\n",
       "<table border=\"1\" class=\"dataframe\">\n",
       "  <thead>\n",
       "    <tr style=\"text-align: right;\">\n",
       "      <th></th>\n",
       "      <th>b</th>\n",
       "      <th>se</th>\n",
       "      <th>t</th>\n",
       "      <th>pval</th>\n",
       "    </tr>\n",
       "  </thead>\n",
       "  <tbody>\n",
       "    <tr>\n",
       "      <th>Intercept</th>\n",
       "      <td>0.1857</td>\n",
       "      <td>0.0812</td>\n",
       "      <td>2.2889</td>\n",
       "      <td>0.0224</td>\n",
       "    </tr>\n",
       "    <tr>\n",
       "      <th>ret_lag1</th>\n",
       "      <td>0.0603</td>\n",
       "      <td>0.0382</td>\n",
       "      <td>1.5799</td>\n",
       "      <td>0.1146</td>\n",
       "    </tr>\n",
       "    <tr>\n",
       "      <th>ret_lag2</th>\n",
       "      <td>-0.0381</td>\n",
       "      <td>0.0381</td>\n",
       "      <td>-0.9982</td>\n",
       "      <td>0.3185</td>\n",
       "    </tr>\n",
       "  </tbody>\n",
       "</table>\n",
       "</div>"
      ],
      "text/plain": [
       "                b      se       t    pval\n",
       "Intercept  0.1857  0.0812  2.2889  0.0224\n",
       "ret_lag1   0.0603  0.0382  1.5799  0.1146\n",
       "ret_lag2  -0.0381  0.0381 -0.9982  0.3185"
      ]
     },
     "execution_count": 4,
     "metadata": {},
     "output_type": "execute_result"
    }
   ],
   "source": [
    "# Display regression results for Model 2\n",
    "table2 = pd.DataFrame(\n",
    "    {\n",
    "        \"b\": round(results2.params, 4),\n",
    "        \"se\": round(results2.bse, 4),\n",
    "        \"t\": round(results2.tvalues, 4),\n",
    "        \"pval\": round(results2.pvalues, 4),\n",
    "    },\n",
    ")\n",
    "# --- Regression 2: ret ~ ret_lag1 + ret_lag2 ---\n",
    "table2  # Display regression results\n",
    "\n",
    "# Interpretation (Model 2):\n",
    "# Adding the second lag (ret_lag2), we see its coefficient (-0.0381) is not statistically\n",
    "# significant (p=0.319). The coefficient on the first lag remains similar (0.0603) and not significant (p=0.115).\n",
    "# An F-test for the joint significance of both lags would be appropriate here."
   ]
  },
  {
   "cell_type": "code",
   "execution_count": 5,
   "metadata": {
    "execution": {
     "iopub.execute_input": "2025-10-19T23:51:03.403250Z",
     "iopub.status.busy": "2025-10-19T23:51:03.403168Z",
     "iopub.status.idle": "2025-10-19T23:51:03.407607Z",
     "shell.execute_reply": "2025-10-19T23:51:03.407364Z"
    }
   },
   "outputs": [
    {
     "data": {
      "text/html": [
       "<div>\n",
       "<style scoped>\n",
       "    .dataframe tbody tr th:only-of-type {\n",
       "        vertical-align: middle;\n",
       "    }\n",
       "\n",
       "    .dataframe tbody tr th {\n",
       "        vertical-align: top;\n",
       "    }\n",
       "\n",
       "    .dataframe thead th {\n",
       "        text-align: right;\n",
       "    }\n",
       "</style>\n",
       "<table border=\"1\" class=\"dataframe\">\n",
       "  <thead>\n",
       "    <tr style=\"text-align: right;\">\n",
       "      <th></th>\n",
       "      <th>b</th>\n",
       "      <th>se</th>\n",
       "      <th>t</th>\n",
       "      <th>pval</th>\n",
       "    </tr>\n",
       "  </thead>\n",
       "  <tbody>\n",
       "    <tr>\n",
       "      <th>Intercept</th>\n",
       "      <td>0.1794</td>\n",
       "      <td>0.0816</td>\n",
       "      <td>2.1990</td>\n",
       "      <td>0.0282</td>\n",
       "    </tr>\n",
       "    <tr>\n",
       "      <th>ret_lag1</th>\n",
       "      <td>0.0614</td>\n",
       "      <td>0.0382</td>\n",
       "      <td>1.6056</td>\n",
       "      <td>0.1088</td>\n",
       "    </tr>\n",
       "    <tr>\n",
       "      <th>ret_lag2</th>\n",
       "      <td>-0.0403</td>\n",
       "      <td>0.0383</td>\n",
       "      <td>-1.0519</td>\n",
       "      <td>0.2932</td>\n",
       "    </tr>\n",
       "    <tr>\n",
       "      <th>ret_lag3</th>\n",
       "      <td>0.0307</td>\n",
       "      <td>0.0382</td>\n",
       "      <td>0.8038</td>\n",
       "      <td>0.4218</td>\n",
       "    </tr>\n",
       "  </tbody>\n",
       "</table>\n",
       "</div>"
      ],
      "text/plain": [
       "                b      se       t    pval\n",
       "Intercept  0.1794  0.0816  2.1990  0.0282\n",
       "ret_lag1   0.0614  0.0382  1.6056  0.1088\n",
       "ret_lag2  -0.0403  0.0383 -1.0519  0.2932\n",
       "ret_lag3   0.0307  0.0382  0.8038  0.4218"
      ]
     },
     "execution_count": 5,
     "metadata": {},
     "output_type": "execute_result"
    }
   ],
   "source": [
    "# Display regression results for Model 3\n",
    "table3 = pd.DataFrame(\n",
    "    {\n",
    "        \"b\": round(results3.params, 4),\n",
    "        \"se\": round(results3.bse, 4),\n",
    "        \"t\": round(results3.tvalues, 4),\n",
    "        \"pval\": round(results3.pvalues, 4),\n",
    "    },\n",
    ")\n",
    "# --- Regression 3: ret ~ ret_lag1 + ret_lag2 + ret_lag3 ---\n",
    "table3  # Display regression results\n",
    "\n",
    "# Interpretation (Model 3):\n",
    "# With three lags, none of the individual lag coefficients are statistically significant\n",
    "# at the 5% level (p-values are 0.109, 0.293, 0.422).\n",
    "# An F-test for joint significance (H0: coefficients on all three lags are zero) would\n",
    "# provide a more definitive test of predictability based on the first three lags.\n",
    "# Overall, the evidence for predictability based on multiple lags appears weak,\n",
    "# consistent with the EMH, although transaction costs might negate any small predictable patterns."
   ]
  },
  {
   "cell_type": "markdown",
   "metadata": {},
   "source": [
    "## 11.2 The Nature of Highly Persistent Time Series\n",
    "\n",
    "Many economic time series, particularly levels of variables like GDP, price indices, or asset prices, exhibit **high persistence**. This means that shocks (unexpected changes) have lasting effects, and the series tends to wander far from its mean over time. Such series are often non-stationary.\n",
    "\n",
    "A classic example of a highly persistent, non-stationary process is the **Random Walk**:\n",
    "$$ y_t = y_{t-1} + e_t $$\n",
    "where $e_t$ is a zero-mean, uncorrelated (often assumed independent) shock term (also called white noise). The value today is simply the value yesterday plus a random shock. This means the effect of a shock $e_t$ persists indefinitely in future values of $y$. Random walks are also called **unit root processes** or **integrated of order 1 (I(1))** processes.\n",
    "\n",
    "The following simulation generates and plots multiple realizations of a simple random walk ($y_0 = 0$)."
   ]
  },
  {
   "cell_type": "code",
   "execution_count": 6,
   "metadata": {
    "execution": {
     "iopub.execute_input": "2025-10-19T23:51:03.408710Z",
     "iopub.status.busy": "2025-10-19T23:51:03.408631Z",
     "iopub.status.idle": "2025-10-19T23:51:03.461998Z",
     "shell.execute_reply": "2025-10-19T23:51:03.461540Z"
    }
   },
   "outputs": [
    {
     "name": "stderr",
     "output_type": "stream",
     "text": [
      "/var/folders/rg/vmn_nq41613gkxt0_9spwzx80000gp/T/ipykernel_46711/1851794028.py:31: UserWarning: FigureCanvasAgg is non-interactive, and thus cannot be shown\n",
      "  plt.show()\n"
     ]
    }
   ],
   "source": [
    "# Set a seed for reproducibility of the random numbers\n",
    "np.random.seed(1234567)\n",
    "\n",
    "# Initialize the plot settings\n",
    "x_range = np.linspace(0, 50, num=51)  # Time periods 0 to 50\n",
    "plt.figure(figsize=(10, 6))  # Make the plot a bit larger\n",
    "plt.ylim([-18, 18])  # Set y-axis limits\n",
    "plt.xlim([0, 50])  # Set x-axis limits\n",
    "\n",
    "# Simulate and plot 30 independent random walk paths\n",
    "for r in range(30):\n",
    "    # Generate 51 standard normal shocks (mean 0, variance 1)\n",
    "    e = stats.norm.rvs(0, 1, size=51)\n",
    "\n",
    "    # Set the first shock to 0, implying y_0 = 0 (starting point)\n",
    "    e[0] = 0\n",
    "\n",
    "    # Create the random walk path by taking the cumulative sum of shocks\n",
    "    # y_t = e_1 + e_2 + ... + e_t (since y_0 = 0)\n",
    "    y = np.cumsum(e)\n",
    "\n",
    "    # Add the path to the plot with light grey color\n",
    "    plt.plot(x_range, y, color=\"lightgrey\", linestyle=\"-\")\n",
    "\n",
    "# Add a horizontal line at y=0 for reference\n",
    "plt.axhline(0, linewidth=2, linestyle=\"--\", color=\"black\")\n",
    "plt.ylabel(\"y (Value of the process)\")\n",
    "plt.xlabel(\"Time\")\n",
    "plt.title(\"Simulated Random Walk Processes (without drift)\")\n",
    "plt.grid(True, linestyle=\"--\", alpha=0.6)\n",
    "plt.show()\n",
    "\n",
    "# Observation: The paths wander widely and do not revert to a mean value (here, 0).\n",
    "# The variance increases over time. This illustrates the non-stationary nature of a random walk."
   ]
  },
  {
   "cell_type": "markdown",
   "id": "f8c4d982",
   "metadata": {},
   "source": [
    "A **Random Walk with Drift** includes a constant term ($\\alpha$), causing the series to trend upwards or downwards over time:\n",
    "$$ y_t = \\alpha + y_{t-1} + e_t $$\n",
    "Taking the cumulative sum, $y_t = y_0 + \\alpha t + \\sum_{i=1}^t e_i$. The series now has a linear time trend ($\\alpha t$) plus the random walk component.\n",
    "\n",
    "The next simulation shows random walks with a positive drift ($\\alpha = 2$)."
   ]
  },
  {
   "cell_type": "code",
   "execution_count": 7,
   "metadata": {
    "execution": {
     "iopub.execute_input": "2025-10-19T23:51:03.463352Z",
     "iopub.status.busy": "2025-10-19T23:51:03.463252Z",
     "iopub.status.idle": "2025-10-19T23:51:03.474809Z",
     "shell.execute_reply": "2025-10-19T23:51:03.474567Z"
    }
   },
   "outputs": [
    {
     "name": "stderr",
     "output_type": "stream",
     "text": [
      "/var/folders/rg/vmn_nq41613gkxt0_9spwzx80000gp/T/ipykernel_46711/30219128.py:38: UserWarning: FigureCanvasAgg is non-interactive, and thus cannot be shown\n",
      "  plt.show()\n"
     ]
    }
   ],
   "source": [
    "# Reset the seed for reproducibility\n",
    "np.random.seed(1234567)\n",
    "\n",
    "# Initialize plot settings\n",
    "x_range = np.linspace(0, 50, num=51)\n",
    "plt.figure(figsize=(10, 6))\n",
    "plt.ylim([0, 150])  # Adjusted ylim to accommodate drift\n",
    "plt.xlim([0, 50])\n",
    "\n",
    "# Simulate and plot 30 random walk paths with drift = 2\n",
    "for r in range(30):\n",
    "    # Generate standard normal shocks\n",
    "    e = stats.norm.rvs(0, 1, size=51)\n",
    "    e[0] = 0  # For y_0 = 0\n",
    "\n",
    "    # Create the random walk path with drift by summing shocks and adding the drift component\n",
    "    # y_t = y_0 + alpha*t + cumsum(e)\n",
    "    # Here, alpha = 2, y_0 = 0\n",
    "    y = np.cumsum(e) + 2 * x_range  # 2*x_range represents the drift term alpha*t\n",
    "\n",
    "    # Add path to plot\n",
    "    plt.plot(x_range, y, color=\"lightgrey\", linestyle=\"-\")\n",
    "\n",
    "# Plot the deterministic drift line y = 2*t for reference\n",
    "plt.plot(\n",
    "    x_range,\n",
    "    2 * x_range,\n",
    "    linewidth=2,\n",
    "    linestyle=\"--\",\n",
    "    color=\"black\",\n",
    "    label=\"Drift line (y=2t)\",\n",
    ")\n",
    "plt.ylabel(\"y (Value of the process)\")\n",
    "plt.xlabel(\"Time\")\n",
    "plt.title(\"Simulated Random Walk Processes with Drift (alpha=2)\")\n",
    "plt.legend()\n",
    "plt.grid(True, linestyle=\"--\", alpha=0.6)\n",
    "plt.show()\n",
    "\n",
    "# Observation: The paths now exhibit a clear upward trend, determined by the drift term (alpha=2).\n",
    "# They still wander randomly around this trend line due to the cumulative shocks.\n",
    "# This type of process is also non-stationary (I(1))."
   ]
  },
  {
   "cell_type": "markdown",
   "metadata": {},
   "source": [
    "## 11.3 Differences of Highly Persistent Time Series\n",
    "\n",
    "A key property of I(1) processes (like random walks with or without drift) is that their **first difference** is stationary (I(0)). The first difference, denoted $\\Delta y_t$, is simply the change in the series from one period to the next:\n",
    "$$ \\Delta y_t = y_t - y_{t-1} $$\n",
    "\n",
    "For a random walk $y_t = y_{t-1} + e_t$, the first difference is $\\Delta y_t = (y_{t-1} + e_t) - y_{t-1} = e_t$. Since $e_t$ is assumed to be white noise (stationary), the first difference $\\Delta y_t$ is stationary.\n",
    "\n",
    "For a random walk with drift $y_t = \\alpha + y_{t-1} + e_t$, the first difference is $\\Delta y_t = (\\alpha + y_{t-1} + e_t) - y_{t-1} = \\alpha + e_t$. This is also stationary, fluctuating around a mean of $\\alpha$.\n",
    "\n",
    "The following simulation shows the first differences of the random walks with drift generated previously."
   ]
  },
  {
   "cell_type": "code",
   "execution_count": 8,
   "metadata": {
    "execution": {
     "iopub.execute_input": "2025-10-19T23:51:03.476180Z",
     "iopub.status.busy": "2025-10-19T23:51:03.476095Z",
     "iopub.status.idle": "2025-10-19T23:51:03.488102Z",
     "shell.execute_reply": "2025-10-19T23:51:03.487835Z"
    }
   },
   "outputs": [
    {
     "name": "stderr",
     "output_type": "stream",
     "text": [
      "/var/folders/rg/vmn_nq41613gkxt0_9spwzx80000gp/T/ipykernel_46711/707192768.py:43: UserWarning: FigureCanvasAgg is non-interactive, and thus cannot be shown\n",
      "  plt.show()\n"
     ]
    }
   ],
   "source": [
    "# Reset the seed\n",
    "np.random.seed(1234567)\n",
    "\n",
    "# Initialize plot settings\n",
    "x_range = np.linspace(1, 50, num=50)  # Time periods 1 to 50 for the differences\n",
    "plt.figure(figsize=(10, 6))\n",
    "plt.ylim([-3, 7])  # Adjusted ylim based on alpha + e_t (mean 2)\n",
    "plt.xlim([0, 50])\n",
    "\n",
    "# Simulate and plot first differences of 30 random walks with drift = 2\n",
    "for r in range(30):\n",
    "    # Generate shocks e_1, ..., e_50 (we need 51 points for y, 50 for diff)\n",
    "    e = stats.norm.rvs(0, 1, size=51)\n",
    "    # No need to set e[0]=0 if we calculate y directly with drift\n",
    "    # Construct y_t = y_0 + alpha*t + cumsum(e), assume y_0=0, alpha=2\n",
    "    # A slightly more direct way to get the difference: Dy_t = alpha + e_t\n",
    "    # Note: the simulation below uses cumsum(2+e), which gives y_t = sum_{i=1}^t (2+e_i).\n",
    "    # Then Dy_t = y_t - y_{t-1} = (2+e_t). This is equivalent.\n",
    "    y = np.cumsum(\n",
    "        2 + e,\n",
    "    )  # Generates y_1, ..., y_51 with drift 2, starting implicitly from y_0=0\n",
    "\n",
    "    # Calculate the first difference: Delta y_t = y_t - y_{t-1} for t=1,...,50\n",
    "    # This gives 50 difference values.\n",
    "    Dy = y[1:51] - y[0:50]  # Difference uses elements 1 to 50 and 0 to 49\n",
    "\n",
    "    # Add the difference series to the plot\n",
    "    plt.plot(x_range, Dy, color=\"lightgrey\", linestyle=\"-\")\n",
    "\n",
    "# Add a horizontal line at the mean of the difference (alpha = 2)\n",
    "plt.axhline(\n",
    "    y=2,\n",
    "    linewidth=2,\n",
    "    linestyle=\"--\",\n",
    "    color=\"black\",\n",
    "    label=\"Mean difference (alpha=2)\",\n",
    ")\n",
    "plt.ylabel(\"Delta y (First Difference)\")\n",
    "plt.xlabel(\"Time\")\n",
    "plt.title(\"First Differences of Simulated Random Walks with Drift (alpha=2)\")\n",
    "plt.legend()\n",
    "plt.grid(True, linestyle=\"--\", alpha=0.6)\n",
    "plt.show()\n",
    "\n",
    "# Observation: The first difference series (Delta y) now appears stationary. The paths fluctuate\n",
    "# around a constant mean (alpha = 2) and do not exhibit the wandering behavior or trend seen\n",
    "# in the levels (y). The variance seems constant over time. This illustrates how differencing\n",
    "# can transform a non-stationary I(1) process into a stationary I(0) process."
   ]
  },
  {
   "cell_type": "markdown",
   "metadata": {},
   "source": [
    "## 11.4 Regression with First Differences\n",
    "\n",
    "Regressing one I(1) variable on another can lead to **spurious regression**: finding a statistically significant relationship (high R-squared, significant t-stats) even when the variables are truly unrelated, simply because both are trending over time due to their I(1) nature.\n",
    "\n",
    "One common approach to avoid spurious regression when dealing with I(1) variables is to estimate the regression model using **first differences**. If the original model is:\n",
    "$$ y_t = \\beta_0 + \\beta_1 x_t + u_t $$\n",
    "and both $y_t$ and $x_t$ are I(1), we can difference the equation to get:\n",
    "$$ \\Delta y_t = \\beta_1 \\Delta x_t + \\Delta u_t $$\n",
    "(Note: The intercept $\\beta_0$ differences out if it represents a constant level. If the original model included a time trend, differencing would result in a constant term in the differenced equation.)\n",
    "\n",
    "If $\\Delta y_t$ and $\\Delta x_t$ are stationary (I(0)), then OLS estimation of the differenced equation yields valid results. The coefficient $\\beta_1$ retains its interpretation as the effect of a change in $x$ on $y$.\n",
    "\n",
    "### Example 11.6: Fertility Equation\n",
    "\n",
    "Let's revisit the relationship between the general fertility rate (`gfr`) and the real value of the personal exemption (`pe`) from the `fertil3` dataset. Both `gfr` and `pe` might be I(1) processes. We estimate the relationship using first differences."
   ]
  },
  {
   "cell_type": "code",
   "execution_count": 9,
   "metadata": {
    "execution": {
     "iopub.execute_input": "2025-10-19T23:51:03.489408Z",
     "iopub.status.busy": "2025-10-19T23:51:03.489318Z",
     "iopub.status.idle": "2025-10-19T23:51:03.496905Z",
     "shell.execute_reply": "2025-10-19T23:51:03.496629Z"
    }
   },
   "outputs": [
    {
     "data": {
      "text/html": [
       "<div>\n",
       "<style scoped>\n",
       "    .dataframe tbody tr th:only-of-type {\n",
       "        vertical-align: middle;\n",
       "    }\n",
       "\n",
       "    .dataframe tbody tr th {\n",
       "        vertical-align: top;\n",
       "    }\n",
       "\n",
       "    .dataframe thead th {\n",
       "        text-align: right;\n",
       "    }\n",
       "</style>\n",
       "<table border=\"1\" class=\"dataframe\">\n",
       "  <thead>\n",
       "    <tr style=\"text-align: right;\">\n",
       "      <th></th>\n",
       "      <th>gfr</th>\n",
       "      <th>pe</th>\n",
       "      <th>gfr_diff1</th>\n",
       "      <th>pe_diff1</th>\n",
       "    </tr>\n",
       "  </thead>\n",
       "  <tbody>\n",
       "    <tr>\n",
       "      <th>1913</th>\n",
       "      <td>124.699997</td>\n",
       "      <td>0.00</td>\n",
       "      <td>NaN</td>\n",
       "      <td>NaN</td>\n",
       "    </tr>\n",
       "    <tr>\n",
       "      <th>1914</th>\n",
       "      <td>126.599998</td>\n",
       "      <td>0.00</td>\n",
       "      <td>1.900002</td>\n",
       "      <td>0.00</td>\n",
       "    </tr>\n",
       "    <tr>\n",
       "      <th>1915</th>\n",
       "      <td>125.000000</td>\n",
       "      <td>0.00</td>\n",
       "      <td>-1.599998</td>\n",
       "      <td>0.00</td>\n",
       "    </tr>\n",
       "    <tr>\n",
       "      <th>1916</th>\n",
       "      <td>123.400002</td>\n",
       "      <td>0.00</td>\n",
       "      <td>-1.599998</td>\n",
       "      <td>0.00</td>\n",
       "    </tr>\n",
       "    <tr>\n",
       "      <th>1917</th>\n",
       "      <td>121.000000</td>\n",
       "      <td>19.27</td>\n",
       "      <td>-2.400002</td>\n",
       "      <td>19.27</td>\n",
       "    </tr>\n",
       "  </tbody>\n",
       "</table>\n",
       "</div>"
      ],
      "text/plain": [
       "             gfr     pe  gfr_diff1  pe_diff1\n",
       "1913  124.699997   0.00        NaN       NaN\n",
       "1914  126.599998   0.00   1.900002      0.00\n",
       "1915  125.000000   0.00  -1.599998      0.00\n",
       "1916  123.400002   0.00  -1.599998      0.00\n",
       "1917  121.000000  19.27  -2.400002     19.27"
      ]
     },
     "execution_count": 9,
     "metadata": {},
     "output_type": "execute_result"
    }
   ],
   "source": [
    "# Load the fertil3 data\n",
    "fertil3 = wool.data(\"fertil3\")\n",
    "T = len(fertil3)\n",
    "\n",
    "# Define yearly time index\n",
    "fertil3.index = pd.date_range(start=\"1913\", periods=T, freq=\"YE\").year\n",
    "\n",
    "# Compute first differences of gfr and pe using pandas .diff() method\n",
    "# .diff(1) calculates the difference between an element and the previous element.\n",
    "fertil3[\"gfr_diff1\"] = fertil3[\"gfr\"].diff()\n",
    "fertil3[\"pe_diff1\"] = fertil3[\"pe\"].diff()\n",
    "\n",
    "# Display the first few rows showing the original variables and their differences\n",
    "# Note that the first row of the differenced variables will be NaN (Not a Number).\n",
    "# First few rows with differenced variables:\n",
    "# Display first few rows with differenced variables\n",
    "fertil3[[\"gfr\", \"pe\", \"gfr_diff1\", \"pe_diff1\"]].head()"
   ]
  },
  {
   "cell_type": "markdown",
   "id": "d578def7",
   "metadata": {},
   "source": [
    "Now, we regress the first difference of `gfr` on the first difference of `pe`. `statsmodels` automatically drops rows with NaN values, so the first observation is excluded."
   ]
  },
  {
   "cell_type": "code",
   "execution_count": 10,
   "metadata": {
    "execution": {
     "iopub.execute_input": "2025-10-19T23:51:03.498179Z",
     "iopub.status.busy": "2025-10-19T23:51:03.498096Z",
     "iopub.status.idle": "2025-10-19T23:51:03.504794Z",
     "shell.execute_reply": "2025-10-19T23:51:03.504515Z"
    }
   },
   "outputs": [
    {
     "data": {
      "text/html": [
       "<div>\n",
       "<style scoped>\n",
       "    .dataframe tbody tr th:only-of-type {\n",
       "        vertical-align: middle;\n",
       "    }\n",
       "\n",
       "    .dataframe tbody tr th {\n",
       "        vertical-align: top;\n",
       "    }\n",
       "\n",
       "    .dataframe thead th {\n",
       "        text-align: right;\n",
       "    }\n",
       "</style>\n",
       "<table border=\"1\" class=\"dataframe\">\n",
       "  <thead>\n",
       "    <tr style=\"text-align: right;\">\n",
       "      <th></th>\n",
       "      <th>b</th>\n",
       "      <th>se</th>\n",
       "      <th>t</th>\n",
       "      <th>pval</th>\n",
       "    </tr>\n",
       "  </thead>\n",
       "  <tbody>\n",
       "    <tr>\n",
       "      <th>Intercept</th>\n",
       "      <td>-0.7848</td>\n",
       "      <td>0.5020</td>\n",
       "      <td>-1.5632</td>\n",
       "      <td>0.1226</td>\n",
       "    </tr>\n",
       "    <tr>\n",
       "      <th>pe_diff1</th>\n",
       "      <td>-0.0427</td>\n",
       "      <td>0.0284</td>\n",
       "      <td>-1.5045</td>\n",
       "      <td>0.1370</td>\n",
       "    </tr>\n",
       "  </tbody>\n",
       "</table>\n",
       "</div>"
      ],
      "text/plain": [
       "                b      se       t    pval\n",
       "Intercept -0.7848  0.5020 -1.5632  0.1226\n",
       "pe_diff1  -0.0427  0.0284 -1.5045  0.1370"
      ]
     },
     "execution_count": 10,
     "metadata": {},
     "output_type": "execute_result"
    }
   ],
   "source": [
    "# Estimate the linear regression using first differences\n",
    "# Delta(gfr_t) = beta_0 + beta_1 * Delta(pe_t) + error_t\n",
    "# Note: The intercept here (beta_0) represents the average annual change in gfr\n",
    "# NOT accounted for by changes in pe. It captures any underlying linear trend in gfr.\n",
    "reg1 = smf.ols(formula=\"gfr_diff1 ~ pe_diff1\", data=fertil3)\n",
    "results1 = reg1.fit()\n",
    "\n",
    "# Display the regression results\n",
    "table1 = pd.DataFrame(\n",
    "    {\n",
    "        \"b\": round(results1.params, 4),\n",
    "        \"se\": round(results1.bse, 4),\n",
    "        \"t\": round(results1.tvalues, 4),\n",
    "        \"pval\": round(results1.pvalues, 4),\n",
    "    },\n",
    ")\n",
    "# --- Regression in First Differences: Delta(gfr) ~ Delta(pe) ---\n",
    "table1  # Display regression results\n",
    "\n",
    "# Interpretation (Differenced Model):\n",
    "# The coefficient on Delta(pe) (pe_diff1) is -0.0427 and is not statistically significant (p=0.137).\n",
    "# This suggests that a $1 increase in the change of the personal exemption from one year\n",
    "# to the next is associated with a decrease of about 0.04 points in the change of the\n",
    "# fertility rate in the same year. This differs from the results obtained using levels in Chapter 10,\n",
    "# highlighting how accounting for persistence can change conclusions.\n",
    "# The intercept (-0.7848) suggests a slight downward trend in gfr after accounting for changes in pe."
   ]
  },
  {
   "cell_type": "markdown",
   "id": "979c8937",
   "metadata": {},
   "source": [
    "We can also include lags of the differenced explanatory variable, similar to an FDL model but applied to differences."
   ]
  },
  {
   "cell_type": "code",
   "execution_count": 11,
   "metadata": {
    "execution": {
     "iopub.execute_input": "2025-10-19T23:51:03.506110Z",
     "iopub.status.busy": "2025-10-19T23:51:03.506025Z",
     "iopub.status.idle": "2025-10-19T23:51:03.513839Z",
     "shell.execute_reply": "2025-10-19T23:51:03.513576Z"
    }
   },
   "outputs": [
    {
     "data": {
      "text/html": [
       "<div>\n",
       "<style scoped>\n",
       "    .dataframe tbody tr th:only-of-type {\n",
       "        vertical-align: middle;\n",
       "    }\n",
       "\n",
       "    .dataframe tbody tr th {\n",
       "        vertical-align: top;\n",
       "    }\n",
       "\n",
       "    .dataframe thead th {\n",
       "        text-align: right;\n",
       "    }\n",
       "</style>\n",
       "<table border=\"1\" class=\"dataframe\">\n",
       "  <thead>\n",
       "    <tr style=\"text-align: right;\">\n",
       "      <th></th>\n",
       "      <th>b</th>\n",
       "      <th>se</th>\n",
       "      <th>t</th>\n",
       "      <th>pval</th>\n",
       "    </tr>\n",
       "  </thead>\n",
       "  <tbody>\n",
       "    <tr>\n",
       "      <th>Intercept</th>\n",
       "      <td>-0.9637</td>\n",
       "      <td>0.4678</td>\n",
       "      <td>-2.0602</td>\n",
       "      <td>0.0434</td>\n",
       "    </tr>\n",
       "    <tr>\n",
       "      <th>pe_diff1</th>\n",
       "      <td>-0.0362</td>\n",
       "      <td>0.0268</td>\n",
       "      <td>-1.3522</td>\n",
       "      <td>0.1810</td>\n",
       "    </tr>\n",
       "    <tr>\n",
       "      <th>pe_diff1_lag1</th>\n",
       "      <td>-0.0140</td>\n",
       "      <td>0.0276</td>\n",
       "      <td>-0.5070</td>\n",
       "      <td>0.6139</td>\n",
       "    </tr>\n",
       "    <tr>\n",
       "      <th>pe_diff1_lag2</th>\n",
       "      <td>0.1100</td>\n",
       "      <td>0.0269</td>\n",
       "      <td>4.0919</td>\n",
       "      <td>0.0001</td>\n",
       "    </tr>\n",
       "  </tbody>\n",
       "</table>\n",
       "</div>"
      ],
      "text/plain": [
       "                    b      se       t    pval\n",
       "Intercept     -0.9637  0.4678 -2.0602  0.0434\n",
       "pe_diff1      -0.0362  0.0268 -1.3522  0.1810\n",
       "pe_diff1_lag1 -0.0140  0.0276 -0.5070  0.6139\n",
       "pe_diff1_lag2  0.1100  0.0269  4.0919  0.0001"
      ]
     },
     "execution_count": 11,
     "metadata": {},
     "output_type": "execute_result"
    }
   ],
   "source": [
    "# Create lagged first differences of pe\n",
    "fertil3[\"pe_diff1_lag1\"] = fertil3[\"pe_diff1\"].shift(1)\n",
    "fertil3[\"pe_diff1_lag2\"] = fertil3[\"pe_diff1\"].shift(2)\n",
    "\n",
    "# Estimate the regression with current and lagged first differences of pe\n",
    "# Delta(gfr_t) = beta_0 + delta_0*Delta(pe_t) + delta_1*Delta(pe_{t-1}) + delta_2*Delta(pe_{t-2}) + error_t\n",
    "reg2 = smf.ols(\n",
    "    formula=\"gfr_diff1 ~ pe_diff1 + pe_diff1_lag1 + pe_diff1_lag2\",\n",
    "    data=fertil3,\n",
    ")\n",
    "results2 = reg2.fit()\n",
    "\n",
    "# Display the regression results\n",
    "table2 = pd.DataFrame(\n",
    "    {\n",
    "        \"b\": round(results2.params, 4),\n",
    "        \"se\": round(results2.bse, 4),\n",
    "        \"t\": round(results2.tvalues, 4),\n",
    "        \"pval\": round(results2.pvalues, 4),\n",
    "    },\n",
    ")\n",
    "# --- Regression with Lagged First Differences ---\n",
    "# Dependent Variable: Delta(gfr)\n",
    "table2  # Display regression results\n",
    "\n",
    "# Interpretation (Lagged Differences):\n",
    "# - The contemporaneous effect (pe_diff1) is -0.0362 (p=0.181), not significant.\n",
    "# - The first lag (pe_diff1_lag1) has a coefficient of -0.0140 (p=0.614), insignificant.\n",
    "# - The second lag (pe_diff1_lag2) has a coefficient of 0.1100 (p<0.001), highly significant.\n",
    "# These results suggest that changes in the personal exemption have a delayed effect on changes\n",
    "# in the fertility rate, with the strongest impact appearing two years later.\n",
    "# This differs from the FDL model in levels (Example 10.4), showing a positive effect at lag 2.\n",
    "# The Long-Run Propensity (LRP) in this differenced model would be estimated by summing the delta coefficients."
   ]
  },
  {
   "cell_type": "markdown",
   "id": "a6f838f3",
   "metadata": {},
   "source": [
    "This chapter established essential principles for applying OLS to time series: the critical importance of stationarity and weak dependence for valid asymptotic inference, the distinct characteristics of highly persistent integrated I(1) processes including random walks, and the use of first differencing as a systematic technique to induce stationarity and avoid spurious regression problems. These foundations prepare for more advanced time series methods in subsequent chapters."
   ]
  }
 ],
 "metadata": {
  "jupytext": {
   "formats": "notebooks//ipynb,markdown//md,scripts//py:percent"
  },
  "kernelspec": {
   "display_name": "merino",
   "language": "python",
   "name": "python3"
  },
  "language_info": {
   "codemirror_mode": {
    "name": "ipython",
    "version": 3
   },
   "file_extension": ".py",
   "mimetype": "text/x-python",
   "name": "python",
   "nbconvert_exporter": "python",
   "pygments_lexer": "ipython3",
   "version": "3.11.9"
  }
 },
 "nbformat": 4,
 "nbformat_minor": 2
}
