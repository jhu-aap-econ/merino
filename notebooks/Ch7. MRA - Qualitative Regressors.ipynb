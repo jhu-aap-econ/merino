{
 "cells": [
  {
   "cell_type": "markdown",
   "metadata": {},
   "source": [
    "# 7. Multiple Regression Analysis with Qualitative Regressors"
   ]
  },
  {
   "cell_type": "code",
   "execution_count": 61,
   "metadata": {},
   "outputs": [
    {
     "name": "stdout",
     "output_type": "stream",
     "text": [
      "Note: you may need to restart the kernel to use updated packages.\n"
     ]
    }
   ],
   "source": [
    "%pip install matplotlib numpy pandas statsmodels wooldridge -q"
   ]
  },
  {
   "cell_type": "code",
   "execution_count": 62,
   "id": "965e7d33",
   "metadata": {},
   "outputs": [],
   "source": [
    "import pandas as pd\n",
    "import statsmodels.api as sm\n",
    "import statsmodels.formula.api as smf\n",
    "import wooldridge as wool\n",
    "import numpy as np"
   ]
  },
  {
   "cell_type": "markdown",
   "id": "d1e06cf4",
   "metadata": {},
   "source": [
    "## 7.1 Linear Regression with Dummy Variables as Regressors\n",
    "\n",
    "### Example 7.1: Hourly Wage Equation"
   ]
  },
  {
   "cell_type": "code",
   "execution_count": 63,
   "id": "a86d9c78",
   "metadata": {},
   "outputs": [
    {
     "name": "stdout",
     "output_type": "stream",
     "text": [
      "table: \n",
      "                b      se        t    pval\n",
      "Intercept -1.5679  0.7246  -2.1640  0.0309\n",
      "female    -1.8109  0.2648  -6.8379  0.0000\n",
      "educ       0.5715  0.0493  11.5836  0.0000\n",
      "exper      0.0254  0.0116   2.1951  0.0286\n",
      "tenure     0.1410  0.0212   6.6632  0.0000\n",
      "\n"
     ]
    }
   ],
   "source": [
    "wage1 = wool.data(\"wage1\")\n",
    "\n",
    "reg = smf.ols(formula=\"wage ~ female + educ + exper + tenure\", data=wage1)\n",
    "results = reg.fit()\n",
    "\n",
    "# print regression table:\n",
    "table = pd.DataFrame(\n",
    "    {\n",
    "        \"b\": round(results.params, 4),\n",
    "        \"se\": round(results.bse, 4),\n",
    "        \"t\": round(results.tvalues, 4),\n",
    "        \"pval\": round(results.pvalues, 4),\n",
    "    },\n",
    ")\n",
    "print(f\"table: \\n{table}\\n\")"
   ]
  },
  {
   "cell_type": "markdown",
   "id": "48c2ac20",
   "metadata": {},
   "source": [
    "### Example 7.6: Log Hourly Wage Equation"
   ]
  },
  {
   "cell_type": "code",
   "execution_count": 64,
   "id": "17114ae0",
   "metadata": {},
   "outputs": [
    {
     "name": "stdout",
     "output_type": "stream",
     "text": [
      "table: \n",
      "                     b      se        t    pval\n",
      "Intercept       0.3214  0.1000   3.2135  0.0014\n",
      "married         0.2127  0.0554   3.8419  0.0001\n",
      "female         -0.1104  0.0557  -1.9797  0.0483\n",
      "married:female -0.3006  0.0718  -4.1885  0.0000\n",
      "educ            0.0789  0.0067  11.7873  0.0000\n",
      "exper           0.0268  0.0052   5.1118  0.0000\n",
      "I(exper ** 2)  -0.0005  0.0001  -4.8471  0.0000\n",
      "tenure          0.0291  0.0068   4.3016  0.0000\n",
      "I(tenure ** 2) -0.0005  0.0002  -2.3056  0.0215\n",
      "\n"
     ]
    }
   ],
   "source": [
    "wage1 = wool.data(\"wage1\")\n",
    "\n",
    "reg = smf.ols(\n",
    "    formula=\"np.log(wage) ~ married*female + educ + exper +\"\n",
    "    \"I(exper**2) + tenure + I(tenure**2)\",\n",
    "    data=wage1,\n",
    ")\n",
    "results = reg.fit()\n",
    "\n",
    "# print regression table:\n",
    "table = pd.DataFrame(\n",
    "    {\n",
    "        \"b\": round(results.params, 4),\n",
    "        \"se\": round(results.bse, 4),\n",
    "        \"t\": round(results.tvalues, 4),\n",
    "        \"pval\": round(results.pvalues, 4),\n",
    "    },\n",
    ")\n",
    "print(f\"table: \\n{table}\\n\")"
   ]
  },
  {
   "cell_type": "markdown",
   "id": "720c7656",
   "metadata": {},
   "source": [
    "## 7.2 Boolean variables"
   ]
  },
  {
   "cell_type": "code",
   "execution_count": 65,
   "id": "dc8f1463",
   "metadata": {},
   "outputs": [
    {
     "name": "stdout",
     "output_type": "stream",
     "text": [
      "table: \n",
      "                       b      se        t    pval\n",
      "Intercept        -1.5679  0.7246  -2.1640  0.0309\n",
      "isfemale[T.True] -1.8109  0.2648  -6.8379  0.0000\n",
      "educ              0.5715  0.0493  11.5836  0.0000\n",
      "exper             0.0254  0.0116   2.1951  0.0286\n",
      "tenure            0.1410  0.0212   6.6632  0.0000\n",
      "\n"
     ]
    }
   ],
   "source": [
    "wage1 = wool.data(\"wage1\")\n",
    "\n",
    "# regression with boolean variable:\n",
    "wage1[\"isfemale\"] = wage1[\"female\"] == 1\n",
    "reg = smf.ols(formula=\"wage ~ isfemale + educ + exper + tenure\", data=wage1)\n",
    "results = reg.fit()\n",
    "\n",
    "# print regression table:\n",
    "table = pd.DataFrame(\n",
    "    {\n",
    "        \"b\": round(results.params, 4),\n",
    "        \"se\": round(results.bse, 4),\n",
    "        \"t\": round(results.tvalues, 4),\n",
    "        \"pval\": round(results.pvalues, 4),\n",
    "    },\n",
    ")\n",
    "print(f\"table: \\n{table}\\n\")"
   ]
  },
  {
   "cell_type": "markdown",
   "id": "91f310f4",
   "metadata": {},
   "source": [
    "## 7.3 Categorical Variables"
   ]
  },
  {
   "cell_type": "code",
   "execution_count": 66,
   "id": "d7282dbf",
   "metadata": {},
   "outputs": [
    {
     "name": "stdout",
     "output_type": "stream",
     "text": [
      "freq_gender: \n",
      "col_0   count\n",
      "gender       \n",
      "female    245\n",
      "male      289\n",
      "\n",
      "freq_occupation: \n",
      "col_0       count\n",
      "oc               \n",
      "management     55\n",
      "office         97\n",
      "sales          38\n",
      "services       83\n",
      "technical     105\n",
      "worker        156\n",
      "\n"
     ]
    }
   ],
   "source": [
    "CPS1985 = pd.read_csv(\"../data/CPS1985.csv\")\n",
    "# rename variable to make outputs more compact:\n",
    "CPS1985[\"oc\"] = CPS1985[\"occupation\"]\n",
    "\n",
    "# table of categories and frequencies for two categorical variables:\n",
    "freq_gender = pd.crosstab(CPS1985[\"gender\"], columns=\"count\")\n",
    "print(f\"freq_gender: \\n{freq_gender}\\n\")\n",
    "\n",
    "freq_occupation = pd.crosstab(CPS1985[\"oc\"], columns=\"count\")\n",
    "print(f\"freq_occupation: \\n{freq_occupation}\\n\")"
   ]
  },
  {
   "cell_type": "code",
   "execution_count": 67,
   "metadata": {},
   "outputs": [
    {
     "name": "stdout",
     "output_type": "stream",
     "text": [
      "table: \n",
      "                         b      se       t    pval\n",
      "Intercept           0.9050  0.1717  5.2718  0.0000\n",
      "C(gender)[T.male]   0.2238  0.0423  5.2979  0.0000\n",
      "C(oc)[T.office]    -0.2073  0.0776 -2.6699  0.0078\n",
      "C(oc)[T.sales]     -0.3601  0.0936 -3.8455  0.0001\n",
      "C(oc)[T.services]  -0.3626  0.0818 -4.4305  0.0000\n",
      "C(oc)[T.technical] -0.0101  0.0740 -0.1363  0.8916\n",
      "C(oc)[T.worker]    -0.1525  0.0763 -1.9981  0.0462\n",
      "education           0.0759  0.0101  7.5449  0.0000\n",
      "experience          0.0119  0.0017  7.0895  0.0000\n",
      "\n"
     ]
    }
   ],
   "source": [
    "# directly using categorical variables in regression formula:\n",
    "reg = smf.ols(\n",
    "    formula=\"np.log(wage) ~ education +experience + C(gender) + C(oc)\",\n",
    "    data=CPS1985,\n",
    ")\n",
    "results = reg.fit()\n",
    "\n",
    "# print regression table:\n",
    "table = pd.DataFrame(\n",
    "    {\n",
    "        \"b\": round(results.params, 4),\n",
    "        \"se\": round(results.bse, 4),\n",
    "        \"t\": round(results.tvalues, 4),\n",
    "        \"pval\": round(results.pvalues, 4),\n",
    "    },\n",
    ")\n",
    "print(f\"table: \\n{table}\\n\")"
   ]
  },
  {
   "cell_type": "code",
   "execution_count": 68,
   "metadata": {},
   "outputs": [
    {
     "name": "stdout",
     "output_type": "stream",
     "text": [
      "table_newref: \n",
      "                                                  b      se       t    pval\n",
      "Intercept                                    1.1187  0.1765  6.3393  0.0000\n",
      "C(gender, Treatment(\"male\"))[T.female]      -0.2238  0.0423 -5.2979  0.0000\n",
      "C(oc, Treatment(\"technical\"))[T.management]  0.0101  0.0740  0.1363  0.8916\n",
      "C(oc, Treatment(\"technical\"))[T.office]     -0.1972  0.0678 -2.9082  0.0038\n",
      "C(oc, Treatment(\"technical\"))[T.sales]      -0.3500  0.0863 -4.0541  0.0001\n",
      "C(oc, Treatment(\"technical\"))[T.services]   -0.3525  0.0750 -4.7030  0.0000\n",
      "C(oc, Treatment(\"technical\"))[T.worker]     -0.1425  0.0705 -2.0218  0.0437\n",
      "education                                    0.0759  0.0101  7.5449  0.0000\n",
      "experience                                   0.0119  0.0017  7.0895  0.0000\n",
      "\n"
     ]
    }
   ],
   "source": [
    "# rerun regression with different reference category:\n",
    "reg_newref = smf.ols(\n",
    "    formula=\"np.log(wage) ~ education + experience + \"\n",
    "    'C(gender, Treatment(\"male\")) + '\n",
    "    'C(oc, Treatment(\"technical\"))',\n",
    "    data=CPS1985,\n",
    ")\n",
    "results_newref = reg_newref.fit()\n",
    "\n",
    "# print results:\n",
    "table_newref = pd.DataFrame(\n",
    "    {\n",
    "        \"b\": round(results_newref.params, 4),\n",
    "        \"se\": round(results_newref.bse, 4),\n",
    "        \"t\": round(results_newref.tvalues, 4),\n",
    "        \"pval\": round(results_newref.pvalues, 4),\n",
    "    },\n",
    ")\n",
    "print(f\"table_newref: \\n{table_newref}\\n\")"
   ]
  },
  {
   "cell_type": "markdown",
   "id": "bf984d8f",
   "metadata": {},
   "source": [
    "### 7.3.1 ANOVA Tables"
   ]
  },
  {
   "cell_type": "code",
   "execution_count": 69,
   "id": "da908f4a",
   "metadata": {},
   "outputs": [
    {
     "name": "stdout",
     "output_type": "stream",
     "text": [
      "table_reg: \n",
      "                              b      se       t    pval\n",
      "Intercept                0.9050  0.1717  5.2718  0.0000\n",
      "gender[T.male]           0.2238  0.0423  5.2979  0.0000\n",
      "occupation[T.office]    -0.2073  0.0776 -2.6699  0.0078\n",
      "occupation[T.sales]     -0.3601  0.0936 -3.8455  0.0001\n",
      "occupation[T.services]  -0.3626  0.0818 -4.4305  0.0000\n",
      "occupation[T.technical] -0.0101  0.0740 -0.1363  0.8916\n",
      "occupation[T.worker]    -0.1525  0.0763 -1.9981  0.0462\n",
      "education                0.0759  0.0101  7.5449  0.0000\n",
      "experience               0.0119  0.0017  7.0895  0.0000\n",
      "\n"
     ]
    }
   ],
   "source": [
    "CPS1985 = pd.read_csv(\"../data/CPS1985.csv\")\n",
    "\n",
    "# run regression:\n",
    "reg = smf.ols(\n",
    "    formula=\"np.log(wage) ~ education + experience + gender + occupation\",\n",
    "    data=CPS1985,\n",
    ")\n",
    "results = reg.fit()\n",
    "\n",
    "# print regression table:\n",
    "table_reg = pd.DataFrame(\n",
    "    {\n",
    "        \"b\": round(results.params, 4),\n",
    "        \"se\": round(results.bse, 4),\n",
    "        \"t\": round(results.tvalues, 4),\n",
    "        \"pval\": round(results.pvalues, 4),\n",
    "    },\n",
    ")\n",
    "print(f\"table_reg: \\n{table_reg}\\n\")"
   ]
  },
  {
   "cell_type": "code",
   "execution_count": 70,
   "metadata": {},
   "outputs": [
    {
     "name": "stdout",
     "output_type": "stream",
     "text": [
      "table_anova: \n",
      "                sum_sq     df          F        PR(>F)\n",
      "gender        5.414018    1.0  28.067296  1.727015e-07\n",
      "occupation    7.152529    5.0   7.416013  9.805485e-07\n",
      "education    10.980589    1.0  56.925450  2.010374e-13\n",
      "experience    9.695055    1.0  50.261001  4.365391e-12\n",
      "Residual    101.269451  525.0        NaN           NaN\n",
      "\n"
     ]
    }
   ],
   "source": [
    "# ANOVA table:\n",
    "table_anova = sm.stats.anova_lm(results, typ=2)\n",
    "print(f\"table_anova: \\n{table_anova}\\n\")"
   ]
  },
  {
   "cell_type": "markdown",
   "id": "c159ee07",
   "metadata": {},
   "source": [
    "## 7.4 Breaking a Numeric Variable Into Categories\n",
    "\n",
    "### Example 7.8: Effects of Law School Rankings on Starting Salaries"
   ]
  },
  {
   "cell_type": "code",
   "execution_count": 71,
   "id": "d63ca022",
   "metadata": {},
   "outputs": [
    {
     "name": "stdout",
     "output_type": "stream",
     "text": [
      "freq: \n",
      "col_0      count\n",
      "rc              \n",
      "(0,10]        10\n",
      "(10,25]       16\n",
      "(25,40]       13\n",
      "(40,60]       18\n",
      "(60,100]      37\n",
      "(100,175]     62\n",
      "\n"
     ]
    }
   ],
   "source": [
    "lawsch85 = wool.data(\"lawsch85\")\n",
    "\n",
    "# define cut points for the rank:\n",
    "cutpts = [0, 10, 25, 40, 60, 100, 175]\n",
    "\n",
    "# create categorical variable containing ranges for the rank:\n",
    "lawsch85[\"rc\"] = pd.cut(\n",
    "    lawsch85[\"rank\"],\n",
    "    bins=cutpts,\n",
    "    labels=[\"(0,10]\", \"(10,25]\", \"(25,40]\", \"(40,60]\", \"(60,100]\", \"(100,175]\"],\n",
    ")\n",
    "\n",
    "# display frequencies:\n",
    "freq = pd.crosstab(lawsch85[\"rc\"], columns=\"count\")\n",
    "print(f\"freq: \\n{freq}\\n\")"
   ]
  },
  {
   "cell_type": "code",
   "execution_count": 72,
   "metadata": {},
   "outputs": [
    {
     "name": "stdout",
     "output_type": "stream",
     "text": [
      "table_reg: \n",
      "                                                b      se        t    pval\n",
      "Intercept                                  9.1653  0.4114  22.2770  0.0000\n",
      "C(rc, Treatment(\"(100,175]\"))[T.(0,10]]    0.6996  0.0535  13.0780  0.0000\n",
      "C(rc, Treatment(\"(100,175]\"))[T.(10,25]]   0.5935  0.0394  15.0493  0.0000\n",
      "C(rc, Treatment(\"(100,175]\"))[T.(25,40]]   0.3751  0.0341  11.0054  0.0000\n",
      "C(rc, Treatment(\"(100,175]\"))[T.(40,60]]   0.2628  0.0280   9.3991  0.0000\n",
      "C(rc, Treatment(\"(100,175]\"))[T.(60,100]]  0.1316  0.0210   6.2540  0.0000\n",
      "LSAT                                       0.0057  0.0031   1.8579  0.0655\n",
      "GPA                                        0.0137  0.0742   0.1850  0.8535\n",
      "np.log(libvol)                             0.0364  0.0260   1.3976  0.1647\n",
      "np.log(cost)                               0.0008  0.0251   0.0335  0.9734\n",
      "\n"
     ]
    }
   ],
   "source": [
    "# run regression:\n",
    "reg = smf.ols(\n",
    "    formula='np.log(salary) ~ C(rc, Treatment(\"(100,175]\")) +'\n",
    "    \"LSAT + GPA + np.log(libvol) + np.log(cost)\",\n",
    "    data=lawsch85,\n",
    ")\n",
    "results = reg.fit()\n",
    "\n",
    "# print regression table:\n",
    "table_reg = pd.DataFrame(\n",
    "    {\n",
    "        \"b\": round(results.params, 4),\n",
    "        \"se\": round(results.bse, 4),\n",
    "        \"t\": round(results.tvalues, 4),\n",
    "        \"pval\": round(results.pvalues, 4),\n",
    "    },\n",
    ")\n",
    "print(f\"table_reg: \\n{table_reg}\\n\")"
   ]
  },
  {
   "cell_type": "code",
   "execution_count": 73,
   "metadata": {},
   "outputs": [
    {
     "name": "stdout",
     "output_type": "stream",
     "text": [
      "table_anova: \n",
      "                                 sum_sq     df          F        PR(>F)\n",
      "C(rc, Treatment(\"(100,175]\"))  1.868867    5.0  50.962988  1.174406e-28\n",
      "LSAT                           0.025317    1.0   3.451900  6.551320e-02\n",
      "GPA                            0.000251    1.0   0.034225  8.535262e-01\n",
      "np.log(libvol)                 0.014327    1.0   1.953419  1.646748e-01\n",
      "np.log(cost)                   0.000008    1.0   0.001120  9.733564e-01\n",
      "Residual                       0.924111  126.0        NaN           NaN\n",
      "\n"
     ]
    }
   ],
   "source": [
    "# ANOVA table:\n",
    "table_anova = sm.stats.anova_lm(results, typ=2)\n",
    "print(f\"table_anova: \\n{table_anova}\\n\")"
   ]
  },
  {
   "cell_type": "markdown",
   "id": "66b66fb0",
   "metadata": {},
   "source": [
    "## 7.5 Interactions and Differences in Regression Functions Across Groups"
   ]
  },
  {
   "cell_type": "code",
   "execution_count": 74,
   "id": "a9ef0007",
   "metadata": {},
   "outputs": [
    {
     "name": "stdout",
     "output_type": "stream",
     "text": [
      "table: \n",
      "                    b      se       t    pval\n",
      "Intercept      1.4808  0.2073  7.1422  0.0000\n",
      "female        -0.3535  0.4105 -0.8610  0.3898\n",
      "sat            0.0011  0.0002  5.8073  0.0000\n",
      "hsperc        -0.0085  0.0014 -6.1674  0.0000\n",
      "tothrs         0.0023  0.0009  2.7182  0.0069\n",
      "female:sat     0.0008  0.0004  1.9488  0.0521\n",
      "female:hsperc -0.0005  0.0032 -0.1739  0.8621\n",
      "female:tothrs -0.0001  0.0016 -0.0712  0.9433\n",
      "\n"
     ]
    }
   ],
   "source": [
    "gpa3 = wool.data(\"gpa3\")\n",
    "\n",
    "# model with full interactions with female dummy (only for spring data):\n",
    "reg = smf.ols(\n",
    "    formula=\"cumgpa ~ female * (sat + hsperc + tothrs)\",\n",
    "    data=gpa3,\n",
    "    subset=(gpa3[\"spring\"] == 1),\n",
    ")\n",
    "results = reg.fit()\n",
    "\n",
    "# print regression table:\n",
    "table = pd.DataFrame(\n",
    "    {\n",
    "        \"b\": round(results.params, 4),\n",
    "        \"se\": round(results.bse, 4),\n",
    "        \"t\": round(results.tvalues, 4),\n",
    "        \"pval\": round(results.pvalues, 4),\n",
    "    },\n",
    ")\n",
    "print(f\"table: \\n{table}\\n\")"
   ]
  },
  {
   "cell_type": "code",
   "execution_count": 75,
   "metadata": {},
   "outputs": [
    {
     "name": "stdout",
     "output_type": "stream",
     "text": [
      "fstat: 8.179111637044619\n",
      "\n",
      "fpval: 2.544637191829608e-06\n",
      "\n"
     ]
    }
   ],
   "source": [
    "# F-Test for H0 (the interaction coefficients of 'female' are zero):\n",
    "hypotheses = [\"female = 0\", \"female:sat = 0\", \"female:hsperc = 0\", \"female:tothrs = 0\"]\n",
    "ftest = results.f_test(hypotheses)\n",
    "fstat = ftest.statistic\n",
    "fpval = ftest.pvalue\n",
    "\n",
    "print(f\"fstat: {fstat}\\n\")\n",
    "print(f\"fpval: {fpval}\\n\")"
   ]
  },
  {
   "cell_type": "code",
   "execution_count": 76,
   "id": "a44fa6e8",
   "metadata": {},
   "outputs": [
    {
     "name": "stdout",
     "output_type": "stream",
     "text": [
      "table_m: \n",
      "                b      se       t    pval\n",
      "Intercept  1.4808  0.2060  7.1894  0.0000\n",
      "sat        0.0011  0.0002  5.8458  0.0000\n",
      "hsperc    -0.0085  0.0014 -6.2082  0.0000\n",
      "tothrs     0.0023  0.0009  2.7362  0.0066\n",
      "\n"
     ]
    }
   ],
   "source": [
    "gpa3 = wool.data(\"gpa3\")\n",
    "\n",
    "# estimate model for males (& spring data):\n",
    "reg_m = smf.ols(\n",
    "    formula=\"cumgpa ~ sat + hsperc + tothrs\",\n",
    "    data=gpa3,\n",
    "    subset=(gpa3[\"spring\"] == 1) & (gpa3[\"female\"] == 0),\n",
    ")\n",
    "results_m = reg_m.fit()\n",
    "\n",
    "# print regression table:\n",
    "table_m = pd.DataFrame(\n",
    "    {\n",
    "        \"b\": round(results_m.params, 4),\n",
    "        \"se\": round(results_m.bse, 4),\n",
    "        \"t\": round(results_m.tvalues, 4),\n",
    "        \"pval\": round(results_m.pvalues, 4),\n",
    "    },\n",
    ")\n",
    "print(f\"table_m: \\n{table_m}\\n\")"
   ]
  },
  {
   "cell_type": "code",
   "execution_count": 77,
   "metadata": {},
   "outputs": [
    {
     "name": "stdout",
     "output_type": "stream",
     "text": [
      "table_f: \n",
      "                b      se       t    pval\n",
      "Intercept  1.1273  0.3616  3.1176  0.0025\n",
      "sat        0.0018  0.0003  5.1950  0.0000\n",
      "hsperc    -0.0090  0.0029 -3.0956  0.0027\n",
      "tothrs     0.0022  0.0014  1.5817  0.1174\n",
      "\n"
     ]
    }
   ],
   "source": [
    "# estimate model for females (& spring data):\n",
    "reg_f = smf.ols(\n",
    "    formula=\"cumgpa ~ sat + hsperc + tothrs\",\n",
    "    data=gpa3,\n",
    "    subset=(gpa3[\"spring\"] == 1) & (gpa3[\"female\"] == 1),\n",
    ")\n",
    "results_f = reg_f.fit()\n",
    "\n",
    "# print regression table:\n",
    "table_f = pd.DataFrame(\n",
    "    {\n",
    "        \"b\": round(results_f.params, 4),\n",
    "        \"se\": round(results_f.bse, 4),\n",
    "        \"t\": round(results_f.tvalues, 4),\n",
    "        \"pval\": round(results_f.pvalues, 4),\n",
    "    },\n",
    ")\n",
    "print(f\"table_f: \\n{table_f}\\n\")"
   ]
  }
 ],
 "metadata": {
  "jupytext": {
   "formats": "notebooks//ipynb,markdown//md,scripts//py"
  },
  "kernelspec": {
   "display_name": "merino",
   "language": "python",
   "name": "python3"
  },
  "language_info": {
   "codemirror_mode": {
    "name": "ipython",
    "version": 3
   },
   "file_extension": ".py",
   "mimetype": "text/x-python",
   "name": "python",
   "nbconvert_exporter": "python",
   "pygments_lexer": "ipython3",
   "version": "3.12.5"
  }
 },
 "nbformat": 4,
 "nbformat_minor": 2
}
