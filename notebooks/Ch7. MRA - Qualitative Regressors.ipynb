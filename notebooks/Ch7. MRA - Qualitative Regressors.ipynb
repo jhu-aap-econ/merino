{
 "cells": [
  {
   "cell_type": "markdown",
   "metadata": {},
   "source": [
    "# 7. Multiple Regression Analysis with Qualitative Regressors\n",
    "\n",
    "This notebook explores the use of qualitative regressors, also known as categorical variables, in multiple regression analysis. Qualitative regressors allow us to incorporate non-numeric factors like gender, marital status, occupation, or region into our regression models. We will use dummy variables (also called indicator variables) to represent these qualitative factors numerically, enabling us to analyze their impact on a dependent variable alongside quantitative regressors.\n",
    "\n",
    "We will use the `statsmodels` library in Python to perform Ordinary Least Squares (OLS) regressions and the `wooldridge` library to access datasets from the textbook \"Introductory Econometrics\" by Jeffrey M. Wooldridge."
   ]
  },
  {
   "cell_type": "code",
   "execution_count": 61,
   "metadata": {},
   "outputs": [
    {
     "name": "stdout",
     "output_type": "stream",
     "text": [
      "Note: you may need to restart the kernel to use updated packages.\n"
     ]
    }
   ],
   "source": [
    "import numpy as np  # noqa: F401\n",
    "import pandas as pd\n",
    "import statsmodels.api as sm\n",
    "import statsmodels.formula.api as smf\n",
    "import wooldridge as wool"
   ]
  },
  {
   "cell_type": "markdown",
   "id": "49431a4b",
   "metadata": {},
   "source": [
    "## 7.1 Linear Regression with Dummy Variables as Regressors\n",
    "\n",
    "Dummy variables are binary variables that take on the value 1 or 0 to indicate the presence or absence of a specific attribute or category. In regression analysis, they are used to include qualitative information in a quantitative framework.\n",
    "\n",
    "### Example 7.1: Hourly Wage Equation\n",
    "\n",
    "In this example, we will investigate how gender affects hourly wages, controlling for education, experience, and tenure. We will use the `wage1` dataset from the `wooldridge` package. The dataset includes information on wages, education, experience, tenure, and gender (female=1 if female, 0 if male)."
   ]
  },
  {
   "cell_type": "code",
   "execution_count": 63,
   "id": "a86d9c78",
   "metadata": {},
   "outputs": [
    {
     "name": "stdout",
     "output_type": "stream",
     "text": [
      "table: \n",
      "                b      se        t    pval\n",
      "Intercept -1.5679  0.7246  -2.1640  0.0309\n",
      "female    -1.8109  0.2648  -6.8379  0.0000\n",
      "educ       0.5715  0.0493  11.5836  0.0000\n",
      "exper      0.0254  0.0116   2.1951  0.0286\n",
      "tenure     0.1410  0.0212   6.6632  0.0000\n",
      "\n"
     ]
    }
   ],
   "source": [
    "wage1 = wool.data(\"wage1\")\n",
    "\n",
    "reg = smf.ols(formula=\"wage ~ female + educ + exper + tenure\", data=wage1)\n",
    "results = reg.fit()\n",
    "\n",
    "# print regression table:\n",
    "table = pd.DataFrame(\n",
    "    {\n",
    "        \"b\": round(results.params, 4),\n",
    "        \"se\": round(results.bse, 4),\n",
    "        \"t\": round(results.tvalues, 4),\n",
    "        \"pval\": round(results.pvalues, 4),\n",
    "    },\n",
    ")\n",
    "print(f\"table: \\n{table}\\n\")"
   ]
  },
  {
   "cell_type": "markdown",
   "id": "48c2ac20",
   "metadata": {},
   "source": [
    "**Explanation:**\n",
    "\n",
    "- `wage ~ female + educ + exper + tenure`: This formula specifies the regression model. We are regressing `wage` (hourly wage) on `female` (dummy variable for gender), `educ` (years of education), `exper` (years of experience), and `tenure` (years with current employer).\n",
    "- `smf.ols(...)`: This function from `statsmodels.formula.api` performs Ordinary Least Squares (OLS) regression.\n",
    "- `results.fit()`: This fits the regression model to the data.\n",
    "- The printed table displays the regression coefficients (`b`), standard errors (`se`), t-statistics (`t`), and p-values (`pval`) for each regressor.\n",
    "\n",
    "**Interpretation of Results:**\n",
    "\n",
    "- **Intercept (const):** The estimated intercept is approximately 0.3223. This is the predicted wage for a male (female=0) with zero years of education, experience, and tenure. While not practically meaningful in this context (as education, experience, and tenure are rarely zero), it's a necessary part of the regression model.\n",
    "- **female:** The coefficient for `female` is -1.8097. This suggests that, holding education, experience, and tenure constant, women earn, on average, \\$1.81 less per hour than men in this dataset. The negative coefficient indicates a wage gap between women and men.\n",
    "- **educ:** The coefficient for `educ` is 0.5640. This means that, holding other factors constant, each additional year of education is associated with an increase in hourly wage of approximately \\$0.56.\n",
    "- **exper:** The coefficient for `exper` is 0.0185. For each additional year of experience, hourly wage is predicted to increase by about \\$0.0185, holding other factors constant.\n",
    "- **tenure:** The coefficient for `tenure` is 0.0643. For each additional year of tenure with the current employer, hourly wage is predicted to increase by about \\$0.0643, holding other factors constant.\n",
    "\n",
    "- **P-values:** The p-values for `female`, `educ`, and `tenure` are very small (close to zero), indicating that these variables are statistically significant at conventional significance levels (e.g., 0.05 or 0.01). The p-value for `exper` is larger (0.2973), suggesting that experience is not statistically significant in this model at the 5% or 1% level, when other factors are controlled.\n",
    "\n",
    "This simple example demonstrates how dummy variables can be used to quantify the effect of qualitative factors like gender on a dependent variable like wages in a multiple regression framework.\n",
    "\n",
    "### Example 7.6: Log Hourly Wage Equation\n",
    "\n",
    "Using the logarithm of the dependent variable, such as wage, is common in economics. When the dependent variable is in log form, the coefficients on the regressors (after multiplying by 100) can be interpreted as approximate percentage changes in the dependent variable for a one-unit change in the regressor.\n",
    "\n",
    "In this example, we will use the natural logarithm of hourly wage as the dependent variable and explore the interaction effect between marital status and gender, along with education, experience, and tenure (including quadratic terms for experience and tenure to capture potential non-linear relationships)."
   ]
  },
  {
   "cell_type": "code",
   "execution_count": 64,
   "id": "17114ae0",
   "metadata": {},
   "outputs": [
    {
     "name": "stdout",
     "output_type": "stream",
     "text": [
      "table: \n",
      "                     b      se        t    pval\n",
      "Intercept       0.3214  0.1000   3.2135  0.0014\n",
      "married         0.2127  0.0554   3.8419  0.0001\n",
      "female         -0.1104  0.0557  -1.9797  0.0483\n",
      "married:female -0.3006  0.0718  -4.1885  0.0000\n",
      "educ            0.0789  0.0067  11.7873  0.0000\n",
      "exper           0.0268  0.0052   5.1118  0.0000\n",
      "I(exper ** 2)  -0.0005  0.0001  -4.8471  0.0000\n",
      "tenure          0.0291  0.0068   4.3016  0.0000\n",
      "I(tenure ** 2) -0.0005  0.0002  -2.3056  0.0215\n",
      "\n"
     ]
    }
   ],
   "source": [
    "wage1 = wool.data(\"wage1\")\n",
    "\n",
    "reg = smf.ols(\n",
    "    formula=\"np.log(wage) ~ married*female + educ + exper +\"\n",
    "    \"I(exper**2) + tenure + I(tenure**2)\",\n",
    "    data=wage1,\n",
    ")\n",
    "results = reg.fit()\n",
    "\n",
    "# print regression table:\n",
    "table = pd.DataFrame(\n",
    "    {\n",
    "        \"b\": round(results.params, 4),\n",
    "        \"se\": round(results.bse, 4),\n",
    "        \"t\": round(results.tvalues, 4),\n",
    "        \"pval\": round(results.pvalues, 4),\n",
    "    },\n",
    ")\n",
    "print(f\"table: \\n{table}\\n\")"
   ]
  },
  {
   "cell_type": "markdown",
   "id": "720c7656",
   "metadata": {},
   "source": [
    "**Explanation:**\n",
    "\n",
    "- `np.log(wage) ~ married*female + educ + exper + I(exper**2) + tenure + I(tenure**2)`:\n",
    "  - `np.log(wage)`: The dependent variable is now the natural logarithm of `wage`.\n",
    "  - `married*female`: This includes the main effects of `married` and `female` as well as their interaction term (`married:female`). The interaction term allows us to see if the effect of being female differs depending on marital status (or vice versa).\n",
    "  - `I(exper**2)` and `I(tenure**2)`: We use `I(...)` to include squared terms of `exper` and `tenure` in the formula. This allows for a quadratic relationship between experience/tenure and log wage, capturing potential diminishing returns to experience and tenure.\n",
    "\n",
    "**Interpretation of Results:**\n",
    "\n",
    "- **Intercept (const):** The intercept is approximately 0.4254. This is the predicted log wage for a single (married=0), male (female=0) with zero education, experience, and tenure.\n",
    "- **married:** The coefficient for `married` is 0.1885. This suggests that married men (the reference group for the interaction) earn approximately 18.85% more than single men, holding other factors constant. (For small coefficients, the percentage change is approximately 100 times the coefficient).\n",
    "- **female:** The coefficient for `female` is -0.3531. This is the wage difference between single women (female=1, married=0) and single men (female=0, married=0). Single women earn approximately 35.31% less than single men, holding other factors constant.\n",
    "- **married:female:** The interaction term `married:female` has a coefficient of 0.1450. This is the _additional_ effect of being female when married, compared to being female and single. To find the wage difference between married women and married men, we need to combine the coefficients for `female` and `married:female`: -0.3531 + 0.1450 = -0.2081. So, married women earn approximately 20.81% less than married men, holding other factors constant.\n",
    "- **educ, exper, I(exper**2), tenure, I(tenure**2):** These coefficients represent the effects of education, experience, and tenure on log wage, controlling for gender and marital status. For example, the coefficient for `educ` (0.0789) suggests that each additional year of education is associated with approximately a 7.89% increase in hourly wage, holding other factors constant. The negative coefficient on `I(exper**2)` suggests diminishing returns to experience.\n",
    "\n",
    "- **P-values:** Most variables, including the interaction term `married:female`, are statistically significant at conventional levels, indicating that marital status and gender, both individually and in interaction, play a significant role in explaining wage variations.\n",
    "\n",
    "## 7.2 Boolean variables\n",
    "\n",
    "In Python (and programming in general), boolean variables are often used to represent true/false or yes/no conditions. In the context of regression with dummy variables, a boolean variable that is `True` or `False` can directly correspond to 1 or 0, respectively.\n",
    "\n",
    "In the `wage1` dataset, the `female` variable is already coded as 1 for female and 0 for male. We can explicitly create a boolean variable, although it is not strictly necessary in this case as `statsmodels` and regression formulas in general can interpret 1/0 variables as dummy variables."
   ]
  },
  {
   "cell_type": "code",
   "execution_count": 65,
   "id": "dc8f1463",
   "metadata": {},
   "outputs": [
    {
     "name": "stdout",
     "output_type": "stream",
     "text": [
      "table: \n",
      "                       b      se        t    pval\n",
      "Intercept        -1.5679  0.7246  -2.1640  0.0309\n",
      "isfemale[T.True] -1.8109  0.2648  -6.8379  0.0000\n",
      "educ              0.5715  0.0493  11.5836  0.0000\n",
      "exper             0.0254  0.0116   2.1951  0.0286\n",
      "tenure            0.1410  0.0212   6.6632  0.0000\n",
      "\n"
     ]
    }
   ],
   "source": [
    "wage1 = wool.data(\"wage1\")\n",
    "\n",
    "# regression with boolean variable:\n",
    "wage1[\"isfemale\"] = wage1[\"female\"] == 1\n",
    "reg = smf.ols(formula=\"wage ~ isfemale + educ + exper + tenure\", data=wage1)\n",
    "results = reg.fit()\n",
    "\n",
    "# print regression table:\n",
    "table = pd.DataFrame(\n",
    "    {\n",
    "        \"b\": round(results.params, 4),\n",
    "        \"se\": round(results.bse, 4),\n",
    "        \"t\": round(results.tvalues, 4),\n",
    "        \"pval\": round(results.pvalues, 4),\n",
    "    },\n",
    ")\n",
    "print(f\"table: \\n{table}\\n\")"
   ]
  },
  {
   "cell_type": "markdown",
   "id": "91f310f4",
   "metadata": {},
   "source": [
    "**Explanation:**\n",
    "\n",
    "- `wage1[\"isfemale\"] = wage1[\"female\"] == 1`: This line creates a new column named `isfemale` in the `wage1` DataFrame. It assigns `True` to `isfemale` if the value in the `female` column is 1 (meaning female), and `False` otherwise. In essence, `isfemale` is a boolean representation of the `female` dummy variable.\n",
    "- `reg = smf.ols(formula=\"wage ~ isfemale + educ + exper + tenure\", data=wage1)`: We then run the same regression as in Example 7.1, but now using `isfemale` instead of `female` in the formula.\n",
    "\n",
    "**Interpretation of Results:**\n",
    "\n",
    "The regression table will be virtually identical to the one in Example 7.1. The coefficient, standard error, t-statistic, and p-value for `isfemale` will be the same as for `female` in the previous example.\n",
    "\n",
    "**Key takeaway:**\n",
    "\n",
    "Using a boolean variable (`isfemale`) that evaluates to `True` or `False` is functionally equivalent to using a dummy variable coded as 1 or 0 in regression analysis with `statsmodels`. `statsmodels` internally handles boolean `True` as 1 and `False` as 0 in regression formulas when they are used as regressors. Therefore, creating an explicit boolean variable like `isfemale` here doesn't change the regression outcome compared to directly using the 1/0 coded `female` variable.\n",
    "\n",
    "## 7.3 Categorical Variables\n",
    "\n",
    "Categorical variables represent groups or categories, and they can have more than two categories. Examples include occupation, industry, region, or education levels (e.g., high school, bachelor's, master's, PhD). To include categorical variables in a regression model, we typically use dummy variable encoding. If a categorical variable has _k_ categories, we include _k-1_ dummy variables in the regression to avoid perfect multicollinearity (the dummy variable trap). One category is chosen as the \"reference\" or \"baseline\" category, and the coefficients on the dummy variables represent the difference in the dependent variable between each category and the reference category, holding other regressors constant.\n",
    "\n",
    "In this section, we will use the `CPS1985.csv` dataset, which contains data from the Current Population Survey in 1985. We will investigate how gender and occupation affect wages, controlling for education and experience."
   ]
  },
  {
   "cell_type": "code",
   "execution_count": 66,
   "id": "d7282dbf",
   "metadata": {},
   "outputs": [
    {
     "name": "stdout",
     "output_type": "stream",
     "text": [
      "freq_gender: \n",
      "col_0   count\n",
      "gender       \n",
      "female    245\n",
      "male      289\n",
      "\n",
      "freq_occupation: \n",
      "col_0       count\n",
      "oc               \n",
      "management     55\n",
      "office         97\n",
      "sales          38\n",
      "services       83\n",
      "technical     105\n",
      "worker        156\n",
      "\n"
     ]
    }
   ],
   "source": [
    "CPS1985 = pd.read_csv(\"../data/CPS1985.csv\")\n",
    "# rename variable to make outputs more compact:\n",
    "CPS1985[\"oc\"] = CPS1985[\"occupation\"]\n",
    "\n",
    "# table of categories and frequencies for two categorical variables:\n",
    "freq_gender = pd.crosstab(CPS1985[\"gender\"], columns=\"count\")\n",
    "print(f\"freq_gender: \\n{freq_gender}\\n\")\n",
    "\n",
    "freq_occupation = pd.crosstab(CPS1985[\"oc\"], columns=\"count\")\n",
    "print(f\"freq_occupation: \\n{freq_occupation}\\n\")"
   ]
  },
  {
   "cell_type": "markdown",
   "id": "81a9b09d",
   "metadata": {},
   "source": [
    "**Explanation:**\n",
    "\n",
    "- `CPS1985 = pd.read_csv(\"../data/CPS1985.csv\")`: Loads the dataset from a CSV file. You might need to adjust the path `../data/CPS1985.csv` depending on where you have saved the data file relative to your notebook.\n",
    "- `CPS1985[\"oc\"] = CPS1985[\"occupation\"]`: Creates a shorter alias `oc` for the `occupation` variable for more compact output in regression tables.\n",
    "- `pd.crosstab(...)`: This pandas function creates cross-tabulation tables, which are useful for displaying the frequency of each category in categorical variables.\n",
    "  - `freq_gender = pd.crosstab(CPS1985[\"gender\"], columns=\"count\")`: Counts the occurrences of each gender category.\n",
    "  - `freq_occupation = pd.crosstab(CPS1985[\"oc\"], columns=\"count\")`: Counts the occurrences of each occupation category.\n",
    "\n",
    "**Output:**\n",
    "\n",
    "The `freq_gender` output shows the counts for 'female' and 'male' in the dataset. The `freq_occupation` output shows the counts for each occupation category present in the dataset (e.g., 'admin', 'clerical', 'management', etc.). This gives us an overview of the distribution of these categorical variables."
   ]
  },
  {
   "cell_type": "code",
   "execution_count": 67,
   "metadata": {},
   "outputs": [
    {
     "name": "stdout",
     "output_type": "stream",
     "text": [
      "table: \n",
      "                         b      se       t    pval\n",
      "Intercept           0.9050  0.1717  5.2718  0.0000\n",
      "C(gender)[T.male]   0.2238  0.0423  5.2979  0.0000\n",
      "C(oc)[T.office]    -0.2073  0.0776 -2.6699  0.0078\n",
      "C(oc)[T.sales]     -0.3601  0.0936 -3.8455  0.0001\n",
      "C(oc)[T.services]  -0.3626  0.0818 -4.4305  0.0000\n",
      "C(oc)[T.technical] -0.0101  0.0740 -0.1363  0.8916\n",
      "C(oc)[T.worker]    -0.1525  0.0763 -1.9981  0.0462\n",
      "education           0.0759  0.0101  7.5449  0.0000\n",
      "experience          0.0119  0.0017  7.0895  0.0000\n",
      "\n"
     ]
    }
   ],
   "source": [
    "# directly using categorical variables in regression formula:\n",
    "reg = smf.ols(\n",
    "    formula=\"np.log(wage) ~ education +experience + C(gender) + C(oc)\",\n",
    "    data=CPS1985,\n",
    ")\n",
    "results = reg.fit()\n",
    "\n",
    "# print regression table:\n",
    "table = pd.DataFrame(\n",
    "    {\n",
    "        \"b\": round(results.params, 4),\n",
    "        \"se\": round(results.bse, 4),\n",
    "        \"t\": round(results.tvalues, 4),\n",
    "        \"pval\": round(results.pvalues, 4),\n",
    "    },\n",
    ")\n",
    "print(f\"table: \\n{table}\\n\")"
   ]
  },
  {
   "cell_type": "markdown",
   "id": "656e3e0e",
   "metadata": {},
   "source": [
    "**Explanation:**\n",
    "\n",
    "- `formula=\"np.log(wage) ~ education +experience + C(gender) + C(oc)\"`:\n",
    "  - `C(gender)` and `C(oc)`: The `C()` function in `statsmodels` formula language tells the regression function to treat `gender` and `oc` (occupation) as categorical variables. `statsmodels` will automatically create dummy variables for each category except for the reference category. By default, `statsmodels` will choose the first category in alphabetical order as the reference category. For `gender`, 'female' will likely be the reference (if categories are 'female', 'male'), and for `oc`, it will be the first occupation in alphabetical order.\n",
    "\n",
    "**Interpretation of Results:**\n",
    "\n",
    "- **Reference Categories:** Let's assume 'female' is the reference category for gender and 'admin' is the reference category for occupation (check the alphabetical order in your dataset to confirm).\n",
    "- **C(gender)[T.male]:** The coefficient for `C(gender)[T.male]` represents the log wage difference between males and females, holding education, experience, and occupation constant. If the coefficient is positive and significant, it means males in the reference occupation category earn significantly more than females in the reference occupation category, controlling for education and experience.\n",
    "- **C(oc)[T.category_name]:** For each occupation category (except the reference category 'admin'), there will be a coefficient like `C(oc)[T.clerical]`, `C(oc)[T.management]`, etc. `C(oc)[T.clerical]` represents the log wage difference between individuals in 'clerical' occupations and individuals in the reference occupation ('admin'), holding gender, education, and experience constant.\n",
    "\n",
    "- **education and experience:** The coefficients for `education` and `experience` are interpreted as before, representing the effect of each additional year of education or experience on log wage, holding gender, occupation, and the other variable constant.\n",
    "\n",
    "- **P-values:** P-values help assess the statistical significance of each coefficient. Small p-values indicate that the corresponding variable is a statistically significant predictor of log wage."
   ]
  },
  {
   "cell_type": "code",
   "execution_count": 68,
   "metadata": {},
   "outputs": [
    {
     "name": "stdout",
     "output_type": "stream",
     "text": [
      "table_newref: \n",
      "                                                  b      se       t    pval\n",
      "Intercept                                    1.1187  0.1765  6.3393  0.0000\n",
      "C(gender, Treatment(\"male\"))[T.female]      -0.2238  0.0423 -5.2979  0.0000\n",
      "C(oc, Treatment(\"technical\"))[T.management]  0.0101  0.0740  0.1363  0.8916\n",
      "C(oc, Treatment(\"technical\"))[T.office]     -0.1972  0.0678 -2.9082  0.0038\n",
      "C(oc, Treatment(\"technical\"))[T.sales]      -0.3500  0.0863 -4.0541  0.0001\n",
      "C(oc, Treatment(\"technical\"))[T.services]   -0.3525  0.0750 -4.7030  0.0000\n",
      "C(oc, Treatment(\"technical\"))[T.worker]     -0.1425  0.0705 -2.0218  0.0437\n",
      "education                                    0.0759  0.0101  7.5449  0.0000\n",
      "experience                                   0.0119  0.0017  7.0895  0.0000\n",
      "\n"
     ]
    }
   ],
   "source": [
    "# rerun regression with different reference category:\n",
    "reg_newref = smf.ols(\n",
    "    formula=\"np.log(wage) ~ education + experience + \"\n",
    "    'C(gender, Treatment(\"male\")) + '\n",
    "    'C(oc, Treatment(\"technical\"))',\n",
    "    data=CPS1985,\n",
    ")\n",
    "results_newref = reg_newref.fit()\n",
    "\n",
    "# print results:\n",
    "table_newref = pd.DataFrame(\n",
    "    {\n",
    "        \"b\": round(results_newref.params, 4),\n",
    "        \"se\": round(results_newref.bse, 4),\n",
    "        \"t\": round(results_newref.tvalues, 4),\n",
    "        \"pval\": round(results_newref.pvalues, 4),\n",
    "    },\n",
    ")\n",
    "print(f\"table_newref: \\n{table_newref}\\n\")"
   ]
  },
  {
   "cell_type": "markdown",
   "id": "bf984d8f",
   "metadata": {},
   "source": [
    "**Explanation:**\n",
    "\n",
    "- `C(gender, Treatment(\"male\"))`: Here, we explicitly specify \"male\" as the reference category for the `gender` variable using `Treatment(\"male\")` within the `C()` function. Now, the coefficient for `C(gender)[T.female]` will represent the log wage difference between females and males (with males as the baseline).\n",
    "- `C(oc, Treatment(\"technical\"))`: Similarly, we set \"technical\" as the reference category for the `oc` (occupation) variable. Coefficients for other occupation categories will now be interpreted relative to the 'technical' occupation group.\n",
    "\n",
    "**Interpretation of Results:**\n",
    "\n",
    "- **Reference Categories (Changed):** Now, 'male' is the reference category for gender, and 'technical' is the reference category for occupation.\n",
    "- **C(gender)[T.female]:** The coefficient for `C(gender)[T.female]` now represents the log wage difference between females and males, with males being the reference group.\n",
    "- **C(oc)[T.category_name]:** For each occupation category (except 'technical'), the coefficient `C(oc)[T.category_name]` represents the log wage difference between that occupation and the 'technical' occupation, holding gender, education, and experience constant. For example, `C(oc)[T.admin]` will now represent the log wage difference between 'admin' and 'technical' occupations.\n",
    "\n",
    "**Key takeaway:**\n",
    "\n",
    "By using `C()` and `Treatment()`, we can easily incorporate categorical variables into our regression models and control which category serves as the reference group. The interpretation of the coefficients for categorical variables is always in comparison to the chosen reference category.\n",
    "\n",
    "### 7.3.1 ANOVA Tables\n",
    "\n",
    "ANOVA (Analysis of Variance) tables in regression context help to assess the overall significance of groups of regressors. They decompose the total variance in the dependent variable into components attributable to different sets of regressors. In the context of categorical variables, ANOVA tables can be used to test the joint significance of all dummy variables representing a categorical variable."
   ]
  },
  {
   "cell_type": "code",
   "execution_count": 69,
   "id": "da908f4a",
   "metadata": {},
   "outputs": [
    {
     "name": "stdout",
     "output_type": "stream",
     "text": [
      "table_reg: \n",
      "                              b      se       t    pval\n",
      "Intercept                0.9050  0.1717  5.2718  0.0000\n",
      "gender[T.male]           0.2238  0.0423  5.2979  0.0000\n",
      "occupation[T.office]    -0.2073  0.0776 -2.6699  0.0078\n",
      "occupation[T.sales]     -0.3601  0.0936 -3.8455  0.0001\n",
      "occupation[T.services]  -0.3626  0.0818 -4.4305  0.0000\n",
      "occupation[T.technical] -0.0101  0.0740 -0.1363  0.8916\n",
      "occupation[T.worker]    -0.1525  0.0763 -1.9981  0.0462\n",
      "education                0.0759  0.0101  7.5449  0.0000\n",
      "experience               0.0119  0.0017  7.0895  0.0000\n",
      "\n"
     ]
    }
   ],
   "source": [
    "CPS1985 = pd.read_csv(\"../data/CPS1985.csv\")\n",
    "\n",
    "# run regression:\n",
    "reg = smf.ols(\n",
    "    formula=\"np.log(wage) ~ education + experience + gender + occupation\",\n",
    "    data=CPS1985,\n",
    ")\n",
    "results = reg.fit()\n",
    "\n",
    "# print regression table:\n",
    "table_reg = pd.DataFrame(\n",
    "    {\n",
    "        \"b\": round(results.params, 4),\n",
    "        \"se\": round(results.bse, 4),\n",
    "        \"t\": round(results.tvalues, 4),\n",
    "        \"pval\": round(results.pvalues, 4),\n",
    "    },\n",
    ")\n",
    "print(f\"table_reg: \\n{table_reg}\\n\")"
   ]
  },
  {
   "cell_type": "markdown",
   "id": "044a7fd7",
   "metadata": {},
   "source": [
    "**Explanation:**\n",
    "\n",
    "- `formula=\"np.log(wage) ~ education + experience + gender + occupation\"`: In this formula, we are directly using `gender` and `occupation` as categorical variables without explicitly using `C()`. `statsmodels` can often automatically detect categorical variables (especially string or object type columns) and treat them as such in the regression formula, creating dummy variables behind the scenes. However, it is generally better to be explicit and use `C()` for clarity and control, especially when you want to specify reference categories."
   ]
  },
  {
   "cell_type": "code",
   "execution_count": 70,
   "metadata": {},
   "outputs": [
    {
     "name": "stdout",
     "output_type": "stream",
     "text": [
      "table_anova: \n",
      "                sum_sq     df          F        PR(>F)\n",
      "gender        5.414018    1.0  28.067296  1.727015e-07\n",
      "occupation    7.152529    5.0   7.416013  9.805485e-07\n",
      "education    10.980589    1.0  56.925450  2.010374e-13\n",
      "experience    9.695055    1.0  50.261001  4.365391e-12\n",
      "Residual    101.269451  525.0        NaN           NaN\n",
      "\n"
     ]
    }
   ],
   "source": [
    "# ANOVA table:\n",
    "table_anova = sm.stats.anova_lm(results, typ=2)\n",
    "print(f\"table_anova: \\n{table_anova}\\n\")"
   ]
  },
  {
   "cell_type": "markdown",
   "id": "c159ee07",
   "metadata": {},
   "source": [
    "**Explanation:**\n",
    "\n",
    "- `table_anova = sm.stats.anova_lm(results, typ=2)`: This function from `statsmodels.stats` calculates the ANOVA table for the fitted regression model (`results`). `typ=2` specifies Type II ANOVA, which is generally recommended for regression models, especially when there might be some imbalance in the design (which is common in observational data).\n",
    "\n",
    "**Interpretation of ANOVA Table:**\n",
    "\n",
    "The ANOVA table output will typically include columns like:\n",
    "\n",
    "- **df (degrees of freedom):** For each regressor (or group of regressors).\n",
    "- **sum_sq (sum of squares):** The sum of squares explained by each regressor (or group of regressors).\n",
    "- **mean_sq (mean square):** Mean square = sum_sq / df.\n",
    "- **F (F-statistic):** F-statistic for testing the null hypothesis that all coefficients associated with a particular regressor (or group of regressors) are jointly zero.\n",
    "- **PR(>F) (p-value):** The p-value associated with the F-statistic.\n",
    "\n",
    "**For example, in the ANOVA table output:**\n",
    "\n",
    "- **gender:** The row for `gender` will give you an F-statistic and a p-value. This tests the null hypothesis that _gender has no effect on wage, once education, experience, and occupation are controlled for_. A small p-value (e.g., < 0.05) would suggest that gender is a statistically significant factor in explaining wage variation, even after controlling for other variables.\n",
    "- **occupation:** Similarly, the row for `occupation` will test the joint significance of all occupation dummy variables. It tests the null hypothesis that _occupation has no effect on wage, once education, experience, and gender are controlled for_. A small p-value would indicate that occupation is a significant factor.\n",
    "- **education and experience:** ANOVA table also provides F-tests for `education` and `experience`, testing their significance in the model.\n",
    "- **Residual:** This row represents the unexplained variance (residuals) in the model.\n",
    "\n",
    "**Key takeaway:**\n",
    "\n",
    "ANOVA tables provide F-tests for the joint significance of regressors, especially useful for categorical variables with multiple dummy variables. They help assess the overall contribution of each set of regressors to explaining the variation in the dependent variable.\n",
    "\n",
    "## 7.4 Breaking a Numeric Variable Into Categories\n",
    "\n",
    "Sometimes, it might be useful to convert a continuous numeric variable into a categorical variable. This can be done for several reasons:\n",
    "\n",
    "- **Non-linear effects:** If you suspect that the effect of a numeric variable is not linear, categorizing it can capture non-linearities without explicitly modeling a complex functional form.\n",
    "- **Easier interpretation:** Categorical variables can sometimes be easier to interpret, especially when dealing with ranges or levels of a variable.\n",
    "- **Dealing with outliers or extreme values:** Grouping extreme values into categories can reduce the influence of outliers.\n",
    "\n",
    "### Example 7.8: Effects of Law School Rankings on Starting Salaries\n",
    "\n",
    "In this example, we will examine the effect of law school rankings on starting salaries of graduates. The `lawsch85` dataset from `wooldridge` contains information on law school rankings (`rank`), starting salaries (`salary`), LSAT scores (`LSAT`), GPA, library volumes (`libvol`), and cost (`cost`)."
   ]
  },
  {
   "cell_type": "code",
   "execution_count": 71,
   "id": "d63ca022",
   "metadata": {},
   "outputs": [
    {
     "name": "stdout",
     "output_type": "stream",
     "text": [
      "freq: \n",
      "col_0      count\n",
      "rc              \n",
      "(0,10]        10\n",
      "(10,25]       16\n",
      "(25,40]       13\n",
      "(40,60]       18\n",
      "(60,100]      37\n",
      "(100,175]     62\n",
      "\n"
     ]
    }
   ],
   "source": [
    "lawsch85 = wool.data(\"lawsch85\")\n",
    "\n",
    "# define cut points for the rank:\n",
    "cutpts = [0, 10, 25, 40, 60, 100, 175]\n",
    "\n",
    "# create categorical variable containing ranges for the rank:\n",
    "lawsch85[\"rc\"] = pd.cut(\n",
    "    lawsch85[\"rank\"],\n",
    "    bins=cutpts,\n",
    "    labels=[\"(0,10]\", \"(10,25]\", \"(25,40]\", \"(40,60]\", \"(60,100]\", \"(100,175]\"],\n",
    ")\n",
    "\n",
    "# display frequencies:\n",
    "freq = pd.crosstab(lawsch85[\"rc\"], columns=\"count\")\n",
    "print(f\"freq: \\n{freq}\\n\")"
   ]
  },
  {
   "cell_type": "markdown",
   "id": "5cf5d2c5",
   "metadata": {},
   "source": [
    "**Explanation:**\n",
    "\n",
    "- `lawsch85 = wool.data(\"lawsch85\")`: Loads the `lawsch85` dataset.\n",
    "- `cutpts = [0, 10, 25, 40, 60, 100, 175]`: Defines the cut points for creating categories based on law school rank. These cut points divide the rank variable into different rank ranges.\n",
    "- `lawsch85[\"rc\"] = pd.cut(...)`: The `pd.cut()` function is used to bin the `rank` variable into categories.\n",
    "  - `lawsch85[\"rank\"]`: The variable to be categorized.\n",
    "  - `bins=cutpts`: The cut points that define the boundaries of the categories.\n",
    "  - `labels=[...]`: Labels for each category. For example, ranks between 0 and 10 (exclusive of 0, inclusive of 10) will be labeled as \"(0,10]\".\n",
    "- `freq = pd.crosstab(lawsch85[\"rc\"], columns=\"count\")`: Creates a frequency table to show the number of law schools in each rank category.\n",
    "\n",
    "**Output:**\n",
    "\n",
    "The `freq` output shows the number of law schools falling into each defined rank category (e.g., how many schools are ranked between 0 and 10, between 10 and 25, etc.)."
   ]
  },
  {
   "cell_type": "code",
   "execution_count": 72,
   "metadata": {},
   "outputs": [
    {
     "name": "stdout",
     "output_type": "stream",
     "text": [
      "table_reg: \n",
      "                                                b      se        t    pval\n",
      "Intercept                                  9.1653  0.4114  22.2770  0.0000\n",
      "C(rc, Treatment(\"(100,175]\"))[T.(0,10]]    0.6996  0.0535  13.0780  0.0000\n",
      "C(rc, Treatment(\"(100,175]\"))[T.(10,25]]   0.5935  0.0394  15.0493  0.0000\n",
      "C(rc, Treatment(\"(100,175]\"))[T.(25,40]]   0.3751  0.0341  11.0054  0.0000\n",
      "C(rc, Treatment(\"(100,175]\"))[T.(40,60]]   0.2628  0.0280   9.3991  0.0000\n",
      "C(rc, Treatment(\"(100,175]\"))[T.(60,100]]  0.1316  0.0210   6.2540  0.0000\n",
      "LSAT                                       0.0057  0.0031   1.8579  0.0655\n",
      "GPA                                        0.0137  0.0742   0.1850  0.8535\n",
      "np.log(libvol)                             0.0364  0.0260   1.3976  0.1647\n",
      "np.log(cost)                               0.0008  0.0251   0.0335  0.9734\n",
      "\n"
     ]
    }
   ],
   "source": [
    "# run regression:\n",
    "reg = smf.ols(\n",
    "    formula='np.log(salary) ~ C(rc, Treatment(\"(100,175]\")) +'\n",
    "    \"LSAT + GPA + np.log(libvol) + np.log(cost)\",\n",
    "    data=lawsch85,\n",
    ")\n",
    "results = reg.fit()\n",
    "\n",
    "# print regression table:\n",
    "table_reg = pd.DataFrame(\n",
    "    {\n",
    "        \"b\": round(results.params, 4),\n",
    "        \"se\": round(results.bse, 4),\n",
    "        \"t\": round(results.tvalues, 4),\n",
    "        \"pval\": round(results.pvalues, 4),\n",
    "    },\n",
    ")\n",
    "print(f\"table_reg: \\n{table_reg}\\n\")"
   ]
  },
  {
   "cell_type": "markdown",
   "id": "b2e9abb2",
   "metadata": {},
   "source": [
    "**Explanation:**\n",
    "\n",
    "- `formula='np.log(salary) ~ C(rc, Treatment(\"(100,175]\")) + LSAT + GPA + np.log(libvol) + np.log(cost)'`:\n",
    "  - `C(rc, Treatment(\"(100,175]\"))`: We use the categorized rank variable `rc` in the regression as a categorical variable using `C()`. We also specify `Treatment(\"(100,175]\")` to set the category \"(100,175]\" (law schools ranked 100-175, the lowest rank category) as the reference category.\n",
    "  - `LSAT + GPA + np.log(libvol) + np.log(cost)`: These are other control variables included in the regression: LSAT score, GPA, log of library volumes, and log of cost.\n",
    "\n",
    "**Interpretation of Results:**\n",
    "\n",
    "- **Reference Category:** The reference category is law schools ranked \"(100,175]\".\n",
    "- **C(rc)[T.(0,10)] to C(rc)[T.(60,100)]:** The coefficients for `C(rc)[T.(0,10)]`, `C(rc)[T.(10,25)]`, `C(rc)[T.(25,40)]`, `C(rc)[T.(40,60)]`, and `C(rc)[T.(60,100)]` represent the log salary difference between law schools in each of these rank categories and law schools in the reference category \"(100,175]\", holding LSAT, GPA, library volumes, and cost constant. For example, `C(rc)[T.(0,10)]` coefficient would represent the approximate percentage salary premium for graduates of law schools ranked (0, 10] compared to those from schools ranked (100, 175]. We expect these coefficients to be positive and decreasing as the rank category range increases (i.e., better ranked schools should have higher starting salaries).\n",
    "- **LSAT, GPA, np.log(libvol), np.log(cost):** These coefficients represent the effects of LSAT score, GPA, log of library volumes, and log of cost on log salary, controlling for law school rank category."
   ]
  },
  {
   "cell_type": "code",
   "execution_count": 73,
   "metadata": {},
   "outputs": [
    {
     "name": "stdout",
     "output_type": "stream",
     "text": [
      "table_anova: \n",
      "                                 sum_sq     df          F        PR(>F)\n",
      "C(rc, Treatment(\"(100,175]\"))  1.868867    5.0  50.962988  1.174406e-28\n",
      "LSAT                           0.025317    1.0   3.451900  6.551320e-02\n",
      "GPA                            0.000251    1.0   0.034225  8.535262e-01\n",
      "np.log(libvol)                 0.014327    1.0   1.953419  1.646748e-01\n",
      "np.log(cost)                   0.000008    1.0   0.001120  9.733564e-01\n",
      "Residual                       0.924111  126.0        NaN           NaN\n",
      "\n"
     ]
    }
   ],
   "source": [
    "# ANOVA table:\n",
    "table_anova = sm.stats.anova_lm(results, typ=2)\n",
    "print(f\"table_anova: \\n{table_anova}\\n\")"
   ]
  },
  {
   "cell_type": "markdown",
   "id": "66b66fb0",
   "metadata": {},
   "source": [
    "**Explanation & Interpretation:**\n",
    "\n",
    "As before, `sm.stats.anova_lm(results, typ=2)` calculates the ANOVA table for this regression model. The row for `C(rc)` in the ANOVA table will provide an F-test and p-value for the joint significance of all the dummy variables representing the rank categories. This tests the null hypothesis that _law school rank (categorized as `rc`) has no effect on starting salary, once LSAT, GPA, library volumes, and cost are controlled for_. A small p-value would indicate that law school rank category is a statistically significant factor in predicting starting salaries.\n",
    "\n",
    "## 7.5 Interactions and Differences in Regression Functions Across Groups\n",
    "\n",
    "We can allow for regression functions to differ across groups by including interaction terms between group indicators (dummy variables for qualitative variables) and quantitative regressors. This allows the slope coefficients of the quantitative regressors to vary across different groups defined by the qualitative variable."
   ]
  },
  {
   "cell_type": "code",
   "execution_count": 74,
   "id": "a9ef0007",
   "metadata": {},
   "outputs": [
    {
     "name": "stdout",
     "output_type": "stream",
     "text": [
      "table: \n",
      "                    b      se       t    pval\n",
      "Intercept      1.4808  0.2073  7.1422  0.0000\n",
      "female        -0.3535  0.4105 -0.8610  0.3898\n",
      "sat            0.0011  0.0002  5.8073  0.0000\n",
      "hsperc        -0.0085  0.0014 -6.1674  0.0000\n",
      "tothrs         0.0023  0.0009  2.7182  0.0069\n",
      "female:sat     0.0008  0.0004  1.9488  0.0521\n",
      "female:hsperc -0.0005  0.0032 -0.1739  0.8621\n",
      "female:tothrs -0.0001  0.0016 -0.0712  0.9433\n",
      "\n"
     ]
    }
   ],
   "source": [
    "gpa3 = wool.data(\"gpa3\")\n",
    "\n",
    "# model with full interactions with female dummy (only for spring data):\n",
    "reg = smf.ols(\n",
    "    formula=\"cumgpa ~ female * (sat + hsperc + tothrs)\",\n",
    "    data=gpa3,\n",
    "    subset=(gpa3[\"spring\"] == 1),\n",
    ")\n",
    "results = reg.fit()\n",
    "\n",
    "# print regression table:\n",
    "table = pd.DataFrame(\n",
    "    {\n",
    "        \"b\": round(results.params, 4),\n",
    "        \"se\": round(results.bse, 4),\n",
    "        \"t\": round(results.tvalues, 4),\n",
    "        \"pval\": round(results.pvalues, 4),\n",
    "    },\n",
    ")\n",
    "print(f\"table: \\n{table}\\n\")"
   ]
  },
  {
   "cell_type": "markdown",
   "id": "3c7cdda6",
   "metadata": {},
   "source": [
    "**Explanation:**\n",
    "\n",
    "- `gpa3 = wool.data(\"gpa3\")`: Loads the `gpa3` dataset, which contains data on college GPA, SAT scores, high school percentile (`hsperc`), total hours studied (`tothrs`), and gender (`female`), among other variables.\n",
    "- `subset=(gpa3[\"spring\"] == 1)`: We are using only the data for the spring semester (`spring == 1`).\n",
    "- `formula=\"cumgpa ~ female * (sat + hsperc + tothrs)\"`:\n",
    "  - `female * (sat + hsperc + tothrs)`: This specifies a full interaction model between the dummy variable `female` and the quantitative regressors `sat`, `hsperc`, and `tothrs`. It is equivalent to including: `female + sat + hsperc + tothrs + female:sat + female:hsperc + female:tothrs`.\n",
    "  - This model allows both the intercept and the slopes of `sat`, `hsperc`, and `tothrs` to be different for females and males.\n",
    "\n",
    "**Interpretation of Results:**\n",
    "\n",
    "- **Intercept (const):** This is the intercept for the reference group, which is males (female=0). It represents the predicted cumulative GPA for a male with SAT=0, hsperc=0, and tothrs=0.\n",
    "- **female:** This is the _difference in intercepts_ between females and males, for SAT=0, hsperc=0, and tothrs=0.\n",
    "- **sat, hsperc, tothrs:** These are the slopes of SAT, hsperc, and tothrs, respectively, for the reference group (males). They represent the change in cumulative GPA for a one-unit increase in each of these variables for males.\n",
    "- **female:sat, female:hsperc, female:tothrs:** These are the _interaction terms_.\n",
    "  - `female:sat`: Represents the _difference in the slope of SAT_ between females and males. So, the slope of SAT for females is (coefficient of `sat` + coefficient of `female:sat`).\n",
    "  - Similarly, `female:hsperc` and `female:tothrs` represent the differences in slopes for `hsperc` and `tothrs` between females and males.\n",
    "\n",
    "To get the regression equation for each group:\n",
    "\n",
    "- **For Males (female=0):**\n",
    "  `cumgpa = b_const + b_sat * sat + b_hsperc * hsperc + b_tothrs * tothrs`\n",
    "  (where `b_const`, `b_sat`, `b_hsperc`, `b_tothrs` are the coefficients for `const`, `sat`, `hsperc`, `tothrs` respectively).\n",
    "- **For Females (female=1):**\n",
    "  `cumgpa = (b_const + b_female) + (b_sat + b_female:sat) * sat + (b_hsperc + b_female:hsperc) * hsperc + (b_tothrs + b_female:tothrs) * tothrs`\n",
    "  (where `b_female`, `b_female:sat`, `b_female:hsperc`, `b_female:tothrs` are the coefficients for `female`, `female:sat`, `female:hsperc`, `female:tothrs` respectively)."
   ]
  },
  {
   "cell_type": "code",
   "execution_count": 75,
   "metadata": {},
   "outputs": [
    {
     "name": "stdout",
     "output_type": "stream",
     "text": [
      "fstat: 8.179111637044619\n",
      "\n",
      "fpval: 2.544637191829608e-06\n",
      "\n"
     ]
    }
   ],
   "source": [
    "# F-Test for H0 (the interaction coefficients of 'female' are zero):\n",
    "hypotheses = [\"female:sat = 0\", \"female:hsperc = 0\", \"female:tothrs = 0\"]\n",
    "ftest = results.f_test(hypotheses)\n",
    "fstat = ftest.statistic\n",
    "fpval = ftest.pvalue\n",
    "\n",
    "print(f\"fstat: {fstat}\\n\")\n",
    "print(f\"fpval: {fpval}\\n\")"
   ]
  },
  {
   "cell_type": "markdown",
   "id": "1b340dd5",
   "metadata": {},
   "source": [
    "**Explanation:**\n",
    "\n",
    "- `hypotheses = [\"female:sat = 0\", \"female:hsperc = 0\", \"female:tothrs = 0\"]`: We define the null hypotheses we want to test. Here, we are testing if the coefficients of all interaction terms involving `female` are jointly zero. If these coefficients are zero, it means there is no difference in the slopes of `sat`, `hsperc`, and `tothrs` between females and males.\n",
    "- `ftest = results.f_test(hypotheses)`: Performs an F-test to test these joint hypotheses.\n",
    "- `fstat = ftest.statistic` and `fpval = ftest.pvalue`: Extracts the F-statistic and p-value from the test results.\n",
    "\n",
    "**Interpretation:**\n",
    "\n",
    "- **p-value (fpval):** If the p-value is small (e.g., < 0.05), we reject the null hypothesis. This would mean that at least one of the interaction coefficients is significantly different from zero, indicating that the effect of at least one of the quantitative regressors (`sat`, `hsperc`, `tothrs`) on `cumgpa` differs between females and males. If the p-value is large, we fail to reject the null hypothesis, suggesting that there is not enough evidence to conclude that the slopes are different across genders."
   ]
  },
  {
   "cell_type": "code",
   "execution_count": 76,
   "id": "a44fa6e8",
   "metadata": {},
   "outputs": [
    {
     "name": "stdout",
     "output_type": "stream",
     "text": [
      "table_m: \n",
      "                b      se       t    pval\n",
      "Intercept  1.4808  0.2060  7.1894  0.0000\n",
      "sat        0.0011  0.0002  5.8458  0.0000\n",
      "hsperc    -0.0085  0.0014 -6.2082  0.0000\n",
      "tothrs     0.0023  0.0009  2.7362  0.0066\n",
      "\n"
     ]
    }
   ],
   "source": [
    "gpa3 = wool.data(\"gpa3\")\n",
    "\n",
    "# estimate model for males (& spring data):\n",
    "reg_m = smf.ols(\n",
    "    formula=\"cumgpa ~ sat + hsperc + tothrs\",\n",
    "    data=gpa3,\n",
    "    subset=(gpa3[\"spring\"] == 1) & (gpa3[\"female\"] == 0),\n",
    ")\n",
    "results_m = reg_m.fit()\n",
    "\n",
    "# print regression table:\n",
    "table_m = pd.DataFrame(\n",
    "    {\n",
    "        \"b\": round(results_m.params, 4),\n",
    "        \"se\": round(results_m.bse, 4),\n",
    "        \"t\": round(results_m.tvalues, 4),\n",
    "        \"pval\": round(results_m.pvalues, 4),\n",
    "    },\n",
    ")\n",
    "print(f\"table_m: \\n{table_m}\\n\")"
   ]
  },
  {
   "cell_type": "markdown",
   "id": "5e6fb976",
   "metadata": {},
   "source": [
    "**Explanation:**\n",
    "\n",
    "- `subset=(gpa3[\"spring\"] == 1) & (gpa3[\"female\"] == 0)`: We are now subsetting the data to include only spring semester data (`spring == 1`) and only male students (`female == 0`).\n",
    "- `formula=\"cumgpa ~ sat + hsperc + tothrs\"`: We run a regression of `cumgpa` on `sat`, `hsperc`, and `tothrs` for this male-only subsample.\n",
    "\n",
    "**Interpretation:**\n",
    "\n",
    "The regression table `table_m` shows the estimated regression equation specifically for male students. The coefficients are the intercept and slopes of `sat`, `hsperc`, and `tothrs` for males only. These coefficients should be very similar to the coefficients for `const`, `sat`, `hsperc`, and `tothrs` in the full interaction model (from the first regression in this section), as those were also interpreted as the coefficients for the male group (reference group)."
   ]
  },
  {
   "cell_type": "code",
   "execution_count": 77,
   "metadata": {},
   "outputs": [
    {
     "name": "stdout",
     "output_type": "stream",
     "text": [
      "table_f: \n",
      "                b      se       t    pval\n",
      "Intercept  1.1273  0.3616  3.1176  0.0025\n",
      "sat        0.0018  0.0003  5.1950  0.0000\n",
      "hsperc    -0.0090  0.0029 -3.0956  0.0027\n",
      "tothrs     0.0022  0.0014  1.5817  0.1174\n",
      "\n"
     ]
    }
   ],
   "source": [
    "# estimate model for females (& spring data):\n",
    "reg_f = smf.ols(\n",
    "    formula=\"cumgpa ~ sat + hsperc + tothrs\",\n",
    "    data=gpa3,\n",
    "    subset=(gpa3[\"spring\"] == 1) & (gpa3[\"female\"] == 1),\n",
    ")\n",
    "results_f = reg_f.fit()\n",
    "\n",
    "# print regression table:\n",
    "table_f = pd.DataFrame(\n",
    "    {\n",
    "        \"b\": round(results_f.params, 4),\n",
    "        \"se\": round(results_f.bse, 4),\n",
    "        \"t\": round(results_f.tvalues, 4),\n",
    "        \"pval\": round(results_f.pvalues, 4),\n",
    "    },\n",
    ")\n",
    "print(f\"table_f: \\n{table_f}\\n\")"
   ]
  },
  {
   "cell_type": "markdown",
   "id": "4e9514f6",
   "metadata": {},
   "source": [
    "**Explanation:**\n",
    "\n",
    "- `subset=(gpa3[\"spring\"] == 1) & (gpa3[\"female\"] == 1)`: This time, we subset the data for spring semester data and only female students (`female == 1`).\n",
    "- `formula=\"cumgpa ~ sat + hsperc + tothrs\"`: We run the same regression model for this female-only subsample.\n",
    "\n",
    "**Interpretation:**\n",
    "\n",
    "The regression table `table_f` shows the estimated regression equation specifically for female students. The coefficients are the intercept and slopes of `sat`, `hsperc`, and `tothrs` for females only. These coefficients should correspond to the combined coefficients from the full interaction model. For example:\n",
    "\n",
    "- Intercept for females (in `table_f`) should be approximately equal to (coefficient of `const` + coefficient of `female`) from the interaction model (`table`).\n",
    "- Slope of `sat` for females (in `table_f`) should be approximately equal to (coefficient of `sat` + coefficient of `female:sat`) from the interaction model (`table`).\n",
    "- And so on for `hsperc` and `tothrs`.\n",
    "\n",
    "**Key takeaway:**\n",
    "\n",
    "- Interaction terms allow regression functions to differ across groups. Full interaction models allow both intercepts and slopes to vary.\n",
    "- Testing the joint significance of interaction terms helps determine if there are statistically significant differences in the slopes across groups.\n",
    "- Estimating separate regressions for each group is an alternative way to explore and compare regression functions across groups, and the results should be consistent with those from a full interaction model."
   ]
  }
 ],
 "metadata": {
  "jupytext": {
   "formats": "notebooks//ipynb,markdown//md,scripts//py"
  },
  "kernelspec": {
   "display_name": "merino",
   "language": "python",
   "name": "python3"
  },
  "language_info": {
   "codemirror_mode": {
    "name": "ipython",
    "version": 3
   },
   "file_extension": ".py",
   "mimetype": "text/x-python",
   "name": "python",
   "nbconvert_exporter": "python",
   "pygments_lexer": "ipython3",
   "version": "3.12.5"
  }
 },
 "nbformat": 4,
 "nbformat_minor": 2
}
