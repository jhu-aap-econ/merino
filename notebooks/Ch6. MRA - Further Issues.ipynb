{
 "cells": [
  {
   "cell_type": "markdown",
   "metadata": {},
   "source": [
    "# 6. Multiple Regression Analysis: Further Issues"
   ]
  },
  {
   "cell_type": "code",
   "execution_count": 1,
   "metadata": {},
   "outputs": [
    {
     "name": "stdout",
     "output_type": "stream",
     "text": [
      "Note: you may need to restart the kernel to use updated packages.\n"
     ]
    }
   ],
   "source": [
    "%pip install matplotlib numpy pandas statsmodels wooldridge -q"
   ]
  },
  {
   "cell_type": "code",
   "execution_count": 2,
   "metadata": {},
   "outputs": [],
   "source": [
    "import matplotlib.pyplot as plt\n",
    "import numpy as np\n",
    "import pandas as pd\n",
    "import statsmodels.formula.api as smf\n",
    "import wooldridge as wool"
   ]
  },
  {
   "cell_type": "markdown",
   "metadata": {},
   "source": [
    "## 6.1 Model Formulae\n",
    "\n",
    "### 6.1.1 Data Scaling: Arithmetic Operations witin a Formula\n",
    "\n",
    "$$ \\text{bwght} = \\beta_0 + \\beta_1 \\cdot \\text{cigs} + \\beta_2 \\cdot \\text{faminc} + u$$"
   ]
  },
  {
   "cell_type": "code",
   "execution_count": 3,
   "metadata": {},
   "outputs": [
    {
     "name": "stdout",
     "output_type": "stream",
     "text": [
      "table: \n",
      "                     b   b_lbs  b_lbs2   b_packs\n",
      "I(cigs / 20)       NaN     NaN     NaN   -9.2682\n",
      "Intercept     116.9741  7.3109  7.3109  116.9741\n",
      "cigs           -0.4634 -0.0290 -0.0290       NaN\n",
      "faminc          0.0928  0.0058  0.0058    0.0928\n",
      "\n"
     ]
    }
   ],
   "source": [
    "bwght = wool.data(\"bwght\")\n",
    "\n",
    "# regress and report coefficients:\n",
    "reg = smf.ols(formula=\"bwght ~ cigs + faminc\", data=bwght)\n",
    "results = reg.fit()\n",
    "\n",
    "# weight in pounds, manual way:\n",
    "bwght[\"bwght_lbs\"] = bwght[\"bwght\"] / 16\n",
    "reg_lbs = smf.ols(formula=\"bwght_lbs ~ cigs + faminc\", data=bwght)\n",
    "results_lbs = reg_lbs.fit()\n",
    "\n",
    "# weight in pounds, direct way:\n",
    "reg_lbs2 = smf.ols(formula=\"I(bwght/16) ~ cigs + faminc\", data=bwght)\n",
    "results_lbs2 = reg_lbs2.fit()\n",
    "\n",
    "# packs of cigarettes:\n",
    "reg_packs = smf.ols(formula=\"bwght ~ I(cigs/20) + faminc\", data=bwght)\n",
    "results_packs = reg_packs.fit()\n",
    "\n",
    "# compare results:\n",
    "table = pd.DataFrame(\n",
    "    {\n",
    "        \"b\": round(results.params, 4),\n",
    "        \"b_lbs\": round(results_lbs.params, 4),\n",
    "        \"b_lbs2\": round(results_lbs2.params, 4),\n",
    "        \"b_packs\": round(results_packs.params, 4),\n",
    "    },\n",
    ")\n",
    "print(f\"table: \\n{table}\\n\")"
   ]
  },
  {
   "cell_type": "markdown",
   "metadata": {},
   "source": [
    "### 6.1.2 Standardization: Beta Coefficients\n",
    "\n",
    "$$z_y = \\frac{y - \\bar{y}}{\\text{sd}(y)}  \\qquad \\text{and} \\qquad z_{x_1} = \\frac{x_1 - \\bar{x}_1}{\\text{sd}(x_1)}$$\n",
    "\n",
    "### Example 6.1: Effects of Pollution on Housing Prices\n",
    "\n",
    "$$\\text{price\\_sc} = \\beta_0 + \\beta_1 \\cdot \\text{nox\\_sc} + \\beta_2 \\cdot \\text{crime\\_sc} + \\beta_3 \\cdot \\text{rooms\\_sc} + \\beta_4 \\cdot \\text{dist\\_sc} + \\beta_5 \\cdot \\text{stratio\\_sc} + u$$\n",
    "\n",
    "\n"
   ]
  },
  {
   "cell_type": "code",
   "execution_count": 4,
   "metadata": {},
   "outputs": [
    {
     "name": "stdout",
     "output_type": "stream",
     "text": [
      "table: \n",
      "                 b      se        t  pval\n",
      "nox_sc     -0.3404  0.0445  -7.6511   0.0\n",
      "crime_sc   -0.1433  0.0307  -4.6693   0.0\n",
      "rooms_sc    0.5139  0.0300  17.1295   0.0\n",
      "dist_sc    -0.2348  0.0430  -5.4641   0.0\n",
      "stratio_sc -0.2703  0.0299  -9.0274   0.0\n",
      "\n"
     ]
    }
   ],
   "source": [
    "# define a function for the standardization:\n",
    "def scale(x):\n",
    "    x_mean = np.mean(x)\n",
    "    x_var = np.var(x, ddof=1)\n",
    "    x_scaled = (x - x_mean) / np.sqrt(x_var)\n",
    "    return x_scaled\n",
    "\n",
    "\n",
    "# standardize and estimate:\n",
    "hprice2 = wool.data(\"hprice2\")\n",
    "hprice2[\"price_sc\"] = scale(hprice2[\"price\"])\n",
    "hprice2[\"nox_sc\"] = scale(hprice2[\"nox\"])\n",
    "hprice2[\"crime_sc\"] = scale(hprice2[\"crime\"])\n",
    "hprice2[\"rooms_sc\"] = scale(hprice2[\"rooms\"])\n",
    "hprice2[\"dist_sc\"] = scale(hprice2[\"dist\"])\n",
    "hprice2[\"stratio_sc\"] = scale(hprice2[\"stratio\"])\n",
    "\n",
    "reg = smf.ols(\n",
    "    formula=\"price_sc ~ 0 + nox_sc + crime_sc + rooms_sc + dist_sc + stratio_sc\",\n",
    "    data=hprice2,\n",
    ")\n",
    "results = reg.fit()\n",
    "\n",
    "# print regression table:\n",
    "table = pd.DataFrame(\n",
    "    {\n",
    "        \"b\": round(results.params, 4),\n",
    "        \"se\": round(results.bse, 4),\n",
    "        \"t\": round(results.tvalues, 4),\n",
    "        \"pval\": round(results.pvalues, 4),\n",
    "    },\n",
    ")\n",
    "print(f\"table: \\n{table}\\n\")"
   ]
  },
  {
   "cell_type": "markdown",
   "metadata": {},
   "source": [
    "### 6.1.3 Logarithms\n",
    "\n",
    "$$\\log(y) = \\beta_0 + \\beta_1 \\log(x_1) + \\beta_2 x_2 + u$$"
   ]
  },
  {
   "cell_type": "code",
   "execution_count": 5,
   "metadata": {},
   "outputs": [
    {
     "name": "stdout",
     "output_type": "stream",
     "text": [
      "table: \n",
      "                  b      se        t  pval\n",
      "Intercept    9.2337  0.1877  49.1835   0.0\n",
      "np.log(nox) -0.7177  0.0663 -10.8182   0.0\n",
      "rooms        0.3059  0.0190  16.0863   0.0\n",
      "\n"
     ]
    }
   ],
   "source": [
    "hprice2 = wool.data(\"hprice2\")\n",
    "\n",
    "reg = smf.ols(formula=\"np.log(price) ~ np.log(nox) + rooms\", data=hprice2)\n",
    "results = reg.fit()\n",
    "\n",
    "# print regression table:\n",
    "table = pd.DataFrame(\n",
    "    {\n",
    "        \"b\": round(results.params, 4),\n",
    "        \"se\": round(results.bse, 4),\n",
    "        \"t\": round(results.tvalues, 4),\n",
    "        \"pval\": round(results.pvalues, 4),\n",
    "    },\n",
    ")\n",
    "print(f\"table: \\n{table}\\n\")"
   ]
  },
  {
   "cell_type": "markdown",
   "metadata": {},
   "source": [
    "### 6.1.4 Quadratics and Polynomials\n",
    "\n",
    "$$ y = \\beta_0 + \\beta_1 x + \\beta_2 x^2 + \\beta_3 x^3 + u$$\n",
    "\n",
    "### Example 6.2: Effects of Pollution on Housing Prices\n",
    "\n",
    "$$\\log(\\text{price}) = \\beta_0 + \\beta_1 \\log(\\text{nox}) + \\beta_2 \\log(\\text{dist}) + \\beta_3 \\text{rooms} + \\beta_4 \\text{rooms}^2 + \\beta_5 \\text{stratio} + u$$"
   ]
  },
  {
   "cell_type": "code",
   "execution_count": 6,
   "metadata": {},
   "outputs": [
    {
     "name": "stdout",
     "output_type": "stream",
     "text": [
      "table: \n",
      "                     b      se        t    pval\n",
      "Intercept      13.3855  0.5665  23.6295  0.0000\n",
      "np.log(nox)    -0.9017  0.1147  -7.8621  0.0000\n",
      "np.log(dist)   -0.0868  0.0433  -2.0051  0.0455\n",
      "rooms          -0.5451  0.1655  -3.2946  0.0011\n",
      "I(rooms ** 2)   0.0623  0.0128   4.8623  0.0000\n",
      "stratio        -0.0476  0.0059  -8.1293  0.0000\n",
      "\n"
     ]
    }
   ],
   "source": [
    "hprice2 = wool.data(\"hprice2\")\n",
    "\n",
    "reg = smf.ols(\n",
    "    formula=\"np.log(price) ~ np.log(nox)+np.log(dist)+rooms+I(rooms**2)+stratio\",\n",
    "    data=hprice2,\n",
    ")\n",
    "results = reg.fit()\n",
    "\n",
    "# print regression table:\n",
    "table = pd.DataFrame(\n",
    "    {\n",
    "        \"b\": round(results.params, 4),\n",
    "        \"se\": round(results.bse, 4),\n",
    "        \"t\": round(results.tvalues, 4),\n",
    "        \"pval\": round(results.pvalues, 4),\n",
    "    },\n",
    ")\n",
    "print(f\"table: \\n{table}\\n\")"
   ]
  },
  {
   "cell_type": "markdown",
   "metadata": {},
   "source": [
    "### 6.1.5 Hypothesis Testing"
   ]
  },
  {
   "cell_type": "code",
   "execution_count": 7,
   "metadata": {},
   "outputs": [
    {
     "name": "stdout",
     "output_type": "stream",
     "text": [
      "fstat: 110.4187819266921\n",
      "\n",
      "fpval: 1.9193250019565814e-40\n",
      "\n"
     ]
    }
   ],
   "source": [
    "hprice2 = wool.data(\"hprice2\")\n",
    "n = hprice2.shape[0]\n",
    "\n",
    "reg = smf.ols(\n",
    "    formula=\"np.log(price) ~ np.log(nox)+np.log(dist)+rooms+I(rooms**2)+stratio\",\n",
    "    data=hprice2,\n",
    ")\n",
    "results = reg.fit()\n",
    "\n",
    "# implemented F test for rooms:\n",
    "hypotheses = [\"rooms = 0\", \"I(rooms ** 2) = 0\"]\n",
    "ftest = results.f_test(hypotheses)\n",
    "fstat = ftest.statistic\n",
    "fpval = ftest.pvalue\n",
    "\n",
    "print(f\"fstat: {fstat}\\n\")\n",
    "print(f\"fpval: {fpval}\\n\")"
   ]
  },
  {
   "cell_type": "markdown",
   "metadata": {},
   "source": [
    "### 6.1.6 Interaction Terms\n",
    "\n",
    "$$ y = \\beta_0 + \\beta_1 x_1 + \\beta_2 x_2 + \\beta_3 x_1 x_2 + u$$\n",
    "\n",
    "### Example 6.3: Effects of Attendance on Final Exam Performance\n",
    "\n",
    "$$\\text{stndfnl} = \\beta_0 + \\beta_1 \\text{atndrte} + \\beta_2 \\text{priGPA} + \\beta_3 \\text{ACT} + \\beta_4 \\text{priGPA}^2 + \\beta_5 \\text{ACT}^2 + \\beta_6 \\text{atndrte} \\cdot \\text{priGPA} + u$$"
   ]
  },
  {
   "cell_type": "code",
   "execution_count": 8,
   "metadata": {},
   "outputs": [
    {
     "name": "stdout",
     "output_type": "stream",
     "text": [
      "table: \n",
      "                     b      se       t    pval\n",
      "Intercept       2.0503  1.3603  1.5072  0.1322\n",
      "atndrte        -0.0067  0.0102 -0.6561  0.5120\n",
      "priGPA         -1.6285  0.4810 -3.3857  0.0008\n",
      "atndrte:priGPA  0.0056  0.0043  1.2938  0.1962\n",
      "ACT            -0.1280  0.0985 -1.3000  0.1940\n",
      "I(priGPA ** 2)  0.2959  0.1010  2.9283  0.0035\n",
      "I(ACT ** 2)     0.0045  0.0022  2.0829  0.0376\n",
      "\n"
     ]
    }
   ],
   "source": [
    "attend = wool.data(\"attend\")\n",
    "n = attend.shape[0]\n",
    "\n",
    "reg = smf.ols(\n",
    "    formula=\"stndfnl ~ atndrte*priGPA + ACT + I(priGPA**2) + I(ACT**2)\",\n",
    "    data=attend,\n",
    ")\n",
    "results = reg.fit()\n",
    "\n",
    "# print regression table:\n",
    "table = pd.DataFrame(\n",
    "    {\n",
    "        \"b\": round(results.params, 4),\n",
    "        \"se\": round(results.bse, 4),\n",
    "        \"t\": round(results.tvalues, 4),\n",
    "        \"pval\": round(results.pvalues, 4),\n",
    "    },\n",
    ")\n",
    "print(f\"table: \\n{table}\\n\")"
   ]
  },
  {
   "cell_type": "code",
   "execution_count": 9,
   "metadata": {},
   "outputs": [
    {
     "name": "stdout",
     "output_type": "stream",
     "text": [
      "partial_effect: 0.007754572228608975\n",
      "\n"
     ]
    }
   ],
   "source": [
    "# estimate for partial effect at priGPA=2.59:\n",
    "b = results.params\n",
    "partial_effect = b[\"atndrte\"] + 2.59 * b[\"atndrte:priGPA\"]\n",
    "print(f\"partial_effect: {partial_effect}\\n\")"
   ]
  },
  {
   "cell_type": "code",
   "execution_count": 10,
   "metadata": {},
   "outputs": [
    {
     "name": "stdout",
     "output_type": "stream",
     "text": [
      "fstat: 8.632581056740781\n",
      "\n",
      "fpval: 0.003414992399585439\n",
      "\n"
     ]
    }
   ],
   "source": [
    "# F test for partial effect at priGPA=2.59:\n",
    "hypotheses = \"atndrte + 2.59 * atndrte:priGPA = 0\"\n",
    "ftest = results.f_test(hypotheses)\n",
    "fstat = ftest.statistic\n",
    "fpval = ftest.pvalue\n",
    "\n",
    "print(f\"fstat: {fstat}\\n\")\n",
    "print(f\"fpval: {fpval}\\n\")"
   ]
  },
  {
   "cell_type": "markdown",
   "metadata": {},
   "source": [
    "## 6.2 Prediction\n",
    "\n",
    "### 6.2.1 Confidence and Prediction Intervals for Predictions"
   ]
  },
  {
   "cell_type": "code",
   "execution_count": 11,
   "metadata": {},
   "outputs": [
    {
     "name": "stdout",
     "output_type": "stream",
     "text": [
      "table: \n",
      "                    b      se        t    pval\n",
      "Intercept      1.4927  0.0753  19.8118  0.0000\n",
      "sat            0.0015  0.0001  22.8864  0.0000\n",
      "hsperc        -0.0139  0.0006 -24.6981  0.0000\n",
      "hsize         -0.0609  0.0165  -3.6895  0.0002\n",
      "I(hsize ** 2)  0.0055  0.0023   2.4056  0.0162\n",
      "\n"
     ]
    }
   ],
   "source": [
    "gpa2 = wool.data(\"gpa2\")\n",
    "\n",
    "reg = smf.ols(formula=\"colgpa ~ sat + hsperc + hsize + I(hsize**2)\", data=gpa2)\n",
    "results = reg.fit()\n",
    "\n",
    "# print regression table:\n",
    "table = pd.DataFrame(\n",
    "    {\n",
    "        \"b\": round(results.params, 4),\n",
    "        \"se\": round(results.bse, 4),\n",
    "        \"t\": round(results.tvalues, 4),\n",
    "        \"pval\": round(results.pvalues, 4),\n",
    "    },\n",
    ")\n",
    "print(f\"table: \\n{table}\\n\")"
   ]
  },
  {
   "cell_type": "code",
   "execution_count": 12,
   "metadata": {},
   "outputs": [
    {
     "name": "stdout",
     "output_type": "stream",
     "text": [
      "cvalues1: \n",
      "             sat  hsperc  hsize\n",
      "newPerson1  1200      30      5\n",
      "\n"
     ]
    }
   ],
   "source": [
    "# generate data set containing the regressor values for predictions:\n",
    "cvalues1 = pd.DataFrame(\n",
    "    {\"sat\": [1200], \"hsperc\": [30], \"hsize\": [5]},\n",
    "    index=[\"newPerson1\"],\n",
    ")\n",
    "print(f\"cvalues1: \\n{cvalues1}\\n\")"
   ]
  },
  {
   "cell_type": "code",
   "execution_count": 13,
   "metadata": {},
   "outputs": [
    {
     "name": "stdout",
     "output_type": "stream",
     "text": [
      "colgpa_pred1: \n",
      "newPerson1    2.700075\n",
      "dtype: float64\n",
      "\n"
     ]
    }
   ],
   "source": [
    "# point estimate of prediction (cvalues1):\n",
    "colgpa_pred1 = results.predict(cvalues1)\n",
    "print(f\"colgpa_pred1: \\n{colgpa_pred1}\\n\")"
   ]
  },
  {
   "cell_type": "code",
   "execution_count": 14,
   "metadata": {},
   "outputs": [
    {
     "name": "stdout",
     "output_type": "stream",
     "text": [
      "cvalues2: \n",
      "             sat  hsperc  hsize\n",
      "newPerson1  1200      30      5\n",
      "newPerson2   900      20      3\n",
      "newPerson3  1400       5      1\n",
      "\n"
     ]
    }
   ],
   "source": [
    "# define three sets of regressor variables:\n",
    "cvalues2 = pd.DataFrame(\n",
    "    {\"sat\": [1200, 900, 1400], \"hsperc\": [30, 20, 5], \"hsize\": [5, 3, 1]},\n",
    "    index=[\"newPerson1\", \"newPerson2\", \"newPerson3\"],\n",
    ")\n",
    "print(f\"cvalues2: \\n{cvalues2}\\n\")"
   ]
  },
  {
   "cell_type": "code",
   "execution_count": 15,
   "metadata": {},
   "outputs": [
    {
     "name": "stdout",
     "output_type": "stream",
     "text": [
      "colgpa_pred2: \n",
      "newPerson1    2.700075\n",
      "newPerson2    2.425282\n",
      "newPerson3    3.457448\n",
      "dtype: float64\n",
      "\n"
     ]
    }
   ],
   "source": [
    "# point estimate of prediction (cvalues2):\n",
    "colgpa_pred2 = results.predict(cvalues2)\n",
    "print(f\"colgpa_pred2: \\n{colgpa_pred2}\\n\")"
   ]
  },
  {
   "cell_type": "markdown",
   "metadata": {},
   "source": [
    "### Example 6.5: Confidence Interval for Predicted College GPA"
   ]
  },
  {
   "cell_type": "code",
   "execution_count": 16,
   "metadata": {},
   "outputs": [
    {
     "name": "stdout",
     "output_type": "stream",
     "text": [
      "colgpa_PICI_95: \n",
      "       mean   mean_se  mean_ci_lower  mean_ci_upper  obs_ci_lower  \\\n",
      "0  2.700075  0.019878       2.661104       2.739047      1.601749   \n",
      "1  2.425282  0.014258       2.397329       2.453235      1.327292   \n",
      "2  3.457448  0.027891       3.402766       3.512130      2.358452   \n",
      "\n",
      "   obs_ci_upper  \n",
      "0      3.798402  \n",
      "1      3.523273  \n",
      "2      4.556444  \n",
      "\n"
     ]
    }
   ],
   "source": [
    "gpa2 = wool.data(\"gpa2\")\n",
    "\n",
    "reg = smf.ols(formula=\"colgpa ~ sat + hsperc + hsize + I(hsize**2)\", data=gpa2)\n",
    "results = reg.fit()\n",
    "\n",
    "# define three sets of regressor variables:\n",
    "cvalues2 = pd.DataFrame(\n",
    "    {\"sat\": [1200, 900, 1400], \"hsperc\": [30, 20, 5], \"hsize\": [5, 3, 1]},\n",
    "    index=[\"newPerson1\", \"newPerson2\", \"newPerson3\"],\n",
    ")\n",
    "\n",
    "# point estimates and 95% confidence and prediction intervals:\n",
    "colgpa_PICI_95 = results.get_prediction(cvalues2).summary_frame(alpha=0.05)\n",
    "print(f\"colgpa_PICI_95: \\n{colgpa_PICI_95}\\n\")"
   ]
  },
  {
   "cell_type": "code",
   "execution_count": 17,
   "metadata": {},
   "outputs": [
    {
     "name": "stdout",
     "output_type": "stream",
     "text": [
      "colgpa_PICI_99: \n",
      "       mean   mean_se  mean_ci_lower  mean_ci_upper  obs_ci_lower  \\\n",
      "0  2.700075  0.019878       2.648850       2.751301      1.256386   \n",
      "1  2.425282  0.014258       2.388540       2.462025      0.982034   \n",
      "2  3.457448  0.027891       3.385572       3.529325      2.012879   \n",
      "\n",
      "   obs_ci_upper  \n",
      "0      4.143765  \n",
      "1      3.868530  \n",
      "2      4.902018  \n",
      "\n"
     ]
    }
   ],
   "source": [
    "# point estimates and 99% confidence and prediction intervals:\n",
    "colgpa_PICI_99 = results.get_prediction(cvalues2).summary_frame(alpha=0.01)\n",
    "print(f\"colgpa_PICI_99: \\n{colgpa_PICI_99}\\n\")"
   ]
  },
  {
   "cell_type": "markdown",
   "metadata": {},
   "source": [
    "### 6.2.2 Effect Plots for Nonlinear Specifications"
   ]
  },
  {
   "cell_type": "code",
   "execution_count": 18,
   "metadata": {},
   "outputs": [
    {
     "name": "stdout",
     "output_type": "stream",
     "text": [
      "X: \n",
      "   rooms       nox      dist    stratio\n",
      "0    4.0  5.549783  3.795751  18.459289\n",
      "1    5.0  5.549783  3.795751  18.459289\n",
      "2    6.0  5.549783  3.795751  18.459289\n",
      "3    7.0  5.549783  3.795751  18.459289\n",
      "4    8.0  5.549783  3.795751  18.459289\n",
      "\n"
     ]
    }
   ],
   "source": [
    "hprice2 = wool.data(\"hprice2\")\n",
    "\n",
    "# repeating the regression from Example 6.2:\n",
    "reg = smf.ols(\n",
    "    formula=\"np.log(price) ~ np.log(nox)+np.log(dist)+rooms+I(rooms**2)+stratio\",\n",
    "    data=hprice2,\n",
    ")\n",
    "results = reg.fit()\n",
    "\n",
    "# predictions with rooms = 4-8, all others at the sample mean:\n",
    "nox_mean = np.mean(hprice2[\"nox\"])\n",
    "dist_mean = np.mean(hprice2[\"dist\"])\n",
    "stratio_mean = np.mean(hprice2[\"stratio\"])\n",
    "X = pd.DataFrame(\n",
    "    {\n",
    "        \"rooms\": np.linspace(4, 8, num=5),\n",
    "        \"nox\": nox_mean,\n",
    "        \"dist\": dist_mean,\n",
    "        \"stratio\": stratio_mean,\n",
    "    },\n",
    ")\n",
    "print(f\"X: \\n{X}\\n\")"
   ]
  },
  {
   "cell_type": "code",
   "execution_count": 19,
   "metadata": {},
   "outputs": [
    {
     "name": "stdout",
     "output_type": "stream",
     "text": [
      "lpr_CI: \n",
      "        mean  mean_ci_lower  mean_ci_upper\n",
      "0   9.661702       9.499811       9.823593\n",
      "1   9.676940       9.610215       9.743665\n",
      "2   9.816700       9.787055       9.846345\n",
      "3  10.080983      10.042409      10.119557\n",
      "4  10.469788      10.383361      10.556215\n",
      "\n"
     ]
    }
   ],
   "source": [
    "# calculate 95% confidence interval:\n",
    "lpr_PICI = results.get_prediction(X).summary_frame(alpha=0.05)\n",
    "lpr_CI = lpr_PICI[[\"mean\", \"mean_ci_lower\", \"mean_ci_upper\"]]\n",
    "print(f\"lpr_CI: \\n{lpr_CI}\\n\")"
   ]
  },
  {
   "cell_type": "code",
   "execution_count": 20,
   "metadata": {},
   "outputs": [
    {
     "data": {
      "image/png": "[encoded data removed]",
      "text/plain": [
       "<Figure size 640x480 with 1 Axes>"
      ]
     },
     "metadata": {},
     "output_type": "display_data"
    }
   ],
   "source": [
    "# plot:\n",
    "plt.plot(X[\"rooms\"], lpr_CI[\"mean\"], color=\"black\", linestyle=\"-\", label=\"\")\n",
    "plt.plot(\n",
    "    X[\"rooms\"],\n",
    "    lpr_CI[\"mean_ci_upper\"],\n",
    "    color=\"lightgrey\",\n",
    "    linestyle=\"--\",\n",
    "    label=\"upper CI\",\n",
    ")\n",
    "plt.plot(\n",
    "    X[\"rooms\"],\n",
    "    lpr_CI[\"mean_ci_lower\"],\n",
    "    color=\"darkgrey\",\n",
    "    linestyle=\"--\",\n",
    "    label=\"lower CI\",\n",
    ")\n",
    "plt.ylabel(\"lprice\")\n",
    "plt.xlabel(\"rooms\")\n",
    "plt.legend()\n",
    "plt.show()"
   ]
  }
 ],
 "metadata": {
  "jupytext": {
   "formats": "notebooks//ipynb,markdown//md,scripts//py"
  },
  "kernelspec": {
   "display_name": "merino",
   "language": "python",
   "name": "python3"
  },
  "language_info": {
   "codemirror_mode": {
    "name": "ipython",
    "version": 3
   },
   "file_extension": ".py",
   "mimetype": "text/x-python",
   "name": "python",
   "nbconvert_exporter": "python",
   "pygments_lexer": "ipython3",
   "version": "3.12.5"
  }
 },
 "nbformat": 4,
 "nbformat_minor": 2
}
