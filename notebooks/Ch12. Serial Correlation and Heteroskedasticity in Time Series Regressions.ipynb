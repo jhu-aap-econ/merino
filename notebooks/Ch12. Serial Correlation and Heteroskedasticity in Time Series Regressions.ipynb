{
 "cells": [
  {
   "cell_type": "markdown",
   "id": "38221989",
   "metadata": {},
   "source": [
    "# 12. Serial Correlation and Heteroskedasticity in Time Series Regressions"
   ]
  },
  {
   "cell_type": "code",
   "execution_count": 6,
   "id": "fa6dd29a",
   "metadata": {},
   "outputs": [
    {
     "name": "stdout",
     "output_type": "stream",
     "text": [
      "Note: you may need to restart the kernel to use updated packages.\n"
     ]
    }
   ],
   "source": [
    "%pip install numpy pandas pandas_datareader patsy statsmodels wooldridge -q"
   ]
  },
  {
   "cell_type": "code",
   "execution_count": 7,
   "id": "dc37c9f2",
   "metadata": {},
   "outputs": [],
   "source": [
    "import numpy as np  # noqa\n",
    "import pandas as pd\n",
    "import patsy as pt\n",
    "import statsmodels.api as sm\n",
    "import statsmodels.formula.api as smf\n",
    "import wooldridge as wool"
   ]
  },
  {
   "cell_type": "markdown",
   "metadata": {},
   "source": [
    "## 12.1 Testing for Serial Correlation of the Error Term\n",
    "\n",
    "### Example 12.2: Testing for AR(1) Serial Correlation"
   ]
  },
  {
   "cell_type": "code",
   "execution_count": 8,
   "metadata": {},
   "outputs": [
    {
     "name": "stdout",
     "output_type": "stream",
     "text": [
      "table: \n",
      "                   b      se       t    pval\n",
      "Intercept    -0.1134  0.3594 -0.3155  0.7538\n",
      "resid_s_lag1  0.5730  0.1161  4.9337  0.0000\n",
      "\n"
     ]
    }
   ],
   "source": [
    "phillips = wool.data(\"phillips\")\n",
    "T = len(phillips)\n",
    "\n",
    "# define yearly time series beginning in 1948:\n",
    "date_range = pd.date_range(start=\"1948\", periods=T, freq=\"YE\")\n",
    "phillips.index = date_range.year\n",
    "\n",
    "# estimation of static Phillips curve:\n",
    "yt96 = phillips[\"year\"] <= 1996\n",
    "reg_s = smf.ols(formula='Q(\"inf\") ~ unem', data=phillips, subset=yt96)\n",
    "results_s = reg_s.fit()\n",
    "\n",
    "# residuals and AR(1) test:\n",
    "phillips[\"resid_s\"] = results_s.resid\n",
    "phillips[\"resid_s_lag1\"] = phillips[\"resid_s\"].shift(1)\n",
    "reg = smf.ols(formula=\"resid_s ~ resid_s_lag1\", data=phillips, subset=yt96)\n",
    "results = reg.fit()\n",
    "\n",
    "# print regression table:\n",
    "table = pd.DataFrame(\n",
    "    {\n",
    "        \"b\": round(results.params, 4),\n",
    "        \"se\": round(results.bse, 4),\n",
    "        \"t\": round(results.tvalues, 4),\n",
    "        \"pval\": round(results.pvalues, 4),\n",
    "    },\n",
    ")\n",
    "print(f\"table: \\n{table}\\n\")"
   ]
  },
  {
   "cell_type": "code",
   "execution_count": 9,
   "metadata": {},
   "outputs": [
    {
     "name": "stdout",
     "output_type": "stream",
     "text": [
      "table: \n",
      "                    b      se       t    pval\n",
      "Intercept      0.1942  0.3004  0.6464  0.5213\n",
      "resid_ea_lag1 -0.0356  0.1239 -0.2873  0.7752\n",
      "\n"
     ]
    }
   ],
   "source": [
    "phillips = wool.data(\"phillips\")\n",
    "T = len(phillips)\n",
    "\n",
    "# define yearly time series beginning in 1948:\n",
    "date_range = pd.date_range(start=\"1948\", periods=T, freq=\"YE\")\n",
    "phillips.index = date_range.year\n",
    "\n",
    "# estimation of expectations-augmented Phillips curve:\n",
    "yt96 = phillips[\"year\"] <= 1996\n",
    "phillips[\"inf_diff1\"] = phillips[\"inf\"].diff()\n",
    "reg_ea = smf.ols(formula=\"inf_diff1 ~ unem\", data=phillips, subset=yt96)\n",
    "results_ea = reg_ea.fit()\n",
    "\n",
    "phillips[\"resid_ea\"] = results_ea.resid\n",
    "phillips[\"resid_ea_lag1\"] = phillips[\"resid_ea\"].shift(1)\n",
    "reg = smf.ols(formula=\"resid_ea ~ resid_ea_lag1\", data=phillips, subset=yt96)\n",
    "results = reg.fit()\n",
    "\n",
    "# print regression table:\n",
    "table = pd.DataFrame(\n",
    "    {\n",
    "        \"b\": round(results.params, 4),\n",
    "        \"se\": round(results.bse, 4),\n",
    "        \"t\": round(results.tvalues, 4),\n",
    "        \"pval\": round(results.pvalues, 4),\n",
    "    },\n",
    ")\n",
    "print(f\"table: \\n{table}\\n\")"
   ]
  },
  {
   "cell_type": "markdown",
   "metadata": {},
   "source": [
    "### Example 12.4: Testing for AR(3) Serial Correlation"
   ]
  },
  {
   "cell_type": "code",
   "execution_count": 10,
   "metadata": {},
   "outputs": [
    {
     "name": "stdout",
     "output_type": "stream",
     "text": [
      "fstat_auto: 5.124662239772472\n",
      "\n",
      "fpval_auto: 0.0022637197671316776\n",
      "\n"
     ]
    }
   ],
   "source": [
    "barium = wool.data(\"barium\")\n",
    "T = len(barium)\n",
    "\n",
    "# monthly time series starting Feb. 1978:\n",
    "barium.index = pd.date_range(start=\"1978-02\", periods=T, freq=\"ME\")\n",
    "\n",
    "reg = smf.ols(\n",
    "    formula=\"np.log(chnimp) ~ np.log(chempi) + np.log(gas) +\"\n",
    "    \"np.log(rtwex) + befile6 + affile6 + afdec6\",\n",
    "    data=barium,\n",
    ")\n",
    "results = reg.fit()\n",
    "\n",
    "# automatic test:\n",
    "bg_result = sm.stats.diagnostic.acorr_breusch_godfrey(results, nlags=3)\n",
    "fstat_auto = bg_result[2]\n",
    "fpval_auto = bg_result[3]\n",
    "print(f\"fstat_auto: {fstat_auto}\\n\")\n",
    "print(f\"fpval_auto: {fpval_auto}\\n\")"
   ]
  },
  {
   "cell_type": "code",
   "execution_count": 11,
   "metadata": {},
   "outputs": [
    {
     "name": "stdout",
     "output_type": "stream",
     "text": [
      "fstat_manual: 5.122907054069379\n",
      "\n",
      "fpval_manual: 0.002289802832966284\n",
      "\n"
     ]
    }
   ],
   "source": [
    "# pedestrian test:\n",
    "barium[\"resid\"] = results.resid\n",
    "barium[\"resid_lag1\"] = barium[\"resid\"].shift(1)\n",
    "barium[\"resid_lag2\"] = barium[\"resid\"].shift(2)\n",
    "barium[\"resid_lag3\"] = barium[\"resid\"].shift(3)\n",
    "\n",
    "reg_manual = smf.ols(\n",
    "    formula=\"resid ~ resid_lag1 + resid_lag2 + resid_lag3 +\"\n",
    "    \"np.log(chempi) + np.log(gas) + np.log(rtwex) +\"\n",
    "    \"befile6 + affile6 + afdec6\",\n",
    "    data=barium,\n",
    ")\n",
    "results_manual = reg_manual.fit()\n",
    "\n",
    "hypotheses = [\"resid_lag1 = 0\", \"resid_lag2 = 0\", \"resid_lag3 = 0\"]\n",
    "ftest_manual = results_manual.f_test(hypotheses)\n",
    "fstat_manual = ftest_manual.statistic\n",
    "fpval_manual = ftest_manual.pvalue\n",
    "print(f\"fstat_manual: {fstat_manual}\\n\")\n",
    "print(f\"fpval_manual: {fpval_manual}\\n\")"
   ]
  },
  {
   "cell_type": "code",
   "execution_count": 12,
   "metadata": {},
   "outputs": [
    {
     "name": "stdout",
     "output_type": "stream",
     "text": [
      "DW_s: 0.802700467848626\n",
      "\n",
      "DW_ea: 1.7696478574549563\n",
      "\n"
     ]
    }
   ],
   "source": [
    "phillips = wool.data(\"phillips\")\n",
    "T = len(phillips)\n",
    "\n",
    "# define yearly time series beginning in 1948:\n",
    "date_range = pd.date_range(start=\"1948\", periods=T, freq=\"YE\")\n",
    "phillips.index = date_range.year\n",
    "\n",
    "# estimation of both Phillips curve models:\n",
    "yt96 = phillips[\"year\"] <= 1996\n",
    "phillips[\"inf_diff1\"] = phillips[\"inf\"].diff()\n",
    "reg_s = smf.ols(formula='Q(\"inf\") ~ unem', data=phillips, subset=yt96)\n",
    "reg_ea = smf.ols(formula=\"inf_diff1 ~ unem\", data=phillips, subset=yt96)\n",
    "results_s = reg_s.fit()\n",
    "results_ea = reg_ea.fit()\n",
    "\n",
    "# DW tests:\n",
    "DW_s = sm.stats.stattools.durbin_watson(results_s.resid)\n",
    "DW_ea = sm.stats.stattools.durbin_watson(results_ea.resid)\n",
    "print(f\"DW_s: {DW_s}\\n\")\n",
    "print(f\"DW_ea: {DW_ea}\\n\")"
   ]
  },
  {
   "cell_type": "markdown",
   "metadata": {},
   "source": [
    "## 12.2 FGLS Estimation\n",
    "\n",
    "### Example 12.5: Cochrane-Orcutt Estimation"
   ]
  },
  {
   "cell_type": "code",
   "execution_count": 13,
   "metadata": {},
   "outputs": [
    {
     "name": "stdout",
     "output_type": "stream",
     "text": [
      "reg.rho: [0.29585313]\n",
      "\n",
      "table: \n",
      "                   b_CORC    se_CORC\n",
      "Intercept      -37.512978  23.239015\n",
      "np.log(chempi)   2.945448   0.647696\n",
      "np.log(gas)      1.063321   0.991558\n",
      "np.log(rtwex)    1.138404   0.514910\n",
      "befile6         -0.017314   0.321390\n",
      "affile6         -0.033108   0.323806\n",
      "afdec6          -0.577328   0.344075\n",
      "\n"
     ]
    }
   ],
   "source": [
    "barium = wool.data(\"barium\")\n",
    "T = len(barium)\n",
    "\n",
    "# monthly time series starting Feb. 1978:\n",
    "barium.index = pd.date_range(start=\"1978-02\", periods=T, freq=\"ME\")\n",
    "\n",
    "# perform the Cochrane-Orcutt estimation (iterative procedure):\n",
    "y, X = pt.dmatrices(\n",
    "    \"np.log(chnimp) ~ np.log(chempi) + np.log(gas) +\"\n",
    "    \"np.log(rtwex) + befile6 + affile6 + afdec6\",\n",
    "    data=barium,\n",
    "    return_type=\"dataframe\",\n",
    ")\n",
    "reg = sm.GLSAR(y, X)\n",
    "CORC_results = reg.iterative_fit(maxiter=100)\n",
    "table = pd.DataFrame({\"b_CORC\": CORC_results.params, \"se_CORC\": CORC_results.bse})\n",
    "print(f\"reg.rho: {reg.rho}\\n\")\n",
    "print(f\"table: \\n{table}\\n\")"
   ]
  },
  {
   "cell_type": "markdown",
   "metadata": {},
   "source": [
    "## 12.3 Serial Correlation-Robust Inference with OLS\n",
    "\n",
    "### Example 12.1: The Puerto Rican Minimum Wage"
   ]
  },
  {
   "cell_type": "code",
   "execution_count": 14,
   "metadata": {},
   "outputs": [
    {
     "name": "stdout",
     "output_type": "stream",
     "text": [
      "table_regu: \n",
      "                     b      se       t    pval\n",
      "Intercept      -6.6634  1.2578 -5.2976  0.0000\n",
      "np.log(mincov) -0.2123  0.0402 -5.2864  0.0000\n",
      "np.log(prgnp)   0.2852  0.0805  3.5437  0.0012\n",
      "np.log(usgnp)   0.4860  0.2220  2.1896  0.0357\n",
      "time           -0.0267  0.0046 -5.7629  0.0000\n",
      "\n"
     ]
    }
   ],
   "source": [
    "prminwge = wool.data(\"prminwge\")\n",
    "T = len(prminwge)\n",
    "prminwge[\"time\"] = prminwge[\"year\"] - 1949\n",
    "prminwge.index = pd.date_range(start=\"1950\", periods=T, freq=\"YE\").year\n",
    "\n",
    "# OLS regression:\n",
    "reg = smf.ols(\n",
    "    formula=\"np.log(prepop) ~ np.log(mincov) + np.log(prgnp) +np.log(usgnp) + time\",\n",
    "    data=prminwge,\n",
    ")\n",
    "\n",
    "# results with regular SE:\n",
    "results_regu = reg.fit()\n",
    "\n",
    "# print regression table:\n",
    "table_regu = pd.DataFrame(\n",
    "    {\n",
    "        \"b\": round(results_regu.params, 4),\n",
    "        \"se\": round(results_regu.bse, 4),\n",
    "        \"t\": round(results_regu.tvalues, 4),\n",
    "        \"pval\": round(results_regu.pvalues, 4),\n",
    "    },\n",
    ")\n",
    "print(f\"table_regu: \\n{table_regu}\\n\")"
   ]
  },
  {
   "cell_type": "code",
   "execution_count": 15,
   "metadata": {},
   "outputs": [
    {
     "name": "stdout",
     "output_type": "stream",
     "text": [
      "table_hac: \n",
      "                     b      se       t    pval\n",
      "Intercept      -6.6634  1.4318 -4.6539  0.0000\n",
      "np.log(mincov) -0.2123  0.0426 -4.9821  0.0000\n",
      "np.log(prgnp)   0.2852  0.0928  3.0720  0.0021\n",
      "np.log(usgnp)   0.4860  0.2601  1.8687  0.0617\n",
      "time           -0.0267  0.0054 -4.9710  0.0000\n",
      "\n"
     ]
    }
   ],
   "source": [
    "# results with HAC SE:\n",
    "results_hac = reg.fit(cov_type=\"HAC\", cov_kwds={\"maxlags\": 2})\n",
    "\n",
    "# print regression table:\n",
    "table_hac = pd.DataFrame(\n",
    "    {\n",
    "        \"b\": round(results_hac.params, 4),\n",
    "        \"se\": round(results_hac.bse, 4),\n",
    "        \"t\": round(results_hac.tvalues, 4),\n",
    "        \"pval\": round(results_hac.pvalues, 4),\n",
    "    },\n",
    ")\n",
    "print(f\"table_hac: \\n{table_hac}\\n\")"
   ]
  },
  {
   "cell_type": "markdown",
   "metadata": {},
   "source": [
    "## 12.4 Autoregressive Conditional Heteroskedasticity\n",
    "\n",
    "### Example 12.9: ARCH in Stock Returns"
   ]
  },
  {
   "cell_type": "code",
   "execution_count": 16,
   "metadata": {},
   "outputs": [
    {
     "name": "stdout",
     "output_type": "stream",
     "text": [
      "table: \n",
      "                    b      se       t  pval\n",
      "Intercept      2.9474  0.4402  6.6951   0.0\n",
      "resid_sq_lag1  0.3371  0.0359  9.3767   0.0\n",
      "\n"
     ]
    }
   ],
   "source": [
    "nyse = wool.data(\"nyse\")\n",
    "nyse[\"ret\"] = nyse[\"return\"]\n",
    "nyse[\"ret_lag1\"] = nyse[\"ret\"].shift(1)\n",
    "\n",
    "# linear regression of model:\n",
    "reg = smf.ols(formula=\"ret ~ ret_lag1\", data=nyse)\n",
    "results = reg.fit()\n",
    "\n",
    "# squared residuals:\n",
    "nyse[\"resid_sq\"] = results.resid**2\n",
    "nyse[\"resid_sq_lag1\"] = nyse[\"resid_sq\"].shift(1)\n",
    "\n",
    "# model for squared residuals:\n",
    "ARCHreg = smf.ols(formula=\"resid_sq ~ resid_sq_lag1\", data=nyse)\n",
    "results_ARCH = ARCHreg.fit()\n",
    "\n",
    "# print regression table:\n",
    "table = pd.DataFrame(\n",
    "    {\n",
    "        \"b\": round(results_ARCH.params, 4),\n",
    "        \"se\": round(results_ARCH.bse, 4),\n",
    "        \"t\": round(results_ARCH.tvalues, 4),\n",
    "        \"pval\": round(results_ARCH.pvalues, 4),\n",
    "    },\n",
    ")\n",
    "print(f\"table: \\n{table}\\n\")"
   ]
  }
 ],
 "metadata": {
  "jupytext": {
   "formats": "notebooks//ipynb,markdown//md,scripts//py"
  },
  "kernelspec": {
   "display_name": "merino",
   "language": "python",
   "name": "python3"
  },
  "language_info": {
   "codemirror_mode": {
    "name": "ipython",
    "version": 3
   },
   "file_extension": ".py",
   "mimetype": "text/x-python",
   "name": "python",
   "nbconvert_exporter": "python",
   "pygments_lexer": "ipython3",
   "version": "3.12.5"
  }
 },
 "nbformat": 4,
 "nbformat_minor": 2
}
