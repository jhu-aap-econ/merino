{
 "cells": [
  {
   "cell_type": "markdown",
   "id": "38221989",
   "metadata": {},
   "source": [
    "# 12. Serial Correlation and Heteroskedasticity in Time Series Regressions\n",
    "\n",
    "This notebook explores two important complications that can arise when applying OLS to time series data: **serial correlation** (also known as autocorrelation) and **heteroskedasticity** in the error terms.\n",
    "\n",
    "*   **Serial Correlation (Autocorrelation):** Occurs when the error terms in different time periods are correlated, i.e., $\\text{Corr}(u_t, u_s) \\neq 0$ for $t \\neq s$. This violates the time series assumption of serially uncorrelated errors. Under the time series zero conditional mean assumption TS.3' from Chapter 11 (contemporaneous exogeneity: $E(u_t|x_t, x_{t-1}, \\ldots) = 0$), OLS coefficient estimates remain **unbiased** and **consistent**. However, the standard errors calculated by standard OLS formulas are **incorrect** (typically biased downwards), leading to invalid t-statistics, p-values, and confidence intervals.\n",
    "\n",
    "*   **Heteroskedasticity:** Occurs when the variance of the error term is not constant across time, i.e., $\\text{Var}(u_t|x_t, x_{t-1}, \\ldots)$ depends on $t$. As discussed in Chapter 8 for cross-sectional data, heteroskedasticity leads to incorrect OLS standard errors and invalid inference under standard formulas, although coefficient estimates remain unbiased and consistent under the zero conditional mean assumption.\n",
    "\n",
    "**Combined Effects:** In time series data, it is common to have both serial correlation and heteroskedasticity simultaneously. Standard OLS inference is invalid under either or both violations. We need methods that account for both issues simultaneously.\n",
    "\n",
    "We will cover methods for testing for these issues and discuss strategies for obtaining valid inference, either by using Feasible Generalized Least Squares (FGLS) or by correcting the OLS standard errors.\n",
    "\n",
    "First, let's install and import the necessary libraries."
   ]
  },
  {
   "cell_type": "code",
   "execution_count": 1,
   "id": "fa6dd29a",
   "metadata": {
    "execution": {
     "iopub.execute_input": "2025-10-18T13:33:34.737392Z",
     "iopub.status.busy": "2025-10-18T13:33:34.737273Z",
     "iopub.status.idle": "2025-10-18T13:33:34.740765Z",
     "shell.execute_reply": "2025-10-18T13:33:34.740528Z"
    }
   },
   "outputs": [],
   "source": [
    "# %pip install numpy pandas pandas_datareader patsy statsmodels wooldridge -q"
   ]
  },
  {
   "cell_type": "code",
   "execution_count": 2,
   "id": "dc37c9f2",
   "metadata": {
    "execution": {
     "iopub.execute_input": "2025-10-18T13:33:34.742099Z",
     "iopub.status.busy": "2025-10-18T13:33:34.742005Z",
     "iopub.status.idle": "2025-10-18T13:33:40.394919Z",
     "shell.execute_reply": "2025-10-18T13:33:40.394596Z"
    }
   },
   "outputs": [],
   "source": [
    "import numpy as np  # noqa\n",
    "import pandas as pd\n",
    "import patsy as pt  # Used for creating design matrices easily from formulas\n",
    "import statsmodels.api as sm  # Provides statistical models and tests\n",
    "import statsmodels.formula.api as smf  # Convenient formula interface for statsmodels\n",
    "import wooldridge as wool  # Access to Wooldridge textbook datasets"
   ]
  },
  {
   "cell_type": "markdown",
   "metadata": {},
   "source": [
    "## 12.1 Testing for Serial Correlation of the Error Term\n",
    "\n",
    "Serial correlation means that the error in one time period provides information about the error in subsequent periods. The simplest and most common form is **Autoregressive order 1 (AR(1))** serial correlation, where the error $u_t$ is related to the previous period's error $u_{t-1}$:\n",
    "$$ u_t = \\rho u_{t-1} + e_t $$\n",
    "where $e_t$ is an uncorrelated error term (white noise), and $\\rho$ is the autocorrelation coefficient ($|\\rho| < 1$ for stationarity). If $\\rho \\neq 0$, we have serial correlation.\n",
    "\n",
    "A common way to test for AR(1) serial correlation is to:\n",
    "1.  Estimate the original model by OLS and obtain the residuals, $\\hat{u}_t$.\n",
    "2.  Regress the residuals on their first lag: $\\hat{u}_t$ on $\\hat{u}_{t-1}$.\n",
    "3.  Perform a t-test on the coefficient of $\\hat{u}_{t-1}$. If it is statistically significant, we reject the null hypothesis of no serial correlation ($\\rho = 0$).\n",
    "\n",
    "### Example 12.2: Testing for AR(1) Serial Correlation in Phillips Curves\n",
    "\n",
    "We test for AR(1) serial correlation in the residuals of two Phillips curve models estimated using data up to 1996:\n",
    "1.  **Static Phillips Curve:** Inflation (`inf`) regressed on unemployment (`unem`).\n",
    "2.  **Expectations-Augmented Phillips Curve:** Change in inflation (`inf_diff1`) regressed on unemployment (`unem`)."
   ]
  },
  {
   "cell_type": "code",
   "execution_count": 3,
   "metadata": {
    "execution": {
     "iopub.execute_input": "2025-10-18T13:33:40.396541Z",
     "iopub.status.busy": "2025-10-18T13:33:40.396400Z",
     "iopub.status.idle": "2025-10-18T13:33:40.409902Z",
     "shell.execute_reply": "2025-10-18T13:33:40.409534Z"
    }
   },
   "outputs": [
    {
     "name": "stdout",
     "output_type": "stream",
     "text": [
      "--- Test for AR(1) Serial Correlation (Static Phillips Curve) ---\n",
      "Regression: resid_s ~ resid_s_lag1 \n",
      "                   b      se       t    pval\n",
      "Intercept    -0.1134  0.3594 -0.3155  0.7538\n",
      "resid_s_lag1  0.5730  0.1161  4.9337  0.0000\n",
      "\n"
     ]
    }
   ],
   "source": [
    "# Load the Phillips curve data\n",
    "phillips = wool.data(\"phillips\")\n",
    "T = len(phillips)\n",
    "\n",
    "# Define a yearly time series index starting in 1948\n",
    "date_range = pd.date_range(start=\"1948\", periods=T, freq=\"YE\")\n",
    "phillips.index = date_range.year\n",
    "\n",
    "# --- Test for Static Phillips Curve ---\n",
    "\n",
    "# Define subset of data up to 1996\n",
    "yt96 = phillips[\"year\"] <= 1996\n",
    "\n",
    "# 1. Estimate the static Phillips curve model\n",
    "# Use Q() for 'inf' just in case, although not strictly needed here\n",
    "reg_s = smf.ols(formula='Q(\"inf\") ~ unem', data=phillips, subset=yt96)\n",
    "results_s = reg_s.fit()\n",
    "\n",
    "# 2. Obtain residuals and create lagged residuals\n",
    "phillips[\"resid_s\"] = results_s.resid\n",
    "phillips[\"resid_s_lag1\"] = phillips[\"resid_s\"].shift(1)\n",
    "\n",
    "# 3. Regress residuals on lagged residuals (using the same subset of data, note NaNs are handled)\n",
    "# The intercept in this regression should be statistically indistinguishable from zero if the original model included one.\n",
    "reg_test_s = smf.ols(formula=\"resid_s ~ resid_s_lag1\", data=phillips, subset=yt96)\n",
    "results_test_s = reg_test_s.fit()\n",
    "\n",
    "# Print the results of the residual regression\n",
    "print(\"--- Test for AR(1) Serial Correlation (Static Phillips Curve) ---\")\n",
    "table_s = pd.DataFrame(\n",
    "    {\n",
    "        \"b\": round(results_test_s.params, 4),\n",
    "        \"se\": round(results_test_s.bse, 4),\n",
    "        \"t\": round(results_test_s.tvalues, 4),\n",
    "        \"pval\": round(results_test_s.pvalues, 4),\n",
    "    },\n",
    ")\n",
    "print(f\"Regression: resid_s ~ resid_s_lag1 \\n{table_s}\\n\")\n",
    "\n",
    "# Interpretation (Static Phillips Curve):\n",
    "# The coefficient on the lagged residual (resid_s_lag1) is 0.5730, and it is highly\n",
    "# statistically significant (p-value = 0.0000). This provides strong evidence of positive\n",
    "# AR(1) serial correlation in the errors of the static Phillips curve model.\n",
    "# OLS standard errors for the original regression are likely invalid."
   ]
  },
  {
   "cell_type": "code",
   "execution_count": 4,
   "metadata": {
    "execution": {
     "iopub.execute_input": "2025-10-18T13:33:40.411249Z",
     "iopub.status.busy": "2025-10-18T13:33:40.411158Z",
     "iopub.status.idle": "2025-10-18T13:33:40.421935Z",
     "shell.execute_reply": "2025-10-18T13:33:40.421701Z"
    }
   },
   "outputs": [
    {
     "name": "stdout",
     "output_type": "stream",
     "text": [
      "--- Test for AR(1) Serial Correlation (Expectations-Augmented Phillips Curve) ---\n",
      "Regression: resid_ea ~ resid_ea_lag1 \n",
      "                    b      se       t    pval\n",
      "Intercept      0.1942  0.3004  0.6464  0.5213\n",
      "resid_ea_lag1 -0.0356  0.1239 -0.2873  0.7752\n",
      "\n"
     ]
    }
   ],
   "source": [
    "# --- Test for Expectations-Augmented Phillips Curve ---\n",
    "# Reload data or ensure previous modifications don't interfere if running cells independently\n",
    "phillips = wool.data(\"phillips\")\n",
    "T = len(phillips)\n",
    "date_range = pd.date_range(start=\"1948\", periods=T, freq=\"YE\")\n",
    "phillips.index = date_range.year\n",
    "yt96 = phillips[\"year\"] <= 1996\n",
    "\n",
    "# 1. Estimate the expectations-augmented Phillips curve model\n",
    "# Calculate the change in inflation (first difference)\n",
    "phillips[\"inf_diff1\"] = phillips[\"inf\"].diff()\n",
    "reg_ea = smf.ols(formula=\"inf_diff1 ~ unem\", data=phillips, subset=yt96)\n",
    "results_ea = reg_ea.fit()\n",
    "\n",
    "# 2. Obtain residuals and create lagged residuals\n",
    "phillips[\"resid_ea\"] = results_ea.resid\n",
    "phillips[\"resid_ea_lag1\"] = phillips[\"resid_ea\"].shift(1)\n",
    "\n",
    "# 3. Regress residuals on lagged residuals\n",
    "reg_test_ea = smf.ols(formula=\"resid_ea ~ resid_ea_lag1\", data=phillips, subset=yt96)\n",
    "results_test_ea = reg_test_ea.fit()\n",
    "\n",
    "# Print the results of the residual regression\n",
    "print(\n",
    "    \"--- Test for AR(1) Serial Correlation (Expectations-Augmented Phillips Curve) ---\",\n",
    ")\n",
    "table_ea = pd.DataFrame(\n",
    "    {\n",
    "        \"b\": round(results_test_ea.params, 4),\n",
    "        \"se\": round(results_test_ea.bse, 4),\n",
    "        \"t\": round(results_test_ea.tvalues, 4),\n",
    "        \"pval\": round(results_test_ea.pvalues, 4),\n",
    "    },\n",
    ")\n",
    "print(f\"Regression: resid_ea ~ resid_ea_lag1 \\n{table_ea}\\n\")\n",
    "\n",
    "# Interpretation (Expectations-Augmented Phillips Curve):\n",
    "# The coefficient on the lagged residual (resid_ea_lag1) is -0.0356, which is much smaller\n",
    "# than in the static model and is not statistically significant at conventional levels (p-value = 0.7752).\n",
    "# This suggests that the expectations-augmented model (using the change in inflation)\n",
    "# has largely eliminated the AR(1) serial correlation found in the static model."
   ]
  },
  {
   "cell_type": "markdown",
   "metadata": {},
   "source": [
    "### Testing for Higher-Order Serial Correlation: Breusch-Godfrey Test\n",
    "\n",
    "Serial correlation might extend beyond just one lag (e.g., AR(q) process). The **Breusch-Godfrey (BG) test** is a general test for AR(q) serial correlation.\n",
    "The null hypothesis is $H_0: \\rho_1 = 0, \\rho_2 = 0, ..., \\rho_q = 0$.\n",
    "The test involves:\n",
    "1.  Estimate the original model by OLS and get residuals $\\hat{u}_t$.\n",
    "2.  Regress $\\hat{u}_t$ on the original regressors ($x_{t1}, ..., x_{tk}$) **and** the lagged residuals ($\\hat{u}_{t-1}, ..., \\hat{u}_{t-q}$).\n",
    "3.  Compute the F-statistic for the joint significance of the coefficients on the lagged residuals. A significant F-statistic indicates rejection of the null hypothesis (i.e., presence of serial correlation up to order q).\n",
    "\n",
    "Including the original regressors in the auxiliary regression makes the test robust even if some regressors are lagged dependent variables.\n",
    "\n",
    "### Example 12.4: Testing for AR(3) Serial Correlation in Barium Imports Model\n",
    "\n",
    "We test for serial correlation up to order 3 (AR(3)) in the errors of the Barium imports model from Chapter 10."
   ]
  },
  {
   "cell_type": "code",
   "execution_count": 5,
   "metadata": {
    "execution": {
     "iopub.execute_input": "2025-10-18T13:33:40.423559Z",
     "iopub.status.busy": "2025-10-18T13:33:40.423448Z",
     "iopub.status.idle": "2025-10-18T13:33:40.434519Z",
     "shell.execute_reply": "2025-10-18T13:33:40.434232Z"
    }
   },
   "outputs": [
    {
     "name": "stdout",
     "output_type": "stream",
     "text": [
      "--- Breusch-Godfrey Test (Automated) ---\n",
      "BG Test F-statistic (lags=3): 5.1247\n",
      "BG Test F p-value: 0.0023\n",
      "\n"
     ]
    }
   ],
   "source": [
    "# Load Barium data\n",
    "barium = wool.data(\"barium\")\n",
    "T = len(barium)\n",
    "\n",
    "# Define monthly time series index\n",
    "barium.index = pd.date_range(start=\"1978-02\", periods=T, freq=\"ME\")\n",
    "\n",
    "# 1. Estimate the original model\n",
    "reg = smf.ols(\n",
    "    formula=\"np.log(chnimp) ~ np.log(chempi) + np.log(gas) +\"\n",
    "    \"np.log(rtwex) + befile6 + affile6 + afdec6\",\n",
    "    data=barium,\n",
    ")\n",
    "results = reg.fit()\n",
    "\n",
    "# --- Breusch-Godfrey Test using statsmodels built-in function ---\n",
    "# This is the recommended way. It automatically performs steps 2 & 3.\n",
    "# We test up to nlags=3.\n",
    "print(\"--- Breusch-Godfrey Test (Automated) ---\")\n",
    "# Returns: LM statistic, LM p-value, F statistic, F p-value\n",
    "bg_result = sm.stats.diagnostic.acorr_breusch_godfrey(results, nlags=3)\n",
    "fstat_auto = bg_result[2]\n",
    "fpval_auto = bg_result[3]\n",
    "print(f\"BG Test F-statistic (lags=3): {fstat_auto:.4f}\")\n",
    "print(f\"BG Test F p-value: {fpval_auto:.4f}\\n\")\n",
    "\n",
    "# Interpretation (Automated BG Test):\n",
    "# The F-statistic is large (5.1247) and the p-value is very small (0.0023).\n",
    "# We strongly reject the null hypothesis of no serial correlation up to order 3.\n",
    "# There is significant evidence of serial correlation in the model's errors."
   ]
  },
  {
   "cell_type": "code",
   "execution_count": 6,
   "metadata": {
    "execution": {
     "iopub.execute_input": "2025-10-18T13:33:40.435812Z",
     "iopub.status.busy": "2025-10-18T13:33:40.435708Z",
     "iopub.status.idle": "2025-10-18T13:33:40.447048Z",
     "shell.execute_reply": "2025-10-18T13:33:40.446782Z"
    }
   },
   "outputs": [
    {
     "name": "stdout",
     "output_type": "stream",
     "text": [
      "--- Breusch-Godfrey Test (Manual) ---\n",
      "Manual BG F-statistic (lags=3): 5.1229\n",
      "Manual BG F p-value: 0.0023\n",
      "\n"
     ]
    }
   ],
   "source": [
    "# --- Breusch-Godfrey Test (Manual / \"Pedestrian\" Calculation) ---\n",
    "# This demonstrates the steps involved.\n",
    "\n",
    "# 2. Get residuals and create lags\n",
    "barium[\"resid\"] = results.resid\n",
    "barium[\"resid_lag1\"] = barium[\"resid\"].shift(1)\n",
    "barium[\"resid_lag2\"] = barium[\"resid\"].shift(2)\n",
    "barium[\"resid_lag3\"] = barium[\"resid\"].shift(3)\n",
    "\n",
    "# 3. Run auxiliary regression: residuals on original regressors and lagged residuals\n",
    "# Note: We must include ALL original regressors from the first stage.\n",
    "reg_manual_bg = smf.ols(\n",
    "    formula=\"resid ~ resid_lag1 + resid_lag2 + resid_lag3 +\"\n",
    "    \"np.log(chempi) + np.log(gas) + np.log(rtwex) +\"\n",
    "    \"befile6 + affile6 + afdec6\",\n",
    "    data=barium,  # statsmodels handles NaNs introduced by lags\n",
    ")\n",
    "results_manual_bg = reg_manual_bg.fit()\n",
    "\n",
    "# 4. Perform F-test for joint significance of lagged residuals\n",
    "hypotheses = [\"resid_lag1 = 0\", \"resid_lag2 = 0\", \"resid_lag3 = 0\"]\n",
    "ftest_manual = results_manual_bg.f_test(hypotheses)\n",
    "fstat_manual = ftest_manual.statistic  # Extract F-stat value\n",
    "fpval_manual = ftest_manual.pvalue\n",
    "print(\"--- Breusch-Godfrey Test (Manual) ---\")\n",
    "print(f\"Manual BG F-statistic (lags=3): {fstat_manual:.4f}\")\n",
    "print(f\"Manual BG F p-value: {fpval_manual:.4f}\\n\")\n",
    "\n",
    "# Interpretation (Manual BG Test):\n",
    "# The manually calculated F-statistic and p-value match the automated results,\n",
    "# confirming significant serial correlation up to order 3."
   ]
  },
  {
   "cell_type": "markdown",
   "id": "f45a40c6",
   "metadata": {},
   "source": [
    "### Durbin-Watson Test\n",
    "\n",
    "The Durbin-Watson (DW) statistic is an older test primarily designed for AR(1) serial correlation ($u_t = \\rho u_{t-1} + e_t$).\n",
    "$$ DW = \\frac{\\sum_{t=2}^T (\\hat{u}_t - \\hat{u}_{t-1})^2}{\\sum_{t=1}^T \\hat{u}_t^2} \\approx 2(1 - \\hat{\\rho}) $$\n",
    "where $\\hat{\\rho}$ is the estimated AR(1) coefficient from the residual regression.\n",
    "*   If $\\hat{\\rho} \\approx 0$ (no serial correlation), $DW \\approx 2$.\n",
    "*   If $\\hat{\\rho} \\approx 1$ (strong positive serial correlation), $DW \\approx 0$.\n",
    "*   If $\\hat{\\rho} \\approx -1$ (strong negative serial correlation), $DW \\approx 4$.\n",
    "\n",
    "**Limitations:**\n",
    "*   Requires the assumption that regressors are strictly exogenous (stronger than needed for BG test). Not valid if lagged dependent variables are included.\n",
    "*   Has \"inconclusive regions\" in its critical value tables.\n",
    "*   Primarily tests for AR(1).\n",
    "\n",
    "It's generally recommended to use the Breusch-Godfrey test, but `statsmodels` provides the DW statistic easily."
   ]
  },
  {
   "cell_type": "code",
   "execution_count": 7,
   "metadata": {
    "execution": {
     "iopub.execute_input": "2025-10-18T13:33:40.448350Z",
     "iopub.status.busy": "2025-10-18T13:33:40.448268Z",
     "iopub.status.idle": "2025-10-18T13:33:40.457595Z",
     "shell.execute_reply": "2025-10-18T13:33:40.457217Z"
    }
   },
   "outputs": [
    {
     "name": "stdout",
     "output_type": "stream",
     "text": [
      "--- Durbin-Watson Statistics ---\n",
      "DW statistic (Static Phillips Curve): 0.8027\n",
      "DW statistic (Expectations-Augmented Phillips Curve): 1.7696\n",
      "\n"
     ]
    }
   ],
   "source": [
    "# --- Durbin-Watson Test for Phillips Curve Models ---\n",
    "# Reload data or ensure models are estimated if running cells independently\n",
    "phillips = wool.data(\"phillips\")\n",
    "T = len(phillips)\n",
    "date_range = pd.date_range(start=\"1948\", periods=T, freq=\"YE\")\n",
    "phillips.index = date_range.year\n",
    "yt96 = phillips[\"year\"] <= 1996\n",
    "phillips[\"inf_diff1\"] = phillips[\"inf\"].diff()\n",
    "# Re-estimate models if necessary\n",
    "reg_s = smf.ols(formula='Q(\"inf\") ~ unem', data=phillips, subset=yt96)\n",
    "reg_ea = smf.ols(formula=\"inf_diff1 ~ unem\", data=phillips, subset=yt96)\n",
    "results_s = reg_s.fit()\n",
    "results_ea = reg_ea.fit()\n",
    "\n",
    "# Calculate DW statistics from the residuals of the original models\n",
    "DW_s = sm.stats.stattools.durbin_watson(results_s.resid)\n",
    "DW_ea = sm.stats.stattools.durbin_watson(results_ea.resid)\n",
    "\n",
    "print(\"--- Durbin-Watson Statistics ---\")\n",
    "print(f\"DW statistic (Static Phillips Curve): {DW_s:.4f}\")\n",
    "print(f\"DW statistic (Expectations-Augmented Phillips Curve): {DW_ea:.4f}\\n\")\n",
    "\n",
    "# Interpretation:\n",
    "# - Static model: DW = 0.8027. This is far below 2, indicating strong positive serial correlation, consistent with our earlier AR(1) test.\n",
    "# - Expectations-Augmented model: DW = 1.7696. This is much closer to 2, suggesting little evidence of AR(1) serial correlation, also consistent with our earlier test.\n",
    "# (Formal conclusion requires comparing these to critical values from DW tables, considering sample size and number of regressors)."
   ]
  },
  {
   "cell_type": "markdown",
   "metadata": {},
   "source": [
    "## 12.2 FGLS Estimation\n",
    "\n",
    "When serial correlation is present, OLS is inefficient (i.e., not the Best Linear Unbiased Estimator), and its standard errors are invalid. **Feasible Generalized Least Squares (FGLS)** is a method to obtain estimators that are asymptotically more efficient than OLS by transforming the model to eliminate the serial correlation.\n",
    "\n",
    "Common FGLS procedures for AR(1) errors include **Cochrane-Orcutt (C-O)** and **Prais-Winsten (P-W)**. They involve:\n",
    "1.  Estimate the original model by OLS and get residuals $\\hat{u}_t$.\n",
    "2.  Estimate the AR(1) coefficient $\\rho$ by regressing $\\hat{u}_t$ on $\\hat{u}_{t-1}$ (getting $\\hat{\\rho}$).\n",
    "3.  Transform the variables: $y_t^* = y_t - \\hat{\\rho} y_{t-1}$, $x_{tj}^* = x_{tj} - \\hat{\\rho} x_{t,j-1}$. (Prais-Winsten applies a special transformation to the first observation, while C-O drops it).\n",
    "4.  Estimate the transformed model $y_t^* = \\beta_0(1-\\hat{\\rho}) + \\beta_1 x_{t1}^* + ... + \\beta_k x_{tk}^* + \\text{error}$ by OLS.\n",
    "5.  (Cochrane-Orcutt often iterates steps 1-4 until $\\hat{\\rho}$ converges).\n",
    "\n",
    "`statsmodels` provides `GLSAR` (Generalized Least Squares with Autoregressive error) which can implement these procedures.\n",
    "\n",
    "### Example 12.5: Cochrane-Orcutt Estimation for Barium Imports\n",
    "\n",
    "We apply Cochrane-Orcutt FGLS estimation to the Barium imports model, where we previously found significant serial correlation."
   ]
  },
  {
   "cell_type": "code",
   "execution_count": 8,
   "metadata": {
    "execution": {
     "iopub.execute_input": "2025-10-18T13:33:40.459169Z",
     "iopub.status.busy": "2025-10-18T13:33:40.459049Z",
     "iopub.status.idle": "2025-10-18T13:33:40.474244Z",
     "shell.execute_reply": "2025-10-18T13:33:40.473857Z"
    }
   },
   "outputs": [
    {
     "name": "stdout",
     "output_type": "stream",
     "text": [
      "--- Cochrane-Orcutt Estimation Results ---\n",
      "Estimated AR(1) coefficient (rho): 0.2959\n",
      "\n",
      "Cochrane-Orcutt FGLS Estimates:\n",
      "                 b_CORC  se_CORC  t_CORC  pval_CORC\n",
      "Intercept      -37.5130  23.2390 -1.6142     0.1090\n",
      "np.log(chempi)   2.9454   0.6477  4.5476     0.0000\n",
      "np.log(gas)      1.0633   0.9916  1.0724     0.2857\n",
      "np.log(rtwex)    1.1384   0.5149  2.2109     0.0289\n",
      "befile6         -0.0173   0.3214 -0.0539     0.9571\n",
      "affile6         -0.0331   0.3238 -0.1022     0.9187\n",
      "afdec6          -0.5773   0.3441 -1.6779     0.0959\n",
      "\n"
     ]
    }
   ],
   "source": [
    "# Load Barium data\n",
    "barium = wool.data(\"barium\")\n",
    "T = len(barium)\n",
    "barium.index = pd.date_range(start=\"1978-02\", periods=T, freq=\"ME\")\n",
    "\n",
    "# --- Cochrane-Orcutt Estimation using GLSAR ---\n",
    "\n",
    "# 1. Define the model using patsy to get the design matrices (y vector and X matrix)\n",
    "# This is required for the GLSAR class interface.\n",
    "y, X = pt.dmatrices(\n",
    "    \"np.log(chnimp) ~ np.log(chempi) + np.log(gas) +\"\n",
    "    \"np.log(rtwex) + befile6 + affile6 + afdec6\",\n",
    "    data=barium,\n",
    "    return_type=\"dataframe\",  # Get pandas DataFrames\n",
    ")\n",
    "\n",
    "# 2. Initialize the GLSAR model assuming AR(p) errors. Default is AR(1).\n",
    "# We don't specify rho initially; it will be estimated.\n",
    "reg_glsar = sm.GLSAR(y, X)\n",
    "\n",
    "# 3. Perform iterative Cochrane-Orcutt estimation.\n",
    "# maxiter specifies the maximum number of iterations for rho to converge.\n",
    "# GLSAR's iterative_fit implements Cochrane-Orcutt (dropping first obs).\n",
    "# Use fit for Prais-Winsten (keeps first obs with transformation).\n",
    "print(\"--- Cochrane-Orcutt Estimation Results ---\")\n",
    "CORC_results = reg_glsar.iterative_fit(maxiter=100)\n",
    "\n",
    "# 4. Display results: estimated rho and FGLS coefficients/standard errors\n",
    "print(\n",
    "    f\"Estimated AR(1) coefficient (rho): {reg_glsar.rho[0]:.4f}\\n\",\n",
    ")  # rho is estimated during iteration\n",
    "table_corc = pd.DataFrame(\n",
    "    {\n",
    "        \"b_CORC\": round(CORC_results.params, 4),\n",
    "        \"se_CORC\": round(CORC_results.bse, 4),  # These are the FGLS standard errors\n",
    "    },\n",
    ")\n",
    "# Add t-stats and p-values manually if needed:\n",
    "table_corc[\"t_CORC\"] = round(CORC_results.tvalues, 4)\n",
    "table_corc[\"pval_CORC\"] = round(CORC_results.pvalues, 4)\n",
    "print(f\"Cochrane-Orcutt FGLS Estimates:\\n{table_corc}\\n\")\n",
    "\n",
    "# Interpretation:\n",
    "# - The estimated AR(1) coefficient rho is 0.2959, indicating positive serial correlation, consistent with the BG test.\n",
    "# - The table shows the FGLS coefficient estimates (b_CORC) and their standard errors (se_CORC).\n",
    "#   These standard errors are asymptotically valid, unlike the original OLS standard errors.\n",
    "# - Comparing FGLS results to the original OLS results (not shown here) would reveal potentially different standard errors and significance levels for the coefficients.\n",
    "#   The coefficient estimates themselves might also change slightly."
   ]
  },
  {
   "cell_type": "markdown",
   "metadata": {},
   "source": [
    "## 12.3 Serial Correlation-Robust Inference with OLS\n",
    "\n",
    "An alternative to FGLS is to stick with the OLS coefficient estimates (which are consistent under weaker assumptions than needed for FGLS efficiency) but compute **robust standard errors** that account for serial correlation (and potentially heteroskedasticity).\n",
    "\n",
    "These are often called **HAC (Heteroskedasticity and Autocorrelation Consistent)** standard errors, with the **Newey-West** estimator being the most common. This approach corrects the standard errors, t-statistics, and p-values after OLS estimation.\n",
    "\n",
    "**Relationship to Chapter 8:** HAC standard errors generalize the heteroskedasticity-robust (HC) standard errors from Chapter 8 to also account for serial correlation:\n",
    "- **HC standard errors (Chapter 8):** Robust to heteroskedasticity but assume no serial correlation ($\\text{Cov}(u_t, u_s) = 0$ for $t \\neq s$)\n",
    "- **HAC standard errors (Chapter 12):** Robust to both heteroskedasticity **and** serial correlation (autocorrelation)\n",
    "- When serial correlation is absent, HAC standard errors reduce to HC standard errors\n",
    "- HC standard errors (e.g., HC0, HC1, HC3) are appropriate for cross-sectional data; HAC standard errors (e.g., Newey-West) are appropriate for time series data\n",
    "\n",
    "A key choice is the **maximum lag (`maxlags`)** to include when estimating the variance-covariance matrix of the OLS estimator. This determines how many lags of the autocorrelation structure are accounted for. Rules of thumb exist (e.g., related to $T^{1/4}$), or it can be chosen based on where the sample autocorrelation function seems to die out.\n",
    "\n",
    "### Example 12.1: The Puerto Rican Minimum Wage (Revisited)\n",
    "\n",
    "We estimate the effect of the minimum wage coverage (`mincov`) on the employment rate (`prepop`) in Puerto Rico, controlling for GNP variables and a time trend. We compare standard OLS inference with HAC inference."
   ]
  },
  {
   "cell_type": "code",
   "execution_count": 9,
   "metadata": {
    "execution": {
     "iopub.execute_input": "2025-10-18T13:33:40.475706Z",
     "iopub.status.busy": "2025-10-18T13:33:40.475601Z",
     "iopub.status.idle": "2025-10-18T13:33:40.486478Z",
     "shell.execute_reply": "2025-10-18T13:33:40.486199Z"
    }
   },
   "outputs": [
    {
     "name": "stdout",
     "output_type": "stream",
     "text": [
      "--- OLS Results with Standard Standard Errors ---\n",
      "Standard OLS Estimates:\n",
      "                     b      se       t    pval\n",
      "Intercept      -6.6634  1.2578 -5.2976  0.0000\n",
      "np.log(mincov) -0.2123  0.0402 -5.2864  0.0000\n",
      "np.log(prgnp)   0.2852  0.0805  3.5437  0.0012\n",
      "np.log(usgnp)   0.4860  0.2220  2.1896  0.0357\n",
      "time           -0.0267  0.0046 -5.7629  0.0000\n",
      "\n"
     ]
    }
   ],
   "source": [
    "# Load Puerto Rican minimum wage data\n",
    "prminwge = wool.data(\"prminwge\")\n",
    "T = len(prminwge)\n",
    "\n",
    "# Create time trend and set yearly index\n",
    "prminwge[\"time\"] = prminwge[\"year\"] - 1949  # time = 1 (1950), ..., T\n",
    "prminwge.index = pd.date_range(start=\"1950\", periods=T, freq=\"YE\").year\n",
    "\n",
    "# Define the OLS regression model\n",
    "reg = smf.ols(\n",
    "    formula=\"np.log(prepop) ~ np.log(mincov) + np.log(prgnp) + np.log(usgnp) + time\",\n",
    "    data=prminwge,\n",
    ")\n",
    "\n",
    "# --- OLS Results with Standard (Non-Robust) SEs ---\n",
    "results_regu = reg.fit()\n",
    "print(\"--- OLS Results with Standard Standard Errors ---\")\n",
    "table_regu = pd.DataFrame(\n",
    "    {\n",
    "        \"b\": round(results_regu.params, 4),\n",
    "        \"se\": round(results_regu.bse, 4),\n",
    "        \"t\": round(results_regu.tvalues, 4),\n",
    "        \"pval\": round(results_regu.pvalues, 4),\n",
    "    },\n",
    ")\n",
    "print(f\"Standard OLS Estimates:\\n{table_regu}\\n\")\n",
    "\n",
    "# Interpretation (Standard OLS):\n",
    "# The coefficient on log(mincov) is -0.2123 and highly significant (p = 0.0000),\n",
    "# suggesting a negative impact of minimum wage coverage on employment.\n",
    "# However, if serial correlation is present, these standard errors and p-values might be unreliable."
   ]
  },
  {
   "cell_type": "code",
   "execution_count": 10,
   "metadata": {
    "execution": {
     "iopub.execute_input": "2025-10-18T13:33:40.487690Z",
     "iopub.status.busy": "2025-10-18T13:33:40.487610Z",
     "iopub.status.idle": "2025-10-18T13:33:40.491747Z",
     "shell.execute_reply": "2025-10-18T13:33:40.491479Z"
    }
   },
   "outputs": [
    {
     "name": "stdout",
     "output_type": "stream",
     "text": [
      "--- OLS Results with HAC (Newey-West) Standard Errors (maxlags=2) ---\n",
      "OLS Estimates with HAC SEs:\n",
      "                     b      se       t    pval\n",
      "Intercept      -6.6634  1.4318 -4.6539  0.0000\n",
      "np.log(mincov) -0.2123  0.0426 -4.9821  0.0000\n",
      "np.log(prgnp)   0.2852  0.0928  3.0720  0.0021\n",
      "np.log(usgnp)   0.4860  0.2601  1.8687  0.0617\n",
      "time           -0.0267  0.0054 -4.9710  0.0000\n",
      "\n"
     ]
    }
   ],
   "source": [
    "# --- OLS Results with HAC (Newey-West) Standard Errors ---\n",
    "# Use the same fitted OLS model object but specify the covariance type.\n",
    "# cov_type='HAC' requests Heteroskedasticity and Autocorrelation Consistent SEs.\n",
    "# cov_kwds={'maxlags': 2} specifies the maximum lag for the Newey-West estimator.\n",
    "# The choice of maxlags can influence the results. Here, 2 is used following the textbook example.\n",
    "results_hac = reg.fit(cov_type=\"HAC\", cov_kwds={\"maxlags\": 2})\n",
    "\n",
    "print(\"--- OLS Results with HAC (Newey-West) Standard Errors (maxlags=2) ---\")\n",
    "# Note: The coefficients 'b' are identical to standard OLS. Only SEs, t-stats, p-values change.\n",
    "table_hac = pd.DataFrame(\n",
    "    {\n",
    "        \"b\": round(results_hac.params, 4),\n",
    "        \"se\": round(results_hac.bse, 4),  # HAC Standard Errors\n",
    "        \"t\": round(results_hac.tvalues, 4),  # Robust t-statistics\n",
    "        \"pval\": round(results_hac.pvalues, 4),  # Robust p-values\n",
    "    },\n",
    ")\n",
    "print(f\"OLS Estimates with HAC SEs:\\n{table_hac}\\n\")\n",
    "\n",
    "# Interpretation (HAC OLS):\n",
    "# - The coefficient estimates are identical to standard OLS, as expected.\n",
    "# - The HAC standard error for log(mincov) is 0.0426, which is slightly larger than the standard OLS SE (0.0402).\n",
    "# - Consequently, the robust t-statistic (-4.9821) is smaller in magnitude, and the robust p-value (0.0000) remains very small.\n",
    "# - The evidence for the minimum wage effect remains strong after accounting\n",
    "#   for potential serial correlation and heteroskedasticity. This highlights the importance of robust inference."
   ]
  },
  {
   "cell_type": "markdown",
   "metadata": {},
   "source": [
    "## 12.4 Autoregressive Conditional Heteroskedasticity (ARCH)\n",
    "\n",
    "**Autoregressive Conditional Heteroskedasticity (ARCH)** is a specific model for time-varying volatility often observed in financial time series. It assumes the variance of the error term at time $t$, *conditional* on past information, depends on the magnitude of past error terms.\n",
    "\n",
    "The **ARCH(1)** model specifies the conditional variance as:\n",
    "$$ Var(u_t | u_{t-1}, u_{t-2}, ...) = E(u_t^2 | u_{t-1}, u_{t-2}, ...) = \\alpha_0 + \\alpha_1 u_{t-1}^2 $$\n",
    "where $\\alpha_0 > 0$ and $\\alpha_1 \\ge 0$. If $\\alpha_1 > 0$, the variance is higher following periods with large (positive or negative) errors, capturing volatility clustering.\n",
    "\n",
    "**Testing for ARCH(1) effects:**\n",
    "1.  Estimate the mean equation (the original model) by OLS and obtain residuals $\\hat{u}_t$.\n",
    "2.  Square the residuals: $\\hat{u}_t^2$.\n",
    "3.  Regress the squared residuals on their first lag: $\\hat{u}_t^2$ on $\\hat{u}_{t-1}^2$.\n",
    "4.  Test the significance of the coefficient on $\\hat{u}_{t-1}^2$. A significant positive coefficient suggests the presence of ARCH(1) effects. (This can be extended to test for ARCH(q) by including more lags).\n",
    "\n",
    "If ARCH is present, OLS standard errors are invalid (even if there's no serial correlation). HAC standard errors or specific ARCH/GARCH model estimation techniques should be used.\n",
    "\n",
    "### Example 12.9: ARCH in Stock Returns\n",
    "\n",
    "We test for ARCH(1) effects in the daily NYSE stock returns data, using a simple AR(1) model for the mean return."
   ]
  },
  {
   "cell_type": "code",
   "execution_count": 11,
   "metadata": {
    "execution": {
     "iopub.execute_input": "2025-10-18T13:33:40.493181Z",
     "iopub.status.busy": "2025-10-18T13:33:40.493078Z",
     "iopub.status.idle": "2025-10-18T13:33:40.505790Z",
     "shell.execute_reply": "2025-10-18T13:33:40.505432Z"
    }
   },
   "outputs": [
    {
     "name": "stdout",
     "output_type": "stream",
     "text": [
      "--- Test for ARCH(1) Effects in NYSE Returns ---\n",
      "Regression: resid_sq ~ resid_sq_lag1\n",
      "                    b      se       t  pval\n",
      "Intercept      2.9474  0.4402  6.6951   0.0\n",
      "resid_sq_lag1  0.3371  0.0359  9.3767   0.0\n",
      "\n"
     ]
    }
   ],
   "source": [
    "# Load NYSE daily returns data\n",
    "nyse = wool.data(\"nyse\")\n",
    "nyse[\"ret\"] = nyse[\"return\"]  # Rename for convenience\n",
    "nyse[\"ret_lag1\"] = nyse[\"ret\"].shift(1)\n",
    "\n",
    "# 1. Estimate the mean equation (AR(1) for returns)\n",
    "reg_mean = smf.ols(formula=\"ret ~ ret_lag1\", data=nyse)\n",
    "results_mean = reg_mean.fit()\n",
    "\n",
    "# 2. Obtain residuals and square them\n",
    "nyse[\"resid\"] = results_mean.resid\n",
    "nyse[\"resid_sq\"] = nyse[\"resid\"] ** 2\n",
    "\n",
    "# Create lagged squared residuals\n",
    "nyse[\"resid_sq_lag1\"] = nyse[\"resid_sq\"].shift(1)\n",
    "\n",
    "# 3. Regress squared residuals on lagged squared residuals\n",
    "# resid_sq_t = alpha_0 + alpha_1 * resid_sq_{t-1} + error_t\n",
    "ARCH_test_reg = smf.ols(formula=\"resid_sq ~ resid_sq_lag1\", data=nyse)\n",
    "results_ARCH_test = ARCH_test_reg.fit()\n",
    "\n",
    "# 4. Examine the coefficient on the lagged squared residual\n",
    "print(\"--- Test for ARCH(1) Effects in NYSE Returns ---\")\n",
    "table_arch = pd.DataFrame(\n",
    "    {\n",
    "        \"b\": round(results_ARCH_test.params, 4),\n",
    "        \"se\": round(results_ARCH_test.bse, 4),\n",
    "        \"t\": round(results_ARCH_test.tvalues, 4),\n",
    "        \"pval\": round(results_ARCH_test.pvalues, 4),\n",
    "    },\n",
    ")\n",
    "print(f\"Regression: resid_sq ~ resid_sq_lag1\\n{table_arch}\\n\")\n",
    "\n",
    "# Interpretation (ARCH Test):\n",
    "# - The coefficient on the lagged squared residual (resid_sq_lag1) is 0.3371.\n",
    "# - This coefficient is positive and highly statistically significant (p-value = 0.0).\n",
    "# - This provides strong evidence for ARCH(1) effects in the daily NYSE returns.\n",
    "#   The volatility (variance of the error) in one day is positively correlated with the squared error from the previous day.\n",
    "# - Standard OLS inference for the mean equation (ret ~ ret_lag1) would be invalid due to this conditional heteroskedasticity.\n",
    "#   HAC standard errors or estimation of a GARCH model would be more appropriate."
   ]
  },
  {
   "cell_type": "markdown",
   "id": "58112388",
   "metadata": {},
   "source": [
    "This notebook demonstrated how to test for serial correlation (AR(1), AR(q) using BG test, DW test) and ARCH effects in time series regressions. It also covered two approaches to handle serial correlation: FGLS (Cochrane-Orcutt) for efficiency and OLS with HAC (Newey-West) standard errors for robust inference. Understanding and addressing these issues is crucial for reliable time series analysis."
   ]
  }
 ],
 "metadata": {
  "jupytext": {
   "formats": "notebooks//ipynb,markdown//md,scripts//py"
  },
  "kernelspec": {
   "display_name": "merino",
   "language": "python",
   "name": "python3"
  },
  "language_info": {
   "codemirror_mode": {
    "name": "ipython",
    "version": 3
   },
   "file_extension": ".py",
   "mimetype": "text/x-python",
   "name": "python",
   "nbconvert_exporter": "python",
   "pygments_lexer": "ipython3",
   "version": "3.11.9"
  }
 },
 "nbformat": 4,
 "nbformat_minor": 2
}
