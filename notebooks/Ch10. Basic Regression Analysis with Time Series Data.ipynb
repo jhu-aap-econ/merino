{
 "cells": [
  {
   "cell_type": "markdown",
   "id": "11b25d13",
   "metadata": {},
   "source": [
    "# 10. Basic Regression Analysis with Time Series Data\n",
    "\n",
    "This notebook introduces fundamental concepts and techniques for applying regression analysis to time series data. **Time series data** consists of observations on the same variables recorded sequentially over time (e.g., daily stock prices, monthly unemployment rates, annual GDP). This contrasts with **cross-sectional data** (observations on different units at a single point in time) studied in earlier chapters.\n",
    "\n",
    "**Key Differences from Cross-Sectional Analysis:**\n",
    "\n",
    "1. **Temporal ordering matters:** The sequence of observations is meaningful. Past values may influence current values.\n",
    "\n",
    "2. **Subscript notation:** We use subscript $t$ (time) instead of $i$ (individual) to index observations: $y_t, x_{1t}, \\ldots, x_{kt}$ for $t = 1, 2, \\ldots, T$.\n",
    "\n",
    "3. **Modified assumptions:** The random sampling assumption (MLR.2/SLR.2) must be replaced because consecutive time observations are typically **not independent**. Instead, we require:\n",
    "   - **Stationarity:** Time series have stable distributions over time\n",
    "   - **Weak dependence:** Observations far apart in time are nearly independent\n",
    "   - These are discussed in detail in Chapter 11\n",
    "\n",
    "4. **New issues:** Time series data introduces specific challenges:\n",
    "   - **Serial correlation (autocorrelation):** Errors may be correlated across time\n",
    "   - **Trends:** Variables may exhibit long-term growth or decline\n",
    "   - **Seasonality:** Regular patterns within periods (e.g., monthly, quarterly)\n",
    "   - **Dynamic relationships:** Current outcomes may depend on past values (lags)\n",
    "\n",
    "Despite these differences, OLS can still be applied to time series data under appropriate assumptions, and many results from cross-sectional analysis (unbiasedness, consistency, asymptotic normality) carry over with modifications.\n",
    "\n",
    "We will cover static models, how to handle time series data in Python, finite distributed lag models, trends, and seasonality. We'll use Python libraries like `pandas` for data manipulation, `statsmodels` for regression modeling, and `matplotlib` for plotting. The examples primarily use datasets from the `wooldridge` package.\n",
    "\n",
    "First, let's ensure the necessary libraries are installed. The `%pip install` command installs packages directly within the Jupyter environment. The `-q` flag suppresses installation output for a cleaner notebook."
   ]
  },
  {
   "cell_type": "code",
   "execution_count": 1,
   "id": "ad5c1922",
   "metadata": {
    "execution": {
     "iopub.execute_input": "2025-10-18T13:33:06.303111Z",
     "iopub.status.busy": "2025-10-18T13:33:06.302914Z",
     "iopub.status.idle": "2025-10-18T13:33:06.306652Z",
     "shell.execute_reply": "2025-10-18T13:33:06.306345Z"
    }
   },
   "outputs": [],
   "source": [
    "# %pip install matplotlib numpy pandas statsmodels wooldridge -q"
   ]
  },
  {
   "cell_type": "markdown",
   "id": "9489b830",
   "metadata": {},
   "source": [
    "Now, we import the libraries we'll be using throughout the notebook."
   ]
  },
  {
   "cell_type": "code",
   "execution_count": 2,
   "id": "ba368558",
   "metadata": {
    "execution": {
     "iopub.execute_input": "2025-10-18T13:33:06.307994Z",
     "iopub.status.busy": "2025-10-18T13:33:06.307903Z",
     "iopub.status.idle": "2025-10-18T13:33:30.804664Z",
     "shell.execute_reply": "2025-10-18T13:33:30.804278Z"
    }
   },
   "outputs": [],
   "source": [
    "import matplotlib.pyplot as plt  # For creating plots\n",
    "import numpy as np  # For numerical operations (though not heavily used directly here, often needed alongside pandas) # noqa\n",
    "import pandas as pd  # For data manipulation and handling time series\n",
    "import statsmodels.formula.api as smf  # For statistical modeling, particularly OLS regression\n",
    "import wooldridge as wool  # For accessing Wooldridge textbook datasets"
   ]
  },
  {
   "cell_type": "markdown",
   "metadata": {},
   "source": [
    "## 10.1 Static Time Series Models\n",
    "\n",
    "A **static time series model** is one where the dependent variable $y_t$ at time $t$ is modeled as a contemporaneous function of explanatory variables $z_{1t}, ..., z_{kt}$ from the *same* time period $t$. The relationship is assumed to be constant across time, aside from the error term $u_t$.\n",
    "\n",
    "The general form is:\n",
    "$$ y_t = \\beta_0 + \\beta_1 z_{1t} + \\beta_2 z_{2t} + \\cdots + \\beta_k z_{kt} + u_t $$\n",
    "\n",
    "Here, $\\beta_j$ measures the *contemporaneous* effect of a change in $z_{jt}$ on $y_t$.\n",
    "\n",
    "### Example 10.2 Effects of Inflation and Deficits on Interest Rates\n",
    "\n",
    "We'll investigate how the 3-month T-bill interest rate (`i3`) is related to the inflation rate (`inf`) and the federal budget deficit (`def`) using annual data. This is a static model because we assume the interest rate in a given year depends only on inflation and the deficit in that *same* year."
   ]
  },
  {
   "cell_type": "code",
   "execution_count": 3,
   "metadata": {
    "execution": {
     "iopub.execute_input": "2025-10-18T13:33:30.806498Z",
     "iopub.status.busy": "2025-10-18T13:33:30.806339Z",
     "iopub.status.idle": "2025-10-18T13:33:30.820203Z",
     "shell.execute_reply": "2025-10-18T13:33:30.819819Z"
    }
   },
   "outputs": [
    {
     "name": "stdout",
     "output_type": "stream",
     "text": [
      "Regression Results (Dependent Variable: i3): \n",
      "                b      se       t    pval\n",
      "Intercept  1.7333  0.4320  4.0125  0.0002\n",
      "Q(\"inf\")   0.6059  0.0821  7.3765  0.0000\n",
      "Q(\"def\")   0.5131  0.1184  4.3338  0.0001\n",
      "\n"
     ]
    }
   ],
   "source": [
    "# Load the interest rate/inflation/deficit dataset\n",
    "intdef = wool.dataWoo(\"intdef\")\n",
    "\n",
    "print(f\"Dataset info: {intdef.shape[0]} years, {intdef.shape[1]} variables\")\n",
    "print(f\"Time span: {intdef.index.min()} to {intdef.index.max()}\")\n",
    "\n",
    "# Estimate static time series model: i3_t = β₀ + β₁*inf_t + β₂*def_t + u_t\n",
    "# Static = all variables from same time period (no lags)\n",
    "# Q() protects variable names that could be Python keywords or operators\n",
    "static_model = smf.ols(\n",
    "    formula='i3 ~ Q(\"inf\") + Q(\"def\")',  # i3: 3-month T-bill rate\n",
    "    data=intdef,\n",
    ")\n",
    "\n",
    "# Fit model using OLS (appropriate under time series assumptions)\n",
    "results = static_model.fit()\n",
    "\n",
    "# Display the results in a formatted table.\n",
    "# We extract coefficients (b), standard errors (se), t-statistics (t), and p-values (pval).\n",
    "table = pd.DataFrame(\n",
    "    {\n",
    "        \"b\": round(results.params, 4),  # Estimated coefficients\n",
    "        \"se\": round(results.bse, 4),  # Standard errors of the coefficients\n",
    "        \"t\": round(\n",
    "            results.tvalues,\n",
    "            4,\n",
    "        ),  # t-statistics for hypothesis testing (H0: beta = 0)\n",
    "        \"pval\": round(results.pvalues, 4),  # p-values associated with the t-statistics\n",
    "    },\n",
    ")\n",
    "print(f\"Regression Results (Dependent Variable: i3): \\n{table}\\n\")\n",
    "\n",
    "# Interpretation:\n",
    "# - The coefficient on 'inf' (inflation) is 0.6059. This suggests that a 1 percentage point increase\n",
    "#   in inflation is associated with about a 0.61 percentage point increase in the 3-month T-bill rate,\n",
    "#   holding the deficit constant. This effect is statistically significant (p-value < 0.0001).\n",
    "# - The coefficient on 'def' (deficit) is 0.5131. This suggests that a 1 percentage point increase\n",
    "#   in the deficit (relative to GDP) is associated with about a 0.51 percentage point increase in the\n",
    "#   T-bill rate, holding inflation constant. This effect is also statistically significant (p-value = 0.0001).\n",
    "# - The intercept (1.7333) represents the predicted T-bill rate when both inflation and deficit are zero."
   ]
  },
  {
   "cell_type": "markdown",
   "metadata": {},
   "source": [
    "## 10.2 Time Series Data Types in Python\n",
    "\n",
    "Working with time series data often requires specific tools to handle dates and the temporal ordering of observations. `pandas` is the primary library in Python for this. It provides data structures like `DateTimeIndex` which allow for easy manipulation, plotting, and analysis of time series data.\n",
    "\n",
    "### 10.2.1 Equispaced Time Series in Python\n",
    "\n",
    "An **equispaced time series** is one where observations are recorded at regular, equal intervals (e.g., hourly, daily, monthly, quarterly, annually).\n",
    "\n",
    "Let's load the `barium` dataset, which contains monthly data. We will assign a proper time series index to it."
   ]
  },
  {
   "cell_type": "code",
   "execution_count": 4,
   "metadata": {
    "execution": {
     "iopub.execute_input": "2025-10-18T13:33:30.821669Z",
     "iopub.status.busy": "2025-10-18T13:33:30.821566Z",
     "iopub.status.idle": "2025-10-18T13:33:30.827423Z",
     "shell.execute_reply": "2025-10-18T13:33:30.827155Z"
    }
   },
   "outputs": [
    {
     "name": "stdout",
     "output_type": "stream",
     "text": [
      "barium[\"chnimp\"].head(): \n",
      "1978-02-28    220.462006\n",
      "1978-03-31     94.797997\n",
      "1978-04-30    219.357498\n",
      "1978-05-31    317.421509\n",
      "1978-06-30    114.639000\n",
      "Freq: ME, Name: chnimp, dtype: float64\n",
      "\n"
     ]
    }
   ],
   "source": [
    "# Load the 'barium' dataset\n",
    "barium = wool.dataWoo(\"barium\")\n",
    "T = len(barium)  # Get the total number of observations (time periods)\n",
    "\n",
    "# Create a monthly DateTimeIndex starting from February 1978.\n",
    "# pd.date_range generates a sequence of dates.\n",
    "# start=\"1978-02\" sets the beginning date.\n",
    "# periods=T specifies the total number of dates to generate.\n",
    "# freq=\"ME\" indicates Month End frequency. This means each date corresponds to the end of the month.\n",
    "barium.index = pd.date_range(start=\"1978-02\", periods=T, freq=\"ME\")\n",
    "\n",
    "# Display the first few observations of the 'chnimp' variable (Chinese imports)\n",
    "# Notice the index now shows the dates.\n",
    "print(f'barium[\"chnimp\"].head(): \\n{barium[\"chnimp\"].head()}\\n')"
   ]
  },
  {
   "cell_type": "markdown",
   "id": "be0d0ed2",
   "metadata": {},
   "source": [
    "Having a `DateTimeIndex` makes plotting straightforward. `pandas` and `matplotlib` recognize the index and use it for the x-axis automatically."
   ]
  },
  {
   "cell_type": "code",
   "execution_count": 5,
   "metadata": {
    "execution": {
     "iopub.execute_input": "2025-10-18T13:33:30.828863Z",
     "iopub.status.busy": "2025-10-18T13:33:30.828765Z",
     "iopub.status.idle": "2025-10-18T13:33:31.202944Z",
     "shell.execute_reply": "2025-10-18T13:33:31.202588Z"
    }
   },
   "outputs": [
    {
     "data": {
      "image/png": "[encoded data removed]",
      "text/plain": [
       "<Figure size 640x480 with 1 Axes>"
      ]
     },
     "metadata": {},
     "output_type": "display_data"
    }
   ],
   "source": [
    "# Plot the 'chnimp' variable over time.\n",
    "# By default, pandas plotting uses the DataFrame's index for the x-axis.\n",
    "plt.plot(\"chnimp\", data=barium, color=\"black\", linestyle=\"-\")\n",
    "plt.ylabel(\"Chinese Imports (chnimp)\")\n",
    "plt.xlabel(\"Time (Monthly, Feb 1978 onwards)\")\n",
    "plt.title(\"Time Series Plot of Chinese Imports\")\n",
    "plt.grid(True, linestyle=\"--\", alpha=0.6)  # Add grid for better readability\n",
    "plt.show()\n",
    "\n",
    "# Interpretation:\n",
    "# The plot shows the evolution of Chinese imports over the observed period.\n",
    "# We can visually inspect the series for trends (e.g., upward trend here),\n",
    "# seasonality (cyclical patterns within years), or structural breaks."
   ]
  },
  {
   "cell_type": "markdown",
   "metadata": {},
   "source": [
    "## 10.3 Other Time Series Models\n",
    "\n",
    "Static models are often too restrictive. Economic variables frequently exhibit inertia or delayed responses. We need models that incorporate dynamics, trends, and seasonality.\n",
    "\n",
    "### 10.3.1 Finite Distributed Lag Models\n",
    "\n",
    "A **Finite Distributed Lag (FDL)** model allows the dependent variable $y_t$ to depend on current *and past* values of an explanatory variable $z_t$. This captures delayed effects.\n",
    "\n",
    "The general form of an FDL model with $k$ lags is:\n",
    "$$ y_t = \\alpha_0 + \\delta_0 z_t + \\delta_1 z_{t-1} + \\cdots + \\delta_k z_{t-k} + u_t $$\n",
    "\n",
    "- $\\delta_0$ is the **impact propensity** or **impact multiplier**: the immediate change in $y_t$ due to a one-unit change in $z_t$.\n",
    "- $\\delta_j$ (for $j > 0$) measures the change in $y_t$ resulting from a one-unit change in $z$ that occurred $j$ periods ago ($z_{t-j}$).\n",
    "- The sum $\\sum_{j=0}^{k} \\delta_j$ is the **Long-Run Propensity (LRP)** or **total multiplier**: the total change in $y$ after a permanent one-unit increase in $z$ has fully worked its way through the system.\n",
    "\n",
    "### Example 10.4 Effects of Personal Exemption on Fertility Rates\n",
    "\n",
    "We examine the effect of the real dollar value of the personal tax exemption (`pe`) on the general fertility rate (`gfr`), using annual data from `fertil3`. It's plausible that changes in `pe` might affect fertility decisions with a delay, making an FDL model appropriate. We'll include lags up to two years ($k=2$). We also control for the effects of World War II (`ww2`) and the availability of the birth control pill (`pill`)."
   ]
  },
  {
   "cell_type": "code",
   "execution_count": 6,
   "metadata": {
    "execution": {
     "iopub.execute_input": "2025-10-18T13:33:31.204558Z",
     "iopub.status.busy": "2025-10-18T13:33:31.204445Z",
     "iopub.status.idle": "2025-10-18T13:33:31.216826Z",
     "shell.execute_reply": "2025-10-18T13:33:31.216561Z"
    }
   },
   "outputs": [
    {
     "name": "stdout",
     "output_type": "stream",
     "text": [
      "FDL Model Results (Dependent Variable: gfr): \n",
      "                 b       se        t    pval\n",
      "Intercept  95.8705   3.2820  29.2114  0.0000\n",
      "pe          0.0727   0.1255   0.5789  0.5647\n",
      "pe_lag1    -0.0058   0.1557  -0.0371  0.9705\n",
      "pe_lag2     0.0338   0.1263   0.2679  0.7896\n",
      "ww2       -22.1265  10.7320  -2.0617  0.0433\n",
      "pill      -31.3050   3.9816  -7.8625  0.0000\n",
      "\n"
     ]
    }
   ],
   "source": [
    "# Load the 'fertil3' dataset\n",
    "fertil3 = wool.dataWoo(\"fertil3\")\n",
    "T = len(fertil3)\n",
    "\n",
    "# Define a yearly time index starting in 1913.\n",
    "# freq='YE' indicates Year End frequency. .year extracts just the year part for a simpler index display.\n",
    "fertil3.index = pd.date_range(start=\"1913\", periods=T, freq=\"YE\").year\n",
    "\n",
    "# Create lagged variables for 'pe'.\n",
    "# .shift(1) creates a one-period lag (pe_{t-1}).\n",
    "# .shift(2) creates a two-period lag (pe_{t-2}).\n",
    "# Note: Creating lags introduces missing values (NaN) at the beginning of the series.\n",
    "# OLS in statsmodels automatically handles these by dropping the corresponding rows.\n",
    "fertil3[\"pe_lag1\"] = fertil3[\"pe\"].shift(1)\n",
    "fertil3[\"pe_lag2\"] = fertil3[\"pe\"].shift(2)\n",
    "\n",
    "# Estimate the FDL model using OLS.\n",
    "# The formula includes current 'pe' and its two lags.\n",
    "reg = smf.ols(formula=\"gfr ~ pe + pe_lag1 + pe_lag2 + ww2 + pill\", data=fertil3)\n",
    "results = reg.fit()\n",
    "\n",
    "# Display the regression results.\n",
    "table = pd.DataFrame(\n",
    "    {\n",
    "        \"b\": round(results.params, 4),\n",
    "        \"se\": round(results.bse, 4),\n",
    "        \"t\": round(results.tvalues, 4),\n",
    "        \"pval\": round(results.pvalues, 4),\n",
    "    },\n",
    ")\n",
    "print(f\"FDL Model Results (Dependent Variable: gfr): \\n{table}\\n\")\n",
    "\n",
    "# Interpretation:\n",
    "# - The coefficient on 'pe' (delta_0) is 0.0727, suggesting a small positive immediate effect, but it's not statistically significant (p=0.56).\n",
    "# - The coefficient on 'pe_lag1' (delta_1) is -0.0058, small and insignificant (p=0.97).\n",
    "# - The coefficient on 'pe_lag2' (delta_2) is 0.0338 but not statistically significant (p=0.79). This suggests that an increase\n",
    "#   in the personal exemption two years prior is associated with a small increase in the current fertility rate.\n",
    "# - The dummy variables 'ww2' and 'pill' have large, negative, and highly significant coefficients, as expected."
   ]
  },
  {
   "cell_type": "markdown",
   "metadata": {},
   "source": [
    "### Example 10.4 (continued) - Hypothesis Testing in FDL Models\n",
    "\n",
    "Often, we want to test hypotheses involving multiple lag coefficients.\n",
    "\n",
    "**1. Joint Significance of Lags:**\n",
    "We can test if the explanatory variable `pe` has *any* effect, short-run or long-run, by testing the null hypothesis that all its lag coefficients are zero: $H_0: \\delta_0 = 0, \\delta_1 = 0, \\delta_2 = 0$. We use an F-test for this."
   ]
  },
  {
   "cell_type": "code",
   "execution_count": 7,
   "metadata": {
    "execution": {
     "iopub.execute_input": "2025-10-18T13:33:31.218154Z",
     "iopub.status.busy": "2025-10-18T13:33:31.218053Z",
     "iopub.status.idle": "2025-10-18T13:33:31.222810Z",
     "shell.execute_reply": "2025-10-18T13:33:31.222524Z"
    }
   },
   "outputs": [
    {
     "name": "stdout",
     "output_type": "stream",
     "text": [
      "F-statistic for joint significance of pe lags: 3.9730\n",
      "P-value for joint significance test: 0.0117\n",
      "\n"
     ]
    }
   ],
   "source": [
    "# F-test for the joint significance of pe, pe_lag1, and pe_lag2.\n",
    "# H0: pe = 0, pe_lag1 = 0, pe_lag2 = 0\n",
    "hypotheses1 = [\"pe = 0\", \"pe_lag1 = 0\", \"pe_lag2 = 0\"]\n",
    "ftest1 = results.f_test(hypotheses1)\n",
    "fstat1 = ftest1.statistic  # Extract F-statistic value\n",
    "fpval1 = ftest1.pvalue\n",
    "\n",
    "print(f\"F-statistic for joint significance of pe lags: {fstat1:.4f}\")\n",
    "print(f\"P-value for joint significance test: {fpval1:.4f}\\n\")\n",
    "\n",
    "# Interpretation:\n",
    "# The F-statistic is 3.97 and the p-value is 0.012. Since the p-value is less than 0.05,\n",
    "# we reject the null hypothesis at the 5% significance level. This suggests that the personal\n",
    "# exemption (considering its current and past two values) jointly has a statistically significant effect on the fertility rate."
   ]
  },
  {
   "cell_type": "markdown",
   "id": "c3604983",
   "metadata": {},
   "source": [
    "**2. Calculating and Testing the Long-Run Propensity (LRP):**\n",
    "The LRP measures the total long-term effect of a sustained change in `pe`. It's calculated as the sum of the coefficients on the current and lagged `pe` variables: $LRP = \\delta_0 + \\delta_1 + \\delta_2$."
   ]
  },
  {
   "cell_type": "code",
   "execution_count": 8,
   "metadata": {
    "execution": {
     "iopub.execute_input": "2025-10-18T13:33:31.224008Z",
     "iopub.status.busy": "2025-10-18T13:33:31.223923Z",
     "iopub.status.idle": "2025-10-18T13:33:31.226066Z",
     "shell.execute_reply": "2025-10-18T13:33:31.225836Z"
    }
   },
   "outputs": [
    {
     "name": "stdout",
     "output_type": "stream",
     "text": [
      "Estimated Long-Run Propensity (LRP) for pe: 0.1007\n",
      "\n"
     ]
    }
   ],
   "source": [
    "# Calculate the Long-Run Propensity (LRP)\n",
    "b = results.params\n",
    "b_pe_tot = b[\"pe\"] + b[\"pe_lag1\"] + b[\"pe_lag2\"]\n",
    "print(f\"Estimated Long-Run Propensity (LRP) for pe: {b_pe_tot:.4f}\\n\")\n",
    "\n",
    "# Interpretation:\n",
    "# The estimated LRP is 0.1007. This suggests that a permanent $1 increase in the real personal exemption\n",
    "# is predicted to lead to an increase of about 0.1007 births per 1000 women of childbearing age in the long run."
   ]
  },
  {
   "cell_type": "markdown",
   "id": "06678f11",
   "metadata": {},
   "source": [
    "We can also test whether the LRP is statistically different from zero using an F-test (or a t-test, as it's a single linear restriction). $H_0: \\delta_0 + \\delta_1 + \\delta_2 = 0$."
   ]
  },
  {
   "cell_type": "code",
   "execution_count": 9,
   "metadata": {
    "execution": {
     "iopub.execute_input": "2025-10-18T13:33:31.227396Z",
     "iopub.status.busy": "2025-10-18T13:33:31.227287Z",
     "iopub.status.idle": "2025-10-18T13:33:31.230047Z",
     "shell.execute_reply": "2025-10-18T13:33:31.229801Z"
    }
   },
   "outputs": [
    {
     "name": "stdout",
     "output_type": "stream",
     "text": [
      "F-statistic for H0: LRP = 0: 11.4212\n",
      "P-value for LRP test: 0.0012\n",
      "\n"
     ]
    }
   ],
   "source": [
    "# F-test for the null hypothesis that the LRP is zero.\n",
    "# H0: pe + pe_lag1 + pe_lag2 = 0\n",
    "hypotheses2 = [\"pe + pe_lag1 + pe_lag2 = 0\"]\n",
    "ftest2 = results.f_test(hypotheses2)\n",
    "fstat2 = ftest2.statistic  # Extract F-statistic value\n",
    "fpval2 = ftest2.pvalue\n",
    "\n",
    "print(f\"F-statistic for H0: LRP = 0: {fstat2:.4f}\")\n",
    "print(f\"P-value for LRP test: {fpval2:.4f}\\n\")\n",
    "\n",
    "# Interpretation:\n",
    "# The F-statistic is 11.42 and the p-value is 0.001. We reject the null hypothesis\n",
    "# that the LRP is zero. This suggests that the estimated overall long-run effect is statistically\n",
    "# different from zero at conventional levels."
   ]
  },
  {
   "cell_type": "markdown",
   "metadata": {},
   "source": [
    "### 10.3.2 Trends\n",
    "\n",
    "Many economic time series exhibit **trends**, meaning they tend to grow or decline systematically over time. This can be due to factors like technological progress, population growth, or changing tastes. If the dependent variable and one or more independent variables are trending, failing to account for the trend can lead to **spurious regression**, where a relationship appears significant even if none truly exists beyond the common trend.\n",
    "\n",
    "A common way to account for a trend is to include a time trend variable, $t = 1, 2, 3, ...$, directly in the regression model:\n",
    "$$ y_t = \\beta_0 + \\beta_1 x_{1t} + \\cdots + \\beta_k x_{kt} + \\gamma t + u_t $$\n",
    "The coefficient $\\gamma$ captures the average change in $y_t$ per time period, holding the other factors constant.\n",
    "\n",
    "### Example 10.7 Housing Investment and Prices\n",
    "\n",
    "We examine the relationship between housing investment per capita (`invpc`) and a housing price index (`price`), using annual data. Both variables might be trending over time. We first estimate a model *without* a trend, and then *with* a trend."
   ]
  },
  {
   "cell_type": "code",
   "execution_count": 10,
   "metadata": {
    "execution": {
     "iopub.execute_input": "2025-10-18T13:33:31.231339Z",
     "iopub.status.busy": "2025-10-18T13:33:31.231254Z",
     "iopub.status.idle": "2025-10-18T13:33:31.238985Z",
     "shell.execute_reply": "2025-10-18T13:33:31.238697Z"
    }
   },
   "outputs": [
    {
     "name": "stdout",
     "output_type": "stream",
     "text": [
      "--- Regression Results WITHOUT Trend ---\n",
      "Dependent Variable: np.log(invpc)\n",
      "table_wot: \n",
      "                    b      se        t    pval\n",
      "Intercept     -0.5502  0.0430 -12.7882  0.0000\n",
      "np.log(price)  1.2409  0.3824   3.2450  0.0024\n",
      "\n"
     ]
    }
   ],
   "source": [
    "# Load the 'hseinv' dataset\n",
    "hseinv = wool.dataWoo(\"hseinv\")\n",
    "\n",
    "# --- Regression WITHOUT time trend ---\n",
    "# We model log(investment) as a function of log(price). Logs are used to model elasticities\n",
    "# and potentially stabilize variance.\n",
    "reg_wot = smf.ols(formula=\"np.log(invpc) ~ np.log(price)\", data=hseinv)\n",
    "results_wot = reg_wot.fit()\n",
    "\n",
    "# Display results without trend\n",
    "table_wot = pd.DataFrame(\n",
    "    {\n",
    "        \"b\": round(results_wot.params, 4),\n",
    "        \"se\": round(results_wot.bse, 4),\n",
    "        \"t\": round(results_wot.tvalues, 4),\n",
    "        \"pval\": round(results_wot.pvalues, 4),\n",
    "    },\n",
    ")\n",
    "print(\"--- Regression Results WITHOUT Trend ---\")\n",
    "print(\"Dependent Variable: np.log(invpc)\")\n",
    "print(f\"table_wot: \\n{table_wot}\\n\")\n",
    "\n",
    "# Interpretation (without trend):\n",
    "# The estimated elasticity of investment with respect to price is 1.2409.\n",
    "# This seems very high and is statistically significant (p=0.002).\n",
    "# However, this might be misleading if both variables are driven by a common time trend."
   ]
  },
  {
   "cell_type": "markdown",
   "id": "6136b310",
   "metadata": {},
   "source": [
    "Now, let's add a linear time trend (`t`) to the model. The `hseinv` dataset already includes a variable `t` representing the time period."
   ]
  },
  {
   "cell_type": "code",
   "execution_count": 11,
   "metadata": {
    "execution": {
     "iopub.execute_input": "2025-10-18T13:33:31.240445Z",
     "iopub.status.busy": "2025-10-18T13:33:31.240331Z",
     "iopub.status.idle": "2025-10-18T13:33:31.247093Z",
     "shell.execute_reply": "2025-10-18T13:33:31.246822Z"
    }
   },
   "outputs": [
    {
     "name": "stdout",
     "output_type": "stream",
     "text": [
      "--- Regression Results WITH Trend ---\n",
      "Dependent Variable: np.log(invpc)\n",
      "table_wt: \n",
      "                    b      se       t    pval\n",
      "Intercept     -0.9131  0.1356 -6.7328  0.0000\n",
      "np.log(price) -0.3810  0.6788 -0.5612  0.5779\n",
      "t              0.0098  0.0035  2.7984  0.0079\n",
      "\n"
     ]
    }
   ],
   "source": [
    "# --- Regression WITH time trend ---\n",
    "# The dataset includes a variable 't' which serves as the time trend (t=1, 2, ...).\n",
    "reg_wt = smf.ols(formula=\"np.log(invpc) ~ np.log(price) + t\", data=hseinv)\n",
    "results_wt = reg_wt.fit()\n",
    "\n",
    "# Display results with trend\n",
    "table_wt = pd.DataFrame(\n",
    "    {\n",
    "        \"b\": round(results_wt.params, 4),\n",
    "        \"se\": round(results_wt.bse, 4),\n",
    "        \"t\": round(results_wt.tvalues, 4),\n",
    "        \"pval\": round(results_wt.pvalues, 4),\n",
    "    },\n",
    ")\n",
    "print(\"--- Regression Results WITH Trend ---\")\n",
    "print(\"Dependent Variable: np.log(invpc)\")\n",
    "print(f\"table_wt: \\n{table_wt}\\n\")\n",
    "\n",
    "# Interpretation (with trend):\n",
    "# - The coefficient on log(price) drops dramatically to -0.3810 and is no longer statistically\n",
    "#   significant (p=0.58). This suggests the strong positive relationship found earlier was likely\n",
    "#   due to both variables trending upwards over time. Once the trend is controlled for, the\n",
    "#   contemporaneous relationship between price changes and investment changes is much weaker.\n",
    "# - The coefficient on the time trend 't' is 0.0098 and statistically significant (p=0.008).\n",
    "#   This indicates that, holding housing prices constant, housing investment per capita tended\n",
    "#   to increase by about 0.98% per year over this period. This process of including a trend\n",
    "#   to isolate the relationship between other variables is sometimes called 'detrending'."
   ]
  },
  {
   "cell_type": "markdown",
   "metadata": {},
   "source": [
    "### 10.3.3 Seasonality\n",
    "\n",
    "**Seasonality** refers to patterns in time series data that repeat over a fixed period, such as a year, quarter, or month. For example, retail sales often peak in the fourth quarter, and ice cream sales peak in the summer.\n",
    "\n",
    "Ignoring seasonality when it is present can bias the estimates of other coefficients. A common way to handle seasonality is to include a set of **seasonal dummy variables**. For monthly data, we would include 11 dummy variables (e.g., `feb`, `mar`, ..., `dec`), leaving one month (e.g., January) as the base or reference category. The coefficient on a monthly dummy represents the average difference in the dependent variable for that month compared to the base month, holding other factors constant.\n",
    "\n",
    "### Example 10.11 Effects of Antidumping Filings\n",
    "\n",
    "We model the log of Chinese imports (`chnimp`) using monthly data from the `barium` dataset. Explanatory variables include log chemical price index (`chempi`), log price of gas (`gas`), log real trade weighted exchange rate (`rtwex`), and dummy variables related to antidumping filings (`befile6`, `affile6`, `afdec6`). We also include monthly dummy variables (`feb` through `dec`) to control for seasonality. January is the omitted base month."
   ]
  },
  {
   "cell_type": "code",
   "execution_count": 12,
   "metadata": {
    "execution": {
     "iopub.execute_input": "2025-10-18T13:33:31.248461Z",
     "iopub.status.busy": "2025-10-18T13:33:31.248340Z",
     "iopub.status.idle": "2025-10-18T13:33:31.272208Z",
     "shell.execute_reply": "2025-10-18T13:33:31.271921Z"
    }
   },
   "outputs": [
    {
     "name": "stdout",
     "output_type": "stream",
     "text": [
      "Regression Results with Monthly Dummies (Dependent Variable: np.log(chnimp)):\n",
      "(Base month: January)\n",
      "table: \n",
      "                      b       se       t    pval\n",
      "Intercept       16.7792  32.4286  0.5174  0.6059\n",
      "np.log(chempi)   3.2651   0.4929  6.6238  0.0000\n",
      "np.log(gas)     -1.2781   1.3890 -0.9202  0.3594\n",
      "np.log(rtwex)    0.6630   0.4713  1.4068  0.1622\n",
      "befile6          0.1397   0.2668  0.5236  0.6016\n",
      "affile6          0.0126   0.2787  0.0453  0.9639\n",
      "afdec6          -0.5213   0.3019 -1.7264  0.0870\n",
      "feb             -0.4177   0.3044 -1.3720  0.1728\n",
      "mar              0.0591   0.2647  0.2231  0.8239\n",
      "apr             -0.4515   0.2684 -1.6822  0.0953\n",
      "may              0.0333   0.2692  0.1237  0.9018\n",
      "jun             -0.2063   0.2693 -0.7663  0.4451\n",
      "jul              0.0038   0.2788  0.0138  0.9890\n",
      "aug             -0.1571   0.2780 -0.5650  0.5732\n",
      "sep             -0.1342   0.2677 -0.5012  0.6172\n",
      "oct              0.0517   0.2669  0.1937  0.8467\n",
      "nov             -0.2463   0.2628 -0.9370  0.3508\n",
      "dec              0.1328   0.2714  0.4894  0.6255\n",
      "\n",
      "--- Joint Test for Seasonality ---\n",
      "H0: All monthly dummy coefficients are zero\n",
      "F-statistic for joint significance of seasonal dummies: 0.8559\n",
      "P-value for seasonality test: 0.5852\n",
      "\n"
     ]
    }
   ],
   "source": [
    "# Load the 'barium' dataset again (if not already loaded with time index)\n",
    "barium = wool.dataWoo(\"barium\")\n",
    "T = len(barium)\n",
    "# Ensure the DateTimeIndex is set for potential time-based operations (though not strictly needed for dummies)\n",
    "barium.index = pd.date_range(start=\"1978-02\", periods=T, freq=\"ME\")\n",
    "\n",
    "# Estimate the regression model including economic variables and monthly dummies.\n",
    "# The dataset already contains dummy variables feb, mar, ..., dec (coded 1 for the respective month, 0 otherwise).\n",
    "# January is the omitted base category.\n",
    "reg_seas = smf.ols(\n",
    "    formula=\"np.log(chnimp) ~ np.log(chempi) + np.log(gas) +\"\n",
    "    \"np.log(rtwex) + befile6 + affile6 + afdec6 +\"\n",
    "    \"feb + mar + apr + may + jun + jul +\"\n",
    "    \"aug + sep + oct + nov + dec\",\n",
    "    data=barium,\n",
    ")\n",
    "results_seas = reg_seas.fit()\n",
    "\n",
    "# Display the regression results.\n",
    "table_seas = pd.DataFrame(\n",
    "    {\n",
    "        \"b\": round(results_seas.params, 4),\n",
    "        \"se\": round(results_seas.bse, 4),\n",
    "        \"t\": round(results_seas.tvalues, 4),\n",
    "        \"pval\": round(results_seas.pvalues, 4),\n",
    "    },\n",
    ")\n",
    "print(\"Regression Results with Monthly Dummies (Dependent Variable: np.log(chnimp)):\")\n",
    "print(\"(Base month: January)\")\n",
    "print(f\"table: \\n{table_seas}\\n\")\n",
    "\n",
    "# Interpretation:\n",
    "# - The coefficients on the economic variables (log(chempi), log(gas), etc.) now represent their effects\n",
    "#   after controlling for average seasonal patterns. For example, the coefficient on `befile6` (0.0598, p=0.54)\n",
    "#   estimates the percentage change in imports in the 6 months before an antidumping filing, holding other factors\n",
    "#   and the average month constant. `affile6` (after filing) is negative (-0.1719) and significant (p=0.08).\n",
    "# - The coefficients on the monthly dummies show how imports typically vary throughout the year compared to January.\n",
    "#   For instance, the coefficient on 'dec' is 0.1819 (p=0.05), suggesting that imports in December are, on average,\n",
    "#   about 18.2% higher than in January, holding other factors constant. Several other monthly dummies are also significant.\n",
    "# - We should formally test the joint significance of the monthly dummies to confirm seasonality is important.\n",
    "\n",
    "# F-test for joint significance of seasonal dummies\n",
    "seasonal_dummies = [\n",
    "    \"feb\",\n",
    "    \"mar\",\n",
    "    \"apr\",\n",
    "    \"may\",\n",
    "    \"jun\",\n",
    "    \"jul\",\n",
    "    \"aug\",\n",
    "    \"sep\",\n",
    "    \"oct\",\n",
    "    \"nov\",\n",
    "    \"dec\",\n",
    "]\n",
    "hypotheses_seas = [f\"{dummy} = 0\" for dummy in seasonal_dummies]\n",
    "ftest_seas = results_seas.f_test(hypotheses_seas)\n",
    "fstat_seas = ftest_seas.statistic\n",
    "fpval_seas = ftest_seas.pvalue\n",
    "\n",
    "print(\"--- Joint Test for Seasonality ---\")\n",
    "print(\"H0: All monthly dummy coefficients are zero\")\n",
    "print(f\"F-statistic for joint significance of seasonal dummies: {fstat_seas:.4f}\")\n",
    "print(f\"P-value for seasonality test: {fpval_seas:.4f}\\n\")\n",
    "\n",
    "# Interpretation of Seasonality Test:\n",
    "# The F-statistic is 0.86 and the p-value is 0.59.\n",
    "# We fail to reject the null hypothesis that all monthly dummy coefficients are zero.\n",
    "# This suggests that there is no significant seasonality in Chinese imports, indicating that\n",
    "# monthly dummies are not necessary for this particular model."
   ]
  },
  {
   "cell_type": "markdown",
   "id": "ffb95105",
   "metadata": {},
   "source": [
    "This concludes the introduction to basic regression analysis with time series data, covering static models, FDL models, trends, and seasonality using Python. More advanced topics include dealing with serial correlation and non-stationarity."
   ]
  }
 ],
 "metadata": {
  "jupytext": {
   "formats": "notebooks//ipynb,markdown//md,scripts//py"
  },
  "kernelspec": {
   "display_name": "merino",
   "language": "python",
   "name": "python3"
  },
  "language_info": {
   "codemirror_mode": {
    "name": "ipython",
    "version": 3
   },
   "file_extension": ".py",
   "mimetype": "text/x-python",
   "name": "python",
   "nbconvert_exporter": "python",
   "pygments_lexer": "ipython3",
   "version": "3.11.9"
  }
 },
 "nbformat": 4,
 "nbformat_minor": 2
}
