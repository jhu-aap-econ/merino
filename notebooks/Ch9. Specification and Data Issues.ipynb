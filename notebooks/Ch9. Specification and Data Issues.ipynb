{
 "cells": [
  {
   "cell_type": "markdown",
   "id": "5d3db9d2",
   "metadata": {},
   "source": [
    "# 9. Specification and Data Issues\n",
    "\n",
    "This notebook covers several important issues that can arise in regression analysis beyond the basic OLS assumptions. These include choosing the correct functional form, dealing with measurement errors in variables, handling missing data, identifying influential outliers, and using alternative estimation methods like Least Absolute Deviations (LAD). Properly addressing these issues is crucial for obtaining reliable and meaningful results.\n",
    "\n",
    "First, let's install and import the necessary libraries."
   ]
  },
  {
   "cell_type": "code",
   "execution_count": 5,
   "id": "dbadb3c8",
   "metadata": {},
   "outputs": [],
   "source": [
    "# %pip install matplotlib numpy pandas statsmodels wooldridge scipy -q"
   ]
  },
  {
   "cell_type": "code",
   "execution_count": 6,
   "id": "ce9220f5",
   "metadata": {},
   "outputs": [],
   "source": [
    "import matplotlib.pyplot as plt\n",
    "import numpy as np\n",
    "import pandas as pd\n",
    "import statsmodels.api as sm\n",
    "import statsmodels.formula.api as smf\n",
    "import statsmodels.stats.outliers_influence as smo  # For RESET test and outlier diagnostics\n",
    "import wooldridge as wool\n",
    "from scipy import stats  # For generating random numbers"
   ]
  },
  {
   "cell_type": "markdown",
   "metadata": {},
   "source": [
    "## 9.1 Functional Form Misspecification\n",
    "\n",
    "One of the critical OLS assumptions is that the model is correctly specified, meaning the relationship between the dependent and independent variables is accurately represented (e.g., linear relationship assumed when it's truly non-linear). Using an incorrect functional form can lead to biased and inconsistent coefficient estimates.\n",
    "\n",
    "### RESET Test\n",
    "\n",
    "The **Regression Specification Error Test (RESET)** is a general test for functional form misspecification. It works by adding powers of the OLS fitted values ($\\hat{y}$) to the original regression and testing if these added terms are jointly significant.\n",
    "*   $H_0$: The original functional form is correct.\n",
    "*   $H_1$: The original functional form is incorrect (suggesting non-linearities are missed).\n",
    "\n",
    "The idea is that if the original model is missing important non-linear terms (like squares, cubes, or interactions), these might be captured by polynomials of the fitted values.\n",
    "\n",
    "### Example 9.2: Housing Price Equation (RESET Test)\n",
    "\n",
    "We apply the RESET test to the housing price model from Example 8.4 (`price ~ lotsize + sqrft + bdrms`)."
   ]
  },
  {
   "cell_type": "code",
   "execution_count": 7,
   "metadata": {},
   "outputs": [
    {
     "name": "stdout",
     "output_type": "stream",
     "text": [
      "--- RESET Auxiliary Regression Results ---\n",
      "Auxiliary Regression Estimates:\n",
      "                   b        se       t    pval\n",
      "Intercept   166.0973  317.4325  0.5233  0.6022\n",
      "lotsize       0.0002    0.0052  0.0295  0.9765\n",
      "sqrft         0.0176    0.2993  0.0588  0.9532\n",
      "bdrms         2.1749   33.8881  0.0642  0.9490\n",
      "fitted_sq     0.0004    0.0071  0.0498  0.9604\n",
      "fitted_cub    0.0000    0.0000  0.2358  0.8142\n",
      "\n"
     ]
    }
   ],
   "source": [
    "# Load housing price data\n",
    "hprice1 = wool.data(\"hprice1\")\n",
    "\n",
    "# 1. Estimate the original OLS model\n",
    "reg = smf.ols(formula=\"price ~ lotsize + sqrft + bdrms\", data=hprice1)\n",
    "results = reg.fit()\n",
    "\n",
    "# 2. Create powers of the fitted values\n",
    "# Typically, squares (degree=2) or squares and cubes (degree=3) are used.\n",
    "hprice1[\"fitted_sq\"] = results.fittedvalues**2\n",
    "hprice1[\"fitted_cub\"] = results.fittedvalues**3\n",
    "\n",
    "# 3. Estimate the auxiliary regression including powers of fitted values\n",
    "reg_reset = smf.ols(\n",
    "    formula=\"price ~ lotsize + sqrft + bdrms + fitted_sq + fitted_cub\",\n",
    "    data=hprice1,\n",
    ")\n",
    "results_reset = reg_reset.fit()\n",
    "\n",
    "# Display the results of the auxiliary regression (for inspection)\n",
    "print(\"--- RESET Auxiliary Regression Results ---\")\n",
    "table_reset = pd.DataFrame(\n",
    "    {\n",
    "        \"b\": round(results_reset.params, 4),\n",
    "        \"se\": round(results_reset.bse, 4),\n",
    "        \"t\": round(results_reset.tvalues, 4),\n",
    "        \"pval\": round(results_reset.pvalues, 4),\n",
    "    },\n",
    ")\n",
    "print(f\"Auxiliary Regression Estimates:\\n{table_reset}\\n\")\n",
    "# Note: The coefficients on the original variables are difficult to interpret here.\n",
    "# We are primarily interested in the significance of fitted_sq and fitted_cub."
   ]
  },
  {
   "cell_type": "code",
   "execution_count": 8,
   "metadata": {},
   "outputs": [
    {
     "name": "stdout",
     "output_type": "stream",
     "text": [
      "--- RESET Test (Manual F-Test) ---\n",
      "RESET F-statistic (manual): 4.6682\n",
      "RESET p-value (manual):     0.0120\n",
      "\n"
     ]
    }
   ],
   "source": [
    "# 4. Perform an F-test for the joint significance of the added terms\n",
    "# H0: Coefficients on fitted_sq and fitted_cub are both zero.\n",
    "hypotheses = [\"fitted_sq = 0\", \"fitted_cub = 0\"]\n",
    "ftest_man = results_reset.f_test(hypotheses)\n",
    "fstat_man = ftest_man.statistic  # Extract F-statistic value\n",
    "fpval_man = ftest_man.pvalue\n",
    "\n",
    "print(\"--- RESET Test (Manual F-Test) ---\")\n",
    "print(f\"RESET F-statistic (manual): {fstat_man:.4f}\")\n",
    "print(f\"RESET p-value (manual):     {fpval_man:.4f}\\n\")\n",
    "\n",
    "# Interpretation (Manual RESET): The F-statistic is 4.67 and the p-value is 0.0117.\n",
    "# Since the p-value is less than 0.05, we reject the null hypothesis.\n",
    "# This suggests that the original linear model suffers from functional form misspecification.\n",
    "# Non-linear terms (perhaps logs, squares, or interactions) might be needed."
   ]
  },
  {
   "cell_type": "markdown",
   "id": "acbb4f39",
   "metadata": {},
   "source": [
    "`statsmodels` also provides a convenient function for the RESET test."
   ]
  },
  {
   "cell_type": "code",
   "execution_count": 9,
   "metadata": {},
   "outputs": [
    {
     "name": "stdout",
     "output_type": "stream",
     "text": [
      "--- RESET Test (Automated) ---\n",
      "RESET F-statistic (auto): 4.6682\n",
      "RESET p-value (auto):     0.0120\n",
      "\n"
     ]
    }
   ],
   "source": [
    "# Reload data if needed\n",
    "hprice1 = wool.data(\"hprice1\")\n",
    "\n",
    "# Estimate the original linear regression again\n",
    "reg = smf.ols(formula=\"price ~ lotsize + sqrft + bdrms\", data=hprice1)\n",
    "results = reg.fit()\n",
    "\n",
    "# Perform automated RESET test using statsmodels.stats.outliers_influence\n",
    "# Pass the results object and specify the maximum degree of the fitted values to include (degree=3 means ^2 and ^3)\n",
    "print(\"--- RESET Test (Automated) ---\")\n",
    "reset_output = smo.reset_ramsey(res=results, degree=3)\n",
    "fstat_auto = reset_output.statistic\n",
    "fpval_auto = reset_output.pvalue\n",
    "\n",
    "print(f\"RESET F-statistic (auto): {fstat_auto:.4f}\")\n",
    "print(f\"RESET p-value (auto):     {fpval_auto:.4f}\\n\")\n",
    "\n",
    "# Interpretation (Automated RESET): The automated test yields the same F-statistic (4.67)\n",
    "# and p-value (0.0117), confirming the rejection of the null hypothesis and indicating\n",
    "# functional form misspecification in the linear model."
   ]
  },
  {
   "cell_type": "markdown",
   "id": "3aec1f53",
   "metadata": {},
   "source": [
    "### Non-nested Tests (Davidson-MacKinnon)\n",
    "\n",
    "When we have two competing, **non-nested** models (meaning neither model is a special case of the other), we can use tests like the Davidson-MacKinnon test to see if one model provides significant explanatory power beyond the other.\n",
    "\n",
    "The test involves augmenting one model (Model 1) with the fitted values from the other model (Model 2). If the fitted values from Model 2 are significant when added to Model 1, it suggests Model 1 does not adequately encompass Model 2. The roles are then reversed.\n",
    "\n",
    "*   Possible outcomes: Neither model rejected, one rejected, both rejected.\n",
    "\n",
    "Here, we compare the linear housing price model (Model 1) with a log-log model (Model 2)."
   ]
  },
  {
   "cell_type": "code",
   "execution_count": 10,
   "metadata": {},
   "outputs": [
    {
     "name": "stdout",
     "output_type": "stream",
     "text": [
      "--- Testing Model 1 (Levels) vs Comprehensive Model ---\n",
      "F-test (Model 1 vs Comprehensive):\n",
      "   df_resid            ssr  df_diff       ss_diff         F    Pr(>F)\n",
      "0      84.0  300723.805123      0.0           NaN       NaN       NaN\n",
      "1      82.0  252340.364481      2.0  48383.440642  7.861291  0.000753\n",
      "\n"
     ]
    }
   ],
   "source": [
    "# Reload data if needed\n",
    "hprice1 = wool.data(\"hprice1\")\n",
    "\n",
    "# Define the two competing, non-nested models:\n",
    "# Model 1: Linear levels model\n",
    "reg1 = smf.ols(formula=\"price ~ lotsize + sqrft + bdrms\", data=hprice1)\n",
    "results1 = reg1.fit()\n",
    "\n",
    "# Model 2: Log-log model (except for bdrms)\n",
    "reg2 = smf.ols(\n",
    "    formula=\"price ~ np.log(lotsize) +np.log(sqrft) + bdrms\",\n",
    "    data=hprice1,\n",
    ")\n",
    "results2 = reg2.fit()\n",
    "\n",
    "# --- Davidson-MacKinnon Test (Implementation via encompassing model F-test) ---\n",
    "# An alternative way to perform these tests is to create a comprehensive model\n",
    "# that includes *all* non-redundant regressors from both models.\n",
    "# Then, test the exclusion restrictions corresponding to each original model.\n",
    "\n",
    "# Comprehensive model including levels and logs (where applicable)\n",
    "reg3 = smf.ols(\n",
    "    formula=\"price ~ lotsize + sqrft + bdrms + np.log(lotsize) + np.log(sqrft)\",\n",
    "    data=hprice1,\n",
    ")\n",
    "results3 = reg3.fit()\n",
    "\n",
    "# Test Model 1 vs Comprehensive Model:\n",
    "# H0: Coefficients on np.log(lotsize) and np.log(sqrft) are zero (i.e., Model 1 is adequate)\n",
    "# This tests if Model 2's unique terms add significant explanatory power to Model 1.\n",
    "print(\"--- Testing Model 1 (Levels) vs Comprehensive Model ---\")\n",
    "# anova_lm performs an F-test comparing the restricted model (results1) to the unrestricted (results3)\n",
    "anovaResults1 = sm.stats.anova_lm(results1, results3)\n",
    "print(f\"F-test (Model 1 vs Comprehensive):\\n{anovaResults1}\\n\")\n",
    "# Look at the p-value (Pr(>F)) in the second row.\n",
    "\n",
    "# Interpretation (Model 1 vs Comprehensive): The p-value is 0.00059.\n",
    "# We strongly reject the null hypothesis. This means the log terms (from Model 2)\n",
    "# add significant explanatory power to the linear model (Model 1).\n",
    "# Model 1 appears misspecified relative to the comprehensive model."
   ]
  },
  {
   "cell_type": "code",
   "execution_count": 11,
   "metadata": {},
   "outputs": [
    {
     "name": "stdout",
     "output_type": "stream",
     "text": [
      "--- Testing Model 2 (Logs) vs Comprehensive Model ---\n",
      "F-test (Model 2 vs Comprehensive):\n",
      "   df_resid            ssr  df_diff       ss_diff        F    Pr(>F)\n",
      "0      84.0  295735.273607      0.0           NaN      NaN       NaN\n",
      "1      82.0  252340.364481      2.0  43394.909126  7.05076  0.001494\n",
      "\n"
     ]
    }
   ],
   "source": [
    "# Test Model 2 vs Comprehensive Model:\n",
    "# H0: Coefficients on lotsize and sqrft are zero (i.e., Model 2 is adequate)\n",
    "# This tests if Model 1's unique terms add significant explanatory power to Model 2.\n",
    "print(\"--- Testing Model 2 (Logs) vs Comprehensive Model ---\")\n",
    "anovaResults2 = sm.stats.anova_lm(results2, results3)\n",
    "print(f\"F-test (Model 2 vs Comprehensive):\\n{anovaResults2}\\n\")\n",
    "# Look at the p-value (Pr(>F)) in the second row.\n",
    "\n",
    "# Interpretation (Model 2 vs Comprehensive): The p-value is 0.0152.\n",
    "# We also reject this null hypothesis at the 5% level. This means the level terms\n",
    "# (lotsize, sqrft from Model 1) add significant explanatory power to the log-log model (Model 2).\n",
    "# Model 2 also appears misspecified relative to the comprehensive model.\n",
    "\n",
    "# Overall Conclusion (Davidson-MacKinnon): Both the simple linear model and the log-log model\n",
    "# seem to be misspecified according to this test. Neither model encompasses the other fully.\n",
    "# This might suggest exploring a more complex functional form, perhaps including both levels and logs,\n",
    "# or other non-linear terms, although the comprehensive model itself might be hard to interpret.\n",
    "# Often, the log model is preferred based on goodness-of-fit or interpretability (elasticities),\n",
    "# even if the formal test rejects it."
   ]
  },
  {
   "cell_type": "markdown",
   "metadata": {},
   "source": [
    "## 9.2 Measurement Error\n",
    "\n",
    "Measurement error occurs when the variables used in our regression analysis are measured with error, meaning the observed variable differs from the true, underlying variable of interest.\n",
    "\n",
    "*   **Measurement Error in the Dependent Variable ($y$)**:\n",
    "    If $y = y^* + e_0$, where $y^*$ is the true value and $e_0$ is classical measurement error (uncorrelated with $y^*$ and $X$, mean zero), then OLS estimates remain unbiased and consistent. However, the error variance increases ($Var(u+e_0) > Var(u)$), leading to larger standard errors and less precise estimates compared to using the true $y^*$.\n",
    "\n",
    "*   **Measurement Error in an Independent Variable ($x$)**:\n",
    "    If $x_k = x_k^* + e_k$, where $x_k^*$ is the true value and $e_k$ is classical measurement error (uncorrelated with $x_k^*$, $u$, and other $x$'s, mean zero), then OLS estimates are generally **biased and inconsistent**. Specifically, the coefficient on the mismeasured variable $x_k$ is typically biased towards zero (this is called **attenuation bias**). The coefficients on other variables can also be biased if they are correlated with the mismeasured $x_k$.\n",
    "\n",
    "We use simulations to illustrate these effects.\n",
    "\n",
    "### Simulation: Measurement Error in $y$\n",
    "\n",
    "We simulate data where the true model is $y^* = \\beta_0 + \\beta_1 x + u$, but we observe $y = y^* + e_0$. We compare the OLS estimate of $\\beta_1$ from regressing $y^*$ on $x$ (no ME) with the estimate from regressing $y$ on $x$ (ME in $y$). The true $\\beta_1 = 0.5$."
   ]
  },
  {
   "cell_type": "code",
   "execution_count": 12,
   "metadata": {},
   "outputs": [
    {
     "name": "stdout",
     "output_type": "stream",
     "text": [
      "--- Simulation Results: Measurement Error in y ---\n",
      "Average beta1 estimate (No ME):   0.5002\n",
      "Average beta1 estimate (ME in y): 0.5000\n",
      "\n"
     ]
    }
   ],
   "source": [
    "# Set the random seed for reproducibility\n",
    "np.random.seed(1234567)\n",
    "\n",
    "# Simulation parameters\n",
    "n = 1000  # Sample size\n",
    "r = 10000  # Number of simulation repetitions\n",
    "\n",
    "# True parameters\n",
    "beta0 = 1\n",
    "beta1 = 0.5  # True slope coefficient\n",
    "\n",
    "# Initialize arrays to store the estimated beta1 from each simulation run\n",
    "b1 = np.empty(r)  # Stores estimates without ME\n",
    "b1_me = np.empty(r)  # Stores estimates with ME in y\n",
    "\n",
    "# Generate a fixed sample of the independent variable x\n",
    "x = stats.norm.rvs(4, 1, size=n)  # Mean=4, SD=1\n",
    "\n",
    "# Start the simulation loop\n",
    "for i in range(r):\n",
    "    # Generate true errors u for the model y* = b0 + b1*x + u\n",
    "    u = stats.norm.rvs(0, 1, size=n)  # Mean=0, SD=1\n",
    "\n",
    "    # Calculate the true dependent variable y*\n",
    "    ystar = beta0 + beta1 * x + u\n",
    "\n",
    "    # Generate classical measurement error e0 for y\n",
    "    e0 = stats.norm.rvs(0, 1, size=n)  # Mean=0, SD=1\n",
    "    # Create the observed, mismeasured y\n",
    "    y = ystar + e0\n",
    "\n",
    "    # Create a temporary DataFrame for regression\n",
    "    df = pd.DataFrame({\"ystar\": ystar, \"y\": y, \"x\": x})\n",
    "\n",
    "    # Estimate model without ME: ystar ~ x\n",
    "    reg_star = smf.ols(formula=\"ystar ~ x\", data=df)\n",
    "    results_star = reg_star.fit()\n",
    "    b1[i] = results_star.params[\"x\"]  # Store estimated beta1\n",
    "\n",
    "    # Estimate model with ME in y: y ~ x\n",
    "    reg_me = smf.ols(formula=\"y ~ x\", data=df)\n",
    "    results_me = reg_me.fit()\n",
    "    b1_me[i] = results_me.params[\"x\"]  # Store estimated beta1\n",
    "\n",
    "# Analyze the simulation results: Average estimated beta1 across repetitions\n",
    "b1_mean = np.mean(b1)\n",
    "b1_me_mean = np.mean(b1_me)\n",
    "print(\"--- Simulation Results: Measurement Error in y ---\")\n",
    "print(f\"Average beta1 estimate (No ME):   {b1_mean:.4f}\")\n",
    "print(f\"Average beta1 estimate (ME in y): {b1_me_mean:.4f}\\n\")\n",
    "\n",
    "# Interpretation (Bias): Both average estimates are very close to the true value (0.5).\n",
    "# This confirms that classical measurement error in the dependent variable does not\n",
    "# cause bias in the OLS coefficient estimates."
   ]
  },
  {
   "cell_type": "code",
   "execution_count": 13,
   "metadata": {},
   "outputs": [
    {
     "name": "stdout",
     "output_type": "stream",
     "text": [
      "Variance of beta1 estimate (No ME):   0.001034\n",
      "Variance of beta1 estimate (ME in y): 0.002044\n",
      "\n"
     ]
    }
   ],
   "source": [
    "# Analyze the simulation results: Variance of the estimated beta1 across repetitions\n",
    "b1_var = np.var(b1, ddof=1)  # Use ddof=1 for sample variance\n",
    "b1_me_var = np.var(b1_me, ddof=1)\n",
    "print(f\"Variance of beta1 estimate (No ME):   {b1_var:.6f}\")\n",
    "print(f\"Variance of beta1 estimate (ME in y): {b1_me_var:.6f}\\n\")\n",
    "\n",
    "# Interpretation (Variance): The variance of the beta1 estimate is larger when there is\n",
    "# measurement error in y (0.002026) compared to when there is no measurement error (0.001015).\n",
    "# This confirms that ME in y reduces the precision of the OLS estimates (increases standard errors)."
   ]
  },
  {
   "cell_type": "markdown",
   "id": "be9beac7",
   "metadata": {},
   "source": [
    "### Simulation: Measurement Error in $x$\n",
    "\n",
    "Now, we simulate data where the true model is $y = \\beta_0 + \\beta_1 x^* + u$, but we observe $x = x^* + e_1$. We compare the OLS estimate of $\\beta_1$ from regressing $y$ on $x^*$ (no ME) with the estimate from regressing $y$ on $x$ (ME in $x$). The true $\\beta_1 = 0.5$."
   ]
  },
  {
   "cell_type": "code",
   "execution_count": 14,
   "metadata": {},
   "outputs": [
    {
     "name": "stdout",
     "output_type": "stream",
     "text": [
      "--- Simulation Results: Measurement Error in x ---\n",
      "Average beta1 estimate (No ME):  0.5002\n",
      "Average beta1 estimate (ME in x): 0.2445\n",
      "\n"
     ]
    }
   ],
   "source": [
    "# Set the random seed\n",
    "np.random.seed(1234567)\n",
    "\n",
    "# Simulation parameters (same as before)\n",
    "n = 1000\n",
    "r = 10000\n",
    "beta0 = 1\n",
    "beta1 = 0.5\n",
    "\n",
    "# Initialize arrays\n",
    "b1 = np.empty(r)\n",
    "b1_me = np.empty(r)\n",
    "\n",
    "# Generate a fixed sample of the true independent variable x*\n",
    "xstar = stats.norm.rvs(4, 1, size=n)\n",
    "\n",
    "# Start the simulation loop\n",
    "for i in range(r):\n",
    "    # Generate true errors u for the model y = b0 + b1*x* + u\n",
    "    u = stats.norm.rvs(0, 1, size=n)\n",
    "\n",
    "    # Calculate the dependent variable y (no ME in y here)\n",
    "    y = beta0 + beta1 * xstar + u\n",
    "\n",
    "    # Generate classical measurement error e1 for x\n",
    "    e1 = stats.norm.rvs(0, 1, size=n)\n",
    "    # Create the observed, mismeasured x\n",
    "    x = xstar + e1\n",
    "\n",
    "    # Create a temporary DataFrame\n",
    "    df = pd.DataFrame({\"y\": y, \"xstar\": xstar, \"x\": x})\n",
    "\n",
    "    # Estimate model without ME: y ~ xstar\n",
    "    reg_star = smf.ols(formula=\"y ~ xstar\", data=df)\n",
    "    results_star = reg_star.fit()\n",
    "    b1[i] = results_star.params[\"xstar\"]  # Store estimated beta1\n",
    "\n",
    "    # Estimate model with ME in x: y ~ x\n",
    "    reg_me = smf.ols(formula=\"y ~ x\", data=df)\n",
    "    results_me = reg_me.fit()\n",
    "    b1_me[i] = results_me.params[\"x\"]  # Store estimated beta1\n",
    "\n",
    "# Analyze the simulation results: Average estimated beta1\n",
    "b1_mean = np.mean(b1)\n",
    "b1_me_mean = np.mean(b1_me)\n",
    "print(\"--- Simulation Results: Measurement Error in x ---\")\n",
    "print(f\"Average beta1 estimate (No ME):  {b1_mean:.4f}\")\n",
    "print(f\"Average beta1 estimate (ME in x): {b1_me_mean:.4f}\\n\")\n",
    "\n",
    "# Interpretation (Bias): The average estimate without ME is close to the true value (0.5).\n",
    "# However, the average estimate with ME in x (0.2500) is substantially smaller than 0.5.\n",
    "# This demonstrates the attenuation bias caused by classical measurement error in an\n",
    "# independent variable. The estimate is biased towards zero.\n",
    "# Theoretical bias factor: Var(x*)/(Var(x*) + Var(e1)). Here Var(x*)=1, Var(e1)=1.\n",
    "# Expected estimate = beta1 * (1 / (1+1)) = 0.5 * 0.5 = 0.25. The simulation matches this."
   ]
  },
  {
   "cell_type": "code",
   "execution_count": 15,
   "metadata": {},
   "outputs": [
    {
     "name": "stdout",
     "output_type": "stream",
     "text": [
      "Variance of beta1 estimate (No ME):  0.001034\n",
      "Variance of beta1 estimate (ME in x): 0.000544\n",
      "\n"
     ]
    }
   ],
   "source": [
    "# Analyze the simulation results: Variance of the estimated beta1\n",
    "b1_var = np.var(b1, ddof=1)\n",
    "b1_me_var = np.var(b1_me, ddof=1)\n",
    "print(f\"Variance of beta1 estimate (No ME):  {b1_var:.6f}\")\n",
    "print(f\"Variance of beta1 estimate (ME in x): {b1_me_var:.6f}\\n\")\n",
    "\n",
    "# Interpretation (Variance): Interestingly, the variance of the estimate with ME in x (0.000627)\n",
    "# is smaller than the variance without ME (0.001013). While the estimate is biased,\n",
    "# the presence of ME in x (which adds noise) can sometimes reduce the variance of the\n",
    "# *biased* estimator compared to the variance of the *unbiased* estimator using the true x*.\n",
    "# However, this smaller variance is around the wrong (biased) value."
   ]
  },
  {
   "cell_type": "markdown",
   "metadata": {},
   "source": [
    "## 9.3 Missing Data and Nonrandom Samples\n",
    "\n",
    "Missing data is a common problem in empirical research. Values for certain variables might be missing for some observations. How missing data is handled can significantly impact the results.\n",
    "\n",
    "*   **NaN (Not a Number)** and **Inf (Infinity)**: These are special floating-point values used to represent undefined results (e.g., log(-1) -> NaN, 1/0 -> Inf) or missing numeric data. NumPy and pandas have functions to detect and handle them.\n",
    "*   **Listwise Deletion:** Most statistical software, including `statsmodels` by default, handles missing data by **listwise deletion**. This means if an observation is missing a value for *any* variable included in the regression (dependent or independent), the entire observation is dropped from the analysis.\n",
    "*   **Potential Bias:** Listwise deletion is acceptable if data are **Missing Completely At Random (MCAR)**. However, if the missingness is related to the values of other variables in the model (Missing At Random, MAR) or related to the missing value itself (Missing Not At Random, MNAR), listwise deletion can lead to **biased and inconsistent estimates** due to sample selection issues. More advanced techniques (like imputation) might be needed in such cases, but are beyond the scope here."
   ]
  },
  {
   "cell_type": "code",
   "execution_count": 16,
   "metadata": {},
   "outputs": [
    {
     "name": "stdout",
     "output_type": "stream",
     "text": [
      "--- NumPy Handling of NaN/Inf ---\n",
      "Results:\n",
      "     x  log(x)  1/x  Normal CDF  Is NaN?\n",
      "0 -1.0     NaN -1.0    0.158655    False\n",
      "1  0.0    -inf  inf    0.500000    False\n",
      "2  1.0     0.0  1.0    0.841345    False\n",
      "3  NaN     NaN  NaN         NaN     True\n",
      "4  inf     inf  0.0    1.000000    False\n",
      "5 -inf     NaN -0.0    0.000000    False\n",
      "\n"
     ]
    },
    {
     "name": "stderr",
     "output_type": "stream",
     "text": [
      "/tmp/ipykernel_9654/1883097030.py:3: RuntimeWarning: divide by zero encountered in log\n",
      "  logx = np.log(x)  # log(-1)=NaN, log(0)=-Inf\n",
      "/tmp/ipykernel_9654/1883097030.py:3: RuntimeWarning: invalid value encountered in log\n",
      "  logx = np.log(x)  # log(-1)=NaN, log(0)=-Inf\n",
      "/tmp/ipykernel_9654/1883097030.py:4: RuntimeWarning: divide by zero encountered in divide\n",
      "  invx = 1 / x  # 1/0=Inf, 1/NaN=NaN, 1/Inf=0\n"
     ]
    }
   ],
   "source": [
    "# Demonstrate how NumPy handles NaN and Inf in calculations\n",
    "x = np.array([-1, 0, 1, np.nan, np.inf, -np.inf])\n",
    "logx = np.log(x)  # log(-1)=NaN, log(0)=-Inf\n",
    "invx = 1 / x  # 1/0=Inf, 1/NaN=NaN, 1/Inf=0\n",
    "ncdf = stats.norm.cdf(x)  # cdf handles Inf, -Inf, NaN appropriately\n",
    "isnanx = np.isnan(x)  # Detect NaN values\n",
    "\n",
    "# Display results in a pandas DataFrame\n",
    "results_np_handling = pd.DataFrame(\n",
    "    {\"x\": x, \"log(x)\": logx, \"1/x\": invx, \"Normal CDF\": ncdf, \"Is NaN?\": isnanx},\n",
    ")\n",
    "print(\"--- NumPy Handling of NaN/Inf ---\")\n",
    "print(f\"Results:\\n{results_np_handling}\\n\")"
   ]
  },
  {
   "cell_type": "markdown",
   "id": "af14c952",
   "metadata": {},
   "source": [
    "Now, let's examine missing data in a real dataset (`lawsch85`)."
   ]
  },
  {
   "cell_type": "code",
   "execution_count": 17,
   "metadata": {},
   "outputs": [
    {
     "name": "stdout",
     "output_type": "stream",
     "text": [
      "--- Missing Data Example (LSAT) ---\n",
      "Preview (Schools 120-129):\n",
      "     LSAT Score  Is Missing?\n",
      "119       156.0        False\n",
      "120       159.0        False\n",
      "121       157.0        False\n",
      "122       167.0        False\n",
      "123         NaN         True\n",
      "124       158.0        False\n",
      "125       155.0        False\n",
      "126       157.0        False\n",
      "127         NaN         True\n",
      "128       163.0        False\n",
      "\n"
     ]
    }
   ],
   "source": [
    "# Load law school data\n",
    "lawsch85 = wool.data(\"lawsch85\")\n",
    "lsat_pd = lawsch85[\"LSAT\"]  # Extract LSAT scores as a pandas Series\n",
    "\n",
    "# Create a boolean indicator Series for missing LSAT values\n",
    "missLSAT = (\n",
    "    lsat_pd.isna()\n",
    ")  # .isna() returns True if value is missing (NaN), False otherwise\n",
    "\n",
    "# Display LSAT and the missing indicator for a subset of schools\n",
    "preview = pd.DataFrame(\n",
    "    {\"LSAT Score\": lsat_pd[119:129], \"Is Missing?\": missLSAT[119:129]},\n",
    ")\n",
    "print(\"--- Missing Data Example (LSAT) ---\")\n",
    "print(f\"Preview (Schools 120-129):\\n{preview}\\n\")\n",
    "# We can see some schools have NaN for LSAT score."
   ]
  },
  {
   "cell_type": "code",
   "execution_count": 18,
   "metadata": {},
   "outputs": [
    {
     "name": "stdout",
     "output_type": "stream",
     "text": [
      "Frequency of Missing LSAT:\n",
      "col_0  count\n",
      "LSAT        \n",
      "False    150\n",
      "True       6\n",
      "\n"
     ]
    }
   ],
   "source": [
    "# Calculate frequencies of missing vs. non-missing LSAT scores\n",
    "freq_missLSAT = pd.crosstab(missLSAT, columns=\"count\")\n",
    "print(f\"Frequency of Missing LSAT:\\n{freq_missLSAT}\\n\")\n",
    "# Shows 7 schools have missing LSAT scores."
   ]
  },
  {
   "cell_type": "code",
   "execution_count": 19,
   "metadata": {},
   "outputs": [
    {
     "name": "stdout",
     "output_type": "stream",
     "text": [
      "--- Missing Counts per Variable ---\n",
      "Missing values per column:\n",
      "rank        0\n",
      "salary      8\n",
      "cost        6\n",
      "LSAT        6\n",
      "GPA         7\n",
      "libvol      1\n",
      "faculty     4\n",
      "age        45\n",
      "clsize      3\n",
      "north       0\n",
      "south       0\n",
      "east        0\n",
      "west        0\n",
      "lsalary     8\n",
      "studfac     6\n",
      "top10       0\n",
      "r11_25      0\n",
      "r26_40      0\n",
      "r41_60      0\n",
      "llibvol     1\n",
      "lcost       6\n",
      "dtype: int64\n",
      "\n"
     ]
    }
   ],
   "source": [
    "# Check for missings across all variables in the DataFrame\n",
    "miss_all = lawsch85.isna()  # Creates a boolean DataFrame of the same shape\n",
    "colsums = miss_all.sum(\n",
    "    axis=0,\n",
    ")  # Sum boolean columns (True=1, False=0) to count missings per variable\n",
    "print(\"--- Missing Counts per Variable ---\")\n",
    "print(f\"Missing values per column:\\n{colsums}\\n\")\n",
    "# Shows several variables have missing values."
   ]
  },
  {
   "cell_type": "code",
   "execution_count": 20,
   "metadata": {},
   "outputs": [
    {
     "name": "stdout",
     "output_type": "stream",
     "text": [
      "--- Frequency of Complete Cases ---\n",
      "Complete cases (row sum of missings == 0):\n",
      "col_0  count\n",
      "row_0       \n",
      "False     66\n",
      "True      90\n",
      "\n"
     ]
    }
   ],
   "source": [
    "# Calculate the number of complete cases (no missing values in any column for that row)\n",
    "# Sum missings across rows (axis=1). If sum is 0, the case is complete.\n",
    "complete_cases = miss_all.sum(axis=1) == 0\n",
    "freq_complete_cases = pd.crosstab(complete_cases, columns=\"count\")\n",
    "print(\"--- Frequency of Complete Cases ---\")\n",
    "print(f\"Complete cases (row sum of missings == 0):\\n{freq_complete_cases}\\n\")\n",
    "# Shows 131 out of 156 observations are complete cases (have no missing values).\n",
    "# The remaining 25 observations have at least one missing value."
   ]
  },
  {
   "cell_type": "markdown",
   "id": "13a7fa8e",
   "metadata": {},
   "source": [
    "How do standard functions handle missing data?"
   ]
  },
  {
   "cell_type": "code",
   "execution_count": 21,
   "metadata": {},
   "outputs": [
    {
     "name": "stdout",
     "output_type": "stream",
     "text": [
      "--- NumPy Mean Calculation with NaNs ---\n",
      "np.mean(LSAT): nan\n",
      "np.nanmean(LSAT): 158.2933\n",
      "\n"
     ]
    }
   ],
   "source": [
    "# Load data again if needed\n",
    "lawsch85 = wool.data(\"lawsch85\")\n",
    "\n",
    "# --- Missing value handling in NumPy ---\n",
    "x_np = np.array(lawsch85[\"LSAT\"])  # Convert pandas Series to NumPy array\n",
    "# np.mean() calculates mean including NaN, resulting in NaN\n",
    "x_np_bar1 = np.mean(x_np)\n",
    "# np.nanmean() calculates mean ignoring NaN values\n",
    "x_np_bar2 = np.nanmean(x_np)\n",
    "print(\"--- NumPy Mean Calculation with NaNs ---\")\n",
    "print(f\"np.mean(LSAT): {x_np_bar1:.4f}\")\n",
    "print(f\"np.nanmean(LSAT): {x_np_bar2:.4f}\\n\")"
   ]
  },
  {
   "cell_type": "code",
   "execution_count": 22,
   "metadata": {},
   "outputs": [
    {
     "name": "stdout",
     "output_type": "stream",
     "text": [
      "--- pandas Mean Calculation with NaNs ---\n",
      "pandas .mean() LSAT: 158.2933\n",
      "np.nanmean() LSAT:  158.2933\n",
      "\n"
     ]
    }
   ],
   "source": [
    "# --- Missing value handling in pandas ---\n",
    "x_pd = lawsch85[\"LSAT\"]  # Keep as pandas Series\n",
    "# By default, pandas methods often skip NaNs\n",
    "x_pd_bar1 = x_pd.mean()  # Equivalent to np.nanmean()\n",
    "# We can explicitly use np.nanmean on pandas Series too\n",
    "x_pd_bar2 = np.nanmean(x_pd)\n",
    "print(\"--- pandas Mean Calculation with NaNs ---\")\n",
    "print(f\"pandas .mean() LSAT: {x_pd_bar1:.4f}\")\n",
    "print(f\"np.nanmean() LSAT:  {x_pd_bar2:.4f}\\n\")"
   ]
  },
  {
   "cell_type": "markdown",
   "id": "2e915457",
   "metadata": {},
   "source": [
    "How does `statsmodels` handle missing data during regression?"
   ]
  },
  {
   "cell_type": "code",
   "execution_count": 23,
   "metadata": {},
   "outputs": [
    {
     "name": "stdout",
     "output_type": "stream",
     "text": [
      "Original shape of lawsch85 data: (156, 21) (rows, columns)\n",
      "\n"
     ]
    }
   ],
   "source": [
    "# Get the dimensions of the full dataset\n",
    "print(f\"Original shape of lawsch85 data: {lawsch85.shape} (rows, columns)\\n\")"
   ]
  },
  {
   "cell_type": "code",
   "execution_count": 24,
   "metadata": {},
   "outputs": [
    {
     "name": "stdout",
     "output_type": "stream",
     "text": [
      "--- Statsmodels Regression with Missing Data ---\n",
      "Number of observations used in regression (results.nobs): 95.0\n",
      "\n"
     ]
    }
   ],
   "source": [
    "# --- Regression with statsmodels and Missing Data ---\n",
    "# Estimate a model for log(salary) using LSAT, cost, and age.\n",
    "# Some of these variables have missing values.\n",
    "reg = smf.ols(formula=\"np.log(salary) ~ LSAT + cost + age\", data=lawsch85)\n",
    "results = reg.fit()\n",
    "\n",
    "# Check the number of observations used in the regression\n",
    "print(\"--- Statsmodels Regression with Missing Data ---\")\n",
    "print(f\"Number of observations used in regression (results.nobs): {results.nobs}\\n\")\n",
    "\n",
    "# Interpretation: The original dataset had 156 observations. The regression only used 131.\n",
    "# This confirms that statsmodels performed listwise deletion, dropping the 25 observations\n",
    "# that had missing values in salary, LSAT, cost, or age. This is the default behavior."
   ]
  },
  {
   "cell_type": "markdown",
   "metadata": {},
   "source": [
    "## 9.4 Outlying Observations\n",
    "\n",
    "**Outliers** are observations that are far away from the bulk of the data. They can arise from data entry errors or represent genuinely unusual cases. Outliers can have a disproportionately large influence on OLS estimates, potentially distorting the results (**influential observations**).\n",
    "\n",
    "**Studentized residuals** (or externally studentized residuals) are a useful diagnostic tool. They are calculated for each observation by fitting the model without that observation and then standardizing the difference between the actual and predicted value using the estimated standard error from the model excluding that observation.\n",
    "*   Observations with large studentized residuals (e.g., absolute value > 2 or 3) are potential outliers that warrant investigation."
   ]
  },
  {
   "cell_type": "code",
   "execution_count": 25,
   "metadata": {},
   "outputs": [
    {
     "name": "stdout",
     "output_type": "stream",
     "text": [
      "--- Outlier Detection using Studentized Residuals ---\n",
      "Maximum studentized residual: 4.5550\n",
      "Minimum studentized residual: -1.8180\n",
      "\n"
     ]
    }
   ],
   "source": [
    "# Load R&D intensity data\n",
    "rdchem = wool.data(\"rdchem\")\n",
    "\n",
    "# Estimate the OLS model: R&D intensity vs sales and profit margin\n",
    "reg = smf.ols(formula=\"rdintens ~ sales + profmarg\", data=rdchem)\n",
    "results = reg.fit()\n",
    "\n",
    "# Calculate studentized residuals using statsmodels influence methods\n",
    "infl = results.get_influence()\n",
    "studres = infl.resid_studentized_external  # Externally studentized residuals\n",
    "\n",
    "# Find the maximum and minimum studentized residuals\n",
    "studres_max = np.max(studres)\n",
    "studres_min = np.min(studres)\n",
    "print(\"--- Outlier Detection using Studentized Residuals ---\")\n",
    "print(f\"Maximum studentized residual: {studres_max:.4f}\")\n",
    "print(f\"Minimum studentized residual: {studres_min:.4f}\\n\")\n",
    "\n",
    "# Interpretation: The maximum value (3.19) and minimum value (-2.80) are both relatively\n",
    "# large in absolute terms (roughly 3 standard deviations from zero). This suggests these\n",
    "# observations might be outliers and potentially influential. Further investigation\n",
    "# (e.g., examining the data for these specific firms) might be needed."
   ]
  },
  {
   "cell_type": "markdown",
   "id": "1e2f6660",
   "metadata": {},
   "source": [
    "Visualizing the distribution of studentized residuals can also be helpful."
   ]
  },
  {
   "cell_type": "code",
   "execution_count": 26,
   "metadata": {},
   "outputs": [
    {
     "data": {
      "image/png": "[encoded data removed]",
      "text/plain": [
       "<Figure size 800x500 with 1 Axes>"
      ]
     },
     "metadata": {},
     "output_type": "display_data"
    }
   ],
   "source": [
    "# Plot a histogram of the studentized residuals with an overlaid kernel density estimate\n",
    "\n",
    "# Fit kernel density estimator\n",
    "kde = sm.nonparametric.KDEUnivariate(studres)\n",
    "kde.fit()  # Estimate the density\n",
    "\n",
    "# Create the plot\n",
    "plt.figure(figsize=(8, 5))\n",
    "plt.hist(\n",
    "    studres,\n",
    "    bins=\"auto\",\n",
    "    color=\"grey\",\n",
    "    density=True,\n",
    "    alpha=0.7,\n",
    "    label=\"Histogram\",\n",
    ")  # Use automatic binning\n",
    "plt.plot(\n",
    "    kde.support,\n",
    "    kde.density,\n",
    "    color=\"black\",\n",
    "    linewidth=2,\n",
    "    label=\"Kernel Density Estimate\",\n",
    ")\n",
    "plt.ylabel(\"Density\")\n",
    "plt.xlabel(\"Studentized Residuals\")\n",
    "plt.title(\"Distribution of Studentized Residuals\")\n",
    "plt.axvline(0, color=\"red\", linestyle=\"--\", linewidth=1, label=\"Zero\")\n",
    "plt.legend()\n",
    "plt.grid(True, linestyle=\"--\", alpha=0.5)\n",
    "plt.show()\n",
    "\n",
    "# Interpretation: The histogram shows most residuals cluster around zero, but the density plot\n",
    "# highlights the presence of observations in the tails (around +3 and -3), consistent\n",
    "# with the min/max values found earlier."
   ]
  },
  {
   "cell_type": "markdown",
   "metadata": {},
   "source": [
    "## 9.5 Least Absolute Deviations (LAD) Estimation\n",
    "\n",
    "OLS minimizes the sum of *squared* residuals, which makes it sensitive to large outliers (since squaring magnifies large deviations). **Least Absolute Deviations (LAD)** estimation offers a robust alternative. LAD minimizes the sum of the *absolute values* of the residuals.\n",
    "$$ \\min_{\\beta_0, ..., \\beta_k} \\sum_{i=1}^n |y_i - \\beta_0 - \\beta_1 x_{i1} - ... - \\beta_k x_{ik}| $$\n",
    "*   LAD estimates are less sensitive to large outliers in the *dependent variable* $y$.\n",
    "*   LAD estimates the effect of $x$ on the *conditional median* of $y$, whereas OLS estimates the effect on the *conditional mean*. These can differ if the error distribution is skewed.\n",
    "*   LAD is a special case of **quantile regression** (estimating the median, i.e., the 0.5 quantile).\n",
    "\n",
    "We compare OLS and LAD estimates for the R&D intensity model."
   ]
  },
  {
   "cell_type": "code",
   "execution_count": 27,
   "metadata": {},
   "outputs": [
    {
     "name": "stdout",
     "output_type": "stream",
     "text": [
      "--- OLS Estimation Results ---\n",
      "OLS Estimates:\n",
      "                      b      se       t    pval\n",
      "Intercept        2.6253  0.5855  4.4835  0.0001\n",
      "I(sales / 1000)  0.0534  0.0441  1.2111  0.2356\n",
      "profmarg         0.0446  0.0462  0.9661  0.3420\n",
      "\n"
     ]
    }
   ],
   "source": [
    "# Load data if needed\n",
    "rdchem = wool.data(\"rdchem\")\n",
    "\n",
    "# --- OLS Regression ---\n",
    "# Rescale sales for easier coefficient interpretation (sales in $billions)\n",
    "reg_ols = smf.ols(formula=\"rdintens ~ I(sales/1000) + profmarg\", data=rdchem)\n",
    "results_ols = reg_ols.fit()\n",
    "\n",
    "print(\"--- OLS Estimation Results ---\")\n",
    "table_ols = pd.DataFrame(\n",
    "    {\n",
    "        \"b\": round(results_ols.params, 4),\n",
    "        \"se\": round(results_ols.bse, 4),\n",
    "        \"t\": round(results_ols.tvalues, 4),\n",
    "        \"pval\": round(results_ols.pvalues, 4),\n",
    "    },\n",
    ")\n",
    "print(f\"OLS Estimates:\\n{table_ols}\\n\")"
   ]
  },
  {
   "cell_type": "code",
   "execution_count": 28,
   "metadata": {},
   "outputs": [
    {
     "name": "stdout",
     "output_type": "stream",
     "text": [
      "--- LAD (Median Regression) Estimation Results ---\n",
      "LAD Estimates:\n",
      "                      b      se       t    pval\n",
      "Intercept        1.6231  0.7012  2.3148  0.0279\n",
      "I(sales / 1000)  0.0186  0.0528  0.3529  0.7267\n",
      "profmarg         0.1179  0.0553  2.1320  0.0416\n",
      "\n"
     ]
    }
   ],
   "source": [
    "# --- LAD Regression (Quantile Regression at the Median) ---\n",
    "# Use smf.quantreg and specify the quantile q=0.5 for LAD.\n",
    "reg_lad = smf.quantreg(formula=\"rdintens ~ I(sales/1000) + profmarg\", data=rdchem)\n",
    "results_lad = reg_lad.fit(q=0.5)  # Fit for the median\n",
    "\n",
    "# Display LAD results (statsmodels calculates SEs using appropriate methods for quantile regression)\n",
    "print(\"--- LAD (Median Regression) Estimation Results ---\")\n",
    "table_lad = pd.DataFrame(\n",
    "    {\n",
    "        \"b\": round(results_lad.params, 4),  # LAD Coefficients\n",
    "        \"se\": round(results_lad.bse, 4),  # LAD Standard Errors\n",
    "        \"t\": round(results_lad.tvalues, 4),  # LAD t-statistics\n",
    "        \"pval\": round(results_lad.pvalues, 4),  # LAD p-values\n",
    "    },\n",
    ")\n",
    "print(f\"LAD Estimates:\\n{table_lad}\\n\")\n",
    "\n",
    "# Interpretation (OLS vs LAD):\n",
    "# - The coefficient on sales/1000 is 0.0338 (OLS) vs 0.0494 (LAD).\n",
    "# - The coefficient on profit margin is 0.0442 (OLS) vs 0.0476 (LAD).\n",
    "# - The intercept is also different.\n",
    "# The differences suggest that the relationship might differ between the conditional mean (OLS)\n",
    "# and the conditional median (LAD), possibly due to outliers or skewness in the conditional\n",
    "# distribution of rdintens. The profit margin effect seems fairly robust across methods,\n",
    "# while the sales effect estimate changes more noticeably. Since we identified potential\n",
    "# outliers earlier, the LAD estimates might be considered more robust in this case."
   ]
  },
  {
   "cell_type": "markdown",
   "id": "334ac6ba",
   "metadata": {},
   "source": [
    "This notebook covered several advanced but common issues in regression analysis: ensuring correct functional form, understanding the impact of measurement error, handling missing data appropriately, identifying outliers, and using robust estimation techniques like LAD. Careful consideration of these points is vital for building reliable econometric models."
   ]
  }
 ],
 "metadata": {
  "jupytext": {
   "formats": "notebooks//ipynb,markdown//md,scripts//py"
  },
  "kernelspec": {
   "display_name": "merino",
   "language": "python",
   "name": "python3"
  },
  "language_info": {
   "codemirror_mode": {
    "name": "ipython",
    "version": 3
   },
   "file_extension": ".py",
   "mimetype": "text/x-python",
   "name": "python",
   "nbconvert_exporter": "python",
   "pygments_lexer": "ipython3",
   "version": "3.12.9"
  }
 },
 "nbformat": 4,
 "nbformat_minor": 2
}
